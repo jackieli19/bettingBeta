{
 "cells": [
  {
   "cell_type": "code",
   "execution_count": 28,
   "metadata": {},
   "outputs": [],
   "source": [
    "import numpy as np\n",
    "import pandas as pd\n",
    "from functools import reduce\n",
    "import os\n",
    "import statsmodels.api as sm\n",
    "import matplotlib.pyplot as plt\n",
    "#pd.set_option(\"precision\",4)"
   ]
  },
  {
   "cell_type": "markdown",
   "metadata": {},
   "source": [
    "# Market Data for US"
   ]
  },
  {
   "cell_type": "code",
   "execution_count": 110,
   "metadata": {},
   "outputs": [],
   "source": [
    "df_CRSP_market_daily=pd.read_csv('../data/CRSP/CRSP Daily Index Built on Market Capitalization.csv',\\\n",
    "index_col=0,parse_dates=True)"
   ]
  },
  {
   "cell_type": "code",
   "execution_count": 111,
   "metadata": {},
   "outputs": [],
   "source": [
    "df_CRSP_market_daily =df_CRSP_market_daily[['vwretd']]['2001-01-01':'2020-12-31']"
   ]
  },
  {
   "cell_type": "code",
   "execution_count": 26,
   "metadata": {},
   "outputs": [],
   "source": [
    "df_AQR_risk_free_daily=pd.read_excel('../data/AQR Data/Betting Against Beta Equity Factors Daily.xlsx',\\\n",
    "sheet_name='RF',header=18,index_col=0,parse_dates=True)\n",
    "df_AQR_risk_free_daily= df_AQR_risk_free_daily['2001-01-01':'2020-12-31']"
   ]
  },
  {
   "cell_type": "code",
   "execution_count": 246,
   "metadata": {},
   "outputs": [],
   "source": [
    "df_AQR_MKT_daily=pd.read_excel('../data/AQR Data/Betting Against Beta Equity Factors Daily.xlsx',\\\n",
    "sheet_name='MKT',header=18,index_col=0,parse_dates=True)\n",
    "df_AQR_MKT_daily= df_AQR_MKT_daily['2001-01-01':'2020-12-31']"
   ]
  },
  {
   "cell_type": "code",
   "execution_count": 96,
   "metadata": {},
   "outputs": [],
   "source": [
    "df_FF_5=pd.read_csv('../data/FF_Factors/F-F_Research_Data_5_Factors_2x3_daily.csv',index_col=0,parse_dates=True)\n",
    "df_FF_5 = df_FF_5['2001-01-01':'2020-12-31']/100"
   ]
  },
  {
   "cell_type": "code",
   "execution_count": 97,
   "metadata": {},
   "outputs": [
    {
     "data": {
      "text/html": [
       "<div>\n",
       "<style scoped>\n",
       "    .dataframe tbody tr th:only-of-type {\n",
       "        vertical-align: middle;\n",
       "    }\n",
       "\n",
       "    .dataframe tbody tr th {\n",
       "        vertical-align: top;\n",
       "    }\n",
       "\n",
       "    .dataframe thead th {\n",
       "        text-align: right;\n",
       "    }\n",
       "</style>\n",
       "<table border=\"1\" class=\"dataframe\">\n",
       "  <thead>\n",
       "    <tr style=\"text-align: right;\">\n",
       "      <th></th>\n",
       "      <th>Mkt-RF</th>\n",
       "      <th>SMB</th>\n",
       "      <th>HML</th>\n",
       "      <th>RMW</th>\n",
       "      <th>CMA</th>\n",
       "      <th>RF</th>\n",
       "    </tr>\n",
       "    <tr>\n",
       "      <th>Date</th>\n",
       "      <th></th>\n",
       "      <th></th>\n",
       "      <th></th>\n",
       "      <th></th>\n",
       "      <th></th>\n",
       "      <th></th>\n",
       "    </tr>\n",
       "  </thead>\n",
       "  <tbody>\n",
       "    <tr>\n",
       "      <th>2001-01-02</th>\n",
       "      <td>-0.0352</td>\n",
       "      <td>0.0039</td>\n",
       "      <td>0.0165</td>\n",
       "      <td>0.0158</td>\n",
       "      <td>0.0161</td>\n",
       "      <td>0.00026</td>\n",
       "    </tr>\n",
       "    <tr>\n",
       "      <th>2001-01-03</th>\n",
       "      <td>0.0539</td>\n",
       "      <td>-0.0065</td>\n",
       "      <td>-0.0439</td>\n",
       "      <td>-0.0266</td>\n",
       "      <td>-0.0594</td>\n",
       "      <td>0.00026</td>\n",
       "    </tr>\n",
       "    <tr>\n",
       "      <th>2001-01-04</th>\n",
       "      <td>-0.0130</td>\n",
       "      <td>0.0097</td>\n",
       "      <td>-0.0030</td>\n",
       "      <td>0.0052</td>\n",
       "      <td>-0.0080</td>\n",
       "      <td>0.00026</td>\n",
       "    </tr>\n",
       "    <tr>\n",
       "      <th>2001-01-05</th>\n",
       "      <td>-0.0298</td>\n",
       "      <td>0.0071</td>\n",
       "      <td>0.0238</td>\n",
       "      <td>0.0190</td>\n",
       "      <td>0.0231</td>\n",
       "      <td>0.00026</td>\n",
       "    </tr>\n",
       "    <tr>\n",
       "      <th>2001-01-08</th>\n",
       "      <td>-0.0036</td>\n",
       "      <td>-0.0043</td>\n",
       "      <td>0.0126</td>\n",
       "      <td>0.0098</td>\n",
       "      <td>0.0067</td>\n",
       "      <td>0.00026</td>\n",
       "    </tr>\n",
       "    <tr>\n",
       "      <th>...</th>\n",
       "      <td>...</td>\n",
       "      <td>...</td>\n",
       "      <td>...</td>\n",
       "      <td>...</td>\n",
       "      <td>...</td>\n",
       "      <td>...</td>\n",
       "    </tr>\n",
       "    <tr>\n",
       "      <th>2020-12-24</th>\n",
       "      <td>0.0021</td>\n",
       "      <td>-0.0043</td>\n",
       "      <td>-0.0017</td>\n",
       "      <td>0.0024</td>\n",
       "      <td>-0.0005</td>\n",
       "      <td>0.00000</td>\n",
       "    </tr>\n",
       "    <tr>\n",
       "      <th>2020-12-28</th>\n",
       "      <td>0.0046</td>\n",
       "      <td>-0.0065</td>\n",
       "      <td>0.0032</td>\n",
       "      <td>0.0146</td>\n",
       "      <td>0.0050</td>\n",
       "      <td>0.00000</td>\n",
       "    </tr>\n",
       "    <tr>\n",
       "      <th>2020-12-29</th>\n",
       "      <td>-0.0040</td>\n",
       "      <td>-0.0142</td>\n",
       "      <td>0.0024</td>\n",
       "      <td>0.0075</td>\n",
       "      <td>-0.0028</td>\n",
       "      <td>0.00000</td>\n",
       "    </tr>\n",
       "    <tr>\n",
       "      <th>2020-12-30</th>\n",
       "      <td>0.0027</td>\n",
       "      <td>0.0103</td>\n",
       "      <td>0.0004</td>\n",
       "      <td>-0.0067</td>\n",
       "      <td>-0.0006</td>\n",
       "      <td>0.00000</td>\n",
       "    </tr>\n",
       "    <tr>\n",
       "      <th>2020-12-31</th>\n",
       "      <td>0.0039</td>\n",
       "      <td>-0.0069</td>\n",
       "      <td>0.0045</td>\n",
       "      <td>0.0056</td>\n",
       "      <td>-0.0020</td>\n",
       "      <td>0.00000</td>\n",
       "    </tr>\n",
       "  </tbody>\n",
       "</table>\n",
       "<p>5032 rows × 6 columns</p>\n",
       "</div>"
      ],
      "text/plain": [
       "            Mkt-RF     SMB     HML     RMW     CMA       RF\n",
       "Date                                                       \n",
       "2001-01-02 -0.0352  0.0039  0.0165  0.0158  0.0161  0.00026\n",
       "2001-01-03  0.0539 -0.0065 -0.0439 -0.0266 -0.0594  0.00026\n",
       "2001-01-04 -0.0130  0.0097 -0.0030  0.0052 -0.0080  0.00026\n",
       "2001-01-05 -0.0298  0.0071  0.0238  0.0190  0.0231  0.00026\n",
       "2001-01-08 -0.0036 -0.0043  0.0126  0.0098  0.0067  0.00026\n",
       "...            ...     ...     ...     ...     ...      ...\n",
       "2020-12-24  0.0021 -0.0043 -0.0017  0.0024 -0.0005  0.00000\n",
       "2020-12-28  0.0046 -0.0065  0.0032  0.0146  0.0050  0.00000\n",
       "2020-12-29 -0.0040 -0.0142  0.0024  0.0075 -0.0028  0.00000\n",
       "2020-12-30  0.0027  0.0103  0.0004 -0.0067 -0.0006  0.00000\n",
       "2020-12-31  0.0039 -0.0069  0.0045  0.0056 -0.0020  0.00000\n",
       "\n",
       "[5032 rows x 6 columns]"
      ]
     },
     "execution_count": 97,
     "metadata": {},
     "output_type": "execute_result"
    }
   ],
   "source": [
    "df_FF_5"
   ]
  },
  {
   "cell_type": "code",
   "execution_count": 98,
   "metadata": {},
   "outputs": [
    {
     "data": {
      "text/plain": [
       "<matplotlib.legend.Legend at 0x7f97c3096b90>"
      ]
     },
     "execution_count": 98,
     "metadata": {},
     "output_type": "execute_result"
    },
    {
     "data": {
      "image/png": "[encoded data removed]",
      "text/plain": [
       "<Figure size 720x432 with 1 Axes>"
      ]
     },
     "metadata": {
      "needs_background": "light"
     },
     "output_type": "display_data"
    }
   ],
   "source": [
    "fig, ax =plt.subplots(figsize=(10,6))\n",
    "\n",
    "df_FF_5.RF.plot(ax=ax)\n",
    "(df_AQR_risk_free_daily).plot(ax=ax)\n",
    "\n",
    "plt.legend()"
   ]
  },
  {
   "cell_type": "code",
   "execution_count": 257,
   "metadata": {},
   "outputs": [],
   "source": [
    "dfs_market_merged=[df_FF_5[['Mkt-RF']],df_CRSP_market_daily[['vwretd']],df_AQR_MKT_daily[['USA']]]\n",
    "dfs_market_merged=reduce(lambda x,y:pd.merge(x,y,left_index=True, right_index=True),dfs_market_merged)"
   ]
  },
  {
   "cell_type": "code",
   "execution_count": 262,
   "metadata": {},
   "outputs": [
    {
     "data": {
      "text/plain": [
       "<AxesSubplot:>"
      ]
     },
     "execution_count": 262,
     "metadata": {},
     "output_type": "execute_result"
    },
    {
     "data": {
      "image/png": "[encoded data removed]",
      "text/plain": [
       "<Figure size 432x288 with 1 Axes>"
      ]
     },
     "metadata": {
      "needs_background": "light"
     },
     "output_type": "display_data"
    }
   ],
   "source": [
    "(dfs_market_merged['vwretd']-dfs_market_merged['Mkt-RF']).plot()"
   ]
  },
  {
   "cell_type": "code",
   "execution_count": 263,
   "metadata": {},
   "outputs": [
    {
     "data": {
      "text/html": [
       "<div>\n",
       "<style scoped>\n",
       "    .dataframe tbody tr th:only-of-type {\n",
       "        vertical-align: middle;\n",
       "    }\n",
       "\n",
       "    .dataframe tbody tr th {\n",
       "        vertical-align: top;\n",
       "    }\n",
       "\n",
       "    .dataframe thead th {\n",
       "        text-align: right;\n",
       "    }\n",
       "</style>\n",
       "<table border=\"1\" class=\"dataframe\">\n",
       "  <thead>\n",
       "    <tr style=\"text-align: right;\">\n",
       "      <th></th>\n",
       "      <th>Mkt-RF</th>\n",
       "      <th>vwretd</th>\n",
       "      <th>USA</th>\n",
       "    </tr>\n",
       "  </thead>\n",
       "  <tbody>\n",
       "    <tr>\n",
       "      <th>2001-01-02</th>\n",
       "      <td>-0.0352</td>\n",
       "      <td>-0.034230</td>\n",
       "      <td>-0.034543</td>\n",
       "    </tr>\n",
       "    <tr>\n",
       "      <th>2001-01-03</th>\n",
       "      <td>0.0539</td>\n",
       "      <td>0.053170</td>\n",
       "      <td>0.053313</td>\n",
       "    </tr>\n",
       "    <tr>\n",
       "      <th>2001-01-04</th>\n",
       "      <td>-0.0130</td>\n",
       "      <td>-0.011674</td>\n",
       "      <td>-0.010935</td>\n",
       "    </tr>\n",
       "    <tr>\n",
       "      <th>2001-01-05</th>\n",
       "      <td>-0.0298</td>\n",
       "      <td>-0.028909</td>\n",
       "      <td>-0.028499</td>\n",
       "    </tr>\n",
       "    <tr>\n",
       "      <th>2001-01-08</th>\n",
       "      <td>-0.0036</td>\n",
       "      <td>-0.003410</td>\n",
       "      <td>-0.003914</td>\n",
       "    </tr>\n",
       "    <tr>\n",
       "      <th>...</th>\n",
       "      <td>...</td>\n",
       "      <td>...</td>\n",
       "      <td>...</td>\n",
       "    </tr>\n",
       "    <tr>\n",
       "      <th>2020-12-24</th>\n",
       "      <td>0.0021</td>\n",
       "      <td>0.002332</td>\n",
       "      <td>0.002347</td>\n",
       "    </tr>\n",
       "    <tr>\n",
       "      <th>2020-12-28</th>\n",
       "      <td>0.0046</td>\n",
       "      <td>0.003870</td>\n",
       "      <td>0.003893</td>\n",
       "    </tr>\n",
       "    <tr>\n",
       "      <th>2020-12-29</th>\n",
       "      <td>-0.0040</td>\n",
       "      <td>-0.003649</td>\n",
       "      <td>-0.003812</td>\n",
       "    </tr>\n",
       "    <tr>\n",
       "      <th>2020-12-30</th>\n",
       "      <td>0.0027</td>\n",
       "      <td>0.003281</td>\n",
       "      <td>0.003364</td>\n",
       "    </tr>\n",
       "    <tr>\n",
       "      <th>2020-12-31</th>\n",
       "      <td>0.0039</td>\n",
       "      <td>0.003556</td>\n",
       "      <td>0.003768</td>\n",
       "    </tr>\n",
       "  </tbody>\n",
       "</table>\n",
       "<p>5032 rows × 3 columns</p>\n",
       "</div>"
      ],
      "text/plain": [
       "            Mkt-RF    vwretd       USA\n",
       "2001-01-02 -0.0352 -0.034230 -0.034543\n",
       "2001-01-03  0.0539  0.053170  0.053313\n",
       "2001-01-04 -0.0130 -0.011674 -0.010935\n",
       "2001-01-05 -0.0298 -0.028909 -0.028499\n",
       "2001-01-08 -0.0036 -0.003410 -0.003914\n",
       "...            ...       ...       ...\n",
       "2020-12-24  0.0021  0.002332  0.002347\n",
       "2020-12-28  0.0046  0.003870  0.003893\n",
       "2020-12-29 -0.0040 -0.003649 -0.003812\n",
       "2020-12-30  0.0027  0.003281  0.003364\n",
       "2020-12-31  0.0039  0.003556  0.003768\n",
       "\n",
       "[5032 rows x 3 columns]"
      ]
     },
     "execution_count": 263,
     "metadata": {},
     "output_type": "execute_result"
    }
   ],
   "source": [
    "dfs_market_merged"
   ]
  },
  {
   "cell_type": "code",
   "execution_count": 248,
   "metadata": {},
   "outputs": [
    {
     "data": {
      "text/plain": [
       "<matplotlib.legend.Legend at 0x7f97a6b32f10>"
      ]
     },
     "execution_count": 248,
     "metadata": {},
     "output_type": "execute_result"
    },
    {
     "data": {
      "image/png": "[encoded data removed]",
      "text/plain": [
       "<Figure size 720x864 with 4 Axes>"
      ]
     },
     "metadata": {
      "needs_background": "light"
     },
     "output_type": "display_data"
    }
   ],
   "source": [
    "fig, ax =plt.subplots(nrows=4,ncols=1,figsize=(10,12))\n",
    "\n",
    "(df_CRSP_market_daily.vwretd).plot(ax=ax[0],alpha=0.5)\n",
    "df_FF_5['Mkt-RF'].plot(ax=ax[0],alpha=0.5)\n",
    "\n",
    "(df_CRSP_market_daily.vwretd).plot(ax=ax[1],alpha=0.5)\n",
    "\n",
    "df_FF_5['Mkt-RF'].plot(ax=ax[2],alpha=0.5)\n",
    "\n",
    "df_AQR_MKT_daily['USA'].plot(ax=ax[3],alpha=0.5)\n",
    "\n",
    "ax[0].legend()\n",
    "ax[1].legend()\n",
    "ax[2].legend()\n",
    "ax[3].legend()"
   ]
  },
  {
   "cell_type": "markdown",
   "metadata": {},
   "source": [
    "# Construct the Table 3"
   ]
  },
  {
   "cell_type": "code",
   "execution_count": 858,
   "metadata": {},
   "outputs": [],
   "source": [
    "def get_alpha(df, factors,portfolio):\n",
    "    x = df[factors].copy()\n",
    "    x = sm.add_constant(x)\n",
    "    results = sm.OLS(df_Port_FF5[portfolio], x).fit(cov_type='HC1')\n",
    "    return results.params[0],results.params[1],results.tvalues[0]"
   ]
  },
  {
   "cell_type": "code",
   "execution_count": 859,
   "metadata": {},
   "outputs": [],
   "source": [
    "df_betas=pd.read_pickle('../output/US/Portfolio Beta and Return Daily/beta.pickle')\n",
    "df_returns=pd.read_pickle('../output/US/Portfolio Beta and Return Daily/return.pickle')\n",
    "df_betas = df_betas.astype('float64')\n",
    "df_returns = df_returns.astype('float64')"
   ]
  },
  {
   "cell_type": "code",
   "execution_count": 860,
   "metadata": {
    "scrolled": false
   },
   "outputs": [
    {
     "data": {
      "text/plain": [
       "<AxesSubplot:>"
      ]
     },
     "execution_count": 860,
     "metadata": {},
     "output_type": "execute_result"
    },
    {
     "data": {
      "image/png": "[encoded data removed]",
      "text/plain": [
       "<Figure size 720x432 with 1 Axes>"
      ]
     },
     "metadata": {
      "needs_background": "light"
     },
     "output_type": "display_data"
    }
   ],
   "source": [
    "df_betas.rolling(30).mean().plot(figsize=(10,6))"
   ]
  },
  {
   "cell_type": "code",
   "execution_count": 861,
   "metadata": {},
   "outputs": [
    {
     "data": {
      "text/plain": [
       "<AxesSubplot:>"
      ]
     },
     "execution_count": 861,
     "metadata": {},
     "output_type": "execute_result"
    },
    {
     "data": {
      "image/png": "[encoded data removed]",
      "text/plain": [
       "<Figure size 720x432 with 1 Axes>"
      ]
     },
     "metadata": {
      "needs_background": "light"
     },
     "output_type": "display_data"
    }
   ],
   "source": [
    "df_returns.rolling(30).mean().plot(figsize=(10,6))"
   ]
  },
  {
   "cell_type": "code",
   "execution_count": 666,
   "metadata": {},
   "outputs": [],
   "source": [
    "df_table_3=pd.DataFrame(index=['Excess Return','CAPM alpha','Three-factor alpha','Four-factor alpha',\n",
    "                   'Five-factor alpha','Beta(ex ante)','Beta(realized)','Volatility','Sharpe Ratio'],\n",
    "            columns=['P1','P2','P3','P4','P5','P6','P7','P8','P9','P10','BAB'])"
   ]
  },
  {
   "cell_type": "code",
   "execution_count": 667,
   "metadata": {},
   "outputs": [],
   "source": [
    "df_table_4=pd.DataFrame(index=['CAPM alpha','Three-factor alpha','Four-factor alpha',\n",
    "                   'Five-factor alpha'],\n",
    "            columns=['P1','P2','P3','P4','P5','P6','P7','P8','P9','P10','BAB'])"
   ]
  },
  {
   "cell_type": "code",
   "execution_count": 668,
   "metadata": {},
   "outputs": [],
   "source": [
    "df_Port_FF5=df_returns.merge(df_FF_5,left_index=True,right_index=True)\n",
    "df_Port_FF5 = df_Port_FF5.dropna()"
   ]
  },
  {
   "cell_type": "code",
   "execution_count": 669,
   "metadata": {},
   "outputs": [],
   "source": [
    "#df_Port_FF5 = df_Port_FF5['2009-01-01':'2014-01-01']"
   ]
  },
  {
   "cell_type": "code",
   "execution_count": 670,
   "metadata": {},
   "outputs": [
    {
     "data": {
      "text/plain": [
       "DatetimeIndex(['2007-12-31', '2008-01-02', '2008-01-03', '2008-01-04',\n",
       "               '2008-01-07', '2008-01-08', '2008-01-09', '2008-01-10',\n",
       "               '2008-01-11', '2008-01-14',\n",
       "               ...\n",
       "               '2020-12-17', '2020-12-18', '2020-12-21', '2020-12-22',\n",
       "               '2020-12-23', '2020-12-24', '2020-12-28', '2020-12-29',\n",
       "               '2020-12-30', '2020-12-31'],\n",
       "              dtype='datetime64[ns]', length=3275, freq=None)"
      ]
     },
     "execution_count": 670,
     "metadata": {},
     "output_type": "execute_result"
    }
   ],
   "source": [
    "df_Port_FF5.index"
   ]
  },
  {
   "cell_type": "code",
   "execution_count": 671,
   "metadata": {},
   "outputs": [],
   "source": [
    "\n",
    "\n",
    "df_table_3.loc[df_table_3.index=='Excess Return',df_table_3.columns.difference(['BAB'],sort=False)]=\\\n",
    "((((1+df_Port_FF5).cumprod().iloc[-1,:10])**(252/len(df_Port_FF5))-1)*100).values/12\n",
    "\n",
    "df_table_3.loc[df_table_3.index=='CAPM alpha',df_table_3.columns.difference(['BAB'],sort=False)]=\\\n",
    "[(get_alpha(df_Port_FF5,['Mkt-RF'],i)[0]*22)*100 for i in np.arange(1,11,1)]\n",
    "\n",
    "df_table_3.loc[df_table_3.index=='Three-factor alpha',df_table_3.columns.difference(['BAB'],sort=False)]=\\\n",
    "[(get_alpha(df_Port_FF5,['Mkt-RF','SMB','HML'],i)[0]*22)*100 for i in np.arange(1,11,1)]\n",
    "\n",
    "df_table_3.loc[df_table_3.index=='Four-factor alpha',df_table_3.columns.difference(['BAB'],sort=False)]=\\\n",
    "[(get_alpha(df_Port_FF5,['Mkt-RF','SMB','HML','RMW'],i)[0]*22)*100 for i in np.arange(1,11,1)]\n",
    "\n",
    "df_table_3.loc[df_table_3.index=='Five-factor alpha',df_table_3.columns.difference(['BAB'],sort=False)]=\\\n",
    "[(get_alpha(df_Port_FF5,['Mkt-RF','SMB','HML','RMW','CMA'],i)[0]*22)*100 for i in np.arange(1,11,1)]\n",
    "\n",
    "df_table_3.loc[df_table_3.index=='Beta(ex ante)',df_table_3.columns.difference(['BAB'],sort=False)]=\\\n",
    "df_betas.mean().values\n",
    "\n",
    "df_table_3.loc[df_table_3.index=='Beta(realized)',df_table_3.columns.difference(['BAB'],sort=False)]=\\\n",
    "[get_alpha(df_Port_FF5,['Mkt-RF'],i)[1] for i in np.arange(1,11,1)]\n",
    "\n",
    "df_table_3.loc[df_table_3.index=='Volatility',df_table_3.columns.difference(['BAB'],sort=False)]=\\\n",
    "[df_Port_FF5[i].std()*np.sqrt(252)*100 for i in np.arange(1,11,1)]\n",
    "\n",
    "df_table_3.loc[df_table_3.index=='Sharpe Ratio',df_table_3.columns.difference(['BAB'],sort=False)]=\\\n",
    "(df_table_3.loc['Excess Return']*12/df_table_3.loc['Volatility'])[:-1].values"
   ]
  },
  {
   "cell_type": "code",
   "execution_count": 672,
   "metadata": {},
   "outputs": [
    {
     "data": {
      "text/html": [
       "<div>\n",
       "<style scoped>\n",
       "    .dataframe tbody tr th:only-of-type {\n",
       "        vertical-align: middle;\n",
       "    }\n",
       "\n",
       "    .dataframe tbody tr th {\n",
       "        vertical-align: top;\n",
       "    }\n",
       "\n",
       "    .dataframe thead th {\n",
       "        text-align: right;\n",
       "    }\n",
       "</style>\n",
       "<table border=\"1\" class=\"dataframe\">\n",
       "  <thead>\n",
       "    <tr style=\"text-align: right;\">\n",
       "      <th></th>\n",
       "      <th>P1</th>\n",
       "      <th>P2</th>\n",
       "      <th>P3</th>\n",
       "      <th>P4</th>\n",
       "      <th>P5</th>\n",
       "      <th>P6</th>\n",
       "      <th>P7</th>\n",
       "      <th>P8</th>\n",
       "      <th>P9</th>\n",
       "      <th>P10</th>\n",
       "      <th>BAB</th>\n",
       "    </tr>\n",
       "  </thead>\n",
       "  <tbody>\n",
       "    <tr>\n",
       "      <th>Excess Return</th>\n",
       "      <td>0.282411</td>\n",
       "      <td>0.30603</td>\n",
       "      <td>0.421996</td>\n",
       "      <td>0.267511</td>\n",
       "      <td>0.3265</td>\n",
       "      <td>0.182152</td>\n",
       "      <td>0.186529</td>\n",
       "      <td>0.0564417</td>\n",
       "      <td>0.0363498</td>\n",
       "      <td>-0.0932098</td>\n",
       "      <td>NaN</td>\n",
       "    </tr>\n",
       "    <tr>\n",
       "      <th>CAPM alpha</th>\n",
       "      <td>0.105682</td>\n",
       "      <td>-0.0713313</td>\n",
       "      <td>-0.114263</td>\n",
       "      <td>-0.36662</td>\n",
       "      <td>-0.386586</td>\n",
       "      <td>-0.592132</td>\n",
       "      <td>-0.643338</td>\n",
       "      <td>-0.823777</td>\n",
       "      <td>-0.893837</td>\n",
       "      <td>-1.073</td>\n",
       "      <td>NaN</td>\n",
       "    </tr>\n",
       "    <tr>\n",
       "      <th>Three-factor alpha</th>\n",
       "      <td>0.131769</td>\n",
       "      <td>-0.0375254</td>\n",
       "      <td>-0.0871083</td>\n",
       "      <td>-0.339502</td>\n",
       "      <td>-0.335436</td>\n",
       "      <td>-0.518541</td>\n",
       "      <td>-0.540958</td>\n",
       "      <td>-0.680016</td>\n",
       "      <td>-0.707925</td>\n",
       "      <td>-0.766216</td>\n",
       "      <td>NaN</td>\n",
       "    </tr>\n",
       "    <tr>\n",
       "      <th>Four-factor alpha</th>\n",
       "      <td>0.136329</td>\n",
       "      <td>-0.0277122</td>\n",
       "      <td>-0.085287</td>\n",
       "      <td>-0.350392</td>\n",
       "      <td>-0.353345</td>\n",
       "      <td>-0.534179</td>\n",
       "      <td>-0.550116</td>\n",
       "      <td>-0.687571</td>\n",
       "      <td>-0.717267</td>\n",
       "      <td>-0.739223</td>\n",
       "      <td>NaN</td>\n",
       "    </tr>\n",
       "    <tr>\n",
       "      <th>Five-factor alpha</th>\n",
       "      <td>0.14027</td>\n",
       "      <td>-0.0275863</td>\n",
       "      <td>-0.0897186</td>\n",
       "      <td>-0.353873</td>\n",
       "      <td>-0.351045</td>\n",
       "      <td>-0.529596</td>\n",
       "      <td>-0.541571</td>\n",
       "      <td>-0.674689</td>\n",
       "      <td>-0.694146</td>\n",
       "      <td>-0.704993</td>\n",
       "      <td>NaN</td>\n",
       "    </tr>\n",
       "    <tr>\n",
       "      <th>Beta(ex ante)</th>\n",
       "      <td>0.479224</td>\n",
       "      <td>0.609529</td>\n",
       "      <td>0.747287</td>\n",
       "      <td>0.849947</td>\n",
       "      <td>0.929278</td>\n",
       "      <td>1.00368</td>\n",
       "      <td>1.08156</td>\n",
       "      <td>1.16903</td>\n",
       "      <td>1.28322</td>\n",
       "      <td>1.54478</td>\n",
       "      <td>NaN</td>\n",
       "    </tr>\n",
       "    <tr>\n",
       "      <th>Beta(realized)</th>\n",
       "      <td>0.217369</td>\n",
       "      <td>0.448578</td>\n",
       "      <td>0.646379</td>\n",
       "      <td>0.776509</td>\n",
       "      <td>0.896207</td>\n",
       "      <td>0.994221</td>\n",
       "      <td>1.10123</td>\n",
       "      <td>1.20403</td>\n",
       "      <td>1.33585</td>\n",
       "      <td>1.584</td>\n",
       "      <td>NaN</td>\n",
       "    </tr>\n",
       "    <tr>\n",
       "      <th>Volatility</th>\n",
       "      <td>8.61264</td>\n",
       "      <td>12.0197</td>\n",
       "      <td>15.2996</td>\n",
       "      <td>17.6449</td>\n",
       "      <td>20.0932</td>\n",
       "      <td>22.229</td>\n",
       "      <td>24.7256</td>\n",
       "      <td>27.2377</td>\n",
       "      <td>30.5077</td>\n",
       "      <td>37.377</td>\n",
       "      <td>NaN</td>\n",
       "    </tr>\n",
       "    <tr>\n",
       "      <th>Sharpe Ratio</th>\n",
       "      <td>0.393484</td>\n",
       "      <td>0.305529</td>\n",
       "      <td>0.330985</td>\n",
       "      <td>0.18193</td>\n",
       "      <td>0.194991</td>\n",
       "      <td>0.0983321</td>\n",
       "      <td>0.0905274</td>\n",
       "      <td>0.0248663</td>\n",
       "      <td>0.0142979</td>\n",
       "      <td>-0.0299253</td>\n",
       "      <td>NaN</td>\n",
       "    </tr>\n",
       "  </tbody>\n",
       "</table>\n",
       "</div>"
      ],
      "text/plain": [
       "                          P1         P2         P3        P4        P5  \\\n",
       "Excess Return       0.282411    0.30603   0.421996  0.267511    0.3265   \n",
       "CAPM alpha          0.105682 -0.0713313  -0.114263  -0.36662 -0.386586   \n",
       "Three-factor alpha  0.131769 -0.0375254 -0.0871083 -0.339502 -0.335436   \n",
       "Four-factor alpha   0.136329 -0.0277122  -0.085287 -0.350392 -0.353345   \n",
       "Five-factor alpha    0.14027 -0.0275863 -0.0897186 -0.353873 -0.351045   \n",
       "Beta(ex ante)       0.479224   0.609529   0.747287  0.849947  0.929278   \n",
       "Beta(realized)      0.217369   0.448578   0.646379  0.776509  0.896207   \n",
       "Volatility           8.61264    12.0197    15.2996   17.6449   20.0932   \n",
       "Sharpe Ratio        0.393484   0.305529   0.330985   0.18193  0.194991   \n",
       "\n",
       "                           P6         P7         P8         P9        P10  BAB  \n",
       "Excess Return        0.182152   0.186529  0.0564417  0.0363498 -0.0932098  NaN  \n",
       "CAPM alpha          -0.592132  -0.643338  -0.823777  -0.893837     -1.073  NaN  \n",
       "Three-factor alpha  -0.518541  -0.540958  -0.680016  -0.707925  -0.766216  NaN  \n",
       "Four-factor alpha   -0.534179  -0.550116  -0.687571  -0.717267  -0.739223  NaN  \n",
       "Five-factor alpha   -0.529596  -0.541571  -0.674689  -0.694146  -0.704993  NaN  \n",
       "Beta(ex ante)         1.00368    1.08156    1.16903    1.28322    1.54478  NaN  \n",
       "Beta(realized)       0.994221    1.10123    1.20403    1.33585      1.584  NaN  \n",
       "Volatility             22.229    24.7256    27.2377    30.5077     37.377  NaN  \n",
       "Sharpe Ratio        0.0983321  0.0905274  0.0248663  0.0142979 -0.0299253  NaN  "
      ]
     },
     "execution_count": 672,
     "metadata": {},
     "output_type": "execute_result"
    }
   ],
   "source": [
    "df_table_3"
   ]
  },
  {
   "cell_type": "code",
   "execution_count": 673,
   "metadata": {},
   "outputs": [],
   "source": [
    "df_table_4.loc[df_table_4.index=='CAPM alpha',df_table_4.columns.difference(['BAB'],sort=False)]=\\\n",
    "[get_alpha(df_Port_FF5,['Mkt-RF'],i)[2] for i in np.arange(1,11,1)]\n",
    "\n",
    "df_table_4.loc[df_table_4.index=='Three-factor alpha',df_table_4.columns.difference(['BAB'],sort=False)]=\\\n",
    "[get_alpha(df_Port_FF5,['Mkt-RF','SMB','HML'],i)[2] for i in np.arange(1,11,1)]\n",
    "\n",
    "df_table_4.loc[df_table_4.index=='Four-factor alpha',df_table_4.columns.difference(['BAB'],sort=False)]=\\\n",
    "[get_alpha(df_Port_FF5,['Mkt-RF','SMB','HML','RMW'],i)[2] for i in np.arange(1,11,1)]\n",
    "\n",
    "df_table_4.loc[df_table_4.index=='Five-factor alpha',df_table_4.columns.difference(['BAB'],sort=False)]=\\\n",
    "[get_alpha(df_Port_FF5,['Mkt-RF','SMB','HML','RMW','CMA'],i)[2] for i in np.arange(1,11,1)]\n"
   ]
  },
  {
   "cell_type": "code",
   "execution_count": 674,
   "metadata": {},
   "outputs": [
    {
     "data": {
      "text/html": [
       "<div>\n",
       "<style scoped>\n",
       "    .dataframe tbody tr th:only-of-type {\n",
       "        vertical-align: middle;\n",
       "    }\n",
       "\n",
       "    .dataframe tbody tr th {\n",
       "        vertical-align: top;\n",
       "    }\n",
       "\n",
       "    .dataframe thead th {\n",
       "        text-align: right;\n",
       "    }\n",
       "</style>\n",
       "<table border=\"1\" class=\"dataframe\">\n",
       "  <thead>\n",
       "    <tr style=\"text-align: right;\">\n",
       "      <th></th>\n",
       "      <th>P1</th>\n",
       "      <th>P2</th>\n",
       "      <th>P3</th>\n",
       "      <th>P4</th>\n",
       "      <th>P5</th>\n",
       "      <th>P6</th>\n",
       "      <th>P7</th>\n",
       "      <th>P8</th>\n",
       "      <th>P9</th>\n",
       "      <th>P10</th>\n",
       "      <th>BAB</th>\n",
       "    </tr>\n",
       "  </thead>\n",
       "  <tbody>\n",
       "    <tr>\n",
       "      <th>CAPM alpha</th>\n",
       "      <td>0.571635</td>\n",
       "      <td>-0.379455</td>\n",
       "      <td>-0.661995</td>\n",
       "      <td>-2.31286</td>\n",
       "      <td>-2.40905</td>\n",
       "      <td>-3.4691</td>\n",
       "      <td>-3.27611</td>\n",
       "      <td>-3.63143</td>\n",
       "      <td>-3.2973</td>\n",
       "      <td>-2.73426</td>\n",
       "      <td>NaN</td>\n",
       "    </tr>\n",
       "    <tr>\n",
       "      <th>Three-factor alpha</th>\n",
       "      <td>0.726535</td>\n",
       "      <td>-0.209159</td>\n",
       "      <td>-0.547488</td>\n",
       "      <td>-2.50346</td>\n",
       "      <td>-2.90359</td>\n",
       "      <td>-4.96895</td>\n",
       "      <td>-5.05588</td>\n",
       "      <td>-6.0384</td>\n",
       "      <td>-5.00136</td>\n",
       "      <td>-3.17232</td>\n",
       "      <td>NaN</td>\n",
       "    </tr>\n",
       "    <tr>\n",
       "      <th>Four-factor alpha</th>\n",
       "      <td>0.736986</td>\n",
       "      <td>-0.151487</td>\n",
       "      <td>-0.526174</td>\n",
       "      <td>-2.54404</td>\n",
       "      <td>-3.01881</td>\n",
       "      <td>-5.08239</td>\n",
       "      <td>-5.05852</td>\n",
       "      <td>-6.0754</td>\n",
       "      <td>-5.02604</td>\n",
       "      <td>-3.03814</td>\n",
       "      <td>NaN</td>\n",
       "    </tr>\n",
       "    <tr>\n",
       "      <th>Five-factor alpha</th>\n",
       "      <td>0.758343</td>\n",
       "      <td>-0.151125</td>\n",
       "      <td>-0.554618</td>\n",
       "      <td>-2.56904</td>\n",
       "      <td>-3.00392</td>\n",
       "      <td>-5.04982</td>\n",
       "      <td>-5.00541</td>\n",
       "      <td>-6.03071</td>\n",
       "      <td>-4.97571</td>\n",
       "      <td>-2.9475</td>\n",
       "      <td>NaN</td>\n",
       "    </tr>\n",
       "  </tbody>\n",
       "</table>\n",
       "</div>"
      ],
      "text/plain": [
       "                          P1        P2        P3       P4       P5       P6  \\\n",
       "CAPM alpha          0.571635 -0.379455 -0.661995 -2.31286 -2.40905  -3.4691   \n",
       "Three-factor alpha  0.726535 -0.209159 -0.547488 -2.50346 -2.90359 -4.96895   \n",
       "Four-factor alpha   0.736986 -0.151487 -0.526174 -2.54404 -3.01881 -5.08239   \n",
       "Five-factor alpha   0.758343 -0.151125 -0.554618 -2.56904 -3.00392 -5.04982   \n",
       "\n",
       "                         P7       P8       P9      P10  BAB  \n",
       "CAPM alpha         -3.27611 -3.63143  -3.2973 -2.73426  NaN  \n",
       "Three-factor alpha -5.05588  -6.0384 -5.00136 -3.17232  NaN  \n",
       "Four-factor alpha  -5.05852  -6.0754 -5.02604 -3.03814  NaN  \n",
       "Five-factor alpha  -5.00541 -6.03071 -4.97571  -2.9475  NaN  "
      ]
     },
     "execution_count": 674,
     "metadata": {},
     "output_type": "execute_result"
    }
   ],
   "source": [
    "df_table_4"
   ]
  },
  {
   "cell_type": "markdown",
   "metadata": {},
   "source": [
    "# Construct BAB Factor"
   ]
  },
  {
   "cell_type": "code",
   "execution_count": 772,
   "metadata": {},
   "outputs": [],
   "source": [
    "beta_unit_dates_index=pd.read_pickle('../output/US/Ex_Ante_Beta_badtickerv1_Removed/AAPL.pickle').index"
   ]
  },
  {
   "cell_type": "code",
   "execution_count": 773,
   "metadata": {},
   "outputs": [],
   "source": [
    "data_folder_path = '../output/US/Ex_Ante_Beta_badtickerv1_Removed/'\n",
    "filenames=os.listdir(data_folder_path)\n",
    "filenames.sort()"
   ]
  },
  {
   "cell_type": "code",
   "execution_count": 774,
   "metadata": {},
   "outputs": [],
   "source": [
    "all_tickers=[filename[:-7] for filename in filenames]"
   ]
  },
  {
   "cell_type": "code",
   "execution_count": 775,
   "metadata": {},
   "outputs": [],
   "source": [
    "stock_beta_by_ticker_dict={}\n",
    "for filename in filenames:\n",
    "    df_ = pd.read_pickle(data_folder_path+filename)\n",
    "    stock_beta_by_ticker_dict[filename[:-7]]=df_"
   ]
  },
  {
   "cell_type": "code",
   "execution_count": 776,
   "metadata": {},
   "outputs": [
    {
     "data": {
      "text/plain": [
       "Timestamp('2007-12-31 00:00:00')"
      ]
     },
     "execution_count": 776,
     "metadata": {},
     "output_type": "execute_result"
    }
   ],
   "source": [
    "beta_unit_dates_index[0]"
   ]
  },
  {
   "cell_type": "code",
   "execution_count": 777,
   "metadata": {},
   "outputs": [],
   "source": [
    "df_one_day_beta=pd.DataFrame(index=all_tickers,columns=['ex_ante_beta','ret'])"
   ]
  },
  {
   "cell_type": "code",
   "execution_count": 778,
   "metadata": {},
   "outputs": [],
   "source": [
    "for filename in filenames:\n",
    "    #print(filename)\n",
    "    df_ = stock_beta_by_ticker_dict[filename[:-7]]\n",
    "    if beta_unit_dates_index[1000] in df_.index:\n",
    "        _=df_.loc[beta_unit_dates_index[1000]]\n",
    "        df_one_day_beta.loc[df_one_day_beta.index==filename[:-7],'ex_ante_beta']=_.beta_est\n",
    "        df_one_day_beta.loc[df_one_day_beta.index==filename[:-7],'ret']=_.ret"
   ]
  },
  {
   "cell_type": "code",
   "execution_count": 780,
   "metadata": {},
   "outputs": [
    {
     "name": "stderr",
     "output_type": "stream",
     "text": [
      "/Users/lijinyang/opt/anaconda3/lib/python3.7/site-packages/ipykernel_launcher.py:2: SettingWithCopyWarning: \n",
      "A value is trying to be set on a copy of a slice from a DataFrame.\n",
      "Try using .loc[row_indexer,col_indexer] = value instead\n",
      "\n",
      "See the caveats in the documentation: https://pandas.pydata.org/pandas-docs/stable/user_guide/indexing.html#returning-a-view-versus-a-copy\n",
      "  \n",
      "/Users/lijinyang/opt/anaconda3/lib/python3.7/site-packages/pandas/core/generic.py:5168: SettingWithCopyWarning: \n",
      "A value is trying to be set on a copy of a slice from a DataFrame.\n",
      "Try using .loc[row_indexer,col_indexer] = value instead\n",
      "\n",
      "See the caveats in the documentation: https://pandas.pydata.org/pandas-docs/stable/user_guide/indexing.html#returning-a-view-versus-a-copy\n",
      "  self[name] = value\n"
     ]
    }
   ],
   "source": [
    "df_one_day_beta = df_one_day_beta.dropna()\n",
    "df_one_day_beta['q']=df_one_day_beta.apply(lambda x: pd.qcut(x, 10, labels=range(1, 11))).ex_ante_beta\n",
    "df_one_day_beta.q = df_one_day_beta.q.astype(np.int)\n",
    "df_one_day_beta.ex_ante_beta = df_one_day_beta.ex_ante_beta.astype(np.float)\n",
    "df_one_day_beta.ret = df_one_day_beta.ret.astype(np.float)"
   ]
  },
  {
   "cell_type": "code",
   "execution_count": 781,
   "metadata": {},
   "outputs": [],
   "source": [
    "df_one_day_beta = df_one_day_beta.sort_values(by='ex_ante_beta')"
   ]
  },
  {
   "cell_type": "code",
   "execution_count": 782,
   "metadata": {},
   "outputs": [],
   "source": [
    "df_one_day_beta['rank'] = np.arange(1,len(df_one_day_beta)+1)"
   ]
  },
  {
   "cell_type": "code",
   "execution_count": 784,
   "metadata": {},
   "outputs": [],
   "source": [
    "z_bar = np.sum(df_one_day_beta['rank'])/len(df_one_day_beta)\n",
    "\n",
    "k = 2/np.sum(np.abs(df_one_day_beta['rank']-z_bar))\n",
    "\n",
    "w_l = k*(df_one_day_beta.loc[df_one_day_beta['rank']<=z_bar,'rank']-z_bar)*-1\n",
    "beta_l= np.sum(w_l.multiply(df_one_day_beta.loc[df_one_day_beta['rank']<=z_bar,'ex_ante_beta']))\n",
    "\n",
    "w_h = k*(df_one_day_beta.loc[df_one_day_beta['rank']>z_bar,'rank']-z_bar)\n",
    "beta_h= np.sum(w_h.multiply(df_one_day_beta.loc[df_one_day_beta['rank']>z_bar,'ex_ante_beta']))\n",
    "\n",
    "BAB_ret=np.sum((df_one_day_beta.loc[df_one_day_beta['rank']<=z_bar,'ret']).multiply(w_l))/beta_l-\\\n",
    "np.sum((df_one_day_beta.loc[df_one_day_beta['rank']>z_bar,'ret']).multiply(w_h))/beta_h"
   ]
  },
  {
   "cell_type": "code",
   "execution_count": 786,
   "metadata": {},
   "outputs": [],
   "source": [
    "df_one_day_beta  = df_one_day_beta.drop(columns='rank')"
   ]
  },
  {
   "cell_type": "code",
   "execution_count": 787,
   "metadata": {},
   "outputs": [],
   "source": [
    "df_final = df_one_day_beta.groupby(['q']).mean().copy()"
   ]
  },
  {
   "cell_type": "code",
   "execution_count": 788,
   "metadata": {},
   "outputs": [
    {
     "data": {
      "text/html": [
       "<div>\n",
       "<style scoped>\n",
       "    .dataframe tbody tr th:only-of-type {\n",
       "        vertical-align: middle;\n",
       "    }\n",
       "\n",
       "    .dataframe tbody tr th {\n",
       "        vertical-align: top;\n",
       "    }\n",
       "\n",
       "    .dataframe thead th {\n",
       "        text-align: right;\n",
       "    }\n",
       "</style>\n",
       "<table border=\"1\" class=\"dataframe\">\n",
       "  <thead>\n",
       "    <tr style=\"text-align: right;\">\n",
       "      <th></th>\n",
       "      <th>ex_ante_beta</th>\n",
       "      <th>ret</th>\n",
       "    </tr>\n",
       "  </thead>\n",
       "  <tbody>\n",
       "    <tr>\n",
       "      <th>1</th>\n",
       "      <td>0.472566</td>\n",
       "      <td>0.003505</td>\n",
       "    </tr>\n",
       "    <tr>\n",
       "      <th>2</th>\n",
       "      <td>0.592773</td>\n",
       "      <td>0.001273</td>\n",
       "    </tr>\n",
       "    <tr>\n",
       "      <th>3</th>\n",
       "      <td>0.709851</td>\n",
       "      <td>0.001395</td>\n",
       "    </tr>\n",
       "    <tr>\n",
       "      <th>4</th>\n",
       "      <td>0.792035</td>\n",
       "      <td>0.002673</td>\n",
       "    </tr>\n",
       "    <tr>\n",
       "      <th>5</th>\n",
       "      <td>0.866260</td>\n",
       "      <td>0.002344</td>\n",
       "    </tr>\n",
       "    <tr>\n",
       "      <th>6</th>\n",
       "      <td>0.934537</td>\n",
       "      <td>0.002315</td>\n",
       "    </tr>\n",
       "    <tr>\n",
       "      <th>7</th>\n",
       "      <td>1.008086</td>\n",
       "      <td>0.006852</td>\n",
       "    </tr>\n",
       "    <tr>\n",
       "      <th>8</th>\n",
       "      <td>1.082270</td>\n",
       "      <td>0.005071</td>\n",
       "    </tr>\n",
       "    <tr>\n",
       "      <th>9</th>\n",
       "      <td>1.176980</td>\n",
       "      <td>0.007076</td>\n",
       "    </tr>\n",
       "    <tr>\n",
       "      <th>10</th>\n",
       "      <td>1.362355</td>\n",
       "      <td>0.009106</td>\n",
       "    </tr>\n",
       "    <tr>\n",
       "      <th>BAB</th>\n",
       "      <td>0.000000</td>\n",
       "      <td>-0.002222</td>\n",
       "    </tr>\n",
       "  </tbody>\n",
       "</table>\n",
       "</div>"
      ],
      "text/plain": [
       "     ex_ante_beta       ret\n",
       "1        0.472566  0.003505\n",
       "2        0.592773  0.001273\n",
       "3        0.709851  0.001395\n",
       "4        0.792035  0.002673\n",
       "5        0.866260  0.002344\n",
       "6        0.934537  0.002315\n",
       "7        1.008086  0.006852\n",
       "8        1.082270  0.005071\n",
       "9        1.176980  0.007076\n",
       "10       1.362355  0.009106\n",
       "BAB      0.000000 -0.002222"
      ]
     },
     "execution_count": 788,
     "metadata": {},
     "output_type": "execute_result"
    }
   ],
   "source": [
    "df_final.append(pd.DataFrame(index=['BAB'],data={'ex_ante_beta':0,'ret':BAB_ret}))"
   ]
  },
  {
   "cell_type": "code",
   "execution_count": 816,
   "metadata": {},
   "outputs": [],
   "source": [
    "def get_one_day_portfolio(date,stock_beta_by_ticker_dict,filenames):\n",
    "    df_one_day_beta=pd.DataFrame(index=all_tickers,columns=['ex_ante_beta','ret'])\n",
    "    for filename in filenames:\n",
    "        #print(filename)\n",
    "        df_ = stock_beta_by_ticker_dict[filename[:-7]]\n",
    "        if date in df_.index:\n",
    "            _=df_.loc[date]\n",
    "            df_one_day_beta.loc[df_one_day_beta.index==filename[:-7],'ex_ante_beta']=_.beta_est\n",
    "            df_one_day_beta.loc[df_one_day_beta.index==filename[:-7],'ret']=_.ret\n",
    "    df_one_day_beta = df_one_day_beta.dropna()\n",
    "    df_one_day_beta['q']=df_one_day_beta.apply(lambda x: pd.qcut(x, 10, labels=range(1, 11))).ex_ante_beta\n",
    "    df_one_day_beta.q = df_one_day_beta.q.astype(np.int)\n",
    "    df_one_day_beta.ex_ante_beta = df_one_day_beta.ex_ante_beta.astype(np.float)\n",
    "    df_one_day_beta.ret = df_one_day_beta.ret.astype(np.float)\n",
    "    \n",
    "    df_one_day_beta = df_one_day_beta.sort_values(by='ex_ante_beta')\n",
    "    df_one_day_beta['rank'] = np.arange(1,len(df_one_day_beta)+1)\n",
    "    z_bar = np.sum(df_one_day_beta['rank'])/len(df_one_day_beta)\n",
    "\n",
    "    k = 2/np.sum(np.abs(df_one_day_beta['rank']-z_bar))\n",
    "\n",
    "    w_l = k*(df_one_day_beta.loc[df_one_day_beta['rank']<=z_bar,'rank']-z_bar)*-1\n",
    "    beta_l= np.sum(w_l.multiply(df_one_day_beta.loc[df_one_day_beta['rank']<=z_bar,'ex_ante_beta']))\n",
    "\n",
    "    w_h = k*(df_one_day_beta.loc[df_one_day_beta['rank']>z_bar,'rank']-z_bar)\n",
    "    beta_h= np.sum(w_h.multiply(df_one_day_beta.loc[df_one_day_beta['rank']>z_bar,'ex_ante_beta']))\n",
    "\n",
    "    BAB_ret=np.sum((df_one_day_beta.loc[df_one_day_beta['rank']<=z_bar,'ret']).multiply(w_l))/beta_l-\\\n",
    "    np.sum((df_one_day_beta.loc[df_one_day_beta['rank']>z_bar,'ret']).multiply(w_h))/beta_h\n",
    "    df_one_day_beta  = df_one_day_beta.drop(columns='rank')\n",
    "    df_final = df_one_day_beta.groupby(['q']).mean().copy()\n",
    "    df_final = df_final.append(pd.DataFrame(index=['BAB'],data={'ex_ante_beta':0,'ret':BAB_ret}))\n",
    "    return df_final"
   ]
  },
  {
   "cell_type": "code",
   "execution_count": 817,
   "metadata": {},
   "outputs": [
    {
     "data": {
      "text/html": [
       "<div>\n",
       "<style scoped>\n",
       "    .dataframe tbody tr th:only-of-type {\n",
       "        vertical-align: middle;\n",
       "    }\n",
       "\n",
       "    .dataframe tbody tr th {\n",
       "        vertical-align: top;\n",
       "    }\n",
       "\n",
       "    .dataframe thead th {\n",
       "        text-align: right;\n",
       "    }\n",
       "</style>\n",
       "<table border=\"1\" class=\"dataframe\">\n",
       "  <thead>\n",
       "    <tr style=\"text-align: right;\">\n",
       "      <th></th>\n",
       "      <th>ex_ante_beta</th>\n",
       "      <th>ret</th>\n",
       "    </tr>\n",
       "  </thead>\n",
       "  <tbody>\n",
       "    <tr>\n",
       "      <th>1</th>\n",
       "      <td>0.518120</td>\n",
       "      <td>0.004648</td>\n",
       "    </tr>\n",
       "    <tr>\n",
       "      <th>2</th>\n",
       "      <td>0.675368</td>\n",
       "      <td>0.000663</td>\n",
       "    </tr>\n",
       "    <tr>\n",
       "      <th>3</th>\n",
       "      <td>0.777181</td>\n",
       "      <td>-0.001888</td>\n",
       "    </tr>\n",
       "    <tr>\n",
       "      <th>4</th>\n",
       "      <td>0.847976</td>\n",
       "      <td>-0.002969</td>\n",
       "    </tr>\n",
       "    <tr>\n",
       "      <th>5</th>\n",
       "      <td>0.905642</td>\n",
       "      <td>-0.003983</td>\n",
       "    </tr>\n",
       "    <tr>\n",
       "      <th>6</th>\n",
       "      <td>0.962663</td>\n",
       "      <td>-0.004647</td>\n",
       "    </tr>\n",
       "    <tr>\n",
       "      <th>7</th>\n",
       "      <td>1.018178</td>\n",
       "      <td>-0.005086</td>\n",
       "    </tr>\n",
       "    <tr>\n",
       "      <th>8</th>\n",
       "      <td>1.084608</td>\n",
       "      <td>-0.005581</td>\n",
       "    </tr>\n",
       "    <tr>\n",
       "      <th>9</th>\n",
       "      <td>1.180490</td>\n",
       "      <td>-0.005074</td>\n",
       "    </tr>\n",
       "    <tr>\n",
       "      <th>10</th>\n",
       "      <td>1.379301</td>\n",
       "      <td>-0.005445</td>\n",
       "    </tr>\n",
       "    <tr>\n",
       "      <th>BAB</th>\n",
       "      <td>0.000000</td>\n",
       "      <td>0.005904</td>\n",
       "    </tr>\n",
       "  </tbody>\n",
       "</table>\n",
       "</div>"
      ],
      "text/plain": [
       "     ex_ante_beta       ret\n",
       "1        0.518120  0.004648\n",
       "2        0.675368  0.000663\n",
       "3        0.777181 -0.001888\n",
       "4        0.847976 -0.002969\n",
       "5        0.905642 -0.003983\n",
       "6        0.962663 -0.004647\n",
       "7        1.018178 -0.005086\n",
       "8        1.084608 -0.005581\n",
       "9        1.180490 -0.005074\n",
       "10       1.379301 -0.005445\n",
       "BAB      0.000000  0.005904"
      ]
     },
     "execution_count": 817,
     "metadata": {},
     "output_type": "execute_result"
    }
   ],
   "source": [
    "get_one_day_portfolio('2007-12-31',stock_beta_by_ticker_dict,filenames)"
   ]
  },
  {
   "cell_type": "code",
   "execution_count": 793,
   "metadata": {},
   "outputs": [
    {
     "data": {
      "text/plain": [
       "Timestamp('2007-12-31 00:00:00')"
      ]
     },
     "execution_count": 793,
     "metadata": {},
     "output_type": "execute_result"
    }
   ],
   "source": [
    "beta_unit_dates_index[0]"
   ]
  },
  {
   "cell_type": "code",
   "execution_count": 802,
   "metadata": {},
   "outputs": [],
   "source": [
    "df_P_beta=pd.DataFrame(index=beta_unit_dates_index,columns=np.concatenate((np.arange(1,11,1), ['BAB'])))\n",
    "df_P_return=pd.DataFrame(index=beta_unit_dates_index,columns=np.concatenate((np.arange(1,11,1), ['BAB'])))"
   ]
  },
  {
   "cell_type": "code",
   "execution_count": 818,
   "metadata": {},
   "outputs": [
    {
     "data": {
      "text/html": [
       "<div>\n",
       "<style scoped>\n",
       "    .dataframe tbody tr th:only-of-type {\n",
       "        vertical-align: middle;\n",
       "    }\n",
       "\n",
       "    .dataframe tbody tr th {\n",
       "        vertical-align: top;\n",
       "    }\n",
       "\n",
       "    .dataframe thead th {\n",
       "        text-align: right;\n",
       "    }\n",
       "</style>\n",
       "<table border=\"1\" class=\"dataframe\">\n",
       "  <thead>\n",
       "    <tr style=\"text-align: right;\">\n",
       "      <th></th>\n",
       "      <th>ex_ante_beta</th>\n",
       "      <th>ret</th>\n",
       "    </tr>\n",
       "  </thead>\n",
       "  <tbody>\n",
       "    <tr>\n",
       "      <th>1</th>\n",
       "      <td>0.494299</td>\n",
       "      <td>0.011205</td>\n",
       "    </tr>\n",
       "    <tr>\n",
       "      <th>2</th>\n",
       "      <td>0.650143</td>\n",
       "      <td>0.003909</td>\n",
       "    </tr>\n",
       "    <tr>\n",
       "      <th>3</th>\n",
       "      <td>0.758263</td>\n",
       "      <td>-0.005419</td>\n",
       "    </tr>\n",
       "    <tr>\n",
       "      <th>4</th>\n",
       "      <td>0.834522</td>\n",
       "      <td>-0.008945</td>\n",
       "    </tr>\n",
       "    <tr>\n",
       "      <th>5</th>\n",
       "      <td>0.895719</td>\n",
       "      <td>-0.007785</td>\n",
       "    </tr>\n",
       "    <tr>\n",
       "      <th>6</th>\n",
       "      <td>0.954687</td>\n",
       "      <td>-0.013094</td>\n",
       "    </tr>\n",
       "    <tr>\n",
       "      <th>7</th>\n",
       "      <td>1.012133</td>\n",
       "      <td>-0.013118</td>\n",
       "    </tr>\n",
       "    <tr>\n",
       "      <th>8</th>\n",
       "      <td>1.080556</td>\n",
       "      <td>-0.013410</td>\n",
       "    </tr>\n",
       "    <tr>\n",
       "      <th>9</th>\n",
       "      <td>1.177907</td>\n",
       "      <td>-0.014026</td>\n",
       "    </tr>\n",
       "    <tr>\n",
       "      <th>10</th>\n",
       "      <td>1.375259</td>\n",
       "      <td>-0.009906</td>\n",
       "    </tr>\n",
       "    <tr>\n",
       "      <th>BAB</th>\n",
       "      <td>0.000000</td>\n",
       "      <td>0.014935</td>\n",
       "    </tr>\n",
       "  </tbody>\n",
       "</table>\n",
       "</div>"
      ],
      "text/plain": [
       "     ex_ante_beta       ret\n",
       "1        0.494299  0.011205\n",
       "2        0.650143  0.003909\n",
       "3        0.758263 -0.005419\n",
       "4        0.834522 -0.008945\n",
       "5        0.895719 -0.007785\n",
       "6        0.954687 -0.013094\n",
       "7        1.012133 -0.013118\n",
       "8        1.080556 -0.013410\n",
       "9        1.177907 -0.014026\n",
       "10       1.375259 -0.009906\n",
       "BAB      0.000000  0.014935"
      ]
     },
     "execution_count": 818,
     "metadata": {},
     "output_type": "execute_result"
    }
   ],
   "source": [
    "get_one_day_portfolio(beta_unit_dates_index[2],stock_beta_by_ticker_dict,filenames)"
   ]
  },
  {
   "cell_type": "code",
   "execution_count": 815,
   "metadata": {
    "scrolled": true
   },
   "outputs": [
    {
     "name": "stdout",
     "output_type": "stream",
     "text": [
      "2008-02-28 00:00:00\n",
      "2008-02-29 00:00:00\n",
      "2008-03-03 00:00:00\n"
     ]
    },
    {
     "ename": "KeyboardInterrupt",
     "evalue": "",
     "output_type": "error",
     "traceback": [
      "\u001b[0;31m---------------------------------------------------------------------------\u001b[0m",
      "\u001b[0;31mKeyboardInterrupt\u001b[0m                         Traceback (most recent call last)",
      "\u001b[0;32m<ipython-input-815-15d600a23b2c>\u001b[0m in \u001b[0;36m<module>\u001b[0;34m\u001b[0m\n\u001b[1;32m      1\u001b[0m \u001b[0;32mfor\u001b[0m \u001b[0mdate\u001b[0m \u001b[0;32min\u001b[0m \u001b[0mbeta_unit_dates_index\u001b[0m\u001b[0;34m[\u001b[0m\u001b[0;36m40\u001b[0m\u001b[0;34m:\u001b[0m\u001b[0;34m]\u001b[0m\u001b[0;34m:\u001b[0m\u001b[0;34m\u001b[0m\u001b[0;34m\u001b[0m\u001b[0m\n\u001b[1;32m      2\u001b[0m     \u001b[0mprint\u001b[0m\u001b[0;34m(\u001b[0m\u001b[0mdate\u001b[0m\u001b[0;34m)\u001b[0m\u001b[0;34m\u001b[0m\u001b[0;34m\u001b[0m\u001b[0m\n\u001b[0;32m----> 3\u001b[0;31m     \u001b[0mdf_\u001b[0m\u001b[0;34m=\u001b[0m\u001b[0mget_one_day_portfolio\u001b[0m\u001b[0;34m(\u001b[0m\u001b[0mdate\u001b[0m\u001b[0;34m,\u001b[0m\u001b[0mstock_beta_by_ticker_dict\u001b[0m\u001b[0;34m,\u001b[0m\u001b[0mfilenames\u001b[0m\u001b[0;34m)\u001b[0m\u001b[0;34m\u001b[0m\u001b[0;34m\u001b[0m\u001b[0m\n\u001b[0m\u001b[1;32m      4\u001b[0m     \u001b[0mdf_P_beta\u001b[0m\u001b[0;34m.\u001b[0m\u001b[0mloc\u001b[0m\u001b[0;34m[\u001b[0m\u001b[0mdate\u001b[0m\u001b[0;34m]\u001b[0m\u001b[0;34m=\u001b[0m\u001b[0mdf_\u001b[0m\u001b[0;34m.\u001b[0m\u001b[0mex_ante_beta\u001b[0m\u001b[0;34m\u001b[0m\u001b[0;34m\u001b[0m\u001b[0m\n\u001b[1;32m      5\u001b[0m     \u001b[0mdf_P_return\u001b[0m\u001b[0;34m.\u001b[0m\u001b[0mloc\u001b[0m\u001b[0;34m[\u001b[0m\u001b[0mdate\u001b[0m\u001b[0;34m]\u001b[0m\u001b[0;34m=\u001b[0m\u001b[0mdf_\u001b[0m\u001b[0;34m.\u001b[0m\u001b[0mret\u001b[0m\u001b[0;34m\u001b[0m\u001b[0;34m\u001b[0m\u001b[0m\n",
      "\u001b[0;32m<ipython-input-791-06c4722ff4e3>\u001b[0m in \u001b[0;36mget_one_day_portfolio\u001b[0;34m(date, stock_beta_by_ticker_dict, filenames)\u001b[0m\n\u001b[1;32m      7\u001b[0m             \u001b[0m_\u001b[0m\u001b[0;34m=\u001b[0m\u001b[0mdf_\u001b[0m\u001b[0;34m.\u001b[0m\u001b[0mloc\u001b[0m\u001b[0;34m[\u001b[0m\u001b[0mdate\u001b[0m\u001b[0;34m]\u001b[0m\u001b[0;34m\u001b[0m\u001b[0;34m\u001b[0m\u001b[0m\n\u001b[1;32m      8\u001b[0m             \u001b[0mdf_one_day_beta\u001b[0m\u001b[0;34m.\u001b[0m\u001b[0mloc\u001b[0m\u001b[0;34m[\u001b[0m\u001b[0mdf_one_day_beta\u001b[0m\u001b[0;34m.\u001b[0m\u001b[0mindex\u001b[0m\u001b[0;34m==\u001b[0m\u001b[0mfilename\u001b[0m\u001b[0;34m[\u001b[0m\u001b[0;34m:\u001b[0m\u001b[0;34m-\u001b[0m\u001b[0;36m7\u001b[0m\u001b[0;34m]\u001b[0m\u001b[0;34m,\u001b[0m\u001b[0;34m'ex_ante_beta'\u001b[0m\u001b[0;34m]\u001b[0m\u001b[0;34m=\u001b[0m\u001b[0m_\u001b[0m\u001b[0;34m.\u001b[0m\u001b[0mbeta_est\u001b[0m\u001b[0;34m\u001b[0m\u001b[0;34m\u001b[0m\u001b[0m\n\u001b[0;32m----> 9\u001b[0;31m             \u001b[0mdf_one_day_beta\u001b[0m\u001b[0;34m.\u001b[0m\u001b[0mloc\u001b[0m\u001b[0;34m[\u001b[0m\u001b[0mdf_one_day_beta\u001b[0m\u001b[0;34m.\u001b[0m\u001b[0mindex\u001b[0m\u001b[0;34m==\u001b[0m\u001b[0mfilename\u001b[0m\u001b[0;34m[\u001b[0m\u001b[0;34m:\u001b[0m\u001b[0;34m-\u001b[0m\u001b[0;36m7\u001b[0m\u001b[0;34m]\u001b[0m\u001b[0;34m,\u001b[0m\u001b[0;34m'ret'\u001b[0m\u001b[0;34m]\u001b[0m\u001b[0;34m=\u001b[0m\u001b[0m_\u001b[0m\u001b[0;34m.\u001b[0m\u001b[0mret\u001b[0m\u001b[0;34m\u001b[0m\u001b[0;34m\u001b[0m\u001b[0m\n\u001b[0m\u001b[1;32m     10\u001b[0m     \u001b[0mdf_one_day_beta\u001b[0m \u001b[0;34m=\u001b[0m \u001b[0mdf_one_day_beta\u001b[0m\u001b[0;34m.\u001b[0m\u001b[0mdropna\u001b[0m\u001b[0;34m(\u001b[0m\u001b[0;34m)\u001b[0m\u001b[0;34m\u001b[0m\u001b[0;34m\u001b[0m\u001b[0m\n\u001b[1;32m     11\u001b[0m     \u001b[0mdf_one_day_beta\u001b[0m\u001b[0;34m[\u001b[0m\u001b[0;34m'q'\u001b[0m\u001b[0;34m]\u001b[0m\u001b[0;34m=\u001b[0m\u001b[0mdf_one_day_beta\u001b[0m\u001b[0;34m.\u001b[0m\u001b[0mapply\u001b[0m\u001b[0;34m(\u001b[0m\u001b[0;32mlambda\u001b[0m \u001b[0mx\u001b[0m\u001b[0;34m:\u001b[0m \u001b[0mpd\u001b[0m\u001b[0;34m.\u001b[0m\u001b[0mqcut\u001b[0m\u001b[0;34m(\u001b[0m\u001b[0mx\u001b[0m\u001b[0;34m,\u001b[0m \u001b[0;36m10\u001b[0m\u001b[0;34m,\u001b[0m \u001b[0mlabels\u001b[0m\u001b[0;34m=\u001b[0m\u001b[0mrange\u001b[0m\u001b[0;34m(\u001b[0m\u001b[0;36m1\u001b[0m\u001b[0;34m,\u001b[0m \u001b[0;36m11\u001b[0m\u001b[0;34m)\u001b[0m\u001b[0;34m)\u001b[0m\u001b[0;34m)\u001b[0m\u001b[0;34m.\u001b[0m\u001b[0mex_ante_beta\u001b[0m\u001b[0;34m\u001b[0m\u001b[0;34m\u001b[0m\u001b[0m\n",
      "\u001b[0;32m~/opt/anaconda3/lib/python3.7/site-packages/pandas/core/indexes/base.py\u001b[0m in \u001b[0;36mcmp_method\u001b[0;34m(self, other)\u001b[0m\n\u001b[1;32m    134\u001b[0m             \u001b[0;31m# don't pass MultiIndex\u001b[0m\u001b[0;34m\u001b[0m\u001b[0;34m\u001b[0m\u001b[0;34m\u001b[0m\u001b[0m\n\u001b[1;32m    135\u001b[0m             \u001b[0;32mwith\u001b[0m \u001b[0mnp\u001b[0m\u001b[0;34m.\u001b[0m\u001b[0merrstate\u001b[0m\u001b[0;34m(\u001b[0m\u001b[0mall\u001b[0m\u001b[0;34m=\u001b[0m\u001b[0;34m\"ignore\"\u001b[0m\u001b[0;34m)\u001b[0m\u001b[0;34m:\u001b[0m\u001b[0;34m\u001b[0m\u001b[0;34m\u001b[0m\u001b[0m\n\u001b[0;32m--> 136\u001b[0;31m                 \u001b[0mresult\u001b[0m \u001b[0;34m=\u001b[0m \u001b[0mops\u001b[0m\u001b[0;34m.\u001b[0m\u001b[0mcomp_method_OBJECT_ARRAY\u001b[0m\u001b[0;34m(\u001b[0m\u001b[0mop\u001b[0m\u001b[0;34m,\u001b[0m \u001b[0mself\u001b[0m\u001b[0;34m.\u001b[0m\u001b[0m_values\u001b[0m\u001b[0;34m,\u001b[0m \u001b[0mother\u001b[0m\u001b[0;34m)\u001b[0m\u001b[0;34m\u001b[0m\u001b[0;34m\u001b[0m\u001b[0m\n\u001b[0m\u001b[1;32m    137\u001b[0m \u001b[0;34m\u001b[0m\u001b[0m\n\u001b[1;32m    138\u001b[0m         \u001b[0;32melif\u001b[0m \u001b[0mis_interval_dtype\u001b[0m\u001b[0;34m(\u001b[0m\u001b[0mself\u001b[0m\u001b[0;34m.\u001b[0m\u001b[0mdtype\u001b[0m\u001b[0;34m)\u001b[0m\u001b[0;34m:\u001b[0m\u001b[0;34m\u001b[0m\u001b[0;34m\u001b[0m\u001b[0m\n",
      "\u001b[0;32m~/opt/anaconda3/lib/python3.7/site-packages/pandas/core/ops/array_ops.py\u001b[0m in \u001b[0;36mcomp_method_OBJECT_ARRAY\u001b[0;34m(op, x, y)\u001b[0m\n\u001b[1;32m     54\u001b[0m         \u001b[0mresult\u001b[0m \u001b[0;34m=\u001b[0m \u001b[0mlibops\u001b[0m\u001b[0;34m.\u001b[0m\u001b[0mvec_compare\u001b[0m\u001b[0;34m(\u001b[0m\u001b[0mx\u001b[0m\u001b[0;34m.\u001b[0m\u001b[0mravel\u001b[0m\u001b[0;34m(\u001b[0m\u001b[0;34m)\u001b[0m\u001b[0;34m,\u001b[0m \u001b[0my\u001b[0m\u001b[0;34m.\u001b[0m\u001b[0mravel\u001b[0m\u001b[0;34m(\u001b[0m\u001b[0;34m)\u001b[0m\u001b[0;34m,\u001b[0m \u001b[0mop\u001b[0m\u001b[0;34m)\u001b[0m\u001b[0;34m\u001b[0m\u001b[0;34m\u001b[0m\u001b[0m\n\u001b[1;32m     55\u001b[0m     \u001b[0;32melse\u001b[0m\u001b[0;34m:\u001b[0m\u001b[0;34m\u001b[0m\u001b[0;34m\u001b[0m\u001b[0m\n\u001b[0;32m---> 56\u001b[0;31m         \u001b[0mresult\u001b[0m \u001b[0;34m=\u001b[0m \u001b[0mlibops\u001b[0m\u001b[0;34m.\u001b[0m\u001b[0mscalar_compare\u001b[0m\u001b[0;34m(\u001b[0m\u001b[0mx\u001b[0m\u001b[0;34m.\u001b[0m\u001b[0mravel\u001b[0m\u001b[0;34m(\u001b[0m\u001b[0;34m)\u001b[0m\u001b[0;34m,\u001b[0m \u001b[0my\u001b[0m\u001b[0;34m,\u001b[0m \u001b[0mop\u001b[0m\u001b[0;34m)\u001b[0m\u001b[0;34m\u001b[0m\u001b[0;34m\u001b[0m\u001b[0m\n\u001b[0m\u001b[1;32m     57\u001b[0m     \u001b[0;32mreturn\u001b[0m \u001b[0mresult\u001b[0m\u001b[0;34m.\u001b[0m\u001b[0mreshape\u001b[0m\u001b[0;34m(\u001b[0m\u001b[0mx\u001b[0m\u001b[0;34m.\u001b[0m\u001b[0mshape\u001b[0m\u001b[0;34m)\u001b[0m\u001b[0;34m\u001b[0m\u001b[0;34m\u001b[0m\u001b[0m\n\u001b[1;32m     58\u001b[0m \u001b[0;34m\u001b[0m\u001b[0m\n",
      "\u001b[0;31mKeyboardInterrupt\u001b[0m: "
     ]
    }
   ],
   "source": [
    "for date in beta_unit_dates_index[40:]:\n",
    "    print(date)\n",
    "    df_=get_one_day_portfolio(date,stock_beta_by_ticker_dict,filenames)\n",
    "    df_P_beta.loc[date]=df_.ex_ante_beta\n",
    "    df_P_return.loc[date]=df_.ret\n",
    "    df_P_beta.to_pickle('../output/US/Portfolio Beta and Return Daily/beta.pickle')\n",
    "    df_P_return.to_pickle('../output/US/Portfolio Beta and Return Daily/return.pickle')"
   ]
  },
  {
   "cell_type": "code",
   "execution_count": null,
   "metadata": {},
   "outputs": [],
   "source": []
  }
 ],
 "metadata": {
  "kernelspec": {
   "display_name": "Python 3",
   "language": "python",
   "name": "python3"
  },
  "language_info": {
   "codemirror_mode": {
    "name": "ipython",
    "version": 3
   },
   "file_extension": ".py",
   "mimetype": "text/x-python",
   "name": "python",
   "nbconvert_exporter": "python",
   "pygments_lexer": "ipython3",
   "version": "3.7.4"
  },
  "toc": {
   "base_numbering": 1,
   "nav_menu": {},
   "number_sections": true,
   "sideBar": true,
   "skip_h1_title": false,
   "title_cell": "Table of Contents",
   "title_sidebar": "Contents",
   "toc_cell": false,
   "toc_position": {},
   "toc_section_display": true,
   "toc_window_display": true
  }
 },
 "nbformat": 4,
 "nbformat_minor": 4
}
