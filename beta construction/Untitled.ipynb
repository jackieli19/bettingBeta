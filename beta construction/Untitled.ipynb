{
 "cells": [
  {
   "cell_type": "code",
   "execution_count": 3,
   "metadata": {},
   "outputs": [],
   "source": [
    "import numpy as np\n",
    "import pandas as pd\n",
    "from functools import reduce\n",
    "import os\n",
    "import statsmodels.api as sm\n",
    "import matplotlib.pyplot as plt\n",
    "#pd.set_option(\"precision\",4)"
   ]
  },
  {
   "cell_type": "code",
   "execution_count": 4,
   "metadata": {},
   "outputs": [],
   "source": [
    "df_FF_5=pd.read_csv('../data/FF_Factors/F-F_Research_Data_5_Factors_2x3_daily.csv',index_col=0,parse_dates=True)\n",
    "df_FF_5 = df_FF_5['2001-01-01':'2020-12-31']/100"
   ]
  },
  {
   "cell_type": "code",
   "execution_count": 8,
   "metadata": {},
   "outputs": [
    {
     "data": {
      "text/html": [
       "<div>\n",
       "<style scoped>\n",
       "    .dataframe tbody tr th:only-of-type {\n",
       "        vertical-align: middle;\n",
       "    }\n",
       "\n",
       "    .dataframe tbody tr th {\n",
       "        vertical-align: top;\n",
       "    }\n",
       "\n",
       "    .dataframe thead th {\n",
       "        text-align: right;\n",
       "    }\n",
       "</style>\n",
       "<table border=\"1\" class=\"dataframe\">\n",
       "  <thead>\n",
       "    <tr style=\"text-align: right;\">\n",
       "      <th></th>\n",
       "      <th>Mkt-RF</th>\n",
       "      <th>SMB</th>\n",
       "      <th>HML</th>\n",
       "      <th>RMW</th>\n",
       "      <th>CMA</th>\n",
       "      <th>RF</th>\n",
       "    </tr>\n",
       "    <tr>\n",
       "      <th>Date</th>\n",
       "      <th></th>\n",
       "      <th></th>\n",
       "      <th></th>\n",
       "      <th></th>\n",
       "      <th></th>\n",
       "      <th></th>\n",
       "    </tr>\n",
       "  </thead>\n",
       "  <tbody>\n",
       "    <tr>\n",
       "      <th>2001-01-02</th>\n",
       "      <td>-0.0352</td>\n",
       "      <td>0.0039</td>\n",
       "      <td>0.0165</td>\n",
       "      <td>0.0158</td>\n",
       "      <td>0.0161</td>\n",
       "      <td>0.00026</td>\n",
       "    </tr>\n",
       "    <tr>\n",
       "      <th>2001-01-03</th>\n",
       "      <td>0.0539</td>\n",
       "      <td>-0.0065</td>\n",
       "      <td>-0.0439</td>\n",
       "      <td>-0.0266</td>\n",
       "      <td>-0.0594</td>\n",
       "      <td>0.00026</td>\n",
       "    </tr>\n",
       "    <tr>\n",
       "      <th>2001-01-04</th>\n",
       "      <td>-0.0130</td>\n",
       "      <td>0.0097</td>\n",
       "      <td>-0.0030</td>\n",
       "      <td>0.0052</td>\n",
       "      <td>-0.0080</td>\n",
       "      <td>0.00026</td>\n",
       "    </tr>\n",
       "    <tr>\n",
       "      <th>2001-01-05</th>\n",
       "      <td>-0.0298</td>\n",
       "      <td>0.0071</td>\n",
       "      <td>0.0238</td>\n",
       "      <td>0.0190</td>\n",
       "      <td>0.0231</td>\n",
       "      <td>0.00026</td>\n",
       "    </tr>\n",
       "    <tr>\n",
       "      <th>2001-01-08</th>\n",
       "      <td>-0.0036</td>\n",
       "      <td>-0.0043</td>\n",
       "      <td>0.0126</td>\n",
       "      <td>0.0098</td>\n",
       "      <td>0.0067</td>\n",
       "      <td>0.00026</td>\n",
       "    </tr>\n",
       "    <tr>\n",
       "      <th>...</th>\n",
       "      <td>...</td>\n",
       "      <td>...</td>\n",
       "      <td>...</td>\n",
       "      <td>...</td>\n",
       "      <td>...</td>\n",
       "      <td>...</td>\n",
       "    </tr>\n",
       "    <tr>\n",
       "      <th>2020-12-24</th>\n",
       "      <td>0.0021</td>\n",
       "      <td>-0.0043</td>\n",
       "      <td>-0.0017</td>\n",
       "      <td>0.0024</td>\n",
       "      <td>-0.0005</td>\n",
       "      <td>0.00000</td>\n",
       "    </tr>\n",
       "    <tr>\n",
       "      <th>2020-12-28</th>\n",
       "      <td>0.0046</td>\n",
       "      <td>-0.0065</td>\n",
       "      <td>0.0032</td>\n",
       "      <td>0.0146</td>\n",
       "      <td>0.0050</td>\n",
       "      <td>0.00000</td>\n",
       "    </tr>\n",
       "    <tr>\n",
       "      <th>2020-12-29</th>\n",
       "      <td>-0.0040</td>\n",
       "      <td>-0.0142</td>\n",
       "      <td>0.0024</td>\n",
       "      <td>0.0075</td>\n",
       "      <td>-0.0028</td>\n",
       "      <td>0.00000</td>\n",
       "    </tr>\n",
       "    <tr>\n",
       "      <th>2020-12-30</th>\n",
       "      <td>0.0027</td>\n",
       "      <td>0.0103</td>\n",
       "      <td>0.0004</td>\n",
       "      <td>-0.0067</td>\n",
       "      <td>-0.0006</td>\n",
       "      <td>0.00000</td>\n",
       "    </tr>\n",
       "    <tr>\n",
       "      <th>2020-12-31</th>\n",
       "      <td>0.0039</td>\n",
       "      <td>-0.0069</td>\n",
       "      <td>0.0045</td>\n",
       "      <td>0.0056</td>\n",
       "      <td>-0.0020</td>\n",
       "      <td>0.00000</td>\n",
       "    </tr>\n",
       "  </tbody>\n",
       "</table>\n",
       "<p>5032 rows × 6 columns</p>\n",
       "</div>"
      ],
      "text/plain": [
       "            Mkt-RF     SMB     HML     RMW     CMA       RF\n",
       "Date                                                       \n",
       "2001-01-02 -0.0352  0.0039  0.0165  0.0158  0.0161  0.00026\n",
       "2001-01-03  0.0539 -0.0065 -0.0439 -0.0266 -0.0594  0.00026\n",
       "2001-01-04 -0.0130  0.0097 -0.0030  0.0052 -0.0080  0.00026\n",
       "2001-01-05 -0.0298  0.0071  0.0238  0.0190  0.0231  0.00026\n",
       "2001-01-08 -0.0036 -0.0043  0.0126  0.0098  0.0067  0.00026\n",
       "...            ...     ...     ...     ...     ...      ...\n",
       "2020-12-24  0.0021 -0.0043 -0.0017  0.0024 -0.0005  0.00000\n",
       "2020-12-28  0.0046 -0.0065  0.0032  0.0146  0.0050  0.00000\n",
       "2020-12-29 -0.0040 -0.0142  0.0024  0.0075 -0.0028  0.00000\n",
       "2020-12-30  0.0027  0.0103  0.0004 -0.0067 -0.0006  0.00000\n",
       "2020-12-31  0.0039 -0.0069  0.0045  0.0056 -0.0020  0.00000\n",
       "\n",
       "[5032 rows x 6 columns]"
      ]
     },
     "execution_count": 8,
     "metadata": {},
     "output_type": "execute_result"
    }
   ],
   "source": [
    "df_FF_5"
   ]
  },
  {
   "cell_type": "code",
   "execution_count": 10,
   "metadata": {},
   "outputs": [
    {
     "data": {
      "text/plain": [
       "-0.19178406373816226"
      ]
     },
     "execution_count": 10,
     "metadata": {},
     "output_type": "execute_result"
    }
   ],
   "source": [
    "df_FF_5.SMB.corr(df_FF_5.RMW)"
   ]
  },
  {
   "cell_type": "code",
   "execution_count": 14,
   "metadata": {},
   "outputs": [
    {
     "data": {
      "text/plain": [
       "<AxesSubplot:xlabel='Date'>"
      ]
     },
     "execution_count": 14,
     "metadata": {},
     "output_type": "execute_result"
    },
    {
     "data": {
      "image/png": "[encoded data removed]",
      "text/plain": [
       "<Figure size 432x288 with 1 Axes>"
      ]
     },
     "metadata": {
      "needs_background": "light"
     },
     "output_type": "display_data"
    }
   ],
   "source": [
    "(df_FF_5.SMB+1).cumprod().plot()\n",
    "(df_FF_5.RMW+1).cumprod().plot()"
   ]
  },
  {
   "cell_type": "code",
   "execution_count": null,
   "metadata": {},
   "outputs": [],
   "source": []
  }
 ],
 "metadata": {
  "kernelspec": {
   "display_name": "Python 3",
   "language": "python",
   "name": "python3"
  },
  "language_info": {
   "codemirror_mode": {
    "name": "ipython",
    "version": 3
   },
   "file_extension": ".py",
   "mimetype": "text/x-python",
   "name": "python",
   "nbconvert_exporter": "python",
   "pygments_lexer": "ipython3",
   "version": "3.7.4"
  },
  "toc": {
   "base_numbering": 1,
   "nav_menu": {},
   "number_sections": true,
   "sideBar": true,
   "skip_h1_title": false,
   "title_cell": "Table of Contents",
   "title_sidebar": "Contents",
   "toc_cell": false,
   "toc_position": {},
   "toc_section_display": true,
   "toc_window_display": false
  }
 },
 "nbformat": 4,
 "nbformat_minor": 4
}
