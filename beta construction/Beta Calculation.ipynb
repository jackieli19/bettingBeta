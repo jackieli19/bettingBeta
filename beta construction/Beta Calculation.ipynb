{
 "cells": [
  {
   "cell_type": "code",
   "execution_count": 470,
   "metadata": {},
   "outputs": [],
   "source": [
    "import numpy as np\n",
    "import pandas as pd\n",
    "from functools import reduce\n",
    "import os\n",
    "import statsmodels.api as sm"
   ]
  },
  {
   "cell_type": "markdown",
   "metadata": {},
   "source": [
    "# Market Data for US"
   ]
  },
  {
   "cell_type": "code",
   "execution_count": 226,
   "metadata": {},
   "outputs": [],
   "source": [
    "df_CRSP_market_daily=pd.read_csv('../data/CRSP/CRSP Daily Index Built on Market Capitalization.csv',\\\n",
    "index_col=0,parse_dates=True)"
   ]
  },
  {
   "cell_type": "code",
   "execution_count": 227,
   "metadata": {},
   "outputs": [
    {
     "data": {
      "text/html": [
       "<div>\n",
       "<style scoped>\n",
       "    .dataframe tbody tr th:only-of-type {\n",
       "        vertical-align: middle;\n",
       "    }\n",
       "\n",
       "    .dataframe tbody tr th {\n",
       "        vertical-align: top;\n",
       "    }\n",
       "\n",
       "    .dataframe thead th {\n",
       "        text-align: right;\n",
       "    }\n",
       "</style>\n",
       "<table border=\"1\" class=\"dataframe\">\n",
       "  <thead>\n",
       "    <tr style=\"text-align: right;\">\n",
       "      <th></th>\n",
       "      <th>vwretd</th>\n",
       "      <th>veretx</th>\n",
       "      <th>ewretd</th>\n",
       "      <th>ewretx</th>\n",
       "      <th>totval</th>\n",
       "      <th>totcnt</th>\n",
       "      <th>usdval</th>\n",
       "      <th>usdcnt</th>\n",
       "      <th>spindx</th>\n",
       "      <th>sprtrn</th>\n",
       "    </tr>\n",
       "    <tr>\n",
       "      <th>Date</th>\n",
       "      <th></th>\n",
       "      <th></th>\n",
       "      <th></th>\n",
       "      <th></th>\n",
       "      <th></th>\n",
       "      <th></th>\n",
       "      <th></th>\n",
       "      <th></th>\n",
       "      <th></th>\n",
       "      <th></th>\n",
       "    </tr>\n",
       "  </thead>\n",
       "  <tbody>\n",
       "    <tr>\n",
       "      <th>2000-01-03</th>\n",
       "      <td>-0.006803</td>\n",
       "      <td>-0.006810</td>\n",
       "      <td>0.002878</td>\n",
       "      <td>0.002860</td>\n",
       "      <td>16897673600</td>\n",
       "      <td>8358</td>\n",
       "      <td>17013544200</td>\n",
       "      <td>8357</td>\n",
       "      <td>1455.22</td>\n",
       "      <td>-0.009549</td>\n",
       "    </tr>\n",
       "    <tr>\n",
       "      <th>2000-01-04</th>\n",
       "      <td>-0.039652</td>\n",
       "      <td>-0.039679</td>\n",
       "      <td>-0.017465</td>\n",
       "      <td>-0.017486</td>\n",
       "      <td>16228867700</td>\n",
       "      <td>8359</td>\n",
       "      <td>16897669000</td>\n",
       "      <td>8357</td>\n",
       "      <td>1399.42</td>\n",
       "      <td>-0.038345</td>\n",
       "    </tr>\n",
       "    <tr>\n",
       "      <th>2000-01-05</th>\n",
       "      <td>-0.000935</td>\n",
       "      <td>-0.001009</td>\n",
       "      <td>0.007821</td>\n",
       "      <td>0.007743</td>\n",
       "      <td>16212787400</td>\n",
       "      <td>8360</td>\n",
       "      <td>16228817900</td>\n",
       "      <td>8356</td>\n",
       "      <td>1402.11</td>\n",
       "      <td>0.001922</td>\n",
       "    </tr>\n",
       "    <tr>\n",
       "      <th>2000-01-06</th>\n",
       "      <td>-0.007391</td>\n",
       "      <td>-0.007547</td>\n",
       "      <td>0.004504</td>\n",
       "      <td>0.004453</td>\n",
       "      <td>16089055800</td>\n",
       "      <td>8358</td>\n",
       "      <td>16199203000</td>\n",
       "      <td>8358</td>\n",
       "      <td>1403.45</td>\n",
       "      <td>0.000956</td>\n",
       "    </tr>\n",
       "    <tr>\n",
       "      <th>2000-01-07</th>\n",
       "      <td>0.032516</td>\n",
       "      <td>0.032514</td>\n",
       "      <td>0.017008</td>\n",
       "      <td>0.016991</td>\n",
       "      <td>16610768100</td>\n",
       "      <td>8353</td>\n",
       "      <td>16087694900</td>\n",
       "      <td>8353</td>\n",
       "      <td>1441.47</td>\n",
       "      <td>0.027090</td>\n",
       "    </tr>\n",
       "    <tr>\n",
       "      <th>...</th>\n",
       "      <td>...</td>\n",
       "      <td>...</td>\n",
       "      <td>...</td>\n",
       "      <td>...</td>\n",
       "      <td>...</td>\n",
       "      <td>...</td>\n",
       "      <td>...</td>\n",
       "      <td>...</td>\n",
       "      <td>...</td>\n",
       "      <td>...</td>\n",
       "    </tr>\n",
       "    <tr>\n",
       "      <th>2020-12-24</th>\n",
       "      <td>0.002332</td>\n",
       "      <td>0.002197</td>\n",
       "      <td>-0.000277</td>\n",
       "      <td>-0.000458</td>\n",
       "      <td>49387699400</td>\n",
       "      <td>7515</td>\n",
       "      <td>49278049200</td>\n",
       "      <td>7515</td>\n",
       "      <td>3703.06</td>\n",
       "      <td>0.003537</td>\n",
       "    </tr>\n",
       "    <tr>\n",
       "      <th>2020-12-28</th>\n",
       "      <td>0.003870</td>\n",
       "      <td>0.003859</td>\n",
       "      <td>0.001350</td>\n",
       "      <td>0.001304</td>\n",
       "      <td>49579392700</td>\n",
       "      <td>7516</td>\n",
       "      <td>49387699400</td>\n",
       "      <td>7514</td>\n",
       "      <td>3735.36</td>\n",
       "      <td>0.008723</td>\n",
       "    </tr>\n",
       "    <tr>\n",
       "      <th>2020-12-29</th>\n",
       "      <td>-0.003649</td>\n",
       "      <td>-0.003657</td>\n",
       "      <td>-0.008483</td>\n",
       "      <td>-0.008656</td>\n",
       "      <td>49396998600</td>\n",
       "      <td>7522</td>\n",
       "      <td>49576731700</td>\n",
       "      <td>7514</td>\n",
       "      <td>3727.04</td>\n",
       "      <td>-0.002227</td>\n",
       "    </tr>\n",
       "    <tr>\n",
       "      <th>2020-12-30</th>\n",
       "      <td>0.003281</td>\n",
       "      <td>0.003114</td>\n",
       "      <td>0.010155</td>\n",
       "      <td>0.009754</td>\n",
       "      <td>49551319700</td>\n",
       "      <td>7521</td>\n",
       "      <td>49396695300</td>\n",
       "      <td>7519</td>\n",
       "      <td>3732.04</td>\n",
       "      <td>0.001342</td>\n",
       "    </tr>\n",
       "    <tr>\n",
       "      <th>2020-12-31</th>\n",
       "      <td>0.003556</td>\n",
       "      <td>0.003497</td>\n",
       "      <td>-0.001058</td>\n",
       "      <td>-0.001129</td>\n",
       "      <td>49813525400</td>\n",
       "      <td>7525</td>\n",
       "      <td>49551000200</td>\n",
       "      <td>7519</td>\n",
       "      <td>3756.07</td>\n",
       "      <td>0.006439</td>\n",
       "    </tr>\n",
       "  </tbody>\n",
       "</table>\n",
       "<p>5284 rows × 10 columns</p>\n",
       "</div>"
      ],
      "text/plain": [
       "              vwretd    veretx    ewretd    ewretx       totval  totcnt  \\\n",
       "Date                                                                      \n",
       "2000-01-03 -0.006803 -0.006810  0.002878  0.002860  16897673600    8358   \n",
       "2000-01-04 -0.039652 -0.039679 -0.017465 -0.017486  16228867700    8359   \n",
       "2000-01-05 -0.000935 -0.001009  0.007821  0.007743  16212787400    8360   \n",
       "2000-01-06 -0.007391 -0.007547  0.004504  0.004453  16089055800    8358   \n",
       "2000-01-07  0.032516  0.032514  0.017008  0.016991  16610768100    8353   \n",
       "...              ...       ...       ...       ...          ...     ...   \n",
       "2020-12-24  0.002332  0.002197 -0.000277 -0.000458  49387699400    7515   \n",
       "2020-12-28  0.003870  0.003859  0.001350  0.001304  49579392700    7516   \n",
       "2020-12-29 -0.003649 -0.003657 -0.008483 -0.008656  49396998600    7522   \n",
       "2020-12-30  0.003281  0.003114  0.010155  0.009754  49551319700    7521   \n",
       "2020-12-31  0.003556  0.003497 -0.001058 -0.001129  49813525400    7525   \n",
       "\n",
       "                 usdval  usdcnt   spindx    sprtrn  \n",
       "Date                                                \n",
       "2000-01-03  17013544200    8357  1455.22 -0.009549  \n",
       "2000-01-04  16897669000    8357  1399.42 -0.038345  \n",
       "2000-01-05  16228817900    8356  1402.11  0.001922  \n",
       "2000-01-06  16199203000    8358  1403.45  0.000956  \n",
       "2000-01-07  16087694900    8353  1441.47  0.027090  \n",
       "...                 ...     ...      ...       ...  \n",
       "2020-12-24  49278049200    7515  3703.06  0.003537  \n",
       "2020-12-28  49387699400    7514  3735.36  0.008723  \n",
       "2020-12-29  49576731700    7514  3727.04 -0.002227  \n",
       "2020-12-30  49396695300    7519  3732.04  0.001342  \n",
       "2020-12-31  49551000200    7519  3756.07  0.006439  \n",
       "\n",
       "[5284 rows x 10 columns]"
      ]
     },
     "execution_count": 227,
     "metadata": {},
     "output_type": "execute_result"
    }
   ],
   "source": [
    "df_CRSP_market_daily"
   ]
  },
  {
   "cell_type": "code",
   "execution_count": 228,
   "metadata": {},
   "outputs": [],
   "source": [
    "df_CRSP_riskfree_monthly=pd.read_csv('../data/CRSP/CRSP Risk Free Rates.csv',\\\n",
    "index_col=4,parse_dates=True)"
   ]
  },
  {
   "cell_type": "code",
   "execution_count": 46,
   "metadata": {},
   "outputs": [
    {
     "data": {
      "text/html": [
       "<div>\n",
       "<style scoped>\n",
       "    .dataframe tbody tr th:only-of-type {\n",
       "        vertical-align: middle;\n",
       "    }\n",
       "\n",
       "    .dataframe tbody tr th {\n",
       "        vertical-align: top;\n",
       "    }\n",
       "\n",
       "    .dataframe thead th {\n",
       "        text-align: right;\n",
       "    }\n",
       "</style>\n",
       "<table border=\"1\" class=\"dataframe\">\n",
       "  <thead>\n",
       "    <tr style=\"text-align: right;\">\n",
       "      <th></th>\n",
       "      <th>KYTREASNOX</th>\n",
       "      <th>TIDXFAM</th>\n",
       "      <th>TTERMTYPE</th>\n",
       "      <th>TTERMLBL</th>\n",
       "      <th>RMTREASNO</th>\n",
       "      <th>RMCRSPID</th>\n",
       "      <th>TMBIDYTM</th>\n",
       "      <th>TMASKYTM</th>\n",
       "      <th>TMYTM</th>\n",
       "      <th>TMDURATN</th>\n",
       "    </tr>\n",
       "    <tr>\n",
       "      <th>MCALDT</th>\n",
       "      <th></th>\n",
       "      <th></th>\n",
       "      <th></th>\n",
       "      <th></th>\n",
       "      <th></th>\n",
       "      <th></th>\n",
       "      <th></th>\n",
       "      <th></th>\n",
       "      <th></th>\n",
       "      <th></th>\n",
       "    </tr>\n",
       "  </thead>\n",
       "  <tbody>\n",
       "    <tr>\n",
       "      <th>2000-01-31</th>\n",
       "      <td>2000001</td>\n",
       "      <td>RISKFREE</td>\n",
       "      <td>30</td>\n",
       "      <td>CRSP Risk Free Rates - 1-Month (Nominal)</td>\n",
       "      <td>203118</td>\n",
       "      <td>20000302.4</td>\n",
       "      <td>5.3900</td>\n",
       "      <td>5.3800</td>\n",
       "      <td>5.3900</td>\n",
       "      <td>31</td>\n",
       "    </tr>\n",
       "    <tr>\n",
       "      <th>2000-02-29</th>\n",
       "      <td>2000001</td>\n",
       "      <td>RISKFREE</td>\n",
       "      <td>30</td>\n",
       "      <td>CRSP Risk Free Rates - 1-Month (Nominal)</td>\n",
       "      <td>203122</td>\n",
       "      <td>20000330.4</td>\n",
       "      <td>5.3200</td>\n",
       "      <td>5.3100</td>\n",
       "      <td>5.3100</td>\n",
       "      <td>30</td>\n",
       "    </tr>\n",
       "    <tr>\n",
       "      <th>2000-03-31</th>\n",
       "      <td>2000001</td>\n",
       "      <td>RISKFREE</td>\n",
       "      <td>30</td>\n",
       "      <td>CRSP Risk Free Rates - 1-Month (Nominal)</td>\n",
       "      <td>203133</td>\n",
       "      <td>20000504.4</td>\n",
       "      <td>5.8600</td>\n",
       "      <td>5.8500</td>\n",
       "      <td>5.8600</td>\n",
       "      <td>34</td>\n",
       "    </tr>\n",
       "    <tr>\n",
       "      <th>2000-04-28</th>\n",
       "      <td>2000001</td>\n",
       "      <td>RISKFREE</td>\n",
       "      <td>30</td>\n",
       "      <td>CRSP Risk Free Rates - 1-Month (Nominal)</td>\n",
       "      <td>203141</td>\n",
       "      <td>20000601.4</td>\n",
       "      <td>5.2800</td>\n",
       "      <td>5.2600</td>\n",
       "      <td>5.2700</td>\n",
       "      <td>34</td>\n",
       "    </tr>\n",
       "    <tr>\n",
       "      <th>2000-05-31</th>\n",
       "      <td>2000001</td>\n",
       "      <td>RISKFREE</td>\n",
       "      <td>30</td>\n",
       "      <td>CRSP Risk Free Rates - 1-Month (Nominal)</td>\n",
       "      <td>203149</td>\n",
       "      <td>20000706.4</td>\n",
       "      <td>4.6800</td>\n",
       "      <td>4.6700</td>\n",
       "      <td>4.6700</td>\n",
       "      <td>36</td>\n",
       "    </tr>\n",
       "    <tr>\n",
       "      <th>...</th>\n",
       "      <td>...</td>\n",
       "      <td>...</td>\n",
       "      <td>...</td>\n",
       "      <td>...</td>\n",
       "      <td>...</td>\n",
       "      <td>...</td>\n",
       "      <td>...</td>\n",
       "      <td>...</td>\n",
       "      <td>...</td>\n",
       "      <td>...</td>\n",
       "    </tr>\n",
       "    <tr>\n",
       "      <th>2020-08-31</th>\n",
       "      <td>2000002</td>\n",
       "      <td>RISKFREE</td>\n",
       "      <td>90</td>\n",
       "      <td>CRSP Risk Free Rates - 3-Month (Nominal)</td>\n",
       "      <td>207541</td>\n",
       "      <td>20201127.4</td>\n",
       "      <td>0.1060</td>\n",
       "      <td>0.0963</td>\n",
       "      <td>0.1010</td>\n",
       "      <td>88</td>\n",
       "    </tr>\n",
       "    <tr>\n",
       "      <th>2020-09-30</th>\n",
       "      <td>2000002</td>\n",
       "      <td>RISKFREE</td>\n",
       "      <td>90</td>\n",
       "      <td>CRSP Risk Free Rates - 3-Month (Nominal)</td>\n",
       "      <td>207571</td>\n",
       "      <td>20201229.4</td>\n",
       "      <td>0.0913</td>\n",
       "      <td>0.0811</td>\n",
       "      <td>0.0862</td>\n",
       "      <td>90</td>\n",
       "    </tr>\n",
       "    <tr>\n",
       "      <th>2020-10-30</th>\n",
       "      <td>2000002</td>\n",
       "      <td>RISKFREE</td>\n",
       "      <td>90</td>\n",
       "      <td>CRSP Risk Free Rates - 3-Month (Nominal)</td>\n",
       "      <td>207468</td>\n",
       "      <td>20210128.4</td>\n",
       "      <td>0.0913</td>\n",
       "      <td>0.0862</td>\n",
       "      <td>0.0887</td>\n",
       "      <td>90</td>\n",
       "    </tr>\n",
       "    <tr>\n",
       "      <th>2020-11-30</th>\n",
       "      <td>2000002</td>\n",
       "      <td>RISKFREE</td>\n",
       "      <td>90</td>\n",
       "      <td>CRSP Risk Free Rates - 3-Month (Nominal)</td>\n",
       "      <td>207601</td>\n",
       "      <td>20210302.4</td>\n",
       "      <td>0.0862</td>\n",
       "      <td>0.0710</td>\n",
       "      <td>0.0786</td>\n",
       "      <td>92</td>\n",
       "    </tr>\n",
       "    <tr>\n",
       "      <th>2020-12-31</th>\n",
       "      <td>2000002</td>\n",
       "      <td>RISKFREE</td>\n",
       "      <td>90</td>\n",
       "      <td>CRSP Risk Free Rates - 3-Month (Nominal)</td>\n",
       "      <td>207605</td>\n",
       "      <td>20210401.4</td>\n",
       "      <td>0.0862</td>\n",
       "      <td>0.0710</td>\n",
       "      <td>0.0786</td>\n",
       "      <td>91</td>\n",
       "    </tr>\n",
       "  </tbody>\n",
       "</table>\n",
       "<p>504 rows × 10 columns</p>\n",
       "</div>"
      ],
      "text/plain": [
       "            KYTREASNOX   TIDXFAM  TTERMTYPE  \\\n",
       "MCALDT                                        \n",
       "2000-01-31     2000001  RISKFREE         30   \n",
       "2000-02-29     2000001  RISKFREE         30   \n",
       "2000-03-31     2000001  RISKFREE         30   \n",
       "2000-04-28     2000001  RISKFREE         30   \n",
       "2000-05-31     2000001  RISKFREE         30   \n",
       "...                ...       ...        ...   \n",
       "2020-08-31     2000002  RISKFREE         90   \n",
       "2020-09-30     2000002  RISKFREE         90   \n",
       "2020-10-30     2000002  RISKFREE         90   \n",
       "2020-11-30     2000002  RISKFREE         90   \n",
       "2020-12-31     2000002  RISKFREE         90   \n",
       "\n",
       "                                            TTERMLBL  RMTREASNO    RMCRSPID  \\\n",
       "MCALDT                                                                        \n",
       "2000-01-31  CRSP Risk Free Rates - 1-Month (Nominal)     203118  20000302.4   \n",
       "2000-02-29  CRSP Risk Free Rates - 1-Month (Nominal)     203122  20000330.4   \n",
       "2000-03-31  CRSP Risk Free Rates - 1-Month (Nominal)     203133  20000504.4   \n",
       "2000-04-28  CRSP Risk Free Rates - 1-Month (Nominal)     203141  20000601.4   \n",
       "2000-05-31  CRSP Risk Free Rates - 1-Month (Nominal)     203149  20000706.4   \n",
       "...                                              ...        ...         ...   \n",
       "2020-08-31  CRSP Risk Free Rates - 3-Month (Nominal)     207541  20201127.4   \n",
       "2020-09-30  CRSP Risk Free Rates - 3-Month (Nominal)     207571  20201229.4   \n",
       "2020-10-30  CRSP Risk Free Rates - 3-Month (Nominal)     207468  20210128.4   \n",
       "2020-11-30  CRSP Risk Free Rates - 3-Month (Nominal)     207601  20210302.4   \n",
       "2020-12-31  CRSP Risk Free Rates - 3-Month (Nominal)     207605  20210401.4   \n",
       "\n",
       "            TMBIDYTM  TMASKYTM   TMYTM  TMDURATN  \n",
       "MCALDT                                            \n",
       "2000-01-31    5.3900    5.3800  5.3900        31  \n",
       "2000-02-29    5.3200    5.3100  5.3100        30  \n",
       "2000-03-31    5.8600    5.8500  5.8600        34  \n",
       "2000-04-28    5.2800    5.2600  5.2700        34  \n",
       "2000-05-31    4.6800    4.6700  4.6700        36  \n",
       "...              ...       ...     ...       ...  \n",
       "2020-08-31    0.1060    0.0963  0.1010        88  \n",
       "2020-09-30    0.0913    0.0811  0.0862        90  \n",
       "2020-10-30    0.0913    0.0862  0.0887        90  \n",
       "2020-11-30    0.0862    0.0710  0.0786        92  \n",
       "2020-12-31    0.0862    0.0710  0.0786        91  \n",
       "\n",
       "[504 rows x 10 columns]"
      ]
     },
     "execution_count": 46,
     "metadata": {},
     "output_type": "execute_result"
    }
   ],
   "source": [
    "df_CRSP_riskfree_monthly"
   ]
  },
  {
   "cell_type": "code",
   "execution_count": 52,
   "metadata": {},
   "outputs": [],
   "source": [
    "df_AQR_risk_free_daily=pd.read_excel('../data/AQR Data/Betting Against Beta Equity Factors Daily.xlsx',\\\n",
    "sheet_name='RF',header=18,index_col=0,parse_dates=True)"
   ]
  },
  {
   "cell_type": "code",
   "execution_count": 58,
   "metadata": {},
   "outputs": [
    {
     "data": {
      "text/html": [
       "<div>\n",
       "<style scoped>\n",
       "    .dataframe tbody tr th:only-of-type {\n",
       "        vertical-align: middle;\n",
       "    }\n",
       "\n",
       "    .dataframe tbody tr th {\n",
       "        vertical-align: top;\n",
       "    }\n",
       "\n",
       "    .dataframe thead th {\n",
       "        text-align: right;\n",
       "    }\n",
       "</style>\n",
       "<table border=\"1\" class=\"dataframe\">\n",
       "  <thead>\n",
       "    <tr style=\"text-align: right;\">\n",
       "      <th></th>\n",
       "      <th>Risk Free Rate</th>\n",
       "    </tr>\n",
       "    <tr>\n",
       "      <th>DATE</th>\n",
       "      <th></th>\n",
       "    </tr>\n",
       "  </thead>\n",
       "  <tbody>\n",
       "    <tr>\n",
       "      <th>1926-07-31</th>\n",
       "      <td>0.000106</td>\n",
       "    </tr>\n",
       "    <tr>\n",
       "      <th>1926-08-02</th>\n",
       "      <td>0.000120</td>\n",
       "    </tr>\n",
       "    <tr>\n",
       "      <th>1926-08-03</th>\n",
       "      <td>0.000120</td>\n",
       "    </tr>\n",
       "    <tr>\n",
       "      <th>1926-08-04</th>\n",
       "      <td>0.000120</td>\n",
       "    </tr>\n",
       "    <tr>\n",
       "      <th>1926-08-05</th>\n",
       "      <td>0.000120</td>\n",
       "    </tr>\n",
       "    <tr>\n",
       "      <th>...</th>\n",
       "      <td>...</td>\n",
       "    </tr>\n",
       "    <tr>\n",
       "      <th>2020-12-25</th>\n",
       "      <td>0.000003</td>\n",
       "    </tr>\n",
       "    <tr>\n",
       "      <th>2020-12-28</th>\n",
       "      <td>0.000003</td>\n",
       "    </tr>\n",
       "    <tr>\n",
       "      <th>2020-12-29</th>\n",
       "      <td>0.000003</td>\n",
       "    </tr>\n",
       "    <tr>\n",
       "      <th>2020-12-30</th>\n",
       "      <td>0.000003</td>\n",
       "    </tr>\n",
       "    <tr>\n",
       "      <th>2020-12-31</th>\n",
       "      <td>0.000003</td>\n",
       "    </tr>\n",
       "  </tbody>\n",
       "</table>\n",
       "<p>25789 rows × 1 columns</p>\n",
       "</div>"
      ],
      "text/plain": [
       "            Risk Free Rate\n",
       "DATE                      \n",
       "1926-07-31        0.000106\n",
       "1926-08-02        0.000120\n",
       "1926-08-03        0.000120\n",
       "1926-08-04        0.000120\n",
       "1926-08-05        0.000120\n",
       "...                    ...\n",
       "2020-12-25        0.000003\n",
       "2020-12-28        0.000003\n",
       "2020-12-29        0.000003\n",
       "2020-12-30        0.000003\n",
       "2020-12-31        0.000003\n",
       "\n",
       "[25789 rows x 1 columns]"
      ]
     },
     "execution_count": 58,
     "metadata": {},
     "output_type": "execute_result"
    }
   ],
   "source": [
    "df_AQR_risk_free_daily"
   ]
  },
  {
   "cell_type": "markdown",
   "metadata": {},
   "source": [
    "# Single Stock Data"
   ]
  },
  {
   "cell_type": "code",
   "execution_count": 536,
   "metadata": {},
   "outputs": [],
   "source": [
    "df_one_day_one_stock=pd.read_csv('../data/US Stocks Data/kibot/AAME.txt',header=None,\\\n",
    "            names=['Date','Open','High','Low','Close','Volume'],index_col=0,parse_dates=True)"
   ]
  },
  {
   "cell_type": "code",
   "execution_count": 537,
   "metadata": {},
   "outputs": [
    {
     "data": {
      "text/html": [
       "<div>\n",
       "<style scoped>\n",
       "    .dataframe tbody tr th:only-of-type {\n",
       "        vertical-align: middle;\n",
       "    }\n",
       "\n",
       "    .dataframe tbody tr th {\n",
       "        vertical-align: top;\n",
       "    }\n",
       "\n",
       "    .dataframe thead th {\n",
       "        text-align: right;\n",
       "    }\n",
       "</style>\n",
       "<table border=\"1\" class=\"dataframe\">\n",
       "  <thead>\n",
       "    <tr style=\"text-align: right;\">\n",
       "      <th></th>\n",
       "      <th>Open</th>\n",
       "      <th>High</th>\n",
       "      <th>Low</th>\n",
       "      <th>Close</th>\n",
       "      <th>Volume</th>\n",
       "    </tr>\n",
       "    <tr>\n",
       "      <th>Date</th>\n",
       "      <th></th>\n",
       "      <th></th>\n",
       "      <th></th>\n",
       "      <th></th>\n",
       "      <th></th>\n",
       "    </tr>\n",
       "  </thead>\n",
       "  <tbody>\n",
       "    <tr>\n",
       "      <th>2020-12-24</th>\n",
       "      <td>2.1377</td>\n",
       "      <td>2.1377</td>\n",
       "      <td>2.078</td>\n",
       "      <td>2.078</td>\n",
       "      <td>383</td>\n",
       "    </tr>\n",
       "    <tr>\n",
       "      <th>2020-12-28</th>\n",
       "      <td>2.1200</td>\n",
       "      <td>2.1400</td>\n",
       "      <td>2.100</td>\n",
       "      <td>2.100</td>\n",
       "      <td>2724</td>\n",
       "    </tr>\n",
       "    <tr>\n",
       "      <th>2020-12-29</th>\n",
       "      <td>2.0746</td>\n",
       "      <td>2.1000</td>\n",
       "      <td>2.050</td>\n",
       "      <td>2.100</td>\n",
       "      <td>985</td>\n",
       "    </tr>\n",
       "    <tr>\n",
       "      <th>2020-12-30</th>\n",
       "      <td>2.1150</td>\n",
       "      <td>2.1500</td>\n",
       "      <td>2.100</td>\n",
       "      <td>2.100</td>\n",
       "      <td>6259</td>\n",
       "    </tr>\n",
       "    <tr>\n",
       "      <th>2020-12-31</th>\n",
       "      <td>2.1000</td>\n",
       "      <td>2.1400</td>\n",
       "      <td>2.050</td>\n",
       "      <td>2.060</td>\n",
       "      <td>6613</td>\n",
       "    </tr>\n",
       "  </tbody>\n",
       "</table>\n",
       "</div>"
      ],
      "text/plain": [
       "              Open    High    Low  Close  Volume\n",
       "Date                                            \n",
       "2020-12-24  2.1377  2.1377  2.078  2.078     383\n",
       "2020-12-28  2.1200  2.1400  2.100  2.100    2724\n",
       "2020-12-29  2.0746  2.1000  2.050  2.100     985\n",
       "2020-12-30  2.1150  2.1500  2.100  2.100    6259\n",
       "2020-12-31  2.1000  2.1400  2.050  2.060    6613"
      ]
     },
     "execution_count": 537,
     "metadata": {},
     "output_type": "execute_result"
    }
   ],
   "source": [
    "df_one_day_one_stock.tail()"
   ]
  },
  {
   "cell_type": "code",
   "execution_count": 538,
   "metadata": {},
   "outputs": [
    {
     "name": "stdout",
     "output_type": "stream",
     "text": [
      "<class 'pandas.core.frame.DataFrame'>\n",
      "DatetimeIndex: 3652 entries, 2005-01-03 to 2020-12-31\n",
      "Data columns (total 5 columns):\n",
      " #   Column  Non-Null Count  Dtype  \n",
      "---  ------  --------------  -----  \n",
      " 0   Open    3652 non-null   float64\n",
      " 1   High    3652 non-null   float64\n",
      " 2   Low     3652 non-null   float64\n",
      " 3   Close   3652 non-null   float64\n",
      " 4   Volume  3652 non-null   int64  \n",
      "dtypes: float64(4), int64(1)\n",
      "memory usage: 171.2 KB\n"
     ]
    }
   ],
   "source": [
    "df_one_day_one_stock.info()"
   ]
  },
  {
   "cell_type": "code",
   "execution_count": 539,
   "metadata": {},
   "outputs": [],
   "source": [
    "df_return=(np.log(df_one_day_one_stock)-np.log(df_one_day_one_stock).shift(1))[1:][['Close']]\n",
    "df_return.columns=['total_ret']"
   ]
  },
  {
   "cell_type": "markdown",
   "metadata": {},
   "source": [
    "## Merge all required data"
   ]
  },
  {
   "cell_type": "code",
   "execution_count": 540,
   "metadata": {},
   "outputs": [],
   "source": [
    "dfs=[df_return,df_AQR_risk_free_daily,df_CRSP_market_daily[['vwretd']]]"
   ]
  },
  {
   "cell_type": "code",
   "execution_count": 541,
   "metadata": {},
   "outputs": [],
   "source": [
    "df_one_stock_return_merged=reduce(lambda x,y:pd.merge(x,y,left_index=True, right_index=True),dfs)"
   ]
  },
  {
   "cell_type": "code",
   "execution_count": 542,
   "metadata": {},
   "outputs": [
    {
     "data": {
      "text/html": [
       "<div>\n",
       "<style scoped>\n",
       "    .dataframe tbody tr th:only-of-type {\n",
       "        vertical-align: middle;\n",
       "    }\n",
       "\n",
       "    .dataframe tbody tr th {\n",
       "        vertical-align: top;\n",
       "    }\n",
       "\n",
       "    .dataframe thead th {\n",
       "        text-align: right;\n",
       "    }\n",
       "</style>\n",
       "<table border=\"1\" class=\"dataframe\">\n",
       "  <thead>\n",
       "    <tr style=\"text-align: right;\">\n",
       "      <th></th>\n",
       "      <th>total_ret</th>\n",
       "      <th>Risk Free Rate</th>\n",
       "      <th>vwretd</th>\n",
       "    </tr>\n",
       "  </thead>\n",
       "  <tbody>\n",
       "    <tr>\n",
       "      <th>2005-01-04</th>\n",
       "      <td>0.025750</td>\n",
       "      <td>0.000087</td>\n",
       "      <td>-0.012805</td>\n",
       "    </tr>\n",
       "    <tr>\n",
       "      <th>2005-01-05</th>\n",
       "      <td>-0.016033</td>\n",
       "      <td>0.000087</td>\n",
       "      <td>-0.006124</td>\n",
       "    </tr>\n",
       "    <tr>\n",
       "      <th>2005-01-06</th>\n",
       "      <td>-0.026135</td>\n",
       "      <td>0.000087</td>\n",
       "      <td>0.003483</td>\n",
       "    </tr>\n",
       "    <tr>\n",
       "      <th>2005-01-07</th>\n",
       "      <td>0.061021</td>\n",
       "      <td>0.000087</td>\n",
       "      <td>-0.002217</td>\n",
       "    </tr>\n",
       "    <tr>\n",
       "      <th>2005-01-10</th>\n",
       "      <td>0.018504</td>\n",
       "      <td>0.000087</td>\n",
       "      <td>0.004212</td>\n",
       "    </tr>\n",
       "  </tbody>\n",
       "</table>\n",
       "</div>"
      ],
      "text/plain": [
       "            total_ret  Risk Free Rate    vwretd\n",
       "2005-01-04   0.025750        0.000087 -0.012805\n",
       "2005-01-05  -0.016033        0.000087 -0.006124\n",
       "2005-01-06  -0.026135        0.000087  0.003483\n",
       "2005-01-07   0.061021        0.000087 -0.002217\n",
       "2005-01-10   0.018504        0.000087  0.004212"
      ]
     },
     "execution_count": 542,
     "metadata": {},
     "output_type": "execute_result"
    }
   ],
   "source": [
    "df_one_stock_return_merged.head()"
   ]
  },
  {
   "cell_type": "code",
   "execution_count": 543,
   "metadata": {},
   "outputs": [],
   "source": [
    "df_one_stock_return_merged.total_ret =df_one_stock_return_merged.total_ret-\\\n",
    "df_one_stock_return_merged['Risk Free Rate']\n",
    "df_one_stock_return_merged.vwretd =df_one_stock_return_merged.vwretd-\\\n",
    "df_one_stock_return_merged['Risk Free Rate'] "
   ]
  },
  {
   "cell_type": "code",
   "execution_count": 544,
   "metadata": {},
   "outputs": [],
   "source": [
    "df_one_stock_return_merged=df_one_stock_return_merged.rename(columns={'Risk Free Rate':'rf','vwretd':'mkt',\n",
    "                                                                     'total_ret':'ret'})"
   ]
  },
  {
   "cell_type": "code",
   "execution_count": 545,
   "metadata": {},
   "outputs": [
    {
     "data": {
      "text/html": [
       "<div>\n",
       "<style scoped>\n",
       "    .dataframe tbody tr th:only-of-type {\n",
       "        vertical-align: middle;\n",
       "    }\n",
       "\n",
       "    .dataframe tbody tr th {\n",
       "        vertical-align: top;\n",
       "    }\n",
       "\n",
       "    .dataframe thead th {\n",
       "        text-align: right;\n",
       "    }\n",
       "</style>\n",
       "<table border=\"1\" class=\"dataframe\">\n",
       "  <thead>\n",
       "    <tr style=\"text-align: right;\">\n",
       "      <th></th>\n",
       "      <th>ret</th>\n",
       "      <th>rf</th>\n",
       "      <th>mkt</th>\n",
       "    </tr>\n",
       "  </thead>\n",
       "  <tbody>\n",
       "    <tr>\n",
       "      <th>2020-12-24</th>\n",
       "      <td>-0.010535</td>\n",
       "      <td>0.000003</td>\n",
       "      <td>0.002329</td>\n",
       "    </tr>\n",
       "    <tr>\n",
       "      <th>2020-12-28</th>\n",
       "      <td>0.010528</td>\n",
       "      <td>0.000003</td>\n",
       "      <td>0.003867</td>\n",
       "    </tr>\n",
       "    <tr>\n",
       "      <th>2020-12-29</th>\n",
       "      <td>-0.000003</td>\n",
       "      <td>0.000003</td>\n",
       "      <td>-0.003652</td>\n",
       "    </tr>\n",
       "    <tr>\n",
       "      <th>2020-12-30</th>\n",
       "      <td>-0.000003</td>\n",
       "      <td>0.000003</td>\n",
       "      <td>0.003278</td>\n",
       "    </tr>\n",
       "    <tr>\n",
       "      <th>2020-12-31</th>\n",
       "      <td>-0.019235</td>\n",
       "      <td>0.000003</td>\n",
       "      <td>0.003553</td>\n",
       "    </tr>\n",
       "  </tbody>\n",
       "</table>\n",
       "</div>"
      ],
      "text/plain": [
       "                 ret        rf       mkt\n",
       "2020-12-24 -0.010535  0.000003  0.002329\n",
       "2020-12-28  0.010528  0.000003  0.003867\n",
       "2020-12-29 -0.000003  0.000003 -0.003652\n",
       "2020-12-30 -0.000003  0.000003  0.003278\n",
       "2020-12-31 -0.019235  0.000003  0.003553"
      ]
     },
     "execution_count": 545,
     "metadata": {},
     "output_type": "execute_result"
    }
   ],
   "source": [
    "df_one_stock_return_merged.tail()"
   ]
  },
  {
   "cell_type": "markdown",
   "metadata": {},
   "source": [
    "## Beta Calculation"
   ]
  },
  {
   "cell_type": "markdown",
   "metadata": {},
   "source": [
    "### ex ante beta"
   ]
  },
  {
   "cell_type": "code",
   "execution_count": 546,
   "metadata": {},
   "outputs": [],
   "source": [
    "# Estimate rolling 5 year(1260 trading days) correlations with \n",
    "# minimum 750 non-missing datapoints\n",
    "df_one_stock_return_merged['corr'] = pd.DataFrame(df_one_stock_return_merged['ret'].\\\n",
    "                                                      rolling(1260, min_periods=750).\\\n",
    "             corr(df_one_stock_return_merged['mkt']))\n",
    "df_one_stock_return_merged['corr'] = df_one_stock_return_merged['corr'].shift(1)"
   ]
  },
  {
   "cell_type": "code",
   "execution_count": 547,
   "metadata": {},
   "outputs": [
    {
     "data": {
      "text/html": [
       "<div>\n",
       "<style scoped>\n",
       "    .dataframe tbody tr th:only-of-type {\n",
       "        vertical-align: middle;\n",
       "    }\n",
       "\n",
       "    .dataframe tbody tr th {\n",
       "        vertical-align: top;\n",
       "    }\n",
       "\n",
       "    .dataframe thead th {\n",
       "        text-align: right;\n",
       "    }\n",
       "</style>\n",
       "<table border=\"1\" class=\"dataframe\">\n",
       "  <thead>\n",
       "    <tr style=\"text-align: right;\">\n",
       "      <th></th>\n",
       "      <th>ret</th>\n",
       "      <th>rf</th>\n",
       "      <th>mkt</th>\n",
       "      <th>corr</th>\n",
       "    </tr>\n",
       "  </thead>\n",
       "  <tbody>\n",
       "    <tr>\n",
       "      <th>2005-01-04</th>\n",
       "      <td>0.025662</td>\n",
       "      <td>0.000087</td>\n",
       "      <td>-0.012892</td>\n",
       "      <td>NaN</td>\n",
       "    </tr>\n",
       "    <tr>\n",
       "      <th>2005-01-05</th>\n",
       "      <td>-0.016120</td>\n",
       "      <td>0.000087</td>\n",
       "      <td>-0.006211</td>\n",
       "      <td>NaN</td>\n",
       "    </tr>\n",
       "    <tr>\n",
       "      <th>2005-01-06</th>\n",
       "      <td>-0.026223</td>\n",
       "      <td>0.000087</td>\n",
       "      <td>0.003396</td>\n",
       "      <td>NaN</td>\n",
       "    </tr>\n",
       "    <tr>\n",
       "      <th>2005-01-07</th>\n",
       "      <td>0.060934</td>\n",
       "      <td>0.000087</td>\n",
       "      <td>-0.002304</td>\n",
       "      <td>NaN</td>\n",
       "    </tr>\n",
       "    <tr>\n",
       "      <th>2005-01-10</th>\n",
       "      <td>0.018416</td>\n",
       "      <td>0.000087</td>\n",
       "      <td>0.004125</td>\n",
       "      <td>NaN</td>\n",
       "    </tr>\n",
       "    <tr>\n",
       "      <th>...</th>\n",
       "      <td>...</td>\n",
       "      <td>...</td>\n",
       "      <td>...</td>\n",
       "      <td>...</td>\n",
       "    </tr>\n",
       "    <tr>\n",
       "      <th>2020-12-24</th>\n",
       "      <td>-0.010535</td>\n",
       "      <td>0.000003</td>\n",
       "      <td>0.002329</td>\n",
       "      <td>0.091535</td>\n",
       "    </tr>\n",
       "    <tr>\n",
       "      <th>2020-12-28</th>\n",
       "      <td>0.010528</td>\n",
       "      <td>0.000003</td>\n",
       "      <td>0.003867</td>\n",
       "      <td>0.091469</td>\n",
       "    </tr>\n",
       "    <tr>\n",
       "      <th>2020-12-29</th>\n",
       "      <td>-0.000003</td>\n",
       "      <td>0.000003</td>\n",
       "      <td>-0.003652</td>\n",
       "      <td>0.091566</td>\n",
       "    </tr>\n",
       "    <tr>\n",
       "      <th>2020-12-30</th>\n",
       "      <td>-0.000003</td>\n",
       "      <td>0.000003</td>\n",
       "      <td>0.003278</td>\n",
       "      <td>0.091531</td>\n",
       "    </tr>\n",
       "    <tr>\n",
       "      <th>2020-12-31</th>\n",
       "      <td>-0.019235</td>\n",
       "      <td>0.000003</td>\n",
       "      <td>0.003553</td>\n",
       "      <td>0.091694</td>\n",
       "    </tr>\n",
       "  </tbody>\n",
       "</table>\n",
       "<p>3651 rows × 4 columns</p>\n",
       "</div>"
      ],
      "text/plain": [
       "                 ret        rf       mkt      corr\n",
       "2005-01-04  0.025662  0.000087 -0.012892       NaN\n",
       "2005-01-05 -0.016120  0.000087 -0.006211       NaN\n",
       "2005-01-06 -0.026223  0.000087  0.003396       NaN\n",
       "2005-01-07  0.060934  0.000087 -0.002304       NaN\n",
       "2005-01-10  0.018416  0.000087  0.004125       NaN\n",
       "...              ...       ...       ...       ...\n",
       "2020-12-24 -0.010535  0.000003  0.002329  0.091535\n",
       "2020-12-28  0.010528  0.000003  0.003867  0.091469\n",
       "2020-12-29 -0.000003  0.000003 -0.003652  0.091566\n",
       "2020-12-30 -0.000003  0.000003  0.003278  0.091531\n",
       "2020-12-31 -0.019235  0.000003  0.003553  0.091694\n",
       "\n",
       "[3651 rows x 4 columns]"
      ]
     },
     "execution_count": 547,
     "metadata": {},
     "output_type": "execute_result"
    }
   ],
   "source": [
    "df_one_stock_return_merged"
   ]
  },
  {
   "cell_type": "code",
   "execution_count": 548,
   "metadata": {},
   "outputs": [
    {
     "name": "stderr",
     "output_type": "stream",
     "text": [
      "/Users/lijinyang/opt/anaconda3/lib/python3.7/site-packages/ipykernel_launcher.py:1: RuntimeWarning: invalid value encountered in log\n",
      "  \"\"\"Entry point for launching an IPython kernel.\n"
     ]
    }
   ],
   "source": [
    "df_log_return_three_days=np.log(df_one_stock_return_merged[['ret','mkt']]+1).rolling(window=3).sum()"
   ]
  },
  {
   "cell_type": "code",
   "execution_count": 549,
   "metadata": {},
   "outputs": [],
   "source": [
    "df_log_return_three_days['corr'] = pd.DataFrame(df_log_return_three_days['ret'].\\\n",
    "                                                      rolling(1260, min_periods=750).\\\n",
    "             corr(df_log_return_three_days['mkt']))\n",
    "df_log_return_three_days['corr'] = df_log_return_three_days['corr'].shift(1)"
   ]
  },
  {
   "cell_type": "code",
   "execution_count": 357,
   "metadata": {},
   "outputs": [
    {
     "data": {
      "text/plain": [
       "<AxesSubplot:>"
      ]
     },
     "execution_count": 357,
     "metadata": {},
     "output_type": "execute_result"
    },
    {
     "data": {
      "image/png": "[encoded data removed]",
      "text/plain": [
       "<Figure size 432x288 with 1 Axes>"
      ]
     },
     "metadata": {
      "needs_background": "light"
     },
     "output_type": "display_data"
    }
   ],
   "source": [
    "pd.merge(df_log_return_three_days['corr'],df_one_stock_return_merged['corr'],left_index=True,\n",
    "        right_index=True).dropna().plot()"
   ]
  },
  {
   "cell_type": "code",
   "execution_count": 358,
   "metadata": {},
   "outputs": [],
   "source": [
    "# use three-day log returns to control for nonsynchronous trading\n",
    "df_one_stock_return_merged['corr']=df_log_return_three_days['corr']"
   ]
  },
  {
   "cell_type": "code",
   "execution_count": 359,
   "metadata": {},
   "outputs": [
    {
     "data": {
      "text/html": [
       "<div>\n",
       "<style scoped>\n",
       "    .dataframe tbody tr th:only-of-type {\n",
       "        vertical-align: middle;\n",
       "    }\n",
       "\n",
       "    .dataframe tbody tr th {\n",
       "        vertical-align: top;\n",
       "    }\n",
       "\n",
       "    .dataframe thead th {\n",
       "        text-align: right;\n",
       "    }\n",
       "</style>\n",
       "<table border=\"1\" class=\"dataframe\">\n",
       "  <thead>\n",
       "    <tr style=\"text-align: right;\">\n",
       "      <th></th>\n",
       "      <th>ret</th>\n",
       "      <th>rf</th>\n",
       "      <th>mkt</th>\n",
       "      <th>corr</th>\n",
       "    </tr>\n",
       "  </thead>\n",
       "  <tbody>\n",
       "    <tr>\n",
       "      <th>2005-01-04</th>\n",
       "      <td>0.010801</td>\n",
       "      <td>0.000087</td>\n",
       "      <td>-0.012892</td>\n",
       "      <td>NaN</td>\n",
       "    </tr>\n",
       "    <tr>\n",
       "      <th>2005-01-05</th>\n",
       "      <td>0.007952</td>\n",
       "      <td>0.000087</td>\n",
       "      <td>-0.006211</td>\n",
       "      <td>NaN</td>\n",
       "    </tr>\n",
       "    <tr>\n",
       "      <th>2005-01-06</th>\n",
       "      <td>0.001229</td>\n",
       "      <td>0.000087</td>\n",
       "      <td>0.003396</td>\n",
       "      <td>NaN</td>\n",
       "    </tr>\n",
       "    <tr>\n",
       "      <th>2005-01-07</th>\n",
       "      <td>0.069688</td>\n",
       "      <td>0.000087</td>\n",
       "      <td>-0.002304</td>\n",
       "      <td>NaN</td>\n",
       "    </tr>\n",
       "    <tr>\n",
       "      <th>2005-01-10</th>\n",
       "      <td>-0.004534</td>\n",
       "      <td>0.000087</td>\n",
       "      <td>0.004125</td>\n",
       "      <td>NaN</td>\n",
       "    </tr>\n",
       "    <tr>\n",
       "      <th>...</th>\n",
       "      <td>...</td>\n",
       "      <td>...</td>\n",
       "      <td>...</td>\n",
       "      <td>...</td>\n",
       "    </tr>\n",
       "    <tr>\n",
       "      <th>2020-12-24</th>\n",
       "      <td>0.007843</td>\n",
       "      <td>0.000003</td>\n",
       "      <td>0.002329</td>\n",
       "      <td>0.656561</td>\n",
       "    </tr>\n",
       "    <tr>\n",
       "      <th>2020-12-28</th>\n",
       "      <td>0.035331</td>\n",
       "      <td>0.000003</td>\n",
       "      <td>0.003867</td>\n",
       "      <td>0.656356</td>\n",
       "    </tr>\n",
       "    <tr>\n",
       "      <th>2020-12-29</th>\n",
       "      <td>-0.013275</td>\n",
       "      <td>0.000003</td>\n",
       "      <td>-0.003652</td>\n",
       "      <td>0.656524</td>\n",
       "    </tr>\n",
       "    <tr>\n",
       "      <th>2020-12-30</th>\n",
       "      <td>-0.009025</td>\n",
       "      <td>0.000003</td>\n",
       "      <td>0.003278</td>\n",
       "      <td>0.656515</td>\n",
       "    </tr>\n",
       "    <tr>\n",
       "      <th>2020-12-31</th>\n",
       "      <td>-0.008578</td>\n",
       "      <td>0.000003</td>\n",
       "      <td>0.003553</td>\n",
       "      <td>0.656543</td>\n",
       "    </tr>\n",
       "  </tbody>\n",
       "</table>\n",
       "<p>4027 rows × 4 columns</p>\n",
       "</div>"
      ],
      "text/plain": [
       "                 ret        rf       mkt      corr\n",
       "2005-01-04  0.010801  0.000087 -0.012892       NaN\n",
       "2005-01-05  0.007952  0.000087 -0.006211       NaN\n",
       "2005-01-06  0.001229  0.000087  0.003396       NaN\n",
       "2005-01-07  0.069688  0.000087 -0.002304       NaN\n",
       "2005-01-10 -0.004534  0.000087  0.004125       NaN\n",
       "...              ...       ...       ...       ...\n",
       "2020-12-24  0.007843  0.000003  0.002329  0.656561\n",
       "2020-12-28  0.035331  0.000003  0.003867  0.656356\n",
       "2020-12-29 -0.013275  0.000003 -0.003652  0.656524\n",
       "2020-12-30 -0.009025  0.000003  0.003278  0.656515\n",
       "2020-12-31 -0.008578  0.000003  0.003553  0.656543\n",
       "\n",
       "[4027 rows x 4 columns]"
      ]
     },
     "execution_count": 359,
     "metadata": {},
     "output_type": "execute_result"
    }
   ],
   "source": [
    "df_one_stock_return_merged"
   ]
  },
  {
   "cell_type": "code",
   "execution_count": 360,
   "metadata": {},
   "outputs": [],
   "source": [
    "# same for rolling std, but with 1 year horizon (252 trading days) with \n",
    "# minimum 120 non-missing datapoints\n",
    "df_one_stock_return_merged['i_std'] = pd.DataFrame(df_one_stock_return_merged['ret'].\\\n",
    "                                                      rolling(252, min_periods=120).std())\n",
    "df_one_stock_return_merged['i_std'] = df_one_stock_return_merged['i_std'].shift(1)\n",
    "\n",
    "df_one_stock_return_merged['mkt_std'] = pd.DataFrame(df_one_stock_return_merged['mkt'].\\\n",
    "                                                      rolling(252, min_periods=120).std())\n",
    "df_one_stock_return_merged['mkt_std'] = df_one_stock_return_merged['mkt_std'].shift(1)"
   ]
  },
  {
   "cell_type": "code",
   "execution_count": 361,
   "metadata": {},
   "outputs": [
    {
     "data": {
      "text/html": [
       "<div>\n",
       "<style scoped>\n",
       "    .dataframe tbody tr th:only-of-type {\n",
       "        vertical-align: middle;\n",
       "    }\n",
       "\n",
       "    .dataframe tbody tr th {\n",
       "        vertical-align: top;\n",
       "    }\n",
       "\n",
       "    .dataframe thead th {\n",
       "        text-align: right;\n",
       "    }\n",
       "</style>\n",
       "<table border=\"1\" class=\"dataframe\">\n",
       "  <thead>\n",
       "    <tr style=\"text-align: right;\">\n",
       "      <th></th>\n",
       "      <th>ret</th>\n",
       "      <th>rf</th>\n",
       "      <th>mkt</th>\n",
       "      <th>corr</th>\n",
       "      <th>i_std</th>\n",
       "      <th>mkt_std</th>\n",
       "    </tr>\n",
       "  </thead>\n",
       "  <tbody>\n",
       "    <tr>\n",
       "      <th>2005-01-04</th>\n",
       "      <td>0.010801</td>\n",
       "      <td>0.000087</td>\n",
       "      <td>-0.012892</td>\n",
       "      <td>NaN</td>\n",
       "      <td>NaN</td>\n",
       "      <td>NaN</td>\n",
       "    </tr>\n",
       "    <tr>\n",
       "      <th>2005-01-05</th>\n",
       "      <td>0.007952</td>\n",
       "      <td>0.000087</td>\n",
       "      <td>-0.006211</td>\n",
       "      <td>NaN</td>\n",
       "      <td>NaN</td>\n",
       "      <td>NaN</td>\n",
       "    </tr>\n",
       "    <tr>\n",
       "      <th>2005-01-06</th>\n",
       "      <td>0.001229</td>\n",
       "      <td>0.000087</td>\n",
       "      <td>0.003396</td>\n",
       "      <td>NaN</td>\n",
       "      <td>NaN</td>\n",
       "      <td>NaN</td>\n",
       "    </tr>\n",
       "    <tr>\n",
       "      <th>2005-01-07</th>\n",
       "      <td>0.069688</td>\n",
       "      <td>0.000087</td>\n",
       "      <td>-0.002304</td>\n",
       "      <td>NaN</td>\n",
       "      <td>NaN</td>\n",
       "      <td>NaN</td>\n",
       "    </tr>\n",
       "    <tr>\n",
       "      <th>2005-01-10</th>\n",
       "      <td>-0.004534</td>\n",
       "      <td>0.000087</td>\n",
       "      <td>0.004125</td>\n",
       "      <td>NaN</td>\n",
       "      <td>NaN</td>\n",
       "      <td>NaN</td>\n",
       "    </tr>\n",
       "    <tr>\n",
       "      <th>...</th>\n",
       "      <td>...</td>\n",
       "      <td>...</td>\n",
       "      <td>...</td>\n",
       "      <td>...</td>\n",
       "      <td>...</td>\n",
       "      <td>...</td>\n",
       "    </tr>\n",
       "    <tr>\n",
       "      <th>2020-12-24</th>\n",
       "      <td>0.007843</td>\n",
       "      <td>0.000003</td>\n",
       "      <td>0.002329</td>\n",
       "      <td>0.656561</td>\n",
       "      <td>0.029468</td>\n",
       "      <td>0.021216</td>\n",
       "    </tr>\n",
       "    <tr>\n",
       "      <th>2020-12-28</th>\n",
       "      <td>0.035331</td>\n",
       "      <td>0.000003</td>\n",
       "      <td>0.003867</td>\n",
       "      <td>0.656356</td>\n",
       "      <td>0.029450</td>\n",
       "      <td>0.021215</td>\n",
       "    </tr>\n",
       "    <tr>\n",
       "      <th>2020-12-29</th>\n",
       "      <td>-0.013275</td>\n",
       "      <td>0.000003</td>\n",
       "      <td>-0.003652</td>\n",
       "      <td>0.656524</td>\n",
       "      <td>0.029522</td>\n",
       "      <td>0.021216</td>\n",
       "    </tr>\n",
       "    <tr>\n",
       "      <th>2020-12-30</th>\n",
       "      <td>-0.009025</td>\n",
       "      <td>0.000003</td>\n",
       "      <td>0.003278</td>\n",
       "      <td>0.656515</td>\n",
       "      <td>0.029538</td>\n",
       "      <td>0.021214</td>\n",
       "    </tr>\n",
       "    <tr>\n",
       "      <th>2020-12-31</th>\n",
       "      <td>-0.008578</td>\n",
       "      <td>0.000003</td>\n",
       "      <td>0.003553</td>\n",
       "      <td>0.656543</td>\n",
       "      <td>0.029546</td>\n",
       "      <td>0.021215</td>\n",
       "    </tr>\n",
       "  </tbody>\n",
       "</table>\n",
       "<p>4027 rows × 6 columns</p>\n",
       "</div>"
      ],
      "text/plain": [
       "                 ret        rf       mkt      corr     i_std   mkt_std\n",
       "2005-01-04  0.010801  0.000087 -0.012892       NaN       NaN       NaN\n",
       "2005-01-05  0.007952  0.000087 -0.006211       NaN       NaN       NaN\n",
       "2005-01-06  0.001229  0.000087  0.003396       NaN       NaN       NaN\n",
       "2005-01-07  0.069688  0.000087 -0.002304       NaN       NaN       NaN\n",
       "2005-01-10 -0.004534  0.000087  0.004125       NaN       NaN       NaN\n",
       "...              ...       ...       ...       ...       ...       ...\n",
       "2020-12-24  0.007843  0.000003  0.002329  0.656561  0.029468  0.021216\n",
       "2020-12-28  0.035331  0.000003  0.003867  0.656356  0.029450  0.021215\n",
       "2020-12-29 -0.013275  0.000003 -0.003652  0.656524  0.029522  0.021216\n",
       "2020-12-30 -0.009025  0.000003  0.003278  0.656515  0.029538  0.021214\n",
       "2020-12-31 -0.008578  0.000003  0.003553  0.656543  0.029546  0.021215\n",
       "\n",
       "[4027 rows x 6 columns]"
      ]
     },
     "execution_count": 361,
     "metadata": {},
     "output_type": "execute_result"
    }
   ],
   "source": [
    "df_one_stock_return_merged"
   ]
  },
  {
   "cell_type": "code",
   "execution_count": 364,
   "metadata": {},
   "outputs": [],
   "source": [
    "\n",
    "#drop all the rows where in ANY column there is a NAN value\n",
    "df_one_stock_return_merged = df_one_stock_return_merged.dropna(how='any')\n",
    "# Estimation betas like on page 8 in eq (14) in the paper\n",
    "df_one_stock_return_merged['beta_est'] = df_one_stock_return_merged['corr']*df_one_stock_return_merged['i_std'].div(df['mkt_std'])\n",
    "#Shrink the betas to make them less noisy eq(15)\n",
    "df_one_stock_return_merged['beta_est'] = 0.6*df_one_stock_return_merged['beta_est'] + 0.4"
   ]
  },
  {
   "cell_type": "code",
   "execution_count": 363,
   "metadata": {},
   "outputs": [
    {
     "data": {
      "text/plain": [
       "<AxesSubplot:>"
      ]
     },
     "execution_count": 363,
     "metadata": {},
     "output_type": "execute_result"
    },
    {
     "data": {
      "image/png": "[encoded data removed]",
      "text/plain": [
       "<Figure size 720x432 with 1 Axes>"
      ]
     },
     "metadata": {
      "needs_background": "light"
     },
     "output_type": "display_data"
    }
   ],
   "source": [
    "df_one_stock_return_merged.beta_est.plot(figsize=(10,6))"
   ]
  },
  {
   "cell_type": "markdown",
   "metadata": {},
   "source": [
    "# All stocks"
   ]
  },
  {
   "cell_type": "markdown",
   "metadata": {},
   "source": [
    "## First trial, not available for large dataset with daily data"
   ]
  },
  {
   "cell_type": "code",
   "execution_count": 443,
   "metadata": {},
   "outputs": [],
   "source": [
    "df_all=pd.DataFrame(columns=['Ticker','Close'])"
   ]
  },
  {
   "cell_type": "code",
   "execution_count": 444,
   "metadata": {},
   "outputs": [],
   "source": [
    "for filename in os.listdir(data_folder_path)[:500]:\n",
    "    if 'txt' in filename:\n",
    "        df_one_day_one_stock=pd.read_csv(data_folder_path+filename,header=None,\\\n",
    "            names=['Date','Open','High','Low','Close','Volume'],index_col=0,parse_dates=True)\n",
    "        df_return=(np.log(df_one_day_one_stock)-np.log(df_one_day_one_stock).shift(1))[1:][['Close']]\n",
    "        df_return['Ticker'] = ''.join(filename.split('.')[:-1])\n",
    "        \n",
    "        df_all=df_all.append(df_return)"
   ]
  },
  {
   "cell_type": "code",
   "execution_count": 445,
   "metadata": {},
   "outputs": [],
   "source": [
    "df_all = df_all.rename(columns={'Close':'total_ret'})"
   ]
  },
  {
   "cell_type": "code",
   "execution_count": 446,
   "metadata": {
    "scrolled": false
   },
   "outputs": [
    {
     "data": {
      "text/html": [
       "<div>\n",
       "<style scoped>\n",
       "    .dataframe tbody tr th:only-of-type {\n",
       "        vertical-align: middle;\n",
       "    }\n",
       "\n",
       "    .dataframe tbody tr th {\n",
       "        vertical-align: top;\n",
       "    }\n",
       "\n",
       "    .dataframe thead th {\n",
       "        text-align: right;\n",
       "    }\n",
       "</style>\n",
       "<table border=\"1\" class=\"dataframe\">\n",
       "  <thead>\n",
       "    <tr style=\"text-align: right;\">\n",
       "      <th></th>\n",
       "      <th>Ticker</th>\n",
       "      <th>total_ret</th>\n",
       "    </tr>\n",
       "  </thead>\n",
       "  <tbody>\n",
       "    <tr>\n",
       "      <th>2020-12-22</th>\n",
       "      <td>CONXW</td>\n",
       "      <td>0.117319</td>\n",
       "    </tr>\n",
       "    <tr>\n",
       "      <th>2020-12-23</th>\n",
       "      <td>CONXW</td>\n",
       "      <td>0.061930</td>\n",
       "    </tr>\n",
       "    <tr>\n",
       "      <th>2020-12-24</th>\n",
       "      <td>CONXW</td>\n",
       "      <td>-0.068993</td>\n",
       "    </tr>\n",
       "    <tr>\n",
       "      <th>2020-12-28</th>\n",
       "      <td>CONXW</td>\n",
       "      <td>-0.011050</td>\n",
       "    </tr>\n",
       "    <tr>\n",
       "      <th>2020-12-29</th>\n",
       "      <td>CONXW</td>\n",
       "      <td>-0.011173</td>\n",
       "    </tr>\n",
       "    <tr>\n",
       "      <th>...</th>\n",
       "      <td>...</td>\n",
       "      <td>...</td>\n",
       "    </tr>\n",
       "    <tr>\n",
       "      <th>2020-12-24</th>\n",
       "      <td>BSBK</td>\n",
       "      <td>-0.011924</td>\n",
       "    </tr>\n",
       "    <tr>\n",
       "      <th>2020-12-28</th>\n",
       "      <td>BSBK</td>\n",
       "      <td>-0.006565</td>\n",
       "    </tr>\n",
       "    <tr>\n",
       "      <th>2020-12-29</th>\n",
       "      <td>BSBK</td>\n",
       "      <td>-0.012148</td>\n",
       "    </tr>\n",
       "    <tr>\n",
       "      <th>2020-12-30</th>\n",
       "      <td>BSBK</td>\n",
       "      <td>0.006645</td>\n",
       "    </tr>\n",
       "    <tr>\n",
       "      <th>2020-12-31</th>\n",
       "      <td>BSBK</td>\n",
       "      <td>-0.015573</td>\n",
       "    </tr>\n",
       "  </tbody>\n",
       "</table>\n",
       "<p>965271 rows × 2 columns</p>\n",
       "</div>"
      ],
      "text/plain": [
       "           Ticker  total_ret\n",
       "2020-12-22  CONXW   0.117319\n",
       "2020-12-23  CONXW   0.061930\n",
       "2020-12-24  CONXW  -0.068993\n",
       "2020-12-28  CONXW  -0.011050\n",
       "2020-12-29  CONXW  -0.011173\n",
       "...           ...        ...\n",
       "2020-12-24   BSBK  -0.011924\n",
       "2020-12-28   BSBK  -0.006565\n",
       "2020-12-29   BSBK  -0.012148\n",
       "2020-12-30   BSBK   0.006645\n",
       "2020-12-31   BSBK  -0.015573\n",
       "\n",
       "[965271 rows x 2 columns]"
      ]
     },
     "execution_count": 446,
     "metadata": {},
     "output_type": "execute_result"
    }
   ],
   "source": [
    "df_all"
   ]
  },
  {
   "cell_type": "code",
   "execution_count": 447,
   "metadata": {},
   "outputs": [],
   "source": [
    "dfs=[df_all,df_AQR_risk_free_daily,df_CRSP_market_daily[['vwretd']]]"
   ]
  },
  {
   "cell_type": "code",
   "execution_count": 448,
   "metadata": {},
   "outputs": [],
   "source": [
    "df_all_stock_return_merged=reduce(lambda x,y:pd.merge(x,y,left_index=True, right_index=True),dfs)"
   ]
  },
  {
   "cell_type": "code",
   "execution_count": 450,
   "metadata": {},
   "outputs": [],
   "source": [
    "df_all_stock_return_merged.total_ret =df_all_stock_return_merged.total_ret-\\\n",
    "df_all_stock_return_merged['Risk Free Rate']\n",
    "df_all_stock_return_merged.vwretd =df_all_stock_return_merged.vwretd-\\\n",
    "df_all_stock_return_merged['Risk Free Rate'] "
   ]
  },
  {
   "cell_type": "code",
   "execution_count": 451,
   "metadata": {},
   "outputs": [],
   "source": [
    "df_all_stock_return_merged=df_all_stock_return_merged.rename(columns={'Risk Free Rate':'rf','vwretd':'mkt',\n",
    "                                                                     'total_ret':'ret'})"
   ]
  },
  {
   "cell_type": "code",
   "execution_count": 452,
   "metadata": {},
   "outputs": [
    {
     "data": {
      "text/html": [
       "<div>\n",
       "<style scoped>\n",
       "    .dataframe tbody tr th:only-of-type {\n",
       "        vertical-align: middle;\n",
       "    }\n",
       "\n",
       "    .dataframe tbody tr th {\n",
       "        vertical-align: top;\n",
       "    }\n",
       "\n",
       "    .dataframe thead th {\n",
       "        text-align: right;\n",
       "    }\n",
       "</style>\n",
       "<table border=\"1\" class=\"dataframe\">\n",
       "  <thead>\n",
       "    <tr style=\"text-align: right;\">\n",
       "      <th></th>\n",
       "      <th>Ticker</th>\n",
       "      <th>ret</th>\n",
       "      <th>rf</th>\n",
       "      <th>mkt</th>\n",
       "    </tr>\n",
       "  </thead>\n",
       "  <tbody>\n",
       "    <tr>\n",
       "      <th>2005-01-04</th>\n",
       "      <td>GTSI</td>\n",
       "      <td>-0.053725</td>\n",
       "      <td>0.000087</td>\n",
       "      <td>-0.012892</td>\n",
       "    </tr>\n",
       "    <tr>\n",
       "      <th>2005-01-04</th>\n",
       "      <td>AROW</td>\n",
       "      <td>-0.012510</td>\n",
       "      <td>0.000087</td>\n",
       "      <td>-0.012892</td>\n",
       "    </tr>\n",
       "    <tr>\n",
       "      <th>2005-01-04</th>\n",
       "      <td>EPIQ</td>\n",
       "      <td>-0.017776</td>\n",
       "      <td>0.000087</td>\n",
       "      <td>-0.012892</td>\n",
       "    </tr>\n",
       "    <tr>\n",
       "      <th>2005-01-04</th>\n",
       "      <td>ARMH</td>\n",
       "      <td>0.004776</td>\n",
       "      <td>0.000087</td>\n",
       "      <td>-0.012892</td>\n",
       "    </tr>\n",
       "    <tr>\n",
       "      <th>2005-01-04</th>\n",
       "      <td>KMB</td>\n",
       "      <td>0.000749</td>\n",
       "      <td>0.000087</td>\n",
       "      <td>-0.012892</td>\n",
       "    </tr>\n",
       "    <tr>\n",
       "      <th>...</th>\n",
       "      <td>...</td>\n",
       "      <td>...</td>\n",
       "      <td>...</td>\n",
       "      <td>...</td>\n",
       "    </tr>\n",
       "    <tr>\n",
       "      <th>2020-12-31</th>\n",
       "      <td>KF</td>\n",
       "      <td>0.002975</td>\n",
       "      <td>0.000003</td>\n",
       "      <td>0.003553</td>\n",
       "    </tr>\n",
       "    <tr>\n",
       "      <th>2020-12-31</th>\n",
       "      <td>OAS</td>\n",
       "      <td>0.007804</td>\n",
       "      <td>0.000003</td>\n",
       "      <td>0.003553</td>\n",
       "    </tr>\n",
       "    <tr>\n",
       "      <th>2020-12-31</th>\n",
       "      <td>AFGE</td>\n",
       "      <td>-0.001455</td>\n",
       "      <td>0.000003</td>\n",
       "      <td>0.003553</td>\n",
       "    </tr>\n",
       "    <tr>\n",
       "      <th>2020-12-31</th>\n",
       "      <td>POWL</td>\n",
       "      <td>0.006624</td>\n",
       "      <td>0.000003</td>\n",
       "      <td>0.003553</td>\n",
       "    </tr>\n",
       "    <tr>\n",
       "      <th>2020-12-31</th>\n",
       "      <td>BSBK</td>\n",
       "      <td>-0.015576</td>\n",
       "      <td>0.000003</td>\n",
       "      <td>0.003553</td>\n",
       "    </tr>\n",
       "  </tbody>\n",
       "</table>\n",
       "<p>965271 rows × 4 columns</p>\n",
       "</div>"
      ],
      "text/plain": [
       "           Ticker       ret        rf       mkt\n",
       "2005-01-04   GTSI -0.053725  0.000087 -0.012892\n",
       "2005-01-04   AROW -0.012510  0.000087 -0.012892\n",
       "2005-01-04   EPIQ -0.017776  0.000087 -0.012892\n",
       "2005-01-04   ARMH  0.004776  0.000087 -0.012892\n",
       "2005-01-04    KMB  0.000749  0.000087 -0.012892\n",
       "...           ...       ...       ...       ...\n",
       "2020-12-31     KF  0.002975  0.000003  0.003553\n",
       "2020-12-31    OAS  0.007804  0.000003  0.003553\n",
       "2020-12-31   AFGE -0.001455  0.000003  0.003553\n",
       "2020-12-31   POWL  0.006624  0.000003  0.003553\n",
       "2020-12-31   BSBK -0.015576  0.000003  0.003553\n",
       "\n",
       "[965271 rows x 4 columns]"
      ]
     },
     "execution_count": 452,
     "metadata": {},
     "output_type": "execute_result"
    }
   ],
   "source": [
    "df_all_stock_return_merged"
   ]
  },
  {
   "cell_type": "code",
   "execution_count": 453,
   "metadata": {},
   "outputs": [],
   "source": [
    "\n",
    "# define function to estimate rolling 5 year(60 month) correlations with minimum 36 non-missing datapoints\n",
    "def roll_corr(x):\n",
    "    return pd.DataFrame(x['ret'].rolling(60, min_periods=36).corr(x['mkt']))\n",
    "\n",
    "\n",
    "#same for rolling std, but with 1 year horizon\n",
    "def roll_var(x):\n",
    "    return pd.DataFrame(x['ret'].rolling(252, min_periods=120).std())"
   ]
  },
  {
   "cell_type": "markdown",
   "metadata": {},
   "source": [
    "Daily data is too much, need to change a method for alpha calculation"
   ]
  },
  {
   "cell_type": "markdown",
   "metadata": {},
   "source": [
    "## Second Trial"
   ]
  },
  {
   "cell_type": "markdown",
   "metadata": {},
   "source": [
    "### Focus on One Day"
   ]
  },
  {
   "cell_type": "code",
   "execution_count": 553,
   "metadata": {},
   "outputs": [],
   "source": [
    "filenames=os.listdir(data_folder_path)\n",
    "filenames.sort()"
   ]
  },
  {
   "cell_type": "code",
   "execution_count": 519,
   "metadata": {},
   "outputs": [],
   "source": [
    "def get_ex_ante_beta(filename,df_risk_free,df_market):\n",
    "    df_one_day_one_stock=pd.read_csv(data_folder_path+filename,header=None,\\\n",
    "            names=['Date','Open','High','Low','Close','Volume'],index_col=0,parse_dates=True)\n",
    "    df_return=(np.log(df_one_day_one_stock)-np.log(df_one_day_one_stock).shift(1))[1:][['Close']]\n",
    "    df_return.columns=['total_ret']\n",
    "    dfs=[df_return,df_risk_free,df_market]\n",
    "    df=reduce(lambda x,y:pd.merge(x,y,left_index=True, right_index=True),dfs)\n",
    "    df.total_ret =df.total_ret-df['Risk Free Rate']\n",
    "    df.vwretd =df.vwretd-df['Risk Free Rate'] \n",
    "    df=df.rename(columns={'Risk Free Rate':'rf','vwretd':'mkt','total_ret':'ret'})\n",
    "    df_log_return_three_days=np.log(df[['ret','mkt']]+1).rolling(window=3).sum()\n",
    "    df_log_return_three_days['corr'] = pd.DataFrame(df_log_return_three_days['ret'].\\\n",
    "                                                      rolling(1260, min_periods=750).\\\n",
    "             corr(df_log_return_three_days['mkt']))\n",
    "    df_log_return_three_days['corr'] = df_log_return_three_days['corr'].shift(1)\n",
    "    df['corr']=df_log_return_three_days['corr']\n",
    "    df['i_std'] = pd.DataFrame(df['ret'].rolling(252, min_periods=120).std())\n",
    "    df['i_std'] = df['i_std'].shift(1)\n",
    "    df['mkt_std'] = pd.DataFrame(df['mkt'].rolling(252, min_periods=120).std())\n",
    "    df['mkt_std'] = df['mkt_std'].shift(1)\n",
    "    df = df.dropna(how='any')\n",
    "    df['beta_est'] = df['corr']*df['i_std'].div(df['mkt_std'])\n",
    "    df['beta_est'] = 0.6*df['beta_est'] + 0.4\n",
    "    return df[['ret','beta_est']]"
   ]
  },
  {
   "cell_type": "code",
   "execution_count": 535,
   "metadata": {},
   "outputs": [
    {
     "name": "stderr",
     "output_type": "stream",
     "text": [
      "/Users/lijinyang/opt/anaconda3/lib/python3.7/site-packages/ipykernel_launcher.py:11: RuntimeWarning: invalid value encountered in log\n",
      "  # This is added back by InteractiveShellApp.init_path()\n"
     ]
    },
    {
     "data": {
      "text/html": [
       "<div>\n",
       "<style scoped>\n",
       "    .dataframe tbody tr th:only-of-type {\n",
       "        vertical-align: middle;\n",
       "    }\n",
       "\n",
       "    .dataframe tbody tr th {\n",
       "        vertical-align: top;\n",
       "    }\n",
       "\n",
       "    .dataframe thead th {\n",
       "        text-align: right;\n",
       "    }\n",
       "</style>\n",
       "<table border=\"1\" class=\"dataframe\">\n",
       "  <thead>\n",
       "    <tr style=\"text-align: right;\">\n",
       "      <th></th>\n",
       "      <th>ret</th>\n",
       "      <th>beta_est</th>\n",
       "    </tr>\n",
       "  </thead>\n",
       "  <tbody>\n",
       "    <tr>\n",
       "      <th>2011-03-01</th>\n",
       "      <td>-0.000006</td>\n",
       "      <td>0.695041</td>\n",
       "    </tr>\n",
       "    <tr>\n",
       "      <th>2011-03-02</th>\n",
       "      <td>-0.021485</td>\n",
       "      <td>0.686534</td>\n",
       "    </tr>\n",
       "    <tr>\n",
       "      <th>2011-03-03</th>\n",
       "      <td>0.006359</td>\n",
       "      <td>0.685319</td>\n",
       "    </tr>\n",
       "    <tr>\n",
       "      <th>2011-03-04</th>\n",
       "      <td>-0.034871</td>\n",
       "      <td>0.684159</td>\n",
       "    </tr>\n",
       "    <tr>\n",
       "      <th>2011-03-07</th>\n",
       "      <td>0.010452</td>\n",
       "      <td>0.688422</td>\n",
       "    </tr>\n",
       "    <tr>\n",
       "      <th>...</th>\n",
       "      <td>...</td>\n",
       "      <td>...</td>\n",
       "    </tr>\n",
       "    <tr>\n",
       "      <th>2020-12-24</th>\n",
       "      <td>-0.000003</td>\n",
       "      <td>0.585419</td>\n",
       "    </tr>\n",
       "    <tr>\n",
       "      <th>2020-12-28</th>\n",
       "      <td>-0.064542</td>\n",
       "      <td>0.585421</td>\n",
       "    </tr>\n",
       "    <tr>\n",
       "      <th>2020-12-29</th>\n",
       "      <td>-0.008371</td>\n",
       "      <td>0.585789</td>\n",
       "    </tr>\n",
       "    <tr>\n",
       "      <th>2020-12-30</th>\n",
       "      <td>0.008365</td>\n",
       "      <td>0.585517</td>\n",
       "    </tr>\n",
       "    <tr>\n",
       "      <th>2020-12-31</th>\n",
       "      <td>-0.008371</td>\n",
       "      <td>0.585579</td>\n",
       "    </tr>\n",
       "  </tbody>\n",
       "</table>\n",
       "<p>2400 rows × 2 columns</p>\n",
       "</div>"
      ],
      "text/plain": [
       "                 ret  beta_est\n",
       "2011-03-01 -0.000006  0.695041\n",
       "2011-03-02 -0.021485  0.686534\n",
       "2011-03-03  0.006359  0.685319\n",
       "2011-03-04 -0.034871  0.684159\n",
       "2011-03-07  0.010452  0.688422\n",
       "...              ...       ...\n",
       "2020-12-24 -0.000003  0.585419\n",
       "2020-12-28 -0.064542  0.585421\n",
       "2020-12-29 -0.008371  0.585789\n",
       "2020-12-30  0.008365  0.585517\n",
       "2020-12-31 -0.008371  0.585579\n",
       "\n",
       "[2400 rows x 2 columns]"
      ]
     },
     "execution_count": 535,
     "metadata": {},
     "output_type": "execute_result"
    }
   ],
   "source": [
    "get_ex_ante_beta('AACG.txt',df_AQR_risk_free_daily,df_CRSP_market_daily[['vwretd']])"
   ]
  },
  {
   "cell_type": "code",
   "execution_count": 554,
   "metadata": {
    "scrolled": true
   },
   "outputs": [
    {
     "name": "stdout",
     "output_type": "stream",
     "text": [
      "ITUB\n",
      "ITUS\n",
      "ITW\n",
      "ITWO\n",
      "IUSA\n",
      "IVA\n",
      "IVAC\n",
      "IVAN\n",
      "IVC\n",
      "IVD\n",
      "IVGN\n",
      "IVH\n",
      "IVN\n"
     ]
    },
    {
     "name": "stderr",
     "output_type": "stream",
     "text": [
      "/Users/lijinyang/opt/anaconda3/lib/python3.7/site-packages/ipykernel_launcher.py:11: RuntimeWarning: invalid value encountered in log\n",
      "  # This is added back by InteractiveShellApp.init_path()\n"
     ]
    },
    {
     "name": "stdout",
     "output_type": "stream",
     "text": [
      "IVR.A\n",
      "IVR.B\n",
      "IVR.C\n",
      "IVR\n",
      "IVTY\n",
      "IVZ\n",
      "IWA\n",
      "IWOV\n",
      "IX\n",
      "IXYS\n",
      "IZEA\n",
      "J\n",
      "JACK\n",
      "JACQ\n",
      "JADE\n",
      "JAG\n",
      "JAGX\n",
      "JAH\n",
      "JAKK\n",
      "JAMF\n",
      "JAN\n",
      "JAQC\n",
      "JAS\n",
      "JASN\n",
      "JASNW\n",
      "JASO\n",
      "JAV\n",
      "JAVA\n"
     ]
    },
    {
     "name": "stderr",
     "output_type": "stream",
     "text": [
      "/Users/lijinyang/opt/anaconda3/lib/python3.7/site-packages/ipykernel_launcher.py:11: RuntimeWarning: invalid value encountered in log\n",
      "  # This is added back by InteractiveShellApp.init_path()\n",
      "/Users/lijinyang/opt/anaconda3/lib/python3.7/site-packages/ipykernel_launcher.py:11: RuntimeWarning: invalid value encountered in log\n",
      "  # This is added back by InteractiveShellApp.init_path()\n",
      "/Users/lijinyang/opt/anaconda3/lib/python3.7/site-packages/ipykernel_launcher.py:11: RuntimeWarning: invalid value encountered in log\n",
      "  # This is added back by InteractiveShellApp.init_path()\n"
     ]
    },
    {
     "name": "stdout",
     "output_type": "stream",
     "text": [
      "JAX\n",
      "JAXB\n",
      "JAZZ\n",
      "JBGS\n",
      "JBHT\n",
      "JBI\n",
      "JBJ\n"
     ]
    },
    {
     "name": "stderr",
     "output_type": "stream",
     "text": [
      "/Users/lijinyang/opt/anaconda3/lib/python3.7/site-packages/ipykernel_launcher.py:11: RuntimeWarning: invalid value encountered in log\n",
      "  # This is added back by InteractiveShellApp.init_path()\n"
     ]
    },
    {
     "name": "stdout",
     "output_type": "stream",
     "text": [
      "JBK\n",
      "JBL\n",
      "JBLU\n",
      "JBN\n",
      "JBO\n",
      "JBR\n",
      "JBSS\n",
      "JBT\n",
      "JBX\n",
      "JCAP.B\n",
      "JCAP\n",
      "JCDA\n",
      "JCE\n",
      "JCG\n",
      "JCI\n",
      "JCO\n",
      "JCOM\n",
      "JCP\n",
      "JCS\n",
      "JCTCF\n"
     ]
    },
    {
     "name": "stderr",
     "output_type": "stream",
     "text": [
      "/Users/lijinyang/opt/anaconda3/lib/python3.7/site-packages/ipykernel_launcher.py:11: RuntimeWarning: invalid value encountered in log\n",
      "  # This is added back by InteractiveShellApp.init_path()\n"
     ]
    },
    {
     "name": "stdout",
     "output_type": "stream",
     "text": [
      "JD\n",
      "JDAS\n",
      "JDD\n",
      "JDSU\n",
      "JE.A\n",
      "JE\n",
      "JEC\n",
      "JEF\n",
      "JELD\n",
      "JEMD\n",
      "JEQ\n",
      "JFBI\n",
      "JFC\n",
      "JFIN\n",
      "JFK\n",
      "JFKKR\n",
      "JFKKU\n",
      "JFKKW\n",
      "JFP\n",
      "JFR\n",
      "JFU\n",
      "JG\n",
      "JGG\n",
      "JGH\n",
      "JGT\n",
      "JGV\n",
      "JGW\n",
      "JHA\n",
      "JHAA\n",
      "JHB\n",
      "JHD\n",
      "JHG\n",
      "JHI\n",
      "JHP\n",
      "JHS\n",
      "JHX\n",
      "JHY\n",
      "JIH.U\n",
      "JIH\n",
      "JILL\n",
      "JIVE\n",
      "JJSF\n",
      "JKHY\n",
      "JKS\n",
      "JLA\n",
      "JLL\n",
      "JLS\n",
      "JMBA\n",
      "JMEI\n",
      "JMF\n",
      "JMG\n",
      "JMI\n",
      "JMIA\n",
      "JMLP\n",
      "JMM\n",
      "JMP\n",
      "JMPB\n",
      "JMPC\n",
      "JMPD\n",
      "JMPE\n",
      "JMPNL\n",
      "JMPNZ\n",
      "JMT\n",
      "JMU\n",
      "JNCE\n",
      "JNGW\n",
      "JNJ\n"
     ]
    },
    {
     "name": "stderr",
     "output_type": "stream",
     "text": [
      "/Users/lijinyang/opt/anaconda3/lib/python3.7/site-packages/ipykernel_launcher.py:11: RuntimeWarning: invalid value encountered in log\n",
      "  # This is added back by InteractiveShellApp.init_path()\n",
      "/Users/lijinyang/opt/anaconda3/lib/python3.7/site-packages/ipykernel_launcher.py:11: RuntimeWarning: invalid value encountered in log\n",
      "  # This is added back by InteractiveShellApp.init_path()\n",
      "/Users/lijinyang/opt/anaconda3/lib/python3.7/site-packages/ipykernel_launcher.py:11: RuntimeWarning: invalid value encountered in log\n",
      "  # This is added back by InteractiveShellApp.init_path()\n"
     ]
    },
    {
     "name": "stdout",
     "output_type": "stream",
     "text": [
      "JNP\n",
      "JNPR\n",
      "JNS\n",
      "JNY\n",
      "JOB\n",
      "JOBS\n",
      "JOE\n",
      "JOET\n",
      "JOEZ\n",
      "JOF\n",
      "JOSB\n",
      "JOUT\n",
      "JOY\n",
      "JOYG\n",
      "JP\n",
      "JPC\n",
      "JPEP\n",
      "JPG\n",
      "JPI\n",
      "JPM.A\n",
      "JPM.B\n",
      "JPM.C\n",
      "JPM.D\n",
      "JPM.E\n",
      "JPM.F\n",
      "JPM.G\n",
      "JPM.H\n",
      "JPM.J\n",
      "JPM\n",
      "JPS\n",
      "JPT\n",
      "JPW\n",
      "JPZ\n",
      "JQC\n",
      "JRCC\n",
      "JRI\n",
      "JRJC\n",
      "JRJR\n",
      "JRN\n",
      "JRO\n",
      "JRS\n"
     ]
    },
    {
     "name": "stderr",
     "output_type": "stream",
     "text": [
      "/Users/lijinyang/opt/anaconda3/lib/python3.7/site-packages/ipykernel_launcher.py:11: RuntimeWarning: invalid value encountered in log\n",
      "  # This is added back by InteractiveShellApp.init_path()\n",
      "/Users/lijinyang/opt/anaconda3/lib/python3.7/site-packages/ipykernel_launcher.py:11: RuntimeWarning: invalid value encountered in log\n",
      "  # This is added back by InteractiveShellApp.init_path()\n"
     ]
    },
    {
     "name": "stdout",
     "output_type": "stream",
     "text": [
      "JRSH\n",
      "JRT\n",
      "JRVR\n",
      "JSD\n",
      "JSM\n",
      "JSN\n",
      "JST\n"
     ]
    },
    {
     "name": "stderr",
     "output_type": "stream",
     "text": [
      "/Users/lijinyang/opt/anaconda3/lib/python3.7/site-packages/ipykernel_launcher.py:11: RuntimeWarning: invalid value encountered in log\n",
      "  # This is added back by InteractiveShellApp.init_path()\n"
     ]
    },
    {
     "name": "stdout",
     "output_type": "stream",
     "text": [
      "JSYN\n",
      "JSYNR\n",
      "JSYNU\n",
      "JSYNW\n",
      "JT\n",
      "JTA\n",
      "JTD\n",
      "JTP\n"
     ]
    },
    {
     "name": "stderr",
     "output_type": "stream",
     "text": [
      "/Users/lijinyang/opt/anaconda3/lib/python3.7/site-packages/ipykernel_launcher.py:11: RuntimeWarning: invalid value encountered in log\n",
      "  # This is added back by InteractiveShellApp.init_path()\n",
      "/Users/lijinyang/opt/anaconda3/lib/python3.7/site-packages/ipykernel_launcher.py:11: RuntimeWarning: invalid value encountered in log\n",
      "  # This is added back by InteractiveShellApp.init_path()\n"
     ]
    },
    {
     "name": "stdout",
     "output_type": "stream",
     "text": [
      "JTPY\n",
      "JTX\n",
      "JUNO\n",
      "JUPW\n",
      "JUPWW\n",
      "JVA\n",
      "JW.A\n",
      "JW.B\n",
      "JWF\n",
      "JWN\n",
      "JWS.U\n",
      "JWS\n",
      "JXSB\n",
      "JYAC\n",
      "JYNT\n",
      "JZC\n",
      "JZH\n",
      "JZJ\n",
      "JZK\n",
      "JZL\n",
      "JZS\n",
      "JZT\n",
      "JZV\n",
      "K\n",
      "KAAC\n",
      "KAACU\n",
      "KAACW\n",
      "KAI\n",
      "KALA\n",
      "KALU\n",
      "KALV\n",
      "KAMN\n"
     ]
    },
    {
     "name": "stderr",
     "output_type": "stream",
     "text": [
      "/Users/lijinyang/opt/anaconda3/lib/python3.7/site-packages/ipykernel_launcher.py:11: RuntimeWarning: invalid value encountered in log\n",
      "  # This is added back by InteractiveShellApp.init_path()\n"
     ]
    },
    {
     "name": "stdout",
     "output_type": "stream",
     "text": [
      "KANG\n",
      "KAP\n",
      "KAR\n",
      "KATE\n",
      "KAZ\n",
      "KB\n",
      "KBAL\n",
      "KBALB\n",
      "KBH\n",
      "KBIO\n",
      "KBLM\n",
      "KBLMR\n",
      "KBLMU\n",
      "KBLMW\n",
      "KBNT\n"
     ]
    },
    {
     "name": "stderr",
     "output_type": "stream",
     "text": [
      "/Users/lijinyang/opt/anaconda3/lib/python3.7/site-packages/ipykernel_launcher.py:11: RuntimeWarning: invalid value encountered in log\n",
      "  # This is added back by InteractiveShellApp.init_path()\n"
     ]
    },
    {
     "name": "stdout",
     "output_type": "stream",
     "text": [
      "KBNTW\n",
      "KBR\n",
      "KBSF\n",
      "KBW\n",
      "KBWP\n",
      "KBWX\n",
      "KBWY\n",
      "KBX\n",
      "KC\n",
      "KCAC.U\n",
      "KCAC\n",
      "KCAP\n",
      "KCAPL\n",
      "KCC\n",
      "KCG\n",
      "KCI\n",
      "KCP\n",
      "KCW\n",
      "KDMN\n",
      "KDN\n",
      "KDNY\n",
      "KDP\n",
      "KE\n",
      "KED\n",
      "KEF\n",
      "KEG\n",
      "KELYA\n",
      "KELYB\n",
      "KEM\n",
      "KEN\n",
      "KEP\n",
      "KEQU\n",
      "KERN\n",
      "KERNW\n",
      "KERX\n",
      "KEX\n",
      "KEY.G\n"
     ]
    },
    {
     "name": "stderr",
     "output_type": "stream",
     "text": [
      "/Users/lijinyang/opt/anaconda3/lib/python3.7/site-packages/ipykernel_launcher.py:11: RuntimeWarning: invalid value encountered in log\n",
      "  # This is added back by InteractiveShellApp.init_path()\n"
     ]
    },
    {
     "name": "stdout",
     "output_type": "stream",
     "text": [
      "KEY.H\n",
      "KEY.I\n",
      "KEY.J\n",
      "KEY.K\n",
      "KEY\n",
      "KEYN\n",
      "KEYS\n",
      "KEYW\n",
      "KF\n",
      "KFED\n",
      "KFFB\n",
      "KFFG\n",
      "KFH\n",
      "KFI\n"
     ]
    },
    {
     "name": "stderr",
     "output_type": "stream",
     "text": [
      "/Users/lijinyang/opt/anaconda3/lib/python3.7/site-packages/ipykernel_launcher.py:11: RuntimeWarning: invalid value encountered in log\n",
      "  # This is added back by InteractiveShellApp.init_path()\n"
     ]
    },
    {
     "name": "stdout",
     "output_type": "stream",
     "text": [
      "KFN\n",
      "KFRC\n",
      "KFS\n",
      "KFT\n",
      "KFX\n",
      "KFY\n",
      "KG\n",
      "KGC\n",
      "KGJI\n",
      "KGN\n",
      "KH\n",
      "KHC\n",
      "KHI\n",
      "KID\n"
     ]
    },
    {
     "name": "stderr",
     "output_type": "stream",
     "text": [
      "/Users/lijinyang/opt/anaconda3/lib/python3.7/site-packages/ipykernel_launcher.py:11: RuntimeWarning: invalid value encountered in log\n",
      "  # This is added back by InteractiveShellApp.init_path()\n"
     ]
    },
    {
     "name": "stdout",
     "output_type": "stream",
     "text": [
      "KIDS\n",
      "KIM.H\n",
      "KIM.I\n",
      "KIM.J\n",
      "KIM.K\n",
      "KIM.L\n",
      "KIM.M\n",
      "KIM\n",
      "KIN\n",
      "KING\n",
      "KINS\n",
      "KINZU\n",
      "KIO\n"
     ]
    },
    {
     "name": "stderr",
     "output_type": "stream",
     "text": [
      "/Users/lijinyang/opt/anaconda3/lib/python3.7/site-packages/ipykernel_launcher.py:11: RuntimeWarning: invalid value encountered in log\n",
      "  # This is added back by InteractiveShellApp.init_path()\n",
      "/Users/lijinyang/opt/anaconda3/lib/python3.7/site-packages/ipykernel_launcher.py:11: RuntimeWarning: invalid value encountered in log\n",
      "  # This is added back by InteractiveShellApp.init_path()\n",
      "/Users/lijinyang/opt/anaconda3/lib/python3.7/site-packages/ipykernel_launcher.py:11: RuntimeWarning: invalid value encountered in log\n",
      "  # This is added back by InteractiveShellApp.init_path()\n",
      "/Users/lijinyang/opt/anaconda3/lib/python3.7/site-packages/ipykernel_launcher.py:11: RuntimeWarning: invalid value encountered in log\n",
      "  # This is added back by InteractiveShellApp.init_path()\n"
     ]
    },
    {
     "name": "stdout",
     "output_type": "stream",
     "text": [
      "KIOR\n",
      "KIPO\n",
      "KIPS\n",
      "KIQ\n",
      "KIRK\n",
      "KITD\n",
      "KITE\n",
      "KKD\n",
      "KKR.A\n",
      "KKR.B\n",
      "KKR.C\n",
      "KKR\n",
      "KL\n",
      "KLAC\n",
      "KLDO\n",
      "KLDX\n",
      "KLIC\n",
      "KLR\n",
      "KLRE\n",
      "KLREU\n"
     ]
    },
    {
     "name": "stderr",
     "output_type": "stream",
     "text": [
      "/Users/lijinyang/opt/anaconda3/lib/python3.7/site-packages/ipykernel_launcher.py:11: RuntimeWarning: invalid value encountered in log\n",
      "  # This is added back by InteractiveShellApp.init_path()\n"
     ]
    },
    {
     "name": "stdout",
     "output_type": "stream",
     "text": [
      "KLREW\n",
      "KLXE\n",
      "KLXEV\n",
      "KLXI\n",
      "KLXIV\n",
      "KMB\n",
      "KMDA\n",
      "KMF\n",
      "KMG\n",
      "KMGB\n",
      "KMI.A\n",
      "KMI\n",
      "KMM\n",
      "KMP\n",
      "KMPA\n",
      "KMPH\n",
      "KMPR\n",
      "KMR\n",
      "KMT\n",
      "KMX\n",
      "KN\n",
      "KND\n",
      "KNDI\n",
      "KNDL\n",
      "KNL\n",
      "KNM\n",
      "KNO\n",
      "KNOL\n",
      "KNOP\n",
      "KNOT\n",
      "KNR\n",
      "KNSA\n",
      "KNSL\n",
      "KNSY\n",
      "KNTE\n",
      "KNX\n",
      "KNXA\n",
      "KO\n",
      "KOD\n",
      "KODK\n",
      "KOF\n",
      "KOG\n",
      "KONA\n",
      "KONE\n",
      "KONG\n",
      "KOOL\n",
      "KOP\n",
      "KOPN\n",
      "KOR\n"
     ]
    },
    {
     "name": "stderr",
     "output_type": "stream",
     "text": [
      "/Users/lijinyang/opt/anaconda3/lib/python3.7/site-packages/ipykernel_launcher.py:11: RuntimeWarning: invalid value encountered in log\n",
      "  # This is added back by InteractiveShellApp.init_path()\n"
     ]
    },
    {
     "name": "stdout",
     "output_type": "stream",
     "text": [
      "KORS\n",
      "KOS\n",
      "KOSN\n",
      "KOSS\n",
      "KPFS\n",
      "KPPC\n",
      "KPTI\n",
      "KR\n",
      "KRA\n",
      "KRAT\n",
      "KRBP\n",
      "KRC.G\n"
     ]
    },
    {
     "name": "stderr",
     "output_type": "stream",
     "text": [
      "/Users/lijinyang/opt/anaconda3/lib/python3.7/site-packages/ipykernel_launcher.py:11: RuntimeWarning: invalid value encountered in log\n",
      "  # This is added back by InteractiveShellApp.init_path()\n"
     ]
    },
    {
     "name": "stdout",
     "output_type": "stream",
     "text": [
      "KRC.H\n",
      "KRC\n",
      "KREF\n",
      "KRFT\n",
      "KRG.A\n",
      "KRG\n",
      "KRJ\n",
      "KRKR\n",
      "KRMD\n",
      "KRNT\n",
      "KRNY\n",
      "KRO\n",
      "KRON\n",
      "KROS\n",
      "KRP\n",
      "KRTX\n",
      "KRUS\n",
      "KRYS\n",
      "KS\n",
      "KSE\n",
      "KSK\n",
      "KSM\n",
      "KSMT\n",
      "KSMTU\n",
      "KSMTW\n",
      "KSPN\n",
      "KSS\n",
      "KST\n",
      "KSU\n",
      "KSW\n",
      "KSWS\n",
      "KT\n",
      "KTB\n",
      "KTCC\n",
      "KTEC\n",
      "KTF\n",
      "KTH\n",
      "KTII\n",
      "KTN\n",
      "KTOS\n",
      "KTOV\n",
      "KTOVW\n",
      "KTP\n",
      "KTRA\n",
      "KTWO\n",
      "KUB\n",
      "KUN\n",
      "KURA\n",
      "KUTV\n",
      "KV.A\n",
      "KVHI\n",
      "KW\n",
      "KWAC.U\n",
      "KWK\n",
      "KWKA\n"
     ]
    },
    {
     "name": "stderr",
     "output_type": "stream",
     "text": [
      "/Users/lijinyang/opt/anaconda3/lib/python3.7/site-packages/ipykernel_launcher.py:11: RuntimeWarning: invalid value encountered in log\n",
      "  # This is added back by InteractiveShellApp.init_path()\n",
      "/Users/lijinyang/opt/anaconda3/lib/python3.7/site-packages/ipykernel_launcher.py:11: RuntimeWarning: invalid value encountered in log\n",
      "  # This is added back by InteractiveShellApp.init_path()\n"
     ]
    },
    {
     "name": "stdout",
     "output_type": "stream",
     "text": [
      "KWKAQ\n",
      "KWN\n",
      "KWR\n",
      "KXIN\n",
      "KXINW\n",
      "KXM\n",
      "KYE\n"
     ]
    },
    {
     "name": "stderr",
     "output_type": "stream",
     "text": [
      "/Users/lijinyang/opt/anaconda3/lib/python3.7/site-packages/ipykernel_launcher.py:11: RuntimeWarning: invalid value encountered in log\n",
      "  # This is added back by InteractiveShellApp.init_path()\n",
      "/Users/lijinyang/opt/anaconda3/lib/python3.7/site-packages/ipykernel_launcher.py:11: RuntimeWarning: invalid value encountered in log\n",
      "  # This is added back by InteractiveShellApp.init_path()\n"
     ]
    },
    {
     "name": "stdout",
     "output_type": "stream",
     "text": [
      "KYMR\n",
      "KYN.E\n",
      "KYN.F\n",
      "KYN.G\n",
      "KYN\n",
      "KYO\n",
      "KYTH\n",
      "KZ\n",
      "KZIA\n",
      "KZR\n",
      "L\n",
      "LAB\n",
      "LABC\n",
      "LABL\n",
      "LAC\n",
      "LACO\n",
      "LACQ\n",
      "LACQU\n",
      "LACQW\n",
      "LAD\n",
      "LADR\n",
      "LAIX\n",
      "LAKE\n",
      "LAMR\n",
      "LANC\n",
      "LAND\n",
      "LANDO\n",
      "LANDP\n",
      "LAQ\n",
      "LARK\n",
      "LAS\n",
      "LASR\n",
      "LATN\n",
      "LATNU\n",
      "LATNW\n",
      "LAUR\n",
      "LAVA\n",
      "LAWS\n",
      "LAYN\n",
      "LAZ\n",
      "LAZR\n",
      "LAZRW\n",
      "LAZY\n",
      "LB\n",
      "LBAI\n",
      "LBC\n",
      "LBF\n",
      "LBIO\n",
      "LBIX\n",
      "LBMH\n"
     ]
    },
    {
     "name": "stderr",
     "output_type": "stream",
     "text": [
      "/Users/lijinyang/opt/anaconda3/lib/python3.7/site-packages/ipykernel_launcher.py:11: RuntimeWarning: invalid value encountered in log\n",
      "  # This is added back by InteractiveShellApp.init_path()\n"
     ]
    },
    {
     "name": "stdout",
     "output_type": "stream",
     "text": [
      "LBRDA\n",
      "LBRDK\n",
      "LBRDP\n",
      "LBRT\n",
      "LBTA\n",
      "LBTYA\n",
      "LBTYB\n",
      "LBTYK\n",
      "LBY\n",
      "LC\n",
      "LCA\n",
      "LCAHU\n",
      "LCAHW\n",
      "LCAP\n",
      "LCAPA\n",
      "LCAPU\n",
      "LCAPW\n",
      "LCAV\n",
      "LCC\n",
      "LCI\n",
      "LCII\n",
      "LCM\n",
      "LCNB\n",
      "LCRY\n",
      "LCTX\n",
      "LCUT\n",
      "LCY\n",
      "LCYAU\n",
      "LCYAW\n",
      "LDEM\n",
      "LDF\n",
      "LDG\n",
      "LDK\n",
      "LDL\n",
      "LDOS\n",
      "LDP\n",
      "LDR\n",
      "LDRH\n"
     ]
    },
    {
     "name": "stderr",
     "output_type": "stream",
     "text": [
      "/Users/lijinyang/opt/anaconda3/lib/python3.7/site-packages/ipykernel_launcher.py:11: RuntimeWarning: invalid value encountered in log\n",
      "  # This is added back by InteractiveShellApp.init_path()\n",
      "/Users/lijinyang/opt/anaconda3/lib/python3.7/site-packages/ipykernel_launcher.py:11: RuntimeWarning: invalid value encountered in log\n",
      "  # This is added back by InteractiveShellApp.init_path()\n"
     ]
    },
    {
     "name": "stdout",
     "output_type": "stream",
     "text": [
      "LDSH\n",
      "LDX\n",
      "LE\n",
      "LEA\n",
      "LEAF\n",
      "LEAP.U\n",
      "LEAP\n"
     ]
    },
    {
     "name": "stderr",
     "output_type": "stream",
     "text": [
      "/Users/lijinyang/opt/anaconda3/lib/python3.7/site-packages/ipykernel_launcher.py:11: RuntimeWarning: invalid value encountered in log\n",
      "  # This is added back by InteractiveShellApp.init_path()\n"
     ]
    },
    {
     "name": "stdout",
     "output_type": "stream",
     "text": [
      "LECO\n",
      "LEDR\n",
      "LEDS\n",
      "LEE\n",
      "LEG\n",
      "LEGC\n",
      "LEGH\n",
      "LEGN\n",
      "LEH\n",
      "LEHMQ\n",
      "LEI\n",
      "LEJU\n",
      "LEN.B\n"
     ]
    },
    {
     "name": "stderr",
     "output_type": "stream",
     "text": [
      "/Users/lijinyang/opt/anaconda3/lib/python3.7/site-packages/ipykernel_launcher.py:11: RuntimeWarning: invalid value encountered in log\n",
      "  # This is added back by InteractiveShellApp.init_path()\n",
      "/Users/lijinyang/opt/anaconda3/lib/python3.7/site-packages/ipykernel_launcher.py:11: RuntimeWarning: invalid value encountered in log\n",
      "  # This is added back by InteractiveShellApp.init_path()\n"
     ]
    },
    {
     "name": "stdout",
     "output_type": "stream",
     "text": [
      "LEN\n",
      "LENS\n",
      "LEO\n",
      "LESL\n",
      "LEU\n",
      "LEVB\n",
      "LEVI\n",
      "LEVL\n",
      "LEVLP\n",
      "LEXEA\n",
      "LEXEB\n",
      "LF\n",
      "LFAC\n",
      "LFACU\n",
      "LFACW\n",
      "LFC\n",
      "LFG\n",
      "LFGR\n",
      "LFL\n",
      "LFT\n",
      "LFTR\n",
      "LFTRU\n"
     ]
    },
    {
     "name": "stderr",
     "output_type": "stream",
     "text": [
      "/Users/lijinyang/opt/anaconda3/lib/python3.7/site-packages/ipykernel_launcher.py:11: RuntimeWarning: invalid value encountered in log\n",
      "  # This is added back by InteractiveShellApp.init_path()\n"
     ]
    },
    {
     "name": "stdout",
     "output_type": "stream",
     "text": [
      "LFTRW\n",
      "LFUS\n",
      "LFVN\n",
      "LG\n",
      "LGC.U\n",
      "LGC\n",
      "LGCY\n",
      "LGCYO\n",
      "LGCYP\n",
      "LGF.A\n",
      "LGF.B\n",
      "LGF\n",
      "LGHL\n",
      "LGHLW\n"
     ]
    },
    {
     "name": "stderr",
     "output_type": "stream",
     "text": [
      "/Users/lijinyang/opt/anaconda3/lib/python3.7/site-packages/ipykernel_launcher.py:11: RuntimeWarning: invalid value encountered in log\n",
      "  # This is added back by InteractiveShellApp.init_path()\n"
     ]
    },
    {
     "name": "stdout",
     "output_type": "stream",
     "text": [
      "LGI\n",
      "LGIH\n",
      "LGL\n",
      "LGN\n",
      "LGND\n",
      "LGP\n",
      "LGTY\n",
      "LGVW.U\n",
      "LGVW\n",
      "LH\n",
      "LHC.U\n",
      "LHC\n",
      "LHCG\n",
      "LHO.H\n",
      "LHO.I\n",
      "LHO.J\n",
      "LHO\n",
      "LHX\n",
      "LI\n",
      "LIFE\n",
      "LII\n",
      "LILA\n",
      "LILAK\n",
      "LILAR\n",
      "LILAV\n",
      "LILKV\n",
      "LIN\n",
      "LINC\n"
     ]
    },
    {
     "name": "stderr",
     "output_type": "stream",
     "text": [
      "/Users/lijinyang/opt/anaconda3/lib/python3.7/site-packages/ipykernel_launcher.py:11: RuntimeWarning: invalid value encountered in log\n",
      "  # This is added back by InteractiveShellApp.init_path()\n"
     ]
    },
    {
     "name": "stdout",
     "output_type": "stream",
     "text": [
      "LIND\n",
      "LINDW\n",
      "LINE\n",
      "LINTA\n",
      "LINTB\n",
      "LINU\n",
      "LINX\n",
      "LION\n",
      "LIOX\n",
      "LIQD\n",
      "LIQT\n",
      "LITB\n",
      "LITE\n",
      "LIVE\n"
     ]
    },
    {
     "name": "stderr",
     "output_type": "stream",
     "text": [
      "/Users/lijinyang/opt/anaconda3/lib/python3.7/site-packages/ipykernel_launcher.py:11: RuntimeWarning: invalid value encountered in log\n",
      "  # This is added back by InteractiveShellApp.init_path()\n",
      "/Users/lijinyang/opt/anaconda3/lib/python3.7/site-packages/ipykernel_launcher.py:11: RuntimeWarning: invalid value encountered in log\n",
      "  # This is added back by InteractiveShellApp.init_path()\n"
     ]
    },
    {
     "name": "stdout",
     "output_type": "stream",
     "text": [
      "LIVK\n",
      "LIVKU\n",
      "LIVKW\n",
      "LIVN\n",
      "LIVX\n",
      "LIXT\n",
      "LIXTW\n",
      "LIZ\n",
      "LIZI\n",
      "LJPC\n",
      "LK\n",
      "LKCO\n",
      "LKFN\n",
      "LKM\n",
      "LKQ\n"
     ]
    },
    {
     "name": "stderr",
     "output_type": "stream",
     "text": [
      "/Users/lijinyang/opt/anaconda3/lib/python3.7/site-packages/ipykernel_launcher.py:11: RuntimeWarning: invalid value encountered in log\n",
      "  # This is added back by InteractiveShellApp.init_path()\n",
      "/Users/lijinyang/opt/anaconda3/lib/python3.7/site-packages/ipykernel_launcher.py:11: RuntimeWarning: invalid value encountered in log\n",
      "  # This is added back by InteractiveShellApp.init_path()\n"
     ]
    },
    {
     "name": "stdout",
     "output_type": "stream",
     "text": [
      "LKQX\n",
      "LKSD\n",
      "LL\n",
      "LLEX\n",
      "LLIT\n",
      "LLL\n",
      "LLNW\n"
     ]
    },
    {
     "name": "stderr",
     "output_type": "stream",
     "text": [
      "/Users/lijinyang/opt/anaconda3/lib/python3.7/site-packages/ipykernel_launcher.py:11: RuntimeWarning: invalid value encountered in log\n",
      "  # This is added back by InteractiveShellApp.init_path()\n"
     ]
    },
    {
     "name": "stdout",
     "output_type": "stream",
     "text": [
      "LLTC\n",
      "LLY\n",
      "LM\n",
      "LMAT\n",
      "LMB\n",
      "LMCA\n",
      "LMCB\n",
      "LMCK\n",
      "LMDIA\n",
      "LMFA\n",
      "LMFAU\n",
      "LMFAW\n",
      "LMHA\n",
      "LMHB\n"
     ]
    },
    {
     "name": "stderr",
     "output_type": "stream",
     "text": [
      "/Users/lijinyang/opt/anaconda3/lib/python3.7/site-packages/ipykernel_launcher.py:11: RuntimeWarning: invalid value encountered in log\n",
      "  # This is added back by InteractiveShellApp.init_path()\n",
      "/Users/lijinyang/opt/anaconda3/lib/python3.7/site-packages/ipykernel_launcher.py:11: RuntimeWarning: invalid value encountered in log\n",
      "  # This is added back by InteractiveShellApp.init_path()\n"
     ]
    },
    {
     "name": "stdout",
     "output_type": "stream",
     "text": [
      "LMIA\n",
      "LMND\n",
      "LMNL\n",
      "LMNR\n",
      "LMNS\n",
      "LMNX\n",
      "LMOS\n",
      "LMPX\n",
      "LMRK\n",
      "LMRKN\n",
      "LMRKO\n",
      "LMRKP\n",
      "LMST\n",
      "LMT\n",
      "LMZ\n",
      "LN\n",
      "LNBB\n",
      "LNC\n",
      "LNCE\n",
      "LNCO\n",
      "LNCR\n"
     ]
    },
    {
     "name": "stderr",
     "output_type": "stream",
     "text": [
      "/Users/lijinyang/opt/anaconda3/lib/python3.7/site-packages/ipykernel_launcher.py:11: RuntimeWarning: invalid value encountered in log\n",
      "  # This is added back by InteractiveShellApp.init_path()\n"
     ]
    },
    {
     "name": "stdout",
     "output_type": "stream",
     "text": [
      "LND\n",
      "LNDC\n",
      "LNET\n",
      "LNFA.U\n",
      "LNG\n",
      "LNKD\n",
      "LNN\n",
      "LNSR\n",
      "LNT\n",
      "LNTH\n",
      "LNY\n",
      "LO\n",
      "LOAC\n",
      "LOACR\n",
      "LOACU\n",
      "LOACW\n",
      "LOAK.U\n",
      "LOAK\n",
      "LOAN\n",
      "LOB\n",
      "LOCK\n"
     ]
    },
    {
     "name": "stderr",
     "output_type": "stream",
     "text": [
      "/Users/lijinyang/opt/anaconda3/lib/python3.7/site-packages/ipykernel_launcher.py:11: RuntimeWarning: invalid value encountered in log\n",
      "  # This is added back by InteractiveShellApp.init_path()\n",
      "/Users/lijinyang/opt/anaconda3/lib/python3.7/site-packages/ipykernel_launcher.py:11: RuntimeWarning: invalid value encountered in log\n",
      "  # This is added back by InteractiveShellApp.init_path()\n"
     ]
    },
    {
     "name": "stdout",
     "output_type": "stream",
     "text": [
      "LOCM\n",
      "LOCO\n",
      "LODE\n",
      "LOGC\n",
      "LOGI\n",
      "LOGM\n"
     ]
    },
    {
     "name": "stderr",
     "output_type": "stream",
     "text": [
      "/Users/lijinyang/opt/anaconda3/lib/python3.7/site-packages/ipykernel_launcher.py:11: RuntimeWarning: invalid value encountered in log\n",
      "  # This is added back by InteractiveShellApp.init_path()\n",
      "/Users/lijinyang/opt/anaconda3/lib/python3.7/site-packages/ipykernel_launcher.py:11: RuntimeWarning: invalid value encountered in log\n",
      "  # This is added back by InteractiveShellApp.init_path()\n"
     ]
    },
    {
     "name": "stdout",
     "output_type": "stream",
     "text": [
      "LOJN\n",
      "LOKB.U\n",
      "LOMA\n",
      "LON\n",
      "LONE\n",
      "LONG\n",
      "LOOK\n",
      "LOOP\n",
      "LOPE\n",
      "LOR\n",
      "LORL\n",
      "LOV\n",
      "LOVE\n",
      "LOW\n"
     ]
    },
    {
     "name": "stderr",
     "output_type": "stream",
     "text": [
      "/Users/lijinyang/opt/anaconda3/lib/python3.7/site-packages/ipykernel_launcher.py:11: RuntimeWarning: invalid value encountered in log\n",
      "  # This is added back by InteractiveShellApp.init_path()\n"
     ]
    },
    {
     "name": "stdout",
     "output_type": "stream",
     "text": [
      "LOXO\n",
      "LPAL\n",
      "LPCN\n",
      "LPDX\n",
      "LPG\n",
      "LPH\n",
      "LPHI\n",
      "LPI\n"
     ]
    },
    {
     "name": "stderr",
     "output_type": "stream",
     "text": [
      "/Users/lijinyang/opt/anaconda3/lib/python3.7/site-packages/ipykernel_launcher.py:11: RuntimeWarning: invalid value encountered in log\n",
      "  # This is added back by InteractiveShellApp.init_path()\n",
      "/Users/lijinyang/opt/anaconda3/lib/python3.7/site-packages/ipykernel_launcher.py:11: RuntimeWarning: invalid value encountered in log\n",
      "  # This is added back by InteractiveShellApp.init_path()\n",
      "/Users/lijinyang/opt/anaconda3/lib/python3.7/site-packages/ipykernel_launcher.py:11: RuntimeWarning: invalid value encountered in log\n",
      "  # This is added back by InteractiveShellApp.init_path()\n"
     ]
    },
    {
     "name": "stdout",
     "output_type": "stream",
     "text": [
      "LPL\n",
      "LPLA\n",
      "LPLT\n",
      "LPNT\n",
      "LPR\n",
      "LPRO\n",
      "LPS\n",
      "LPSB\n",
      "LPSN\n",
      "LPT\n",
      "LPTH\n",
      "LPTN\n",
      "LPTX\n"
     ]
    },
    {
     "name": "stderr",
     "output_type": "stream",
     "text": [
      "/Users/lijinyang/opt/anaconda3/lib/python3.7/site-packages/ipykernel_launcher.py:11: RuntimeWarning: invalid value encountered in log\n",
      "  # This is added back by InteractiveShellApp.init_path()\n"
     ]
    },
    {
     "name": "stdout",
     "output_type": "stream",
     "text": [
      "LPX\n",
      "LQ\n",
      "LQDA\n",
      "LQDT\n",
      "LRAD\n",
      "LRCX\n",
      "LRE\n",
      "LRMR\n",
      "LRN\n",
      "LRY\n",
      "LSAC\n",
      "LSACU\n",
      "LSACW\n",
      "LSAQ\n",
      "LSBG\n"
     ]
    },
    {
     "name": "stderr",
     "output_type": "stream",
     "text": [
      "/Users/lijinyang/opt/anaconda3/lib/python3.7/site-packages/ipykernel_launcher.py:11: RuntimeWarning: invalid value encountered in log\n",
      "  # This is added back by InteractiveShellApp.init_path()\n"
     ]
    },
    {
     "name": "stdout",
     "output_type": "stream",
     "text": [
      "LSBI\n",
      "LSBK\n",
      "LSCC\n",
      "LSE\n",
      "LSF\n",
      "LSG\n",
      "LSI\n",
      "LSPD\n",
      "LSR\n",
      "LSTR\n",
      "LSTZA\n",
      "LSXMA\n",
      "LSXMB\n",
      "LSXMK\n",
      "LSXMR\n"
     ]
    },
    {
     "name": "stderr",
     "output_type": "stream",
     "text": [
      "/Users/lijinyang/opt/anaconda3/lib/python3.7/site-packages/ipykernel_launcher.py:11: RuntimeWarning: invalid value encountered in log\n",
      "  # This is added back by InteractiveShellApp.init_path()\n"
     ]
    },
    {
     "name": "stdout",
     "output_type": "stream",
     "text": [
      "LTBR\n",
      "LTC\n",
      "LTD\n",
      "LTEA\n",
      "LTHM\n",
      "LTM\n",
      "LTN.U\n"
     ]
    },
    {
     "name": "stderr",
     "output_type": "stream",
     "text": [
      "/Users/lijinyang/opt/anaconda3/lib/python3.7/site-packages/ipykernel_launcher.py:11: RuntimeWarning: invalid value encountered in log\n",
      "  # This is added back by InteractiveShellApp.init_path()\n"
     ]
    },
    {
     "name": "stdout",
     "output_type": "stream",
     "text": [
      "LTN\n",
      "LTON\n",
      "LTRN\n",
      "LTRPA\n",
      "LTRPB\n",
      "LTRX\n",
      "LTS.A\n",
      "LTS\n",
      "LTSF\n",
      "LTSH\n",
      "LTSK\n",
      "LTSL\n",
      "LTXB\n",
      "LTXC\n",
      "LTXX\n"
     ]
    },
    {
     "name": "stderr",
     "output_type": "stream",
     "text": [
      "/Users/lijinyang/opt/anaconda3/lib/python3.7/site-packages/ipykernel_launcher.py:11: RuntimeWarning: invalid value encountered in log\n",
      "  # This is added back by InteractiveShellApp.init_path()\n"
     ]
    },
    {
     "name": "stdout",
     "output_type": "stream",
     "text": [
      "LU\n",
      "LUB\n",
      "LUFK\n",
      "LUK\n",
      "LULU\n",
      "LUMN\n",
      "LUMO\n",
      "LUNA\n",
      "LUNG\n",
      "LUV\n",
      "LUX\n",
      "LUXA\n",
      "LUXAU\n",
      "LUXAW\n",
      "LVB\n",
      "LVGO\n",
      "LVLT\n",
      "LVNTA\n",
      "LVNTB\n",
      "LVOL\n",
      "LVS\n",
      "LW\n",
      "LWAY\n",
      "LWSN\n",
      "LX\n",
      "LXEH\n",
      "LXFR\n",
      "LXFT\n",
      "LXK\n",
      "LXP.C\n",
      "LXP\n",
      "LXRX\n",
      "LXU\n"
     ]
    },
    {
     "name": "stderr",
     "output_type": "stream",
     "text": [
      "/Users/lijinyang/opt/anaconda3/lib/python3.7/site-packages/ipykernel_launcher.py:11: RuntimeWarning: invalid value encountered in log\n",
      "  # This is added back by InteractiveShellApp.init_path()\n"
     ]
    },
    {
     "name": "stdout",
     "output_type": "stream",
     "text": [
      "LYB\n",
      "LYFT\n",
      "LYG.A\n",
      "LYG\n",
      "LYL\n",
      "LYRA\n",
      "LYTS\n",
      "LYV\n",
      "LZ\n",
      "LZB\n",
      "LZEN\n",
      "M\n",
      "MA\n",
      "MAA.I\n",
      "MAA\n",
      "MAAC\n",
      "MAACU\n",
      "MAACW\n",
      "MAB\n",
      "MAC\n",
      "MACK\n",
      "MACQ\n",
      "MACQU\n",
      "MACQW\n",
      "MACU\n",
      "MACUU\n",
      "MACUW\n",
      "MAG\n",
      "MAGS\n"
     ]
    },
    {
     "name": "stderr",
     "output_type": "stream",
     "text": [
      "/Users/lijinyang/opt/anaconda3/lib/python3.7/site-packages/ipykernel_launcher.py:11: RuntimeWarning: invalid value encountered in log\n",
      "  # This is added back by InteractiveShellApp.init_path()\n",
      "/Users/lijinyang/opt/anaconda3/lib/python3.7/site-packages/ipykernel_launcher.py:11: RuntimeWarning: invalid value encountered in log\n",
      "  # This is added back by InteractiveShellApp.init_path()\n"
     ]
    },
    {
     "name": "stdout",
     "output_type": "stream",
     "text": [
      "MAIN\n",
      "MAKO\n",
      "MALL\n",
      "MAMS\n",
      "MAN\n",
      "MANH\n",
      "MANT\n",
      "MANU\n",
      "MAPP\n",
      "MAR\n",
      "MARA\n",
      "MARK\n"
     ]
    },
    {
     "name": "stderr",
     "output_type": "stream",
     "text": [
      "/Users/lijinyang/opt/anaconda3/lib/python3.7/site-packages/ipykernel_launcher.py:11: RuntimeWarning: invalid value encountered in log\n",
      "  # This is added back by InteractiveShellApp.init_path()\n",
      "/Users/lijinyang/opt/anaconda3/lib/python3.7/site-packages/ipykernel_launcher.py:11: RuntimeWarning: invalid value encountered in log\n",
      "  # This is added back by InteractiveShellApp.init_path()\n",
      "/Users/lijinyang/opt/anaconda3/lib/python3.7/site-packages/ipykernel_launcher.py:11: RuntimeWarning: invalid value encountered in log\n",
      "  # This is added back by InteractiveShellApp.init_path()\n"
     ]
    },
    {
     "name": "stdout",
     "output_type": "stream",
     "text": [
      "MARPS\n",
      "MAS\n",
      "MASB\n",
      "MASC\n",
      "MASI\n",
      "MASS\n",
      "MAT\n",
      "MATK\n",
      "MATR\n",
      "MATW\n",
      "MATX\n",
      "MAV\n",
      "MAX\n",
      "MAXN\n",
      "MAXR\n",
      "MAXY\n",
      "MAY\n",
      "MAYS\n",
      "MB\n",
      "MBA\n",
      "MBB\n"
     ]
    },
    {
     "name": "stderr",
     "output_type": "stream",
     "text": [
      "/Users/lijinyang/opt/anaconda3/lib/python3.7/site-packages/ipykernel_launcher.py:11: RuntimeWarning: invalid value encountered in log\n",
      "  # This is added back by InteractiveShellApp.init_path()\n"
     ]
    },
    {
     "name": "stdout",
     "output_type": "stream",
     "text": [
      "MBC\n",
      "MBCN\n",
      "MBF\n",
      "MBFI\n",
      "MBFIO\n",
      "MBFIP\n",
      "MBHI\n",
      "MBI\n",
      "MBII\n",
      "MBIN\n",
      "MBINO\n",
      "MBINP\n",
      "MBIO\n",
      "MBIS\n",
      "MBL\n",
      "MBLX\n"
     ]
    },
    {
     "name": "stderr",
     "output_type": "stream",
     "text": [
      "/Users/lijinyang/opt/anaconda3/lib/python3.7/site-packages/ipykernel_launcher.py:11: RuntimeWarning: invalid value encountered in log\n",
      "  # This is added back by InteractiveShellApp.init_path()\n",
      "/Users/lijinyang/opt/anaconda3/lib/python3.7/site-packages/ipykernel_launcher.py:11: RuntimeWarning: invalid value encountered in log\n",
      "  # This is added back by InteractiveShellApp.init_path()\n"
     ]
    },
    {
     "name": "stdout",
     "output_type": "stream",
     "text": [
      "MBLY\n",
      "MBNAA\n",
      "MBNAB\n",
      "MBND\n",
      "MBNKP\n",
      "MBOT\n",
      "MBRG\n",
      "MBRK\n",
      "MBRX\n",
      "MBT\n",
      "MBTF\n",
      "MBUU\n",
      "MBVT\n",
      "MBVX\n"
     ]
    },
    {
     "name": "stderr",
     "output_type": "stream",
     "text": [
      "/Users/lijinyang/opt/anaconda3/lib/python3.7/site-packages/ipykernel_launcher.py:11: RuntimeWarning: invalid value encountered in log\n",
      "  # This is added back by InteractiveShellApp.init_path()\n",
      "/Users/lijinyang/opt/anaconda3/lib/python3.7/site-packages/ipykernel_launcher.py:11: RuntimeWarning: invalid value encountered in log\n",
      "  # This is added back by InteractiveShellApp.init_path()\n"
     ]
    },
    {
     "name": "stdout",
     "output_type": "stream",
     "text": [
      "MBWM\n",
      "MC\n",
      "MCA\n",
      "MCAC\n",
      "MCACR\n",
      "MCACU\n",
      "MCB\n",
      "MCBC\n",
      "MCBF\n",
      "MCBS\n",
      "MCC\n",
      "MCCC\n",
      "MCD\n",
      "MCEP\n",
      "MCF\n",
      "MCFE\n",
      "MCFT\n",
      "MCGC\n",
      "MCHI\n",
      "MCHP\n",
      "MCHX\n",
      "MCI\n",
      "MCK\n",
      "MCMJ\n",
      "MCMJU\n",
      "MCMJW\n",
      "MCN\n",
      "MCO\n",
      "MCOX\n",
      "MCP\n",
      "MCQ\n",
      "MCR\n",
      "MCRB\n",
      "MCRI\n",
      "MCRL\n"
     ]
    },
    {
     "name": "stderr",
     "output_type": "stream",
     "text": [
      "/Users/lijinyang/opt/anaconda3/lib/python3.7/site-packages/ipykernel_launcher.py:11: RuntimeWarning: invalid value encountered in log\n",
      "  # This is added back by InteractiveShellApp.init_path()\n",
      "/Users/lijinyang/opt/anaconda3/lib/python3.7/site-packages/ipykernel_launcher.py:11: RuntimeWarning: invalid value encountered in log\n",
      "  # This is added back by InteractiveShellApp.init_path()\n"
     ]
    },
    {
     "name": "stdout",
     "output_type": "stream",
     "text": [
      "MCRN\n",
      "MCRS\n",
      "MCS\n",
      "MCUR\n",
      "MCV\n",
      "MCX\n",
      "MCY\n",
      "MCZ\n",
      "MD\n",
      "MDA\n",
      "MDAS\n",
      "MDB\n",
      "MDC\n",
      "MDCA\n",
      "MDCI\n",
      "MDCO\n",
      "MDF\n",
      "MDGL\n",
      "MDGN\n",
      "MDGS\n",
      "MDGSW\n"
     ]
    },
    {
     "name": "stderr",
     "output_type": "stream",
     "text": [
      "/Users/lijinyang/opt/anaconda3/lib/python3.7/site-packages/ipykernel_launcher.py:11: RuntimeWarning: invalid value encountered in log\n",
      "  # This is added back by InteractiveShellApp.init_path()\n"
     ]
    },
    {
     "name": "stdout",
     "output_type": "stream",
     "text": [
      "MDH\n",
      "MDIA\n",
      "MDIAV\n",
      "MDJH\n",
      "MDLA\n",
      "MDLQ\n",
      "MDLX\n",
      "MDLY\n",
      "MDLZ\n",
      "MDM\n",
      "MDMD\n",
      "MDNA\n",
      "MDP\n",
      "MDR\n",
      "MDRR\n"
     ]
    },
    {
     "name": "stderr",
     "output_type": "stream",
     "text": [
      "/Users/lijinyang/opt/anaconda3/lib/python3.7/site-packages/ipykernel_launcher.py:11: RuntimeWarning: invalid value encountered in log\n",
      "  # This is added back by InteractiveShellApp.init_path()\n"
     ]
    },
    {
     "name": "stdout",
     "output_type": "stream",
     "text": [
      "MDRRP\n",
      "MDRX\n",
      "MDS\n",
      "MDSO\n",
      "MDSY\n",
      "MDT\n",
      "MDTH\n",
      "MDTL\n",
      "MDU\n",
      "MDVL\n",
      "MDVN\n",
      "MDVXW\n",
      "MDW\n"
     ]
    },
    {
     "name": "stderr",
     "output_type": "stream",
     "text": [
      "/Users/lijinyang/opt/anaconda3/lib/python3.7/site-packages/ipykernel_launcher.py:11: RuntimeWarning: invalid value encountered in log\n",
      "  # This is added back by InteractiveShellApp.init_path()\n",
      "/Users/lijinyang/opt/anaconda3/lib/python3.7/site-packages/ipykernel_launcher.py:11: RuntimeWarning: invalid value encountered in log\n",
      "  # This is added back by InteractiveShellApp.init_path()\n",
      "/Users/lijinyang/opt/anaconda3/lib/python3.7/site-packages/ipykernel_launcher.py:11: RuntimeWarning: invalid value encountered in log\n",
      "  # This is added back by InteractiveShellApp.init_path()\n",
      "/Users/lijinyang/opt/anaconda3/lib/python3.7/site-packages/ipykernel_launcher.py:11: RuntimeWarning: invalid value encountered in log\n",
      "  # This is added back by InteractiveShellApp.init_path()\n"
     ]
    },
    {
     "name": "stdout",
     "output_type": "stream",
     "text": [
      "MDWD\n",
      "MDWT\n",
      "MDXG\n",
      "ME\n",
      "MEA\n",
      "MEAD\n",
      "MEAS\n"
     ]
    },
    {
     "name": "stderr",
     "output_type": "stream",
     "text": [
      "/Users/lijinyang/opt/anaconda3/lib/python3.7/site-packages/ipykernel_launcher.py:11: RuntimeWarning: invalid value encountered in log\n",
      "  # This is added back by InteractiveShellApp.init_path()\n"
     ]
    },
    {
     "name": "stdout",
     "output_type": "stream",
     "text": [
      "MEC\n",
      "MED\n",
      "MEDP\n",
      "MEDQ\n",
      "MEDS\n",
      "MEDW\n",
      "MEDX\n"
     ]
    },
    {
     "name": "stderr",
     "output_type": "stream",
     "text": [
      "/Users/lijinyang/opt/anaconda3/lib/python3.7/site-packages/ipykernel_launcher.py:11: RuntimeWarning: invalid value encountered in log\n",
      "  # This is added back by InteractiveShellApp.init_path()\n"
     ]
    },
    {
     "name": "stdout",
     "output_type": "stream",
     "text": [
      "MEE\n",
      "MEET\n",
      "MEG\n",
      "MEI\n",
      "MEILW\n",
      "MEILZ\n",
      "MEIP\n"
     ]
    },
    {
     "name": "stderr",
     "output_type": "stream",
     "text": [
      "/Users/lijinyang/opt/anaconda3/lib/python3.7/site-packages/ipykernel_launcher.py:11: RuntimeWarning: invalid value encountered in log\n",
      "  # This is added back by InteractiveShellApp.init_path()\n",
      "/Users/lijinyang/opt/anaconda3/lib/python3.7/site-packages/ipykernel_launcher.py:11: RuntimeWarning: invalid value encountered in log\n",
      "  # This is added back by InteractiveShellApp.init_path()\n",
      "/Users/lijinyang/opt/anaconda3/lib/python3.7/site-packages/ipykernel_launcher.py:11: RuntimeWarning: invalid value encountered in log\n",
      "  # This is added back by InteractiveShellApp.init_path()\n"
     ]
    },
    {
     "name": "stdout",
     "output_type": "stream",
     "text": [
      "MELA\n",
      "MELI\n",
      "MELR\n",
      "MEMP\n",
      "MEMS\n",
      "MEN\n",
      "MEND\n",
      "MENT\n",
      "MEOH\n",
      "MEP\n",
      "MER.D\n",
      "MER.E\n",
      "MER.F\n",
      "MER.K\n",
      "MER.M\n",
      "MER.P\n",
      "MER\n",
      "MERC\n",
      "MERU\n",
      "MESA\n",
      "MESG\n",
      "MESO\n",
      "MET.A\n",
      "MET.B\n",
      "MET.E\n",
      "MET.F\n",
      "MET\n",
      "METC\n",
      "METR\n",
      "METX\n",
      "METXW\n",
      "MEXS\n",
      "MF\n",
      "MFA.B\n",
      "MFA.C\n"
     ]
    },
    {
     "name": "stderr",
     "output_type": "stream",
     "text": [
      "/Users/lijinyang/opt/anaconda3/lib/python3.7/site-packages/ipykernel_launcher.py:11: RuntimeWarning: invalid value encountered in log\n",
      "  # This is added back by InteractiveShellApp.init_path()\n",
      "/Users/lijinyang/opt/anaconda3/lib/python3.7/site-packages/ipykernel_launcher.py:11: RuntimeWarning: invalid value encountered in log\n",
      "  # This is added back by InteractiveShellApp.init_path()\n",
      "/Users/lijinyang/opt/anaconda3/lib/python3.7/site-packages/ipykernel_launcher.py:11: RuntimeWarning: invalid value encountered in log\n",
      "  # This is added back by InteractiveShellApp.init_path()\n",
      "/Users/lijinyang/opt/anaconda3/lib/python3.7/site-packages/ipykernel_launcher.py:11: RuntimeWarning: invalid value encountered in log\n",
      "  # This is added back by InteractiveShellApp.init_path()\n"
     ]
    },
    {
     "name": "stdout",
     "output_type": "stream",
     "text": [
      "MFA\n",
      "MFAC.U\n",
      "MFAC\n",
      "MFB\n",
      "MFC\n",
      "MFCB\n",
      "MFD\n",
      "MFE\n",
      "MFG\n",
      "MFGLQ\n",
      "MFGP\n",
      "MFH\n",
      "MFI\n",
      "MFIN\n"
     ]
    },
    {
     "name": "stderr",
     "output_type": "stream",
     "text": [
      "/Users/lijinyang/opt/anaconda3/lib/python3.7/site-packages/ipykernel_launcher.py:11: RuntimeWarning: invalid value encountered in log\n",
      "  # This is added back by InteractiveShellApp.init_path()\n",
      "/Users/lijinyang/opt/anaconda3/lib/python3.7/site-packages/ipykernel_launcher.py:11: RuntimeWarning: invalid value encountered in log\n",
      "  # This is added back by InteractiveShellApp.init_path()\n"
     ]
    },
    {
     "name": "stdout",
     "output_type": "stream",
     "text": [
      "MFINL\n",
      "MFL\n",
      "MFLR\n",
      "MFLX\n",
      "MFM\n",
      "MFN\n",
      "MFNC\n",
      "MFO\n",
      "MFRI\n",
      "MFRM\n",
      "MFS\n",
      "MFSA\n",
      "MFSF\n",
      "MFT\n"
     ]
    },
    {
     "name": "stderr",
     "output_type": "stream",
     "text": [
      "/Users/lijinyang/opt/anaconda3/lib/python3.7/site-packages/ipykernel_launcher.py:11: RuntimeWarning: invalid value encountered in log\n",
      "  # This is added back by InteractiveShellApp.init_path()\n",
      "/Users/lijinyang/opt/anaconda3/lib/python3.7/site-packages/ipykernel_launcher.py:11: RuntimeWarning: invalid value encountered in log\n",
      "  # This is added back by InteractiveShellApp.init_path()\n"
     ]
    },
    {
     "name": "stdout",
     "output_type": "stream",
     "text": [
      "MFV\n",
      "MFW\n",
      "MG\n",
      "MGA\n",
      "MGAM\n",
      "MGCD\n",
      "MGEE\n",
      "MGEN\n",
      "MGF\n",
      "MGH\n",
      "MGI\n",
      "MGIC\n",
      "MGJ\n",
      "MGLN\n",
      "MGM\n",
      "MGN\n",
      "MGNI\n",
      "MGNX\n",
      "MGP\n",
      "MGPI\n",
      "MGR\n",
      "MGRB\n",
      "MGRC\n",
      "MGT\n",
      "MGTA\n",
      "MGTX\n",
      "MGU\n",
      "MGY\n",
      "MGYR\n",
      "MH.A\n",
      "MH.C\n",
      "MH.D\n",
      "MHC\n",
      "MHD\n",
      "MHE\n"
     ]
    },
    {
     "name": "stderr",
     "output_type": "stream",
     "text": [
      "/Users/lijinyang/opt/anaconda3/lib/python3.7/site-packages/ipykernel_launcher.py:11: RuntimeWarning: invalid value encountered in log\n",
      "  # This is added back by InteractiveShellApp.init_path()\n"
     ]
    },
    {
     "name": "stdout",
     "output_type": "stream",
     "text": [
      "MHF\n",
      "MHFI\n",
      "MHG\n",
      "MHGC\n",
      "MHH\n",
      "MHI\n",
      "MHK\n",
      "MHLA\n",
      "MHLD\n",
      "MHLDO\n",
      "MHM\n",
      "MHN\n",
      "MHNA\n",
      "MHNB\n",
      "MHNC\n",
      "MHO.A\n",
      "MHO\n",
      "MHP\n",
      "MHR.C\n",
      "MHR.D\n",
      "MHR.E\n",
      "MHR\n",
      "MHS\n",
      "MHW\n",
      "MHY\n",
      "MI\n",
      "MIC\n",
      "MICC\n",
      "MICR\n",
      "MICT\n",
      "MICTW\n",
      "MIDD\n",
      "MIE\n",
      "MIFI\n",
      "MIG\n",
      "MIGP\n",
      "MIII\n",
      "MIIIU\n",
      "MIIIW\n",
      "MIK\n",
      "MIL\n",
      "MILL.C\n",
      "MILL.D\n",
      "MILL\n",
      "MIM\n",
      "MIME\n",
      "MIN\n"
     ]
    },
    {
     "name": "stderr",
     "output_type": "stream",
     "text": [
      "/Users/lijinyang/opt/anaconda3/lib/python3.7/site-packages/ipykernel_launcher.py:11: RuntimeWarning: invalid value encountered in log\n",
      "  # This is added back by InteractiveShellApp.init_path()\n"
     ]
    },
    {
     "name": "stdout",
     "output_type": "stream",
     "text": [
      "MIND\n",
      "MINDP\n",
      "MINI\n",
      "MIPI\n",
      "MIPS\n",
      "MIR\n",
      "MIRM\n"
     ]
    },
    {
     "name": "stderr",
     "output_type": "stream",
     "text": [
      "/Users/lijinyang/opt/anaconda3/lib/python3.7/site-packages/ipykernel_launcher.py:11: RuntimeWarning: invalid value encountered in log\n",
      "  # This is added back by InteractiveShellApp.init_path()\n",
      "/Users/lijinyang/opt/anaconda3/lib/python3.7/site-packages/ipykernel_launcher.py:11: RuntimeWarning: invalid value encountered in log\n",
      "  # This is added back by InteractiveShellApp.init_path()\n",
      "/Users/lijinyang/opt/anaconda3/lib/python3.7/site-packages/ipykernel_launcher.py:11: RuntimeWarning: invalid value encountered in log\n",
      "  # This is added back by InteractiveShellApp.init_path()\n"
     ]
    },
    {
     "name": "stdout",
     "output_type": "stream",
     "text": [
      "MIRN\n",
      "MIST\n",
      "MITI\n",
      "MITK\n",
      "MITL\n",
      "MITO\n",
      "MITT.A\n"
     ]
    },
    {
     "name": "stderr",
     "output_type": "stream",
     "text": [
      "/Users/lijinyang/opt/anaconda3/lib/python3.7/site-packages/ipykernel_launcher.py:11: RuntimeWarning: invalid value encountered in log\n",
      "  # This is added back by InteractiveShellApp.init_path()\n",
      "/Users/lijinyang/opt/anaconda3/lib/python3.7/site-packages/ipykernel_launcher.py:11: RuntimeWarning: invalid value encountered in log\n",
      "  # This is added back by InteractiveShellApp.init_path()\n",
      "/Users/lijinyang/opt/anaconda3/lib/python3.7/site-packages/ipykernel_launcher.py:11: RuntimeWarning: invalid value encountered in log\n",
      "  # This is added back by InteractiveShellApp.init_path()\n",
      "/Users/lijinyang/opt/anaconda3/lib/python3.7/site-packages/ipykernel_launcher.py:11: RuntimeWarning: invalid value encountered in log\n",
      "  # This is added back by InteractiveShellApp.init_path()\n"
     ]
    },
    {
     "name": "stdout",
     "output_type": "stream",
     "text": [
      "MITT.B\n",
      "MITT.C\n",
      "MITT\n",
      "MIW\n",
      "MIXT\n",
      "MIY\n",
      "MJC\n",
      "MJCO\n",
      "MJH\n",
      "MJI\n",
      "MJN\n",
      "MKC.V\n",
      "MKC\n"
     ]
    },
    {
     "name": "stderr",
     "output_type": "stream",
     "text": [
      "/Users/lijinyang/opt/anaconda3/lib/python3.7/site-packages/ipykernel_launcher.py:11: RuntimeWarning: invalid value encountered in log\n",
      "  # This is added back by InteractiveShellApp.init_path()\n",
      "/Users/lijinyang/opt/anaconda3/lib/python3.7/site-packages/ipykernel_launcher.py:11: RuntimeWarning: invalid value encountered in log\n",
      "  # This is added back by InteractiveShellApp.init_path()\n"
     ]
    },
    {
     "name": "stdout",
     "output_type": "stream",
     "text": [
      "MKD\n",
      "MKF\n",
      "MKGI\n",
      "MKL\n",
      "MKN\n",
      "MKS\n",
      "MKSI\n",
      "MKTG\n",
      "MKTO\n",
      "MKTX\n",
      "MKV\n",
      "MKZ\n",
      "MLA\n",
      "MLAB\n",
      "MLAC\n",
      "MLACU\n",
      "MLACW\n",
      "MLCO\n",
      "MLG\n",
      "MLHR\n",
      "MLI\n",
      "MLM\n",
      "MLND\n",
      "MLNK\n",
      "MLNT\n",
      "MLNX\n",
      "MLP\n",
      "MLR\n",
      "MLSS\n"
     ]
    },
    {
     "name": "stderr",
     "output_type": "stream",
     "text": [
      "/Users/lijinyang/opt/anaconda3/lib/python3.7/site-packages/ipykernel_launcher.py:11: RuntimeWarning: invalid value encountered in log\n",
      "  # This is added back by InteractiveShellApp.init_path()\n",
      "/Users/lijinyang/opt/anaconda3/lib/python3.7/site-packages/ipykernel_launcher.py:11: RuntimeWarning: invalid value encountered in log\n",
      "  # This is added back by InteractiveShellApp.init_path()\n"
     ]
    },
    {
     "name": "stdout",
     "output_type": "stream",
     "text": [
      "MLU\n",
      "MLVF\n",
      "MM\n",
      "MMAC\n",
      "MMC\n",
      "MMD\n",
      "MMDM\n",
      "MMDMR\n",
      "MMDMU\n",
      "MMDMW\n",
      "MMF\n",
      "MMI\n",
      "MMLP\n",
      "MMM\n",
      "MMP\n",
      "MMPI\n",
      "MMR\n",
      "MMS\n",
      "MMSI\n",
      "MMT\n",
      "MMU\n",
      "MMUS\n",
      "MMV\n",
      "MMX\n",
      "MMYT\n",
      "MN\n",
      "MNCL\n",
      "MNCLU\n",
      "MNCLW\n",
      "MNDL\n",
      "MNDO\n",
      "MNE\n",
      "MNEL\n",
      "MNGA\n"
     ]
    },
    {
     "name": "stderr",
     "output_type": "stream",
     "text": [
      "/Users/lijinyang/opt/anaconda3/lib/python3.7/site-packages/ipykernel_launcher.py:11: RuntimeWarning: invalid value encountered in log\n",
      "  # This is added back by InteractiveShellApp.init_path()\n",
      "/Users/lijinyang/opt/anaconda3/lib/python3.7/site-packages/ipykernel_launcher.py:11: RuntimeWarning: invalid value encountered in log\n",
      "  # This is added back by InteractiveShellApp.init_path()\n"
     ]
    },
    {
     "name": "stdout",
     "output_type": "stream",
     "text": [
      "MNGLU\n",
      "MNI\n",
      "MNK\n",
      "MNKD\n",
      "MNLO\n",
      "MNOV\n",
      "MNP\n"
     ]
    },
    {
     "name": "stderr",
     "output_type": "stream",
     "text": [
      "/Users/lijinyang/opt/anaconda3/lib/python3.7/site-packages/ipykernel_launcher.py:11: RuntimeWarning: invalid value encountered in log\n",
      "  # This is added back by InteractiveShellApp.init_path()\n"
     ]
    },
    {
     "name": "stdout",
     "output_type": "stream",
     "text": [
      "MNPR\n",
      "MNR.A\n",
      "MNR.B\n",
      "MNR.C\n",
      "MNR\n",
      "MNRK\n",
      "MNRKP\n",
      "MNRL\n",
      "MNRO\n",
      "MNRTA\n",
      "MNSB\n",
      "MNSBP\n",
      "MNSO\n",
      "MNST\n",
      "MNT\n",
      "MNTA\n",
      "MNTG\n",
      "MNTX\n",
      "MO\n",
      "MOBI\n",
      "MOBL\n",
      "MOC\n",
      "MOCO\n",
      "MOD\n",
      "MODL\n",
      "MODN\n",
      "MOFG\n"
     ]
    },
    {
     "name": "stderr",
     "output_type": "stream",
     "text": [
      "/Users/lijinyang/opt/anaconda3/lib/python3.7/site-packages/ipykernel_launcher.py:11: RuntimeWarning: invalid value encountered in log\n",
      "  # This is added back by InteractiveShellApp.init_path()\n"
     ]
    },
    {
     "name": "stdout",
     "output_type": "stream",
     "text": [
      "MOG.A\n",
      "MOG.B\n",
      "MOGO\n",
      "MOGU\n",
      "MOH\n",
      "MOHO\n",
      "MOKO\n",
      "MOL\n",
      "MOLG\n",
      "MOLX\n",
      "MOLXA\n",
      "MOMO\n",
      "MON\n",
      "MONT\n"
     ]
    },
    {
     "name": "stderr",
     "output_type": "stream",
     "text": [
      "/Users/lijinyang/opt/anaconda3/lib/python3.7/site-packages/ipykernel_launcher.py:11: RuntimeWarning: invalid value encountered in log\n",
      "  # This is added back by InteractiveShellApp.init_path()\n",
      "/Users/lijinyang/opt/anaconda3/lib/python3.7/site-packages/ipykernel_launcher.py:11: RuntimeWarning: invalid value encountered in log\n",
      "  # This is added back by InteractiveShellApp.init_path()\n"
     ]
    },
    {
     "name": "stdout",
     "output_type": "stream",
     "text": [
      "MOR\n",
      "MORE\n",
      "MORF\n",
      "MORN\n",
      "MOS\n",
      "MOSC.U\n",
      "MOSC\n",
      "MOSY\n",
      "MOT\n",
      "MOTN\n",
      "MOTNU\n",
      "MOTNW\n",
      "MOTR\n",
      "MOTS\n",
      "MOTV.U\n",
      "MOU\n",
      "MOV\n",
      "MOVE\n",
      "MOXC\n",
      "MP.D\n",
      "MP\n",
      "MPA\n",
      "MPAA\n",
      "MPAC\n",
      "MPACU\n",
      "MPACW\n",
      "MPB\n",
      "MPC\n",
      "MPE\n",
      "MPEL\n",
      "MPET\n",
      "MPG\n",
      "MPJ\n",
      "MPLN\n",
      "MPLX\n",
      "MPO\n",
      "MPR\n",
      "MPS\n",
      "MPSX\n"
     ]
    },
    {
     "name": "stderr",
     "output_type": "stream",
     "text": [
      "/Users/lijinyang/opt/anaconda3/lib/python3.7/site-packages/ipykernel_launcher.py:11: RuntimeWarning: invalid value encountered in log\n",
      "  # This is added back by InteractiveShellApp.init_path()\n"
     ]
    },
    {
     "name": "stdout",
     "output_type": "stream",
     "text": [
      "MPV\n",
      "MPVD\n",
      "MPW\n",
      "MPWR\n",
      "MPX\n",
      "MQC\n",
      "MQT\n",
      "MQY\n",
      "MR\n",
      "MRACU\n",
      "MRAM\n",
      "MRBK\n",
      "MRC\n"
     ]
    },
    {
     "name": "stderr",
     "output_type": "stream",
     "text": [
      "/Users/lijinyang/opt/anaconda3/lib/python3.7/site-packages/ipykernel_launcher.py:11: RuntimeWarning: invalid value encountered in log\n",
      "  # This is added back by InteractiveShellApp.init_path()\n"
     ]
    },
    {
     "name": "stdout",
     "output_type": "stream",
     "text": [
      "MRCC\n",
      "MRCCL\n",
      "MRCY\n",
      "MRD\n",
      "MRDN\n",
      "MRDNW\n",
      "MREO\n"
     ]
    },
    {
     "name": "stderr",
     "output_type": "stream",
     "text": [
      "/Users/lijinyang/opt/anaconda3/lib/python3.7/site-packages/ipykernel_launcher.py:11: RuntimeWarning: invalid value encountered in log\n",
      "  # This is added back by InteractiveShellApp.init_path()\n",
      "/Users/lijinyang/opt/anaconda3/lib/python3.7/site-packages/ipykernel_launcher.py:11: RuntimeWarning: invalid value encountered in log\n",
      "  # This is added back by InteractiveShellApp.init_path()\n"
     ]
    },
    {
     "name": "stdout",
     "output_type": "stream",
     "text": [
      "MRF\n",
      "MRH.A\n",
      "MRH\n",
      "MRIC\n",
      "MRIN\n",
      "MRK\n",
      "MRKR\n",
      "MRKT\n",
      "MRLN\n",
      "MRM\n",
      "MRNA\n",
      "MRNS\n",
      "MRO\n",
      "MRSN\n"
     ]
    },
    {
     "name": "stderr",
     "output_type": "stream",
     "text": [
      "/Users/lijinyang/opt/anaconda3/lib/python3.7/site-packages/ipykernel_launcher.py:11: RuntimeWarning: invalid value encountered in log\n",
      "  # This is added back by InteractiveShellApp.init_path()\n"
     ]
    },
    {
     "name": "stdout",
     "output_type": "stream",
     "text": [
      "MRT\n",
      "MRTN\n",
      "MRTX\n",
      "MRUS\n",
      "MRVC\n",
      "MRVI\n",
      "MRVL\n",
      "MRX\n",
      "MS.A\n",
      "MS.E\n",
      "MS.F\n",
      "MS.G\n",
      "MS.I\n",
      "MS.K\n",
      "MS.L\n",
      "MS\n",
      "MSA\n",
      "MSB\n",
      "MSBF\n",
      "MSBI\n",
      "MSC\n",
      "MSCA\n",
      "MSCC\n",
      "MSCI\n",
      "MSCS\n",
      "MSD\n",
      "MSDI\n",
      "MSDIW\n"
     ]
    },
    {
     "name": "stderr",
     "output_type": "stream",
     "text": [
      "/Users/lijinyang/opt/anaconda3/lib/python3.7/site-packages/ipykernel_launcher.py:11: RuntimeWarning: invalid value encountered in log\n",
      "  # This is added back by InteractiveShellApp.init_path()\n"
     ]
    },
    {
     "name": "stdout",
     "output_type": "stream",
     "text": [
      "MSDXP\n",
      "MSEX\n",
      "MSF\n",
      "MSFG\n",
      "MSFT\n",
      "MSG\n",
      "MSGE\n",
      "MSGN\n",
      "MSGS\n",
      "MSHL\n",
      "MSI\n",
      "MSJ\n",
      "MSK\n"
     ]
    },
    {
     "name": "stderr",
     "output_type": "stream",
     "text": [
      "/Users/lijinyang/opt/anaconda3/lib/python3.7/site-packages/ipykernel_launcher.py:11: RuntimeWarning: invalid value encountered in log\n",
      "  # This is added back by InteractiveShellApp.init_path()\n"
     ]
    },
    {
     "name": "stdout",
     "output_type": "stream",
     "text": [
      "MSL\n",
      "MSLI\n",
      "MSM\n",
      "MSN\n",
      "MSO\n",
      "MSON\n",
      "MSP\n",
      "MSPD\n",
      "MSS\n",
      "MSSR\n",
      "MSTR\n",
      "MSTX\n",
      "MSVB\n"
     ]
    },
    {
     "name": "stderr",
     "output_type": "stream",
     "text": [
      "/Users/lijinyang/opt/anaconda3/lib/python3.7/site-packages/ipykernel_launcher.py:11: RuntimeWarning: invalid value encountered in log\n",
      "  # This is added back by InteractiveShellApp.init_path()\n",
      "/Users/lijinyang/opt/anaconda3/lib/python3.7/site-packages/ipykernel_launcher.py:11: RuntimeWarning: invalid value encountered in log\n",
      "  # This is added back by InteractiveShellApp.init_path()\n"
     ]
    },
    {
     "name": "stdout",
     "output_type": "stream",
     "text": [
      "MSW\n",
      "MSY\n",
      "MSZ\n",
      "MT\n",
      "MTA\n",
      "MTACU\n",
      "MTB.C\n",
      "MTB\n",
      "MTBC\n",
      "MTBCP\n",
      "MTC\n",
      "MTCH\n",
      "MTCN\n",
      "MTCR\n",
      "MTD\n"
     ]
    },
    {
     "name": "stderr",
     "output_type": "stream",
     "text": [
      "/Users/lijinyang/opt/anaconda3/lib/python3.7/site-packages/ipykernel_launcher.py:11: RuntimeWarning: invalid value encountered in log\n",
      "  # This is added back by InteractiveShellApp.init_path()\n",
      "/Users/lijinyang/opt/anaconda3/lib/python3.7/site-packages/ipykernel_launcher.py:11: RuntimeWarning: invalid value encountered in log\n",
      "  # This is added back by InteractiveShellApp.init_path()\n"
     ]
    },
    {
     "name": "stdout",
     "output_type": "stream",
     "text": [
      "MTDR\n",
      "MTE\n",
      "MTEC\n",
      "MTECU\n",
      "MTECW\n",
      "MTEM\n",
      "MTEX\n"
     ]
    },
    {
     "name": "stderr",
     "output_type": "stream",
     "text": [
      "/Users/lijinyang/opt/anaconda3/lib/python3.7/site-packages/ipykernel_launcher.py:11: RuntimeWarning: invalid value encountered in log\n",
      "  # This is added back by InteractiveShellApp.init_path()\n",
      "/Users/lijinyang/opt/anaconda3/lib/python3.7/site-packages/ipykernel_launcher.py:11: RuntimeWarning: invalid value encountered in log\n",
      "  # This is added back by InteractiveShellApp.init_path()\n",
      "/Users/lijinyang/opt/anaconda3/lib/python3.7/site-packages/ipykernel_launcher.py:11: RuntimeWarning: invalid value encountered in log\n",
      "  # This is added back by InteractiveShellApp.init_path()\n",
      "/Users/lijinyang/opt/anaconda3/lib/python3.7/site-packages/ipykernel_launcher.py:11: RuntimeWarning: invalid value encountered in log\n",
      "  # This is added back by InteractiveShellApp.init_path()\n"
     ]
    },
    {
     "name": "stdout",
     "output_type": "stream",
     "text": [
      "MTFB\n",
      "MTFBW\n",
      "MTG\n",
      "MTGE\n",
      "MTGEP\n",
      "MTH\n",
      "MTL\n",
      "MTLS\n",
      "MTN\n",
      "MTNB\n",
      "MTOR\n",
      "MTOX\n",
      "MTP\n",
      "MTR\n",
      "MTRN\n",
      "MTRX\n",
      "MTS\n",
      "MTSC\n",
      "MTSI\n",
      "MTSL\n"
     ]
    },
    {
     "name": "stderr",
     "output_type": "stream",
     "text": [
      "/Users/lijinyang/opt/anaconda3/lib/python3.7/site-packages/ipykernel_launcher.py:11: RuntimeWarning: invalid value encountered in log\n",
      "  # This is added back by InteractiveShellApp.init_path()\n"
     ]
    },
    {
     "name": "stdout",
     "output_type": "stream",
     "text": [
      "MTSN\n",
      "MTT\n",
      "MTU\n",
      "MTW\n",
      "MTX\n",
      "MTXX\n"
     ]
    },
    {
     "name": "stderr",
     "output_type": "stream",
     "text": [
      "/Users/lijinyang/opt/anaconda3/lib/python3.7/site-packages/ipykernel_launcher.py:11: RuntimeWarning: invalid value encountered in log\n",
      "  # This is added back by InteractiveShellApp.init_path()\n"
     ]
    },
    {
     "name": "stdout",
     "output_type": "stream",
     "text": [
      "MTY\n",
      "MTZ\n",
      "MU\n",
      "MUA\n",
      "MUC\n",
      "MUDS\n",
      "MUDSU\n",
      "MUDSW\n",
      "MUE\n",
      "MUFG\n",
      "MUH\n",
      "MUI\n",
      "MUJ\n",
      "MUK\n",
      "MULE\n",
      "MUR\n",
      "MUS\n",
      "MUSA\n",
      "MUX\n",
      "MV\n",
      "MVBF\n",
      "MVC\n",
      "MVCB\n",
      "MVCD\n",
      "MVF\n",
      "MVG\n",
      "MVIS\n",
      "MVISW\n",
      "MVL\n",
      "MVNR\n",
      "MVO\n",
      "MVSN\n",
      "MVT\n",
      "MW\n"
     ]
    },
    {
     "name": "stderr",
     "output_type": "stream",
     "text": [
      "/Users/lijinyang/opt/anaconda3/lib/python3.7/site-packages/ipykernel_launcher.py:11: RuntimeWarning: invalid value encountered in log\n",
      "  # This is added back by InteractiveShellApp.init_path()\n"
     ]
    },
    {
     "name": "stdout",
     "output_type": "stream",
     "text": [
      "MWA\n",
      "MWE\n",
      "MWG\n",
      "MWIV\n",
      "MWK\n",
      "MWO\n",
      "MWR\n",
      "MWRX\n",
      "MWV\n",
      "MWW\n",
      "MWY\n",
      "MX\n",
      "MXA\n",
      "MXB\n"
     ]
    },
    {
     "name": "stderr",
     "output_type": "stream",
     "text": [
      "/Users/lijinyang/opt/anaconda3/lib/python3.7/site-packages/ipykernel_launcher.py:11: RuntimeWarning: invalid value encountered in log\n",
      "  # This is added back by InteractiveShellApp.init_path()\n",
      "/Users/lijinyang/opt/anaconda3/lib/python3.7/site-packages/ipykernel_launcher.py:11: RuntimeWarning: invalid value encountered in log\n",
      "  # This is added back by InteractiveShellApp.init_path()\n"
     ]
    },
    {
     "name": "stdout",
     "output_type": "stream",
     "text": [
      "MXC\n",
      "MXE\n",
      "MXF\n",
      "MXGL\n",
      "MXH\n",
      "MXIM\n",
      "MXL\n",
      "MXN\n",
      "MXPT\n",
      "MXT\n",
      "MXWL\n",
      "MY\n",
      "MYC\n",
      "MYCC\n",
      "MYD\n",
      "MYE\n",
      "MYF\n",
      "MYFW\n",
      "MYGN\n",
      "MYI\n",
      "MYJ\n",
      "MYL\n",
      "MYM\n",
      "MYN\n",
      "MYND\n"
     ]
    },
    {
     "name": "stderr",
     "output_type": "stream",
     "text": [
      "/Users/lijinyang/opt/anaconda3/lib/python3.7/site-packages/ipykernel_launcher.py:11: RuntimeWarning: invalid value encountered in log\n",
      "  # This is added back by InteractiveShellApp.init_path()\n",
      "/Users/lijinyang/opt/anaconda3/lib/python3.7/site-packages/ipykernel_launcher.py:11: RuntimeWarning: invalid value encountered in log\n",
      "  # This is added back by InteractiveShellApp.init_path()\n",
      "/Users/lijinyang/opt/anaconda3/lib/python3.7/site-packages/ipykernel_launcher.py:11: RuntimeWarning: invalid value encountered in log\n",
      "  # This is added back by InteractiveShellApp.init_path()\n"
     ]
    },
    {
     "name": "stdout",
     "output_type": "stream",
     "text": [
      "MYNDW\n",
      "MYO\n",
      "MYOK\n",
      "MYOS\n",
      "MYOV\n",
      "MYP\n",
      "MYRG\n",
      "MYSZ\n",
      "MYT\n",
      "MZA\n",
      "MZF\n",
      "MZOR\n",
      "N\n"
     ]
    },
    {
     "name": "stderr",
     "output_type": "stream",
     "text": [
      "/Users/lijinyang/opt/anaconda3/lib/python3.7/site-packages/ipykernel_launcher.py:11: RuntimeWarning: invalid value encountered in log\n",
      "  # This is added back by InteractiveShellApp.init_path()\n",
      "/Users/lijinyang/opt/anaconda3/lib/python3.7/site-packages/ipykernel_launcher.py:11: RuntimeWarning: invalid value encountered in log\n",
      "  # This is added back by InteractiveShellApp.init_path()\n"
     ]
    },
    {
     "name": "stdout",
     "output_type": "stream",
     "text": [
      "NABI\n",
      "NAC\n",
      "NAD\n",
      "NADL\n",
      "NAFC\n",
      "NAI\n",
      "NAII\n",
      "NAK\n",
      "NAKD\n",
      "NAL\n",
      "NAME\n"
     ]
    },
    {
     "name": "stderr",
     "output_type": "stream",
     "text": [
      "/Users/lijinyang/opt/anaconda3/lib/python3.7/site-packages/ipykernel_launcher.py:11: RuntimeWarning: invalid value encountered in log\n",
      "  # This is added back by InteractiveShellApp.init_path()\n"
     ]
    },
    {
     "name": "stdout",
     "output_type": "stream",
     "text": [
      "NAN\n",
      "NANO\n",
      "NAO\n",
      "NAOV\n",
      "NAP\n",
      "NARA\n"
     ]
    },
    {
     "name": "stderr",
     "output_type": "stream",
     "text": [
      "/Users/lijinyang/opt/anaconda3/lib/python3.7/site-packages/ipykernel_launcher.py:11: RuntimeWarning: invalid value encountered in log\n",
      "  # This is added back by InteractiveShellApp.init_path()\n"
     ]
    },
    {
     "name": "stdout",
     "output_type": "stream",
     "text": [
      "NARI\n",
      "NAT\n",
      "NATH\n",
      "NATI\n",
      "NATL\n",
      "NATR\n",
      "NAV.D\n",
      "NAV\n",
      "NAVB\n",
      "NAVG\n",
      "NAVI\n",
      "NAVR\n",
      "NAZ\n"
     ]
    },
    {
     "name": "stderr",
     "output_type": "stream",
     "text": [
      "/Users/lijinyang/opt/anaconda3/lib/python3.7/site-packages/ipykernel_launcher.py:11: RuntimeWarning: invalid value encountered in log\n",
      "  # This is added back by InteractiveShellApp.init_path()\n"
     ]
    },
    {
     "name": "stdout",
     "output_type": "stream",
     "text": [
      "NBA.U\n",
      "NBA\n",
      "NBAC\n",
      "NBACR\n",
      "NBACU\n",
      "NBACW\n",
      "NBB\n",
      "NBBC\n",
      "NBCB\n",
      "NBD\n",
      "NBEV\n",
      "NBG.A\n",
      "NBG\n",
      "NBH\n",
      "NBHC\n",
      "NBIX\n",
      "NBJ\n",
      "NBL\n",
      "NBLX\n",
      "NBN\n",
      "NBO\n",
      "NBR.A\n",
      "NBR\n",
      "NBRV\n",
      "NBS\n",
      "NBSE\n",
      "NBTB\n"
     ]
    },
    {
     "name": "stderr",
     "output_type": "stream",
     "text": [
      "/Users/lijinyang/opt/anaconda3/lib/python3.7/site-packages/ipykernel_launcher.py:11: RuntimeWarning: invalid value encountered in log\n",
      "  # This is added back by InteractiveShellApp.init_path()\n"
     ]
    },
    {
     "name": "stdout",
     "output_type": "stream",
     "text": [
      "NBTF\n",
      "NBTX\n",
      "NBW\n",
      "NBY\n",
      "NC\n",
      "NCA\n",
      "NCB\n",
      "NCBC\n",
      "NCBS\n",
      "NCC\n",
      "NCFT\n",
      "NCI\n",
      "NCIT\n",
      "NCL\n",
      "NCLH\n",
      "NCMI\n",
      "NCNA\n",
      "NCNO\n",
      "NCO\n",
      "NCOC\n",
      "NCOM\n",
      "NCP\n",
      "NCQ\n",
      "NCR\n",
      "NCS\n",
      "NCSM\n",
      "NCT.B\n",
      "NCT.C\n",
      "NCT.D\n",
      "NCT\n",
      "NCTY\n",
      "NCU\n",
      "NCV.A\n"
     ]
    },
    {
     "name": "stderr",
     "output_type": "stream",
     "text": [
      "/Users/lijinyang/opt/anaconda3/lib/python3.7/site-packages/ipykernel_launcher.py:11: RuntimeWarning: invalid value encountered in log\n",
      "  # This is added back by InteractiveShellApp.init_path()\n"
     ]
    },
    {
     "name": "stdout",
     "output_type": "stream",
     "text": [
      "NCV\n",
      "NCZ.A\n",
      "NCZ\n",
      "NDAQ\n",
      "NDLS\n",
      "NDMO\n",
      "NDN\n",
      "NDP\n",
      "NDRA\n",
      "NDRAU\n",
      "NDRAW\n",
      "NDRM\n",
      "NDRO\n",
      "NDSN\n",
      "NDZ\n",
      "NE\n",
      "NEA\n",
      "NEBCU\n",
      "NEBS\n",
      "NEBU\n",
      "NEBUU\n",
      "NEBUW\n",
      "NED\n",
      "NEE.C\n",
      "NEE.G\n",
      "NEE.H\n",
      "NEE.I\n",
      "NEE.J\n",
      "NEE.K\n",
      "NEE.N\n",
      "NEE.O\n",
      "NEE.P\n",
      "NEE.Q\n",
      "NEE.R\n",
      "NEE\n",
      "NEFF\n",
      "NEI\n",
      "NEM\n",
      "NEN\n",
      "NEO\n",
      "NEOG\n",
      "NEON\n",
      "NEOP\n",
      "NEOS\n",
      "NEOT\n"
     ]
    },
    {
     "name": "stderr",
     "output_type": "stream",
     "text": [
      "/Users/lijinyang/opt/anaconda3/lib/python3.7/site-packages/ipykernel_launcher.py:11: RuntimeWarning: invalid value encountered in log\n",
      "  # This is added back by InteractiveShellApp.init_path()\n",
      "/Users/lijinyang/opt/anaconda3/lib/python3.7/site-packages/ipykernel_launcher.py:11: RuntimeWarning: invalid value encountered in log\n",
      "  # This is added back by InteractiveShellApp.init_path()\n"
     ]
    },
    {
     "name": "stdout",
     "output_type": "stream",
     "text": [
      "NEP\n",
      "NEPH\n",
      "NEPT\n",
      "NERV\n",
      "NES\n",
      "NESR\n",
      "NESRW\n"
     ]
    },
    {
     "name": "stderr",
     "output_type": "stream",
     "text": [
      "/Users/lijinyang/opt/anaconda3/lib/python3.7/site-packages/ipykernel_launcher.py:11: RuntimeWarning: invalid value encountered in log\n",
      "  # This is added back by InteractiveShellApp.init_path()\n",
      "/Users/lijinyang/opt/anaconda3/lib/python3.7/site-packages/ipykernel_launcher.py:11: RuntimeWarning: invalid value encountered in log\n",
      "  # This is added back by InteractiveShellApp.init_path()\n"
     ]
    },
    {
     "name": "stdout",
     "output_type": "stream",
     "text": [
      "NET\n",
      "NETC\n",
      "NETE\n",
      "NETL\n",
      "NETS\n",
      "NEU\n",
      "NEV\n"
     ]
    },
    {
     "name": "stderr",
     "output_type": "stream",
     "text": [
      "/Users/lijinyang/opt/anaconda3/lib/python3.7/site-packages/ipykernel_launcher.py:11: RuntimeWarning: invalid value encountered in log\n",
      "  # This is added back by InteractiveShellApp.init_path()\n",
      "/Users/lijinyang/opt/anaconda3/lib/python3.7/site-packages/ipykernel_launcher.py:11: RuntimeWarning: invalid value encountered in log\n",
      "  # This is added back by InteractiveShellApp.init_path()\n",
      "/Users/lijinyang/opt/anaconda3/lib/python3.7/site-packages/ipykernel_launcher.py:11: RuntimeWarning: invalid value encountered in log\n",
      "  # This is added back by InteractiveShellApp.init_path()\n"
     ]
    },
    {
     "name": "stdout",
     "output_type": "stream",
     "text": [
      "NEW\n",
      "NEWA\n",
      "NEWL\n",
      "NEWM\n",
      "NEWN\n",
      "NEWP\n",
      "NEWR\n"
     ]
    },
    {
     "name": "stderr",
     "output_type": "stream",
     "text": [
      "/Users/lijinyang/opt/anaconda3/lib/python3.7/site-packages/ipykernel_launcher.py:11: RuntimeWarning: invalid value encountered in log\n",
      "  # This is added back by InteractiveShellApp.init_path()\n"
     ]
    },
    {
     "name": "stdout",
     "output_type": "stream",
     "text": [
      "NEWS\n",
      "NEWT\n",
      "NEWTI\n",
      "NEWTL\n",
      "NEWTZ\n",
      "NEX\n",
      "NEXA\n",
      "NEXT\n",
      "NFBK\n",
      "NFC.U\n",
      "NFC\n",
      "NFE\n",
      "NFEC\n",
      "NFG\n"
     ]
    },
    {
     "name": "stderr",
     "output_type": "stream",
     "text": [
      "/Users/lijinyang/opt/anaconda3/lib/python3.7/site-packages/ipykernel_launcher.py:11: RuntimeWarning: invalid value encountered in log\n",
      "  # This is added back by InteractiveShellApp.init_path()\n"
     ]
    },
    {
     "name": "stdout",
     "output_type": "stream",
     "text": [
      "NFH\n",
      "NFIN\n",
      "NFINU\n",
      "NFINW\n",
      "NFJ\n",
      "NFLX\n",
      "NFM\n",
      "NFP\n",
      "NFS\n",
      "NFSB\n",
      "NFX\n",
      "NFZ\n",
      "NG\n",
      "NGA.U\n"
     ]
    },
    {
     "name": "stderr",
     "output_type": "stream",
     "text": [
      "/Users/lijinyang/opt/anaconda3/lib/python3.7/site-packages/ipykernel_launcher.py:11: RuntimeWarning: invalid value encountered in log\n",
      "  # This is added back by InteractiveShellApp.init_path()\n"
     ]
    },
    {
     "name": "stdout",
     "output_type": "stream",
     "text": [
      "NGA\n",
      "NGAC\n",
      "NGACU\n",
      "NGACW\n",
      "NGB\n",
      "NGD\n",
      "NGG\n",
      "NGHC\n",
      "NGHCN\n",
      "NGHCO\n",
      "NGHCP\n",
      "NGHCZ\n",
      "NGK\n",
      "NGL.B\n",
      "NGL.C\n",
      "NGL\n",
      "NGLS.A\n",
      "NGLS\n",
      "NGM\n",
      "NGMS\n",
      "NGO\n",
      "NGPC\n",
      "NGS\n",
      "NGSX\n",
      "NGT\n",
      "NGVC\n",
      "NGVT\n",
      "NGX\n"
     ]
    },
    {
     "name": "stderr",
     "output_type": "stream",
     "text": [
      "/Users/lijinyang/opt/anaconda3/lib/python3.7/site-packages/ipykernel_launcher.py:11: RuntimeWarning: invalid value encountered in log\n",
      "  # This is added back by InteractiveShellApp.init_path()\n"
     ]
    },
    {
     "name": "stdout",
     "output_type": "stream",
     "text": [
      "NGZ\n",
      "NH\n",
      "NHA\n",
      "NHC.A\n",
      "NHC\n",
      "NHF\n",
      "NHI\n",
      "NHIC\n",
      "NHICU\n",
      "NHICW\n",
      "NHLD\n",
      "NHLDW\n",
      "NHP\n",
      "NHS\n"
     ]
    },
    {
     "name": "stderr",
     "output_type": "stream",
     "text": [
      "/Users/lijinyang/opt/anaconda3/lib/python3.7/site-packages/ipykernel_launcher.py:11: RuntimeWarning: invalid value encountered in log\n",
      "  # This is added back by InteractiveShellApp.init_path()\n",
      "/Users/lijinyang/opt/anaconda3/lib/python3.7/site-packages/ipykernel_launcher.py:11: RuntimeWarning: invalid value encountered in log\n",
      "  # This is added back by InteractiveShellApp.init_path()\n"
     ]
    },
    {
     "name": "stdout",
     "output_type": "stream",
     "text": [
      "NHTB\n",
      "NHTC\n",
      "NHWK\n",
      "NI.B\n",
      "NI\n",
      "NICE\n",
      "NICK\n",
      "NID\n",
      "NIE\n",
      "NIF\n",
      "NIHD\n",
      "NIHDQ\n"
     ]
    },
    {
     "name": "stderr",
     "output_type": "stream",
     "text": [
      "/Users/lijinyang/opt/anaconda3/lib/python3.7/site-packages/ipykernel_launcher.py:11: RuntimeWarning: invalid value encountered in log\n",
      "  # This is added back by InteractiveShellApp.init_path()\n",
      "/Users/lijinyang/opt/anaconda3/lib/python3.7/site-packages/ipykernel_launcher.py:11: RuntimeWarning: invalid value encountered in log\n",
      "  # This is added back by InteractiveShellApp.init_path()\n"
     ]
    },
    {
     "name": "stdout",
     "output_type": "stream",
     "text": [
      "NII\n",
      "NILE\n",
      "NIM\n",
      "NINE\n",
      "NIO\n",
      "NIQ\n",
      "NISN\n",
      "NITE\n",
      "NIU\n",
      "NIV\n",
      "NJ\n",
      "NJR\n",
      "NJV\n",
      "NK\n",
      "NKA\n",
      "NKBP\n",
      "NKE\n",
      "NKG\n",
      "NKL\n",
      "NKLA\n",
      "NKLAW\n",
      "NKO\n",
      "NKR\n",
      "NKSH\n",
      "NKTR\n",
      "NKTX\n",
      "NKX\n",
      "NL\n",
      "NLC\n",
      "NLCI\n",
      "NLNK\n",
      "NLOK\n",
      "NLP\n",
      "NLS\n",
      "NLSN\n",
      "NLTX\n",
      "NLY.A\n",
      "NLY.C\n",
      "NLY.D\n",
      "NLY.E\n",
      "NLY.F\n"
     ]
    },
    {
     "name": "stderr",
     "output_type": "stream",
     "text": [
      "/Users/lijinyang/opt/anaconda3/lib/python3.7/site-packages/ipykernel_launcher.py:11: RuntimeWarning: invalid value encountered in log\n",
      "  # This is added back by InteractiveShellApp.init_path()\n"
     ]
    },
    {
     "name": "stdout",
     "output_type": "stream",
     "text": [
      "NLY.G\n",
      "NLY.H\n",
      "NLY.I\n",
      "NLY\n",
      "NM.G\n",
      "NM.H\n",
      "NM\n",
      "NMA\n",
      "NMAR\n",
      "NMB\n",
      "NMBL\n",
      "NMCI\n",
      "NMCO\n",
      "NMD\n",
      "NMFC\n",
      "NMFCL\n",
      "NMFX\n",
      "NMI\n",
      "NMIH\n",
      "NMK.B\n",
      "NMK.C\n",
      "NML\n",
      "NMM\n",
      "NMMC\n",
      "NMMCU\n",
      "NMMCW\n",
      "NMO\n",
      "NMP\n",
      "NMR\n",
      "NMRD\n",
      "NMRK\n",
      "NMRKV\n",
      "NMRX\n",
      "NMS\n",
      "NMT\n",
      "NMTR\n",
      "NMX\n",
      "NMY\n"
     ]
    },
    {
     "name": "stderr",
     "output_type": "stream",
     "text": [
      "/Users/lijinyang/opt/anaconda3/lib/python3.7/site-packages/ipykernel_launcher.py:11: RuntimeWarning: invalid value encountered in log\n",
      "  # This is added back by InteractiveShellApp.init_path()\n",
      "/Users/lijinyang/opt/anaconda3/lib/python3.7/site-packages/ipykernel_launcher.py:11: RuntimeWarning: invalid value encountered in log\n",
      "  # This is added back by InteractiveShellApp.init_path()\n"
     ]
    },
    {
     "name": "stdout",
     "output_type": "stream",
     "text": [
      "NMZ\n",
      "NNA\n",
      "NNB\n",
      "NNBR\n",
      "NNC\n",
      "NNDM\n"
     ]
    },
    {
     "name": "stderr",
     "output_type": "stream",
     "text": [
      "/Users/lijinyang/opt/anaconda3/lib/python3.7/site-packages/ipykernel_launcher.py:11: RuntimeWarning: invalid value encountered in log\n",
      "  # This is added back by InteractiveShellApp.init_path()\n"
     ]
    },
    {
     "name": "stdout",
     "output_type": "stream",
     "text": [
      "NNF\n",
      "NNI\n",
      "NNJ\n",
      "NNN.D\n",
      "NNN.E\n",
      "NNN.F\n",
      "NNN\n",
      "NNO\n",
      "NNOX\n",
      "NNP\n",
      "NNVC\n",
      "NNY\n",
      "NOA\n",
      "NOACU\n"
     ]
    },
    {
     "name": "stderr",
     "output_type": "stream",
     "text": [
      "/Users/lijinyang/opt/anaconda3/lib/python3.7/site-packages/ipykernel_launcher.py:11: RuntimeWarning: invalid value encountered in log\n",
      "  # This is added back by InteractiveShellApp.init_path()\n",
      "/Users/lijinyang/opt/anaconda3/lib/python3.7/site-packages/ipykernel_launcher.py:11: RuntimeWarning: invalid value encountered in log\n",
      "  # This is added back by InteractiveShellApp.init_path()\n"
     ]
    },
    {
     "name": "stdout",
     "output_type": "stream",
     "text": [
      "NOAH\n",
      "NOC\n",
      "NODK\n",
      "NOG\n",
      "NOIZ\n",
      "NOK\n",
      "NOM\n",
      "NOMD\n",
      "NOOF\n",
      "NOR\n",
      "NORD\n",
      "NOV\n",
      "NOVA\n",
      "NOVB\n"
     ]
    },
    {
     "name": "stderr",
     "output_type": "stream",
     "text": [
      "/Users/lijinyang/opt/anaconda3/lib/python3.7/site-packages/ipykernel_launcher.py:11: RuntimeWarning: invalid value encountered in log\n",
      "  # This is added back by InteractiveShellApp.init_path()\n",
      "/Users/lijinyang/opt/anaconda3/lib/python3.7/site-packages/ipykernel_launcher.py:11: RuntimeWarning: invalid value encountered in log\n",
      "  # This is added back by InteractiveShellApp.init_path()\n"
     ]
    },
    {
     "name": "stdout",
     "output_type": "stream",
     "text": [
      "NOVL\n",
      "NOVN\n",
      "NOVS\n",
      "NOVSU\n",
      "NOVSW\n",
      "NOVT\n",
      "NOW\n",
      "NP\n",
      "NPA\n",
      "NPAUU\n",
      "NPAWW\n",
      "NPBC\n",
      "NPBCO\n",
      "NPC\n",
      "NPD\n",
      "NPF\n",
      "NPG\n",
      "NPI\n",
      "NPK\n",
      "NPM\n",
      "NPN\n",
      "NPO\n",
      "NPP\n",
      "NPSP\n",
      "NPT\n",
      "NPTN\n",
      "NPV\n",
      "NPX\n",
      "NPY\n",
      "NQ\n",
      "NQC\n",
      "NQI\n",
      "NQJ\n",
      "NQM\n",
      "NQN\n",
      "NQP\n",
      "NQS\n",
      "NQU\n",
      "NR\n",
      "NRB\n",
      "NRBO\n",
      "NRC\n",
      "NRCG\n",
      "NRCI\n",
      "NRCIA\n",
      "NRCIB\n",
      "NRE\n",
      "NREF.A\n",
      "NREF\n",
      "NRF.A\n"
     ]
    },
    {
     "name": "stderr",
     "output_type": "stream",
     "text": [
      "/Users/lijinyang/opt/anaconda3/lib/python3.7/site-packages/ipykernel_launcher.py:11: RuntimeWarning: invalid value encountered in log\n",
      "  # This is added back by InteractiveShellApp.init_path()\n"
     ]
    },
    {
     "name": "stdout",
     "output_type": "stream",
     "text": [
      "NRF.B\n",
      "NRF.C\n",
      "NRF.D\n",
      "NRF.E\n",
      "NRF\n",
      "NRG\n",
      "NRGM\n",
      "NRGX\n",
      "NRGY\n",
      "NRIM\n",
      "NRIX\n",
      "NRK\n",
      "NRO\n",
      "NRP\n",
      "NRT\n",
      "NRU\n",
      "NRUC\n",
      "NRX\n",
      "NRZ.A\n",
      "NRZ.B\n",
      "NRZ.C\n",
      "NRZ\n",
      "NS.A\n",
      "NS.B\n",
      "NS.C\n",
      "NS\n",
      "NSA.A\n",
      "NSA\n",
      "NSAM\n",
      "NSAT\n",
      "NSC\n",
      "NSCO\n",
      "NSEC\n",
      "NSH.U\n",
      "NSH\n",
      "NSIT\n",
      "NSL\n",
      "NSLP.A\n",
      "NSLP\n",
      "NSM\n",
      "NSP\n",
      "NSPH\n",
      "NSPR\n"
     ]
    },
    {
     "name": "stderr",
     "output_type": "stream",
     "text": [
      "/Users/lijinyang/opt/anaconda3/lib/python3.7/site-packages/ipykernel_launcher.py:11: RuntimeWarning: invalid value encountered in log\n",
      "  # This is added back by InteractiveShellApp.init_path()\n"
     ]
    },
    {
     "name": "stdout",
     "output_type": "stream",
     "text": [
      "NSR\n",
      "NSS\n",
      "NSSC\n",
      "NST\n",
      "NSTC\n",
      "NSTG\n",
      "NSU\n",
      "NSYS\n",
      "NTAP\n",
      "NTB\n",
      "NTC\n",
      "NTCO\n",
      "NTCT\n",
      "NTE\n",
      "NTEC\n",
      "NTES\n",
      "NTEST.A\n",
      "NTEST.B\n",
      "NTEST.C\n",
      "NTEST\n",
      "NTG\n"
     ]
    },
    {
     "name": "stderr",
     "output_type": "stream",
     "text": [
      "/Users/lijinyang/opt/anaconda3/lib/python3.7/site-packages/ipykernel_launcher.py:11: RuntimeWarning: invalid value encountered in log\n",
      "  # This is added back by InteractiveShellApp.init_path()\n",
      "/Users/lijinyang/opt/anaconda3/lib/python3.7/site-packages/ipykernel_launcher.py:11: RuntimeWarning: invalid value encountered in log\n",
      "  # This is added back by InteractiveShellApp.init_path()\n"
     ]
    },
    {
     "name": "stdout",
     "output_type": "stream",
     "text": [
      "NTGN\n",
      "NTGR\n",
      "NTI\n",
      "NTIC\n",
      "NTIP\n",
      "NTK\n",
      "NTL\n",
      "NTLA\n",
      "NTLS\n",
      "NTN\n",
      "NTNX\n",
      "NTP\n",
      "NTR\n",
      "NTRA\n"
     ]
    },
    {
     "name": "stderr",
     "output_type": "stream",
     "text": [
      "/Users/lijinyang/opt/anaconda3/lib/python3.7/site-packages/ipykernel_launcher.py:11: RuntimeWarning: invalid value encountered in log\n",
      "  # This is added back by InteractiveShellApp.init_path()\n",
      "/Users/lijinyang/opt/anaconda3/lib/python3.7/site-packages/ipykernel_launcher.py:11: RuntimeWarning: invalid value encountered in log\n",
      "  # This is added back by InteractiveShellApp.init_path()\n"
     ]
    },
    {
     "name": "stdout",
     "output_type": "stream",
     "text": [
      "NTRI\n",
      "NTRP\n",
      "NTRS\n",
      "NTRSO\n",
      "NTRSP\n",
      "NTS\n",
      "NTSC\n",
      "NTSP\n",
      "NTST\n",
      "NTT\n",
      "NTUS\n",
      "NTWK\n",
      "NTX\n",
      "NTY\n",
      "NTZ\n",
      "NU\n",
      "NUAN\n",
      "NUANV\n",
      "NUC\n",
      "NUE\n",
      "NUJ\n",
      "NUM\n",
      "NUN\n",
      "NUO\n",
      "NURO\n",
      "NUROW\n",
      "NUS\n",
      "NUTR\n",
      "NUV\n",
      "NUVA\n"
     ]
    },
    {
     "name": "stderr",
     "output_type": "stream",
     "text": [
      "/Users/lijinyang/opt/anaconda3/lib/python3.7/site-packages/ipykernel_launcher.py:11: RuntimeWarning: invalid value encountered in log\n",
      "  # This is added back by InteractiveShellApp.init_path()\n"
     ]
    },
    {
     "name": "stdout",
     "output_type": "stream",
     "text": [
      "NUW\n",
      "NUZE\n",
      "NVAX\n",
      "NVC\n",
      "NVCN\n",
      "NVCR\n",
      "NVDA\n"
     ]
    },
    {
     "name": "stderr",
     "output_type": "stream",
     "text": [
      "/Users/lijinyang/opt/anaconda3/lib/python3.7/site-packages/ipykernel_launcher.py:11: RuntimeWarning: invalid value encountered in log\n",
      "  # This is added back by InteractiveShellApp.init_path()\n",
      "/Users/lijinyang/opt/anaconda3/lib/python3.7/site-packages/ipykernel_launcher.py:11: RuntimeWarning: invalid value encountered in log\n",
      "  # This is added back by InteractiveShellApp.init_path()\n",
      "/Users/lijinyang/opt/anaconda3/lib/python3.7/site-packages/ipykernel_launcher.py:11: RuntimeWarning: invalid value encountered in log\n",
      "  # This is added back by InteractiveShellApp.init_path()\n"
     ]
    },
    {
     "name": "stdout",
     "output_type": "stream",
     "text": [
      "NVDQ\n",
      "NVE\n",
      "NVEC\n",
      "NVEE\n",
      "NVET\n",
      "NVFY\n",
      "NVG\n"
     ]
    },
    {
     "name": "stderr",
     "output_type": "stream",
     "text": [
      "/Users/lijinyang/opt/anaconda3/lib/python3.7/site-packages/ipykernel_launcher.py:11: RuntimeWarning: invalid value encountered in log\n",
      "  # This is added back by InteractiveShellApp.init_path()\n",
      "/Users/lijinyang/opt/anaconda3/lib/python3.7/site-packages/ipykernel_launcher.py:11: RuntimeWarning: invalid value encountered in log\n",
      "  # This is added back by InteractiveShellApp.init_path()\n",
      "/Users/lijinyang/opt/anaconda3/lib/python3.7/site-packages/ipykernel_launcher.py:11: RuntimeWarning: invalid value encountered in log\n",
      "  # This is added back by InteractiveShellApp.init_path()\n",
      "/Users/lijinyang/opt/anaconda3/lib/python3.7/site-packages/ipykernel_launcher.py:11: RuntimeWarning: invalid value encountered in log\n",
      "  # This is added back by InteractiveShellApp.init_path()\n"
     ]
    },
    {
     "name": "stdout",
     "output_type": "stream",
     "text": [
      "NVGN\n",
      "NVGND\n",
      "NVGS\n",
      "NVIV\n",
      "NVJ\n",
      "NVLN\n",
      "NVLS\n"
     ]
    },
    {
     "name": "stderr",
     "output_type": "stream",
     "text": [
      "/Users/lijinyang/opt/anaconda3/lib/python3.7/site-packages/ipykernel_launcher.py:11: RuntimeWarning: invalid value encountered in log\n",
      "  # This is added back by InteractiveShellApp.init_path()\n",
      "/Users/lijinyang/opt/anaconda3/lib/python3.7/site-packages/ipykernel_launcher.py:11: RuntimeWarning: invalid value encountered in log\n",
      "  # This is added back by InteractiveShellApp.init_path()\n",
      "/Users/lijinyang/opt/anaconda3/lib/python3.7/site-packages/ipykernel_launcher.py:11: RuntimeWarning: invalid value encountered in log\n",
      "  # This is added back by InteractiveShellApp.init_path()\n"
     ]
    },
    {
     "name": "stdout",
     "output_type": "stream",
     "text": [
      "NVMI\n",
      "NVMM\n",
      "NVN\n",
      "NVO\n",
      "NVR\n",
      "NVRO\n",
      "NVS\n",
      "NVSL\n",
      "NVST\n",
      "NVT\n",
      "NVTA\n",
      "NVTL\n",
      "NVTR\n",
      "NVTRV\n",
      "NVUS\n"
     ]
    },
    {
     "name": "stderr",
     "output_type": "stream",
     "text": [
      "/Users/lijinyang/opt/anaconda3/lib/python3.7/site-packages/ipykernel_launcher.py:11: RuntimeWarning: invalid value encountered in log\n",
      "  # This is added back by InteractiveShellApp.init_path()\n",
      "/Users/lijinyang/opt/anaconda3/lib/python3.7/site-packages/ipykernel_launcher.py:11: RuntimeWarning: invalid value encountered in log\n",
      "  # This is added back by InteractiveShellApp.init_path()\n",
      "/Users/lijinyang/opt/anaconda3/lib/python3.7/site-packages/ipykernel_launcher.py:11: RuntimeWarning: invalid value encountered in log\n",
      "  # This is added back by InteractiveShellApp.init_path()\n"
     ]
    },
    {
     "name": "stdout",
     "output_type": "stream",
     "text": [
      "NVX\n",
      "NVY\n",
      "NW.C\n",
      "NWA\n",
      "NWBI\n",
      "NWBOW\n",
      "NWE\n"
     ]
    },
    {
     "name": "stderr",
     "output_type": "stream",
     "text": [
      "/Users/lijinyang/opt/anaconda3/lib/python3.7/site-packages/ipykernel_launcher.py:11: RuntimeWarning: invalid value encountered in log\n",
      "  # This is added back by InteractiveShellApp.init_path()\n",
      "/Users/lijinyang/opt/anaconda3/lib/python3.7/site-packages/ipykernel_launcher.py:11: RuntimeWarning: invalid value encountered in log\n",
      "  # This is added back by InteractiveShellApp.init_path()\n",
      "/Users/lijinyang/opt/anaconda3/lib/python3.7/site-packages/ipykernel_launcher.py:11: RuntimeWarning: invalid value encountered in log\n",
      "  # This is added back by InteractiveShellApp.init_path()\n"
     ]
    },
    {
     "name": "stdout",
     "output_type": "stream",
     "text": [
      "NWFL\n",
      "NWG\n",
      "NWGI\n",
      "NWHM\n",
      "NWI\n",
      "NWK\n",
      "NWL\n",
      "NWLI\n",
      "NWLIA\n",
      "NWN\n",
      "NWPX\n",
      "NWS\n",
      "NWSA\n",
      "NWSB\n",
      "NWY\n",
      "NX\n",
      "NXC\n",
      "NXE\n",
      "NXEO\n",
      "NXEOU\n",
      "NXEOW\n"
     ]
    },
    {
     "name": "stderr",
     "output_type": "stream",
     "text": [
      "/Users/lijinyang/opt/anaconda3/lib/python3.7/site-packages/ipykernel_launcher.py:11: RuntimeWarning: invalid value encountered in log\n",
      "  # This is added back by InteractiveShellApp.init_path()\n"
     ]
    },
    {
     "name": "stdout",
     "output_type": "stream",
     "text": [
      "NXGN\n",
      "NXI\n",
      "NXJ\n",
      "NXK\n",
      "NXM\n",
      "NXN\n",
      "NXP\n",
      "NXPI\n",
      "NXQ\n",
      "NXR\n",
      "NXRT\n",
      "NXST\n",
      "NXTC\n",
      "NXTD\n",
      "NXTDW\n",
      "NXTM\n",
      "NXY\n",
      "NXZ\n",
      "NYB\n",
      "NYC\n",
      "NYCB.A\n",
      "NYCB.U\n",
      "NYCB\n",
      "NYH\n",
      "NYLD.A\n",
      "NYLD\n"
     ]
    },
    {
     "name": "stderr",
     "output_type": "stream",
     "text": [
      "/Users/lijinyang/opt/anaconda3/lib/python3.7/site-packages/ipykernel_launcher.py:11: RuntimeWarning: invalid value encountered in log\n",
      "  # This is added back by InteractiveShellApp.init_path()\n"
     ]
    },
    {
     "name": "stdout",
     "output_type": "stream",
     "text": [
      "NYM\n",
      "NYMT\n",
      "NYMTM\n",
      "NYMTN\n",
      "NYMTO\n",
      "NYMTP\n",
      "NYMX\n"
     ]
    },
    {
     "name": "stderr",
     "output_type": "stream",
     "text": [
      "/Users/lijinyang/opt/anaconda3/lib/python3.7/site-packages/ipykernel_launcher.py:11: RuntimeWarning: invalid value encountered in log\n",
      "  # This is added back by InteractiveShellApp.init_path()\n",
      "/Users/lijinyang/opt/anaconda3/lib/python3.7/site-packages/ipykernel_launcher.py:11: RuntimeWarning: invalid value encountered in log\n",
      "  # This is added back by InteractiveShellApp.init_path()\n"
     ]
    },
    {
     "name": "stdout",
     "output_type": "stream",
     "text": [
      "NYNY\n",
      "NYNYR\n",
      "NYRT\n",
      "NYT\n",
      "NYV\n",
      "NYX\n",
      "NZ\n",
      "NZF\n",
      "NZH\n",
      "NZR\n",
      "NZT\n",
      "NZW\n",
      "NZX\n",
      "O.F\n",
      "O\n",
      "OA\n",
      "OABC\n",
      "OAC.U\n",
      "OAC\n",
      "OACB.U\n",
      "OACB\n",
      "OACQ\n",
      "OACQR\n",
      "OACQU\n",
      "OACQW\n",
      "OAK.A\n",
      "OAK.B\n",
      "OAK\n",
      "OAKS.A\n",
      "OAKS\n"
     ]
    },
    {
     "name": "stderr",
     "output_type": "stream",
     "text": [
      "/Users/lijinyang/opt/anaconda3/lib/python3.7/site-packages/ipykernel_launcher.py:11: RuntimeWarning: invalid value encountered in log\n",
      "  # This is added back by InteractiveShellApp.init_path()\n",
      "/Users/lijinyang/opt/anaconda3/lib/python3.7/site-packages/ipykernel_launcher.py:11: RuntimeWarning: invalid value encountered in log\n",
      "  # This is added back by InteractiveShellApp.init_path()\n"
     ]
    },
    {
     "name": "stdout",
     "output_type": "stream",
     "text": [
      "OAS\n",
      "OASM\n",
      "OB\n",
      "OBAF\n",
      "OBAS\n",
      "OBCI\n",
      "OBE\n"
     ]
    },
    {
     "name": "stderr",
     "output_type": "stream",
     "text": [
      "/Users/lijinyang/opt/anaconda3/lib/python3.7/site-packages/ipykernel_launcher.py:11: RuntimeWarning: invalid value encountered in log\n",
      "  # This is added back by InteractiveShellApp.init_path()\n",
      "/Users/lijinyang/opt/anaconda3/lib/python3.7/site-packages/ipykernel_launcher.py:11: RuntimeWarning: invalid value encountered in log\n",
      "  # This is added back by InteractiveShellApp.init_path()\n"
     ]
    },
    {
     "name": "stdout",
     "output_type": "stream",
     "text": [
      "OBLG\n",
      "OBLN\n",
      "OBNK\n",
      "OBSV\n",
      "OBT\n",
      "OC\n",
      "OCA.U\n",
      "OCAT\n",
      "OCC\n",
      "OCCI\n",
      "OCCIP\n",
      "OCFC\n",
      "OCFCP\n",
      "OCFT\n"
     ]
    },
    {
     "name": "stderr",
     "output_type": "stream",
     "text": [
      "/Users/lijinyang/opt/anaconda3/lib/python3.7/site-packages/ipykernel_launcher.py:4: RuntimeWarning: invalid value encountered in log\n",
      "  after removing the cwd from sys.path.\n",
      "/Users/lijinyang/opt/anaconda3/lib/python3.7/site-packages/ipykernel_launcher.py:11: RuntimeWarning: invalid value encountered in log\n",
      "  # This is added back by InteractiveShellApp.init_path()\n"
     ]
    },
    {
     "name": "stdout",
     "output_type": "stream",
     "text": [
      "OCG\n",
      "OCGN\n",
      "OCIP\n",
      "OCIR\n",
      "OCLR\n",
      "OCLS\n",
      "OCLSW\n",
      "OCN\n",
      "OCR.A\n",
      "OCR.B\n",
      "OCR\n",
      "OCRX\n",
      "OCSI\n",
      "OCSL\n"
     ]
    },
    {
     "name": "stderr",
     "output_type": "stream",
     "text": [
      "/Users/lijinyang/opt/anaconda3/lib/python3.7/site-packages/ipykernel_launcher.py:11: RuntimeWarning: invalid value encountered in log\n",
      "  # This is added back by InteractiveShellApp.init_path()\n"
     ]
    },
    {
     "name": "stdout",
     "output_type": "stream",
     "text": [
      "OCSLL\n",
      "OCUL\n",
      "OCUP\n",
      "OCX\n",
      "OCZ\n",
      "ODC\n"
     ]
    },
    {
     "name": "stderr",
     "output_type": "stream",
     "text": [
      "/Users/lijinyang/opt/anaconda3/lib/python3.7/site-packages/ipykernel_launcher.py:11: RuntimeWarning: invalid value encountered in log\n",
      "  # This is added back by InteractiveShellApp.init_path()\n"
     ]
    },
    {
     "name": "stdout",
     "output_type": "stream",
     "text": [
      "ODFL\n",
      "ODP\n",
      "ODSY\n",
      "ODT\n",
      "OEC\n",
      "OEG\n",
      "OEH\n",
      "OESX\n",
      "OFC.L\n",
      "OFC\n",
      "OFED\n",
      "OFG.A\n",
      "OFG.B\n",
      "OFG.D\n",
      "OFG\n",
      "OFI\n",
      "OFIX\n",
      "OFLX\n",
      "OFS\n",
      "OFSSG\n",
      "OFSSI\n",
      "OFSSL\n",
      "OFSSZ\n",
      "OGE\n",
      "OGEN\n",
      "OGI\n",
      "OGS\n",
      "OGXI\n",
      "OHAI\n",
      "OHI\n",
      "OHRP\n"
     ]
    },
    {
     "name": "stderr",
     "output_type": "stream",
     "text": [
      "/Users/lijinyang/opt/anaconda3/lib/python3.7/site-packages/ipykernel_launcher.py:11: RuntimeWarning: invalid value encountered in log\n",
      "  # This is added back by InteractiveShellApp.init_path()\n",
      "/Users/lijinyang/opt/anaconda3/lib/python3.7/site-packages/ipykernel_launcher.py:11: RuntimeWarning: invalid value encountered in log\n",
      "  # This is added back by InteractiveShellApp.init_path()\n",
      "/Users/lijinyang/opt/anaconda3/lib/python3.7/site-packages/ipykernel_launcher.py:11: RuntimeWarning: invalid value encountered in log\n",
      "  # This is added back by InteractiveShellApp.init_path()\n"
     ]
    },
    {
     "name": "stdout",
     "output_type": "stream",
     "text": [
      "OI\n",
      "OIA\n",
      "OIB\n",
      "OIBR.C\n",
      "OIBR\n",
      "OIC\n",
      "OII\n",
      "OIIM\n",
      "OILT\n",
      "OINK\n",
      "OIS\n",
      "OKE\n",
      "OKS\n",
      "OKSB\n",
      "OKSBP\n",
      "OKTA\n",
      "OLB\n",
      "OLBK\n",
      "OLED\n",
      "OLLI\n",
      "OLMA\n",
      "OLN\n",
      "OLP\n",
      "OM\n",
      "OMAA\n",
      "OMAB\n",
      "OMAD.U\n",
      "OMAD\n",
      "OMAM\n",
      "OMC\n",
      "OMCL\n",
      "OME\n",
      "OMED\n",
      "OMER\n",
      "OMEX\n",
      "OMF\n",
      "OMG\n",
      "OMGI\n",
      "OMI\n",
      "OMN\n",
      "OMP\n",
      "OMPI\n",
      "OMRI\n",
      "OMTH\n",
      "OMTR\n",
      "OMX\n",
      "ON\n",
      "ONB\n",
      "ONCE\n",
      "ONCR\n",
      "ONCS\n",
      "ONCT\n",
      "ONCY\n",
      "ONDK\n",
      "ONDS\n"
     ]
    },
    {
     "name": "stderr",
     "output_type": "stream",
     "text": [
      "/Users/lijinyang/opt/anaconda3/lib/python3.7/site-packages/ipykernel_launcher.py:11: RuntimeWarning: invalid value encountered in log\n",
      "  # This is added back by InteractiveShellApp.init_path()\n",
      "/Users/lijinyang/opt/anaconda3/lib/python3.7/site-packages/ipykernel_launcher.py:11: RuntimeWarning: invalid value encountered in log\n",
      "  # This is added back by InteractiveShellApp.init_path()\n"
     ]
    },
    {
     "name": "stdout",
     "output_type": "stream",
     "text": [
      "ONE\n",
      "ONEM\n",
      "ONEW\n",
      "ONFC\n",
      "ONNN\n",
      "ONP\n",
      "ONS\n"
     ]
    },
    {
     "name": "stderr",
     "output_type": "stream",
     "text": [
      "/Users/lijinyang/opt/anaconda3/lib/python3.7/site-packages/ipykernel_launcher.py:11: RuntimeWarning: invalid value encountered in log\n",
      "  # This is added back by InteractiveShellApp.init_path()\n",
      "/Users/lijinyang/opt/anaconda3/lib/python3.7/site-packages/ipykernel_launcher.py:11: RuntimeWarning: invalid value encountered in log\n",
      "  # This is added back by InteractiveShellApp.init_path()\n",
      "/Users/lijinyang/opt/anaconda3/lib/python3.7/site-packages/ipykernel_launcher.py:11: RuntimeWarning: invalid value encountered in log\n",
      "  # This is added back by InteractiveShellApp.init_path()\n"
     ]
    },
    {
     "name": "stdout",
     "output_type": "stream",
     "text": [
      "ONSIU\n",
      "ONSIW\n",
      "ONSIZ\n",
      "ONSM\n",
      "ONTO\n",
      "ONTX\n",
      "ONTXW\n"
     ]
    },
    {
     "name": "stderr",
     "output_type": "stream",
     "text": [
      "/Users/lijinyang/opt/anaconda3/lib/python3.7/site-packages/ipykernel_launcher.py:11: RuntimeWarning: invalid value encountered in log\n",
      "  # This is added back by InteractiveShellApp.init_path()\n",
      "/Users/lijinyang/opt/anaconda3/lib/python3.7/site-packages/ipykernel_launcher.py:11: RuntimeWarning: invalid value encountered in log\n",
      "  # This is added back by InteractiveShellApp.init_path()\n"
     ]
    },
    {
     "name": "stdout",
     "output_type": "stream",
     "text": [
      "ONTY\n",
      "ONVI\n",
      "ONVO\n",
      "ONXX\n",
      "OOK\n",
      "OOMA\n",
      "OPAY\n",
      "OPB\n",
      "OPBK\n",
      "OPCH\n",
      "OPEN\n",
      "OPENW\n",
      "OPES\n",
      "OPESU\n",
      "OPESW\n"
     ]
    },
    {
     "name": "stderr",
     "output_type": "stream",
     "text": [
      "/Users/lijinyang/opt/anaconda3/lib/python3.7/site-packages/ipykernel_launcher.py:11: RuntimeWarning: invalid value encountered in log\n",
      "  # This is added back by InteractiveShellApp.init_path()\n",
      "/Users/lijinyang/opt/anaconda3/lib/python3.7/site-packages/ipykernel_launcher.py:11: RuntimeWarning: invalid value encountered in log\n",
      "  # This is added back by InteractiveShellApp.init_path()\n",
      "/Users/lijinyang/opt/anaconda3/lib/python3.7/site-packages/ipykernel_launcher.py:11: RuntimeWarning: invalid value encountered in log\n",
      "  # This is added back by InteractiveShellApp.init_path()\n"
     ]
    },
    {
     "name": "stdout",
     "output_type": "stream",
     "text": [
      "OPGN\n",
      "OPGNW\n",
      "OPHC\n",
      "OPHT\n",
      "OPI\n",
      "OPINI\n",
      "OPINL\n",
      "OPK\n"
     ]
    },
    {
     "name": "stderr",
     "output_type": "stream",
     "text": [
      "/Users/lijinyang/opt/anaconda3/lib/python3.7/site-packages/ipykernel_launcher.py:11: RuntimeWarning: invalid value encountered in log\n",
      "  # This is added back by InteractiveShellApp.init_path()\n",
      "/Users/lijinyang/opt/anaconda3/lib/python3.7/site-packages/ipykernel_launcher.py:11: RuntimeWarning: invalid value encountered in log\n",
      "  # This is added back by InteractiveShellApp.init_path()\n",
      "/Users/lijinyang/opt/anaconda3/lib/python3.7/site-packages/ipykernel_launcher.py:11: RuntimeWarning: invalid value encountered in log\n",
      "  # This is added back by InteractiveShellApp.init_path()\n"
     ]
    },
    {
     "name": "stdout",
     "output_type": "stream",
     "text": [
      "OPLK\n",
      "OPNT\n",
      "OPOF\n",
      "OPP.A\n",
      "OPP\n",
      "OPRA\n",
      "OPRT\n"
     ]
    },
    {
     "name": "stderr",
     "output_type": "stream",
     "text": [
      "/Users/lijinyang/opt/anaconda3/lib/python3.7/site-packages/ipykernel_launcher.py:11: RuntimeWarning: invalid value encountered in log\n",
      "  # This is added back by InteractiveShellApp.init_path()\n",
      "/Users/lijinyang/opt/anaconda3/lib/python3.7/site-packages/ipykernel_launcher.py:11: RuntimeWarning: invalid value encountered in log\n",
      "  # This is added back by InteractiveShellApp.init_path()\n",
      "/Users/lijinyang/opt/anaconda3/lib/python3.7/site-packages/ipykernel_launcher.py:11: RuntimeWarning: invalid value encountered in log\n",
      "  # This is added back by InteractiveShellApp.init_path()\n"
     ]
    },
    {
     "name": "stdout",
     "output_type": "stream",
     "text": [
      "OPRX\n",
      "OPT\n",
      "OPTM\n",
      "OPTN\n",
      "OPTR\n",
      "OPTT\n",
      "OPTV\n",
      "OPWR\n",
      "OPWV\n",
      "OPXA\n",
      "OPXAW\n",
      "OPXT\n",
      "OPY\n",
      "OR\n"
     ]
    },
    {
     "name": "stderr",
     "output_type": "stream",
     "text": [
      "/Users/lijinyang/opt/anaconda3/lib/python3.7/site-packages/ipykernel_launcher.py:11: RuntimeWarning: invalid value encountered in log\n",
      "  # This is added back by InteractiveShellApp.init_path()\n",
      "/Users/lijinyang/opt/anaconda3/lib/python3.7/site-packages/ipykernel_launcher.py:11: RuntimeWarning: invalid value encountered in log\n",
      "  # This is added back by InteractiveShellApp.init_path()\n",
      "/Users/lijinyang/opt/anaconda3/lib/python3.7/site-packages/ipykernel_launcher.py:11: RuntimeWarning: invalid value encountered in log\n",
      "  # This is added back by InteractiveShellApp.init_path()\n"
     ]
    },
    {
     "name": "stdout",
     "output_type": "stream",
     "text": [
      "ORA\n",
      "ORAN\n",
      "ORB\n",
      "ORBC\n",
      "ORBK\n",
      "ORC\n",
      "ORCC\n",
      "ORCL\n",
      "ORCT\n",
      "OREX\n",
      "ORGO\n",
      "ORGS\n",
      "ORH\n",
      "ORI\n"
     ]
    },
    {
     "name": "stderr",
     "output_type": "stream",
     "text": [
      "/Users/lijinyang/opt/anaconda3/lib/python3.7/site-packages/ipykernel_launcher.py:4: RuntimeWarning: divide by zero encountered in log\n",
      "  after removing the cwd from sys.path.\n",
      "/Users/lijinyang/opt/anaconda3/lib/python3.7/site-packages/ipykernel_launcher.py:11: RuntimeWarning: invalid value encountered in log\n",
      "  # This is added back by InteractiveShellApp.init_path()\n",
      "/Users/lijinyang/opt/anaconda3/lib/python3.7/site-packages/ipykernel_launcher.py:11: RuntimeWarning: invalid value encountered in log\n",
      "  # This is added back by InteractiveShellApp.init_path()\n"
     ]
    },
    {
     "name": "stdout",
     "output_type": "stream",
     "text": [
      "ORIC\n",
      "ORIG\n",
      "ORIT\n",
      "ORLA\n",
      "ORLY\n",
      "ORM\n",
      "ORMP\n"
     ]
    },
    {
     "name": "stderr",
     "output_type": "stream",
     "text": [
      "/Users/lijinyang/opt/anaconda3/lib/python3.7/site-packages/ipykernel_launcher.py:11: RuntimeWarning: invalid value encountered in log\n",
      "  # This is added back by InteractiveShellApp.init_path()\n",
      "/Users/lijinyang/opt/anaconda3/lib/python3.7/site-packages/ipykernel_launcher.py:11: RuntimeWarning: invalid value encountered in log\n",
      "  # This is added back by InteractiveShellApp.init_path()\n"
     ]
    },
    {
     "name": "stdout",
     "output_type": "stream",
     "text": [
      "ORN\n",
      "ORPH\n",
      "ORPN\n",
      "ORRF\n",
      "ORSN\n",
      "ORSNR\n",
      "ORSNU\n"
     ]
    },
    {
     "name": "stderr",
     "output_type": "stream",
     "text": [
      "/Users/lijinyang/opt/anaconda3/lib/python3.7/site-packages/ipykernel_launcher.py:11: RuntimeWarning: invalid value encountered in log\n",
      "  # This is added back by InteractiveShellApp.init_path()\n"
     ]
    },
    {
     "name": "stdout",
     "output_type": "stream",
     "text": [
      "ORSNW\n",
      "ORTX\n",
      "OSB\n",
      "OSBC\n",
      "OSBCP\n",
      "OSG\n"
     ]
    },
    {
     "name": "stderr",
     "output_type": "stream",
     "text": [
      "/Users/lijinyang/opt/anaconda3/lib/python3.7/site-packages/ipykernel_launcher.py:11: RuntimeWarning: invalid value encountered in log\n",
      "  # This is added back by InteractiveShellApp.init_path()\n"
     ]
    },
    {
     "name": "stdout",
     "output_type": "stream",
     "text": [
      "OSGB\n",
      "OSGIQ\n",
      "OSH\n",
      "OSHC\n",
      "OSIP\n",
      "OSIR\n",
      "OSIS\n",
      "OSK\n",
      "OSLE\n",
      "OSM\n",
      "OSMT\n",
      "OSN\n",
      "OSPN\n",
      "OSPR\n",
      "OSPRU\n",
      "OSPRW\n",
      "OSS\n",
      "OSTK\n",
      "OSUR\n",
      "OSW\n"
     ]
    },
    {
     "name": "stderr",
     "output_type": "stream",
     "text": [
      "/Users/lijinyang/opt/anaconda3/lib/python3.7/site-packages/ipykernel_launcher.py:11: RuntimeWarning: invalid value encountered in log\n",
      "  # This is added back by InteractiveShellApp.init_path()\n",
      "/Users/lijinyang/opt/anaconda3/lib/python3.7/site-packages/ipykernel_launcher.py:11: RuntimeWarning: invalid value encountered in log\n",
      "  # This is added back by InteractiveShellApp.init_path()\n",
      "/Users/lijinyang/opt/anaconda3/lib/python3.7/site-packages/ipykernel_launcher.py:11: RuntimeWarning: invalid value encountered in log\n",
      "  # This is added back by InteractiveShellApp.init_path()\n"
     ]
    },
    {
     "name": "stdout",
     "output_type": "stream",
     "text": [
      "OTEL\n",
      "OTEX\n",
      "OTIC\n",
      "OTIS\n",
      "OTIV\n",
      "OTLK\n",
      "OTLKW\n"
     ]
    },
    {
     "name": "stderr",
     "output_type": "stream",
     "text": [
      "/Users/lijinyang/opt/anaconda3/lib/python3.7/site-packages/ipykernel_launcher.py:11: RuntimeWarning: invalid value encountered in log\n",
      "  # This is added back by InteractiveShellApp.init_path()\n"
     ]
    },
    {
     "name": "stdout",
     "output_type": "stream",
     "text": [
      "OTRA\n",
      "OTRAU\n",
      "OTRAW\n",
      "OTRK\n",
      "OTRKP\n",
      "OTT\n",
      "OTTR\n",
      "OTTW\n",
      "OUT\n",
      "OUTD\n",
      "OUTR\n",
      "OVAS\n",
      "OVBC\n",
      "OVEN\n"
     ]
    },
    {
     "name": "stderr",
     "output_type": "stream",
     "text": [
      "/Users/lijinyang/opt/anaconda3/lib/python3.7/site-packages/ipykernel_launcher.py:11: RuntimeWarning: invalid value encountered in log\n",
      "  # This is added back by InteractiveShellApp.init_path()\n"
     ]
    },
    {
     "name": "stdout",
     "output_type": "stream",
     "text": [
      "OVID\n",
      "OVLY\n",
      "OVRL\n",
      "OVTI\n",
      "OVV\n"
     ]
    },
    {
     "name": "stderr",
     "output_type": "stream",
     "text": [
      "/Users/lijinyang/opt/anaconda3/lib/python3.7/site-packages/ipykernel_launcher.py:11: RuntimeWarning: invalid value encountered in log\n",
      "  # This is added back by InteractiveShellApp.init_path()\n",
      "/Users/lijinyang/opt/anaconda3/lib/python3.7/site-packages/ipykernel_launcher.py:11: RuntimeWarning: invalid value encountered in log\n",
      "  # This is added back by InteractiveShellApp.init_path()\n",
      "/Users/lijinyang/opt/anaconda3/lib/python3.7/site-packages/ipykernel_launcher.py:11: RuntimeWarning: invalid value encountered in log\n",
      "  # This is added back by InteractiveShellApp.init_path()\n"
     ]
    },
    {
     "name": "stdout",
     "output_type": "stream",
     "text": [
      "OWW\n",
      "OXBR\n",
      "OXBRW\n",
      "OXBT\n",
      "OXF\n",
      "OXFD\n",
      "OXGN\n",
      "OXLC\n",
      "OXLCM\n",
      "OXLCN\n",
      "OXLCO\n",
      "OXLCP\n",
      "OXM\n",
      "OXPS\n",
      "OXSQ\n",
      "OXSQL\n",
      "OXSQZ\n",
      "OXY\n",
      "OYOG\n",
      "OYST\n"
     ]
    },
    {
     "name": "stderr",
     "output_type": "stream",
     "text": [
      "/Users/lijinyang/opt/anaconda3/lib/python3.7/site-packages/ipykernel_launcher.py:11: RuntimeWarning: invalid value encountered in log\n",
      "  # This is added back by InteractiveShellApp.init_path()\n"
     ]
    },
    {
     "name": "stdout",
     "output_type": "stream",
     "text": [
      "OZK\n",
      "OZM\n",
      "OZON\n",
      "OZRK\n",
      "P\n",
      "PAA\n",
      "PAAC\n",
      "PAACR\n",
      "PAACU\n",
      "PAACW\n",
      "PAAS\n",
      "PAC\n",
      "PACB\n",
      "PACD\n"
     ]
    },
    {
     "name": "stderr",
     "output_type": "stream",
     "text": [
      "/Users/lijinyang/opt/anaconda3/lib/python3.7/site-packages/ipykernel_launcher.py:11: RuntimeWarning: invalid value encountered in log\n",
      "  # This is added back by InteractiveShellApp.init_path()\n"
     ]
    },
    {
     "name": "stdout",
     "output_type": "stream",
     "text": [
      "PACE.U\n",
      "PACE\n",
      "PACEU\n",
      "PACEW\n",
      "PACK\n",
      "PACQ\n",
      "PACQU\n",
      "PACQW\n"
     ]
    },
    {
     "name": "stderr",
     "output_type": "stream",
     "text": [
      "/Users/lijinyang/opt/anaconda3/lib/python3.7/site-packages/ipykernel_launcher.py:11: RuntimeWarning: invalid value encountered in log\n",
      "  # This is added back by InteractiveShellApp.init_path()\n",
      "/Users/lijinyang/opt/anaconda3/lib/python3.7/site-packages/ipykernel_launcher.py:11: RuntimeWarning: invalid value encountered in log\n",
      "  # This is added back by InteractiveShellApp.init_path()\n",
      "/Users/lijinyang/opt/anaconda3/lib/python3.7/site-packages/ipykernel_launcher.py:11: RuntimeWarning: invalid value encountered in log\n",
      "  # This is added back by InteractiveShellApp.init_path()\n"
     ]
    },
    {
     "name": "stdout",
     "output_type": "stream",
     "text": [
      "PACR\n",
      "PACT\n",
      "PACW\n",
      "PAE\n",
      "PAET\n",
      "PAEWW\n",
      "PAG\n",
      "PAGP\n",
      "PAGS\n",
      "PAH\n",
      "PAHC\n",
      "PAI\n",
      "PAIC\n",
      "PAICU\n",
      "PAICW\n",
      "PAL\n",
      "PALM\n",
      "PAM\n",
      "PANA.U\n",
      "PANA\n",
      "PAND\n",
      "PANL\n",
      "PANW\n",
      "PAR\n",
      "PARL\n",
      "PARN\n",
      "PARR\n",
      "PAS\n",
      "PASG"
     ]
    },
    {
     "name": "stderr",
     "output_type": "stream",
     "text": [
      "/Users/lijinyang/opt/anaconda3/lib/python3.7/site-packages/ipykernel_launcher.py:11: RuntimeWarning: invalid value encountered in log\n",
      "  # This is added back by InteractiveShellApp.init_path()\n"
     ]
    },
    {
     "name": "stdout",
     "output_type": "stream",
     "text": [
      "\n",
      "PATH\n",
      "PATI\n",
      "PATK\n",
      "PATR\n",
      "PAVM\n",
      "PAVMU\n",
      "PAVMW\n",
      "PAVMZ\n",
      "PAY\n",
      "PAYA\n",
      "PAYAW\n",
      "PAYC\n",
      "PAYS\n"
     ]
    },
    {
     "name": "stderr",
     "output_type": "stream",
     "text": [
      "/Users/lijinyang/opt/anaconda3/lib/python3.7/site-packages/ipykernel_launcher.py:11: RuntimeWarning: invalid value encountered in log\n",
      "  # This is added back by InteractiveShellApp.init_path()\n",
      "/Users/lijinyang/opt/anaconda3/lib/python3.7/site-packages/ipykernel_launcher.py:11: RuntimeWarning: invalid value encountered in log\n",
      "  # This is added back by InteractiveShellApp.init_path()\n"
     ]
    },
    {
     "name": "stdout",
     "output_type": "stream",
     "text": [
      "PAYX\n",
      "PB\n",
      "PBA\n",
      "PBB\n",
      "PBBI\n",
      "PBC\n",
      "PBCP\n",
      "PBCT\n",
      "PBCTP\n",
      "PBF\n",
      "PBFS\n",
      "PBFX\n",
      "PBG\n",
      "PBH\n",
      "PBHC\n",
      "PBI.A\n",
      "PBI.B\n",
      "PBI\n",
      "PBIB\n",
      "PBIO\n",
      "PBIP\n",
      "PBKS\n",
      "PBLA\n",
      "PBM\n"
     ]
    },
    {
     "name": "stderr",
     "output_type": "stream",
     "text": [
      "/Users/lijinyang/opt/anaconda3/lib/python3.7/site-packages/ipykernel_launcher.py:11: RuntimeWarning: invalid value encountered in log\n",
      "  # This is added back by InteractiveShellApp.init_path()\n",
      "/Users/lijinyang/opt/anaconda3/lib/python3.7/site-packages/ipykernel_launcher.py:11: RuntimeWarning: invalid value encountered in log\n",
      "  # This is added back by InteractiveShellApp.init_path()\n",
      "/Users/lijinyang/opt/anaconda3/lib/python3.7/site-packages/ipykernel_launcher.py:11: RuntimeWarning: invalid value encountered in log\n",
      "  # This is added back by InteractiveShellApp.init_path()\n"
     ]
    },
    {
     "name": "stdout",
     "output_type": "stream",
     "text": [
      "PBMD\n",
      "PBNC\n",
      "PBNY\n",
      "PBPB\n",
      "PBR.A\n",
      "PBR\n",
      "PBSK\n",
      "PBT\n",
      "PBTH\n",
      "PBTS\n",
      "PBY\n",
      "PBYI\n",
      "PC\n",
      "PCAP\n",
      "PCAR\n",
      "PCB\n",
      "PCBK\n",
      "PCC\n",
      "PCCC\n",
      "PCE\n",
      "PCF\n",
      "PCG.A\n",
      "PCG.B\n",
      "PCG.C\n",
      "PCG.D\n",
      "PCG.E\n",
      "PCG.G\n",
      "PCG.H\n",
      "PCG.I\n",
      "PCG\n",
      "PCGU\n",
      "PCH\n",
      "PCI\n",
      "PCK\n",
      "PCL\n",
      "PCLN\n",
      "PCM\n",
      "PCMI\n",
      "PCN\n",
      "PCO\n",
      "PCOM\n",
      "PCP\n",
      "PCPC.U\n",
      "PCPL.U\n",
      "PCPL\n",
      "PCQ\n",
      "PCR\n",
      "PCRX\n",
      "PCS\n",
      "PCSA\n",
      "PCSB\n",
      "PCTI\n",
      "PCTY\n",
      "PCU\n",
      "PCVX\n",
      "PCX\n",
      "PCXCQ\n",
      "PCYC\n"
     ]
    },
    {
     "name": "stderr",
     "output_type": "stream",
     "text": [
      "/Users/lijinyang/opt/anaconda3/lib/python3.7/site-packages/ipykernel_launcher.py:11: RuntimeWarning: invalid value encountered in log\n",
      "  # This is added back by InteractiveShellApp.init_path()\n",
      "/Users/lijinyang/opt/anaconda3/lib/python3.7/site-packages/ipykernel_launcher.py:11: RuntimeWarning: invalid value encountered in log\n",
      "  # This is added back by InteractiveShellApp.init_path()\n",
      "/Users/lijinyang/opt/anaconda3/lib/python3.7/site-packages/ipykernel_launcher.py:11: RuntimeWarning: invalid value encountered in log\n",
      "  # This is added back by InteractiveShellApp.init_path()\n",
      "/Users/lijinyang/opt/anaconda3/lib/python3.7/site-packages/ipykernel_launcher.py:11: RuntimeWarning: invalid value encountered in log\n",
      "  # This is added back by InteractiveShellApp.init_path()\n"
     ]
    },
    {
     "name": "stdout",
     "output_type": "stream",
     "text": [
      "PCYG\n",
      "PCYO\n",
      "PD\n",
      "PDAC.U\n",
      "PDAC\n",
      "PDC\n",
      "PDCE\n",
      "PDCO\n",
      "PDD\n",
      "PDE\n",
      "PDEX\n",
      "PDFS\n",
      "PDGI\n",
      "PDI\n",
      "PDII\n",
      "PDLB\n",
      "PDLI\n",
      "PDM\n",
      "PDO\n",
      "PDS\n",
      "PDSB\n"
     ]
    },
    {
     "name": "stderr",
     "output_type": "stream",
     "text": [
      "/Users/lijinyang/opt/anaconda3/lib/python3.7/site-packages/ipykernel_launcher.py:11: RuntimeWarning: invalid value encountered in log\n",
      "  # This is added back by InteractiveShellApp.init_path()\n",
      "/Users/lijinyang/opt/anaconda3/lib/python3.7/site-packages/ipykernel_launcher.py:11: RuntimeWarning: invalid value encountered in log\n",
      "  # This is added back by InteractiveShellApp.init_path()\n",
      "/Users/lijinyang/opt/anaconda3/lib/python3.7/site-packages/ipykernel_launcher.py:11: RuntimeWarning: invalid value encountered in log\n",
      "  # This is added back by InteractiveShellApp.init_path()\n"
     ]
    },
    {
     "name": "stdout",
     "output_type": "stream",
     "text": [
      "PDT\n",
      "PDVW\n",
      "PDX\n",
      "PE\n",
      "PEAK\n",
      "PEB.A\n",
      "PEB.B\n",
      "PEB.C\n",
      "PEB.D\n",
      "PEB.E\n",
      "PEB.F\n",
      "PEB\n",
      "PEBK\n",
      "PEBO\n"
     ]
    },
    {
     "name": "stderr",
     "output_type": "stream",
     "text": [
      "/Users/lijinyang/opt/anaconda3/lib/python3.7/site-packages/ipykernel_launcher.py:11: RuntimeWarning: invalid value encountered in log\n",
      "  # This is added back by InteractiveShellApp.init_path()\n",
      "/Users/lijinyang/opt/anaconda3/lib/python3.7/site-packages/ipykernel_launcher.py:11: RuntimeWarning: invalid value encountered in log\n",
      "  # This is added back by InteractiveShellApp.init_path()\n",
      "/Users/lijinyang/opt/anaconda3/lib/python3.7/site-packages/ipykernel_launcher.py:11: RuntimeWarning: invalid value encountered in log\n",
      "  # This is added back by InteractiveShellApp.init_path()\n"
     ]
    },
    {
     "name": "stdout",
     "output_type": "stream",
     "text": [
      "PEC\n",
      "PECK\n",
      "PECKW\n",
      "PED\n",
      "PEER\n",
      "PEET\n",
      "PEG\n",
      "PEGA\n",
      "PEGI\n",
      "PEI.A\n",
      "PEI.B\n",
      "PEI.C\n",
      "PEI.D\n",
      "PEI\n",
      "PEIX\n",
      "PEN\n",
      "PENN\n",
      "PENX\n",
      "PEO\n",
      "PEOP\n",
      "PEP\n",
      "PER\n",
      "PERF\n",
      "PERI\n",
      "PERY\n",
      "PES\n",
      "PESI\n",
      "PETD\n",
      "PETM\n",
      "PETQ\n",
      "PETS\n",
      "PETX\n",
      "PETZ\n",
      "PF\n",
      "PFBC\n",
      "PFBI\n",
      "PFC\n",
      "PFCB\n",
      "PFD\n",
      "PFE\n",
      "PFG\n"
     ]
    },
    {
     "name": "stderr",
     "output_type": "stream",
     "text": [
      "/Users/lijinyang/opt/anaconda3/lib/python3.7/site-packages/ipykernel_launcher.py:11: RuntimeWarning: invalid value encountered in log\n",
      "  # This is added back by InteractiveShellApp.init_path()\n"
     ]
    },
    {
     "name": "stdout",
     "output_type": "stream",
     "text": [
      "PFGC\n",
      "PFH\n",
      "PFHD\n",
      "PFIE\n",
      "PFIN\n",
      "PFIS\n"
     ]
    },
    {
     "name": "stderr",
     "output_type": "stream",
     "text": [
      "/Users/lijinyang/opt/anaconda3/lib/python3.7/site-packages/ipykernel_launcher.py:11: RuntimeWarning: invalid value encountered in log\n",
      "  # This is added back by InteractiveShellApp.init_path()\n",
      "/Users/lijinyang/opt/anaconda3/lib/python3.7/site-packages/ipykernel_launcher.py:11: RuntimeWarning: invalid value encountered in log\n",
      "  # This is added back by InteractiveShellApp.init_path()\n"
     ]
    },
    {
     "name": "stdout",
     "output_type": "stream",
     "text": [
      "PFK\n",
      "PFL\n",
      "PFLT\n",
      "PFMT\n",
      "PFN\n",
      "PFNX\n",
      "PFO\n",
      "PFPT\n",
      "PFS\n",
      "PFSI\n",
      "PFSW\n",
      "PFWD\n",
      "PFX\n",
      "PFXNL\n",
      "PG\n",
      "PGC\n",
      "PGEB\n",
      "PGEM\n",
      "PGEN\n",
      "PGH\n",
      "PGI\n",
      "PGLC\n",
      "PGN\n",
      "PGND\n",
      "PGNX\n",
      "PGNY\n",
      "PGP\n",
      "PGR\n"
     ]
    },
    {
     "name": "stderr",
     "output_type": "stream",
     "text": [
      "/Users/lijinyang/opt/anaconda3/lib/python3.7/site-packages/ipykernel_launcher.py:11: RuntimeWarning: invalid value encountered in log\n",
      "  # This is added back by InteractiveShellApp.init_path()\n"
     ]
    },
    {
     "name": "stdout",
     "output_type": "stream",
     "text": [
      "PGRE\n",
      "PGTI\n",
      "PGZ\n",
      "PH\n",
      "PHA\n",
      "PHAR\n",
      "PHAS\n",
      "PHAT\n",
      "PHCF\n",
      "PHD\n",
      "PHF\n",
      "PHG\n",
      "PHGE.U\n",
      "PHGE\n",
      "PHH\n",
      "PHHM\n",
      "PHI\n",
      "PHICU\n",
      "PHII\n",
      "PHIIK\n",
      "PHIO\n",
      "PHIOW\n"
     ]
    },
    {
     "name": "stderr",
     "output_type": "stream",
     "text": [
      "/Users/lijinyang/opt/anaconda3/lib/python3.7/site-packages/ipykernel_launcher.py:11: RuntimeWarning: invalid value encountered in log\n",
      "  # This is added back by InteractiveShellApp.init_path()\n",
      "/Users/lijinyang/opt/anaconda3/lib/python3.7/site-packages/ipykernel_launcher.py:11: RuntimeWarning: invalid value encountered in log\n",
      "  # This is added back by InteractiveShellApp.init_path()\n",
      "/Users/lijinyang/opt/anaconda3/lib/python3.7/site-packages/ipykernel_launcher.py:11: RuntimeWarning: invalid value encountered in log\n",
      "  # This is added back by InteractiveShellApp.init_path()\n"
     ]
    },
    {
     "name": "stdout",
     "output_type": "stream",
     "text": [
      "PHK\n",
      "PHLY\n",
      "PHM\n",
      "PHMD\n",
      "PHR\n",
      "PHT\n",
      "PHTN\n",
      "PHUN\n",
      "PHUNW\n",
      "PHX\n",
      "PI\n",
      "PIA\n",
      "PIAI.U\n",
      "PIAI\n",
      "PIC.U\n",
      "PICO\n",
      "PID\n",
      "PIH\n",
      "PIHPP\n",
      "PII\n",
      "PIJ\n",
      "PIKE\n",
      "PIM\n",
      "PINC\n",
      "PINE\n",
      "PING\n",
      "PINS\n",
      "PIO\n",
      "PIP\n",
      "PIPP.U\n",
      "PIPR\n",
      "PIR\n",
      "PIRS\n",
      "PIS\n",
      "PIXY\n",
      "PIY\n",
      "PJA\n",
      "PJC\n",
      "PJH\n",
      "PJI\n",
      "PJL\n",
      "PJR\n",
      "PJS\n",
      "PJT\n",
      "PK\n",
      "PKBK\n",
      "PKD\n",
      "PKE\n",
      "PKG\n",
      "PKH\n",
      "PKI\n",
      "PKJ\n",
      "PKK\n",
      "PKO\n",
      "PKOH\n",
      "PKT\n",
      "PKX\n",
      "PKY\n",
      "PL.C\n",
      "PL.E\n",
      "PL\n",
      "PLA\n",
      "PLAB\n",
      "PLAG\n",
      "PLAN\n"
     ]
    },
    {
     "name": "stderr",
     "output_type": "stream",
     "text": [
      "/Users/lijinyang/opt/anaconda3/lib/python3.7/site-packages/ipykernel_launcher.py:11: RuntimeWarning: invalid value encountered in log\n",
      "  # This is added back by InteractiveShellApp.init_path()\n"
     ]
    },
    {
     "name": "stdout",
     "output_type": "stream",
     "text": [
      "PLAY\n",
      "PLBC\n",
      "PLCC\n",
      "PLCE\n",
      "PLCM\n",
      "PLD\n",
      "PLFE\n",
      "PLG\n",
      "PLIN\n",
      "PLKI\n",
      "PLL\n",
      "PLLL\n"
     ]
    },
    {
     "name": "stderr",
     "output_type": "stream",
     "text": [
      "/Users/lijinyang/opt/anaconda3/lib/python3.7/site-packages/ipykernel_launcher.py:11: RuntimeWarning: invalid value encountered in log\n",
      "  # This is added back by InteractiveShellApp.init_path()\n"
     ]
    },
    {
     "name": "stdout",
     "output_type": "stream",
     "text": [
      "PLM\n",
      "PLMR\n",
      "PLMT\n",
      "PLNR\n",
      "PLNT\n",
      "PLOW\n",
      "PLP\n",
      "PLPC\n",
      "PLPM\n",
      "PLRX\n",
      "PLSE\n",
      "PLT\n",
      "PLTR\n",
      "PLUG\n",
      "PLUS\n",
      "PLV\n",
      "PLX\n",
      "PLXP\n"
     ]
    },
    {
     "name": "stderr",
     "output_type": "stream",
     "text": [
      "/Users/lijinyang/opt/anaconda3/lib/python3.7/site-packages/ipykernel_launcher.py:11: RuntimeWarning: invalid value encountered in log\n",
      "  # This is added back by InteractiveShellApp.init_path()\n",
      "/Users/lijinyang/opt/anaconda3/lib/python3.7/site-packages/ipykernel_launcher.py:11: RuntimeWarning: invalid value encountered in log\n",
      "  # This is added back by InteractiveShellApp.init_path()\n"
     ]
    },
    {
     "name": "stdout",
     "output_type": "stream",
     "text": [
      "PLXS\n",
      "PLXT\n",
      "PLYA\n",
      "PLYAW\n",
      "PLYM.A\n",
      "PLYM\n",
      "PM\n",
      "PMACA\n",
      "PMBC\n",
      "PMC\n",
      "PMCS\n",
      "PMD\n",
      "PME\n",
      "PMF\n",
      "PMFG\n",
      "PMI\n",
      "PML\n",
      "PMM\n",
      "PMO\n",
      "PMT.A\n",
      "PMT.B\n",
      "PMT\n",
      "PMTC\n",
      "PMTI\n",
      "PMTS\n",
      "PMVC.U\n",
      "PMVC\n",
      "PMVP\n",
      "PMX\n",
      "PN\n",
      "PNBK\n",
      "PNC.P\n"
     ]
    },
    {
     "name": "stderr",
     "output_type": "stream",
     "text": [
      "/Users/lijinyang/opt/anaconda3/lib/python3.7/site-packages/ipykernel_launcher.py:11: RuntimeWarning: invalid value encountered in log\n",
      "  # This is added back by InteractiveShellApp.init_path()\n",
      "/Users/lijinyang/opt/anaconda3/lib/python3.7/site-packages/ipykernel_launcher.py:11: RuntimeWarning: invalid value encountered in log\n",
      "  # This is added back by InteractiveShellApp.init_path()\n"
     ]
    },
    {
     "name": "stdout",
     "output_type": "stream",
     "text": [
      "PNC.Q\n",
      "PNC\n",
      "PNCL\n",
      "PNF\n",
      "PNFP\n",
      "PNFPP\n",
      "PNG\n",
      "PNH\n",
      "PNI\n",
      "PNK\n",
      "PNKZV\n",
      "PNM\n",
      "PNNT\n"
     ]
    },
    {
     "name": "stderr",
     "output_type": "stream",
     "text": [
      "/Users/lijinyang/opt/anaconda3/lib/python3.7/site-packages/ipykernel_launcher.py:11: RuntimeWarning: invalid value encountered in log\n",
      "  # This is added back by InteractiveShellApp.init_path()\n"
     ]
    },
    {
     "name": "stdout",
     "output_type": "stream",
     "text": [
      "PNNTG\n",
      "PNNW\n",
      "PNR\n",
      "PNRA\n",
      "PNRG\n",
      "PNRL\n",
      "PNSN\n",
      "PNTA\n",
      "PNTG\n",
      "PNTR\n",
      "PNU\n",
      "PNW\n",
      "PNX\n",
      "PNY\n",
      "POAI\n",
      "PODD\n",
      "POL\n",
      "POLA\n",
      "POM\n",
      "PONE\n",
      "POOL\n",
      "POPE\n",
      "POR\n",
      "POST\n",
      "POT\n",
      "POTX\n",
      "POWI\n",
      "POWL\n",
      "POWR\n",
      "POWW\n",
      "POZN\n",
      "PPBI\n",
      "PPBT\n",
      "PPC\n"
     ]
    },
    {
     "name": "stderr",
     "output_type": "stream",
     "text": [
      "/Users/lijinyang/opt/anaconda3/lib/python3.7/site-packages/ipykernel_launcher.py:11: RuntimeWarning: invalid value encountered in log\n",
      "  # This is added back by InteractiveShellApp.init_path()\n",
      "/Users/lijinyang/opt/anaconda3/lib/python3.7/site-packages/ipykernel_launcher.py:11: RuntimeWarning: invalid value encountered in log\n",
      "  # This is added back by InteractiveShellApp.init_path()\n",
      "/Users/lijinyang/opt/anaconda3/lib/python3.7/site-packages/ipykernel_launcher.py:11: RuntimeWarning: invalid value encountered in log\n",
      "  # This is added back by InteractiveShellApp.init_path()\n"
     ]
    },
    {
     "name": "stdout",
     "output_type": "stream",
     "text": [
      "PPD\n",
      "PPDF\n",
      "PPDI\n",
      "PPG\n",
      "PPHI\n",
      "PPHM\n",
      "PPHMP\n"
     ]
    },
    {
     "name": "stderr",
     "output_type": "stream",
     "text": [
      "/Users/lijinyang/opt/anaconda3/lib/python3.7/site-packages/ipykernel_launcher.py:11: RuntimeWarning: invalid value encountered in log\n",
      "  # This is added back by InteractiveShellApp.init_path()\n"
     ]
    },
    {
     "name": "stdout",
     "output_type": "stream",
     "text": [
      "PPIH\n",
      "PPL\n",
      "PPO\n",
      "PPP\n",
      "PPR\n",
      "PPS.A\n",
      "PPS\n",
      "PPSI\n",
      "PPT\n",
      "PPX\n",
      "PPY\n",
      "PQ\n",
      "PQG\n",
      "PRA\n",
      "PRAA\n",
      "PRAH\n",
      "PRAN\n",
      "PRAX\n",
      "PRCH\n",
      "PRCHW\n"
     ]
    },
    {
     "name": "stderr",
     "output_type": "stream",
     "text": [
      "/Users/lijinyang/opt/anaconda3/lib/python3.7/site-packages/ipykernel_launcher.py:11: RuntimeWarning: invalid value encountered in log\n",
      "  # This is added back by InteractiveShellApp.init_path()\n"
     ]
    },
    {
     "name": "stdout",
     "output_type": "stream",
     "text": [
      "PRCP\n",
      "PRDO\n",
      "PRE.D\n",
      "PRE.E\n",
      "PRE.F\n",
      "PRE.G\n",
      "PRE.H\n",
      "PRE.I\n",
      "PRE\n",
      "PRFT\n",
      "PRFX\n",
      "PRG\n",
      "PRGN\n",
      "PRGNL\n",
      "PRGO\n",
      "PRGS\n",
      "PRGX\n",
      "PRH\n",
      "PRI\n",
      "PRIF.A\n",
      "PRIF.B\n",
      "PRIF.C\n",
      "PRIF.D\n",
      "PRIF.E\n",
      "PRIF.F\n",
      "PRIM\n",
      "PRIS\n",
      "PRK\n",
      "PRLB\n",
      "PRLD\n",
      "PRLS\n",
      "PRM\n",
      "PRMW\n",
      "PRNB\n",
      "PRO\n",
      "PROF\n",
      "PROG\n"
     ]
    },
    {
     "name": "stderr",
     "output_type": "stream",
     "text": [
      "/Users/lijinyang/opt/anaconda3/lib/python3.7/site-packages/ipykernel_launcher.py:11: RuntimeWarning: invalid value encountered in log\n",
      "  # This is added back by InteractiveShellApp.init_path()\n"
     ]
    },
    {
     "name": "stdout",
     "output_type": "stream",
     "text": [
      "PROJ\n",
      "PROS\n",
      "PROV\n",
      "PRPB.U\n",
      "PRPB\n",
      "PRPH\n",
      "PRPL\n",
      "PRPLW\n",
      "PRPO\n",
      "PRPX\n",
      "PRQR\n",
      "PRS\n",
      "PRSC\n",
      "PRSN\n"
     ]
    },
    {
     "name": "stderr",
     "output_type": "stream",
     "text": [
      "/Users/lijinyang/opt/anaconda3/lib/python3.7/site-packages/ipykernel_launcher.py:11: RuntimeWarning: invalid value encountered in log\n",
      "  # This is added back by InteractiveShellApp.init_path()\n",
      "/Users/lijinyang/opt/anaconda3/lib/python3.7/site-packages/ipykernel_launcher.py:11: RuntimeWarning: invalid value encountered in log\n",
      "  # This is added back by InteractiveShellApp.init_path()\n"
     ]
    },
    {
     "name": "stdout",
     "output_type": "stream",
     "text": [
      "PRSNW\n",
      "PRSP\n",
      "PRSS\n",
      "PRST\n",
      "PRT\n",
      "PRTA\n",
      "PRTC\n"
     ]
    },
    {
     "name": "stderr",
     "output_type": "stream",
     "text": [
      "/Users/lijinyang/opt/anaconda3/lib/python3.7/site-packages/ipykernel_launcher.py:11: RuntimeWarning: invalid value encountered in log\n",
      "  # This is added back by InteractiveShellApp.init_path()\n",
      "/Users/lijinyang/opt/anaconda3/lib/python3.7/site-packages/ipykernel_launcher.py:11: RuntimeWarning: invalid value encountered in log\n",
      "  # This is added back by InteractiveShellApp.init_path()\n",
      "/Users/lijinyang/opt/anaconda3/lib/python3.7/site-packages/ipykernel_launcher.py:11: RuntimeWarning: invalid value encountered in log\n",
      "  # This is added back by InteractiveShellApp.init_path()\n"
     ]
    },
    {
     "name": "stdout",
     "output_type": "stream",
     "text": [
      "PRTH\n",
      "PRTK\n",
      "PRTO\n",
      "PRTS\n",
      "PRTY\n",
      "PRU\n",
      "PRVB\n",
      "PRVL\n",
      "PRWT\n",
      "PRX\n",
      "PRXI\n",
      "PRXL\n",
      "PS\n",
      "PSA.A\n",
      "PSA.B\n",
      "PSA.C\n",
      "PSA.D\n",
      "PSA.E\n",
      "PSA.F\n",
      "PSA.G\n",
      "PSA.H\n",
      "PSA.I\n",
      "PSA.J\n",
      "PSA.K\n",
      "PSA.L\n",
      "PSA.M\n",
      "PSA.N\n",
      "PSA.O\n",
      "PSA.P\n",
      "PSA.Q\n",
      "PSA.R\n",
      "PSA.S\n",
      "PSA.T\n",
      "PSA.U\n",
      "PSA.V\n",
      "PSA.W\n",
      "PSA.X\n",
      "PSA.Y\n",
      "PSA.Z\n",
      "PSA\n",
      "PSAC\n",
      "PSACU\n",
      "PSACW\n",
      "PSB.R\n",
      "PSB.S\n",
      "PSB.T\n",
      "PSB.U\n",
      "PSB.V\n",
      "PSB.W\n",
      "PSB.X\n",
      "PSB.Y\n",
      "PSB.Z\n",
      "PSB\n",
      "PSBH\n",
      "PSD\n",
      "PSDO\n",
      "PSDV\n",
      "PSE\n",
      "PSEC\n",
      "PSEM\n",
      "PSF\n",
      "PSG\n",
      "PSHG\n",
      "PSMI\n",
      "PSMT\n"
     ]
    },
    {
     "name": "stderr",
     "output_type": "stream",
     "text": [
      "/Users/lijinyang/opt/anaconda3/lib/python3.7/site-packages/ipykernel_launcher.py:11: RuntimeWarning: invalid value encountered in log\n",
      "  # This is added back by InteractiveShellApp.init_path()\n",
      "/Users/lijinyang/opt/anaconda3/lib/python3.7/site-packages/ipykernel_launcher.py:11: RuntimeWarning: invalid value encountered in log\n",
      "  # This is added back by InteractiveShellApp.init_path()\n"
     ]
    },
    {
     "name": "stdout",
     "output_type": "stream",
     "text": [
      "PSN\n",
      "PSNL\n",
      "PSO\n",
      "PSOF\n",
      "PSPT\n",
      "PSS\n",
      "PSSI\n",
      "PSTB\n",
      "PSTG\n",
      "PSTH.U\n",
      "PSTH\n",
      "PSTI\n",
      "PSTL\n",
      "PSTR\n",
      "PSTV\n",
      "PSTVZ\n"
     ]
    },
    {
     "name": "stderr",
     "output_type": "stream",
     "text": [
      "/Users/lijinyang/opt/anaconda3/lib/python3.7/site-packages/ipykernel_launcher.py:11: RuntimeWarning: invalid value encountered in log\n",
      "  # This is added back by InteractiveShellApp.init_path()\n",
      "/Users/lijinyang/opt/anaconda3/lib/python3.7/site-packages/ipykernel_launcher.py:11: RuntimeWarning: invalid value encountered in log\n",
      "  # This is added back by InteractiveShellApp.init_path()\n"
     ]
    },
    {
     "name": "stdout",
     "output_type": "stream",
     "text": [
      "PSTX\n",
      "PSUN\n",
      "PSV\n",
      "PSW\n",
      "PSX\n",
      "PSXP\n",
      "PSY\n",
      "PT\n",
      "PTA\n",
      "PTAC\n",
      "PTACU\n",
      "PTACW\n",
      "PTBI\n",
      "PTBIW\n",
      "PTC\n",
      "PTCT\n",
      "PTD\n",
      "PTE\n",
      "PTEC\n",
      "PTEK\n",
      "PTEN\n",
      "PTF\n"
     ]
    },
    {
     "name": "stderr",
     "output_type": "stream",
     "text": [
      "/Users/lijinyang/opt/anaconda3/lib/python3.7/site-packages/ipykernel_launcher.py:11: RuntimeWarning: invalid value encountered in log\n",
      "  # This is added back by InteractiveShellApp.init_path()\n"
     ]
    },
    {
     "name": "stdout",
     "output_type": "stream",
     "text": [
      "PTGI\n",
      "PTGX\n",
      "PTH\n",
      "PTHN\n",
      "PTI\n",
      "PTICU\n",
      "PTIE\n"
     ]
    },
    {
     "name": "stderr",
     "output_type": "stream",
     "text": [
      "/Users/lijinyang/opt/anaconda3/lib/python3.7/site-packages/ipykernel_launcher.py:11: RuntimeWarning: invalid value encountered in log\n",
      "  # This is added back by InteractiveShellApp.init_path()\n",
      "/Users/lijinyang/opt/anaconda3/lib/python3.7/site-packages/ipykernel_launcher.py:11: RuntimeWarning: invalid value encountered in log\n",
      "  # This is added back by InteractiveShellApp.init_path()\n"
     ]
    },
    {
     "name": "stdout",
     "output_type": "stream",
     "text": [
      "PTK.U\n",
      "PTK\n",
      "PTLA\n",
      "PTMN\n",
      "PTN\n",
      "PTNR\n",
      "PTNT\n",
      "PTON\n",
      "PTP\n",
      "PTPI\n",
      "PTR\n",
      "PTRS\n",
      "PTRY\n",
      "PTSI\n"
     ]
    },
    {
     "name": "stderr",
     "output_type": "stream",
     "text": [
      "/Users/lijinyang/opt/anaconda3/lib/python3.7/site-packages/ipykernel_launcher.py:11: RuntimeWarning: invalid value encountered in log\n",
      "  # This is added back by InteractiveShellApp.init_path()\n",
      "/Users/lijinyang/opt/anaconda3/lib/python3.7/site-packages/ipykernel_launcher.py:11: RuntimeWarning: invalid value encountered in log\n",
      "  # This is added back by InteractiveShellApp.init_path()\n"
     ]
    },
    {
     "name": "stdout",
     "output_type": "stream",
     "text": [
      "PTSX\n",
      "PTV\n",
      "PTVCA\n",
      "PTVCB\n",
      "PTVE\n",
      "PTX\n"
     ]
    },
    {
     "name": "stderr",
     "output_type": "stream",
     "text": [
      "/Users/lijinyang/opt/anaconda3/lib/python3.7/site-packages/ipykernel_launcher.py:11: RuntimeWarning: invalid value encountered in log\n",
      "  # This is added back by InteractiveShellApp.init_path()\n",
      "/Users/lijinyang/opt/anaconda3/lib/python3.7/site-packages/ipykernel_launcher.py:11: RuntimeWarning: invalid value encountered in log\n",
      "  # This is added back by InteractiveShellApp.init_path()\n"
     ]
    },
    {
     "name": "stdout",
     "output_type": "stream",
     "text": [
      "PTXP\n",
      "PTY\n",
      "PUB\n",
      "PUBM\n",
      "PUK.A\n",
      "PUK\n",
      "PULB\n",
      "PULM\n",
      "PUMP\n",
      "PUYI\n",
      "PVA\n",
      "PVAC\n",
      "PVBC\n",
      "PVD\n",
      "PVFC\n",
      "PVG\n",
      "PVH\n",
      "PVL\n",
      "PVR\n",
      "PVSW\n",
      "PVT.U\n",
      "PVT\n",
      "PVTB\n",
      "PVTBP\n",
      "PVTD\n",
      "PVTL\n",
      "PVX\n",
      "PW.A\n",
      "PW\n",
      "PWAV\n",
      "PWE\n",
      "PWER\n",
      "PWFL\n",
      "PWOD\n",
      "PWR\n"
     ]
    },
    {
     "name": "stderr",
     "output_type": "stream",
     "text": [
      "/Users/lijinyang/opt/anaconda3/lib/python3.7/site-packages/ipykernel_launcher.py:11: RuntimeWarning: invalid value encountered in log\n",
      "  # This is added back by InteractiveShellApp.init_path()\n"
     ]
    },
    {
     "name": "stdout",
     "output_type": "stream",
     "text": [
      "PWRD\n",
      "PWX\n",
      "PX\n",
      "PXD\n",
      "PXI\n",
      "PXLW\n",
      "PXP\n",
      "PXS\n",
      "PXSAP\n",
      "PXSAW\n",
      "PYA\n",
      "PYB\n",
      "PYC\n",
      "PYDS\n",
      "PYG\n",
      "PYJ\n",
      "PYK\n",
      "PYL\n",
      "PYN\n",
      "PYPD\n",
      "PYPL\n",
      "PYPLV\n",
      "PYS\n",
      "PYT\n",
      "PYV\n",
      "PYX\n",
      "PYY\n",
      "PZB\n",
      "PZC\n"
     ]
    },
    {
     "name": "stderr",
     "output_type": "stream",
     "text": [
      "/Users/lijinyang/opt/anaconda3/lib/python3.7/site-packages/ipykernel_launcher.py:11: RuntimeWarning: invalid value encountered in log\n",
      "  # This is added back by InteractiveShellApp.init_path()\n"
     ]
    },
    {
     "name": "stdout",
     "output_type": "stream",
     "text": [
      "PZE\n",
      "PZG\n",
      "PZN\n",
      "PZRX\n",
      "PZZA\n",
      "PZZI\n",
      "Q\n",
      "QADA\n",
      "QADB\n",
      "QADI\n",
      "QBAK\n",
      "QBC\n",
      "QCOM\n",
      "QCOR\n"
     ]
    },
    {
     "name": "stderr",
     "output_type": "stream",
     "text": [
      "/Users/lijinyang/opt/anaconda3/lib/python3.7/site-packages/ipykernel_launcher.py:11: RuntimeWarning: invalid value encountered in log\n",
      "  # This is added back by InteractiveShellApp.init_path()\n"
     ]
    },
    {
     "name": "stdout",
     "output_type": "stream",
     "text": [
      "QCP\n",
      "QCRH\n",
      "QD\n",
      "QDEL\n",
      "QELL\n",
      "QELLU\n",
      "QELLW\n",
      "QEP\n",
      "QEPM\n",
      "QES\n",
      "QFIN\n",
      "QGEM\n",
      "QGEN\n",
      "QH\n",
      "QHC\n",
      "QIHU\n",
      "QIWI\n",
      "QK\n",
      "QLGC\n",
      "QLGN\n",
      "QLIK\n",
      "QLTI\n",
      "QLTY\n"
     ]
    },
    {
     "name": "stderr",
     "output_type": "stream",
     "text": [
      "/Users/lijinyang/opt/anaconda3/lib/python3.7/site-packages/ipykernel_launcher.py:11: RuntimeWarning: invalid value encountered in log\n",
      "  # This is added back by InteractiveShellApp.init_path()\n"
     ]
    },
    {
     "name": "stdout",
     "output_type": "stream",
     "text": [
      "QLYS\n",
      "QMCO\n",
      "QMM\n",
      "QNST\n",
      "QPAC\n",
      "QPACU\n",
      "QPACW\n",
      "QPSA\n"
     ]
    },
    {
     "name": "stderr",
     "output_type": "stream",
     "text": [
      "/Users/lijinyang/opt/anaconda3/lib/python3.7/site-packages/ipykernel_launcher.py:11: RuntimeWarning: invalid value encountered in log\n",
      "  # This is added back by InteractiveShellApp.init_path()\n"
     ]
    },
    {
     "name": "stdout",
     "output_type": "stream",
     "text": [
      "QQC\n",
      "QQD\n",
      "QQQJ\n",
      "QQQM\n",
      "QQQN\n",
      "QQQX\n",
      "QRCP\n",
      "QRE\n",
      "QRHC\n",
      "QRM\n",
      "QRTAV\n",
      "QRTEA\n",
      "QRTEB\n",
      "QRTEP\n"
     ]
    },
    {
     "name": "stderr",
     "output_type": "stream",
     "text": [
      "/Users/lijinyang/opt/anaconda3/lib/python3.7/site-packages/ipykernel_launcher.py:11: RuntimeWarning: invalid value encountered in log\n",
      "  # This is added back by InteractiveShellApp.init_path()\n"
     ]
    },
    {
     "name": "stdout",
     "output_type": "stream",
     "text": [
      "QRTEV\n",
      "QRVO\n",
      "QS\n",
      "QSFT\n",
      "QSII\n",
      "QSR\n",
      "QTM\n",
      "QTNA\n",
      "QTNT\n",
      "QTNTW\n",
      "QTRH\n",
      "QTRX\n",
      "QTS.A\n",
      "QTS.B\n",
      "QTS\n",
      "QTT\n"
     ]
    },
    {
     "name": "stderr",
     "output_type": "stream",
     "text": [
      "/Users/lijinyang/opt/anaconda3/lib/python3.7/site-packages/ipykernel_launcher.py:11: RuntimeWarning: invalid value encountered in log\n",
      "  # This is added back by InteractiveShellApp.init_path()\n",
      "/Users/lijinyang/opt/anaconda3/lib/python3.7/site-packages/ipykernel_launcher.py:11: RuntimeWarning: invalid value encountered in log\n",
      "  # This is added back by InteractiveShellApp.init_path()\n"
     ]
    },
    {
     "name": "stdout",
     "output_type": "stream",
     "text": [
      "QTWO\n",
      "QTWW\n",
      "QUAD\n",
      "QUIK\n",
      "QUMU\n",
      "QUNR\n",
      "QUOT\n",
      "QURE\n",
      "QVCA\n",
      "QVCB\n",
      "QVCC\n",
      "QVCD\n",
      "QXM\n",
      "R\n",
      "RA\n",
      "RAACU\n",
      "RACA\n",
      "RACE\n",
      "RAD\n",
      "RADA\n",
      "RADI\n",
      "RADN\n",
      "RADS\n",
      "RAE\n",
      "RAH\n",
      "RAI\n",
      "RAIL\n",
      "RALY\n",
      "RAM\n",
      "RAME\n",
      "RAMP\n",
      "RAND\n",
      "RAPT\n",
      "RARE\n",
      "RARX\n",
      "RAS.A\n"
     ]
    },
    {
     "name": "stderr",
     "output_type": "stream",
     "text": [
      "/Users/lijinyang/opt/anaconda3/lib/python3.7/site-packages/ipykernel_launcher.py:11: RuntimeWarning: invalid value encountered in log\n",
      "  # This is added back by InteractiveShellApp.init_path()\n",
      "/Users/lijinyang/opt/anaconda3/lib/python3.7/site-packages/ipykernel_launcher.py:11: RuntimeWarning: invalid value encountered in log\n",
      "  # This is added back by InteractiveShellApp.init_path()\n"
     ]
    },
    {
     "name": "stdout",
     "output_type": "stream",
     "text": [
      "RAS.B\n",
      "RAS.C\n",
      "RAS\n",
      "RATE\n",
      "RAVE\n",
      "RAVN\n",
      "RAX\n",
      "RBA\n",
      "RBAC.U\n",
      "RBAC\n",
      "RBB\n",
      "RBBN\n",
      "RBC\n",
      "RBCAA\n",
      "RBCN\n",
      "RBI\n",
      "RBKB\n",
      "RBN\n",
      "RBNC\n",
      "RBNF\n",
      "RBPAA\n",
      "RBS.E\n",
      "RBS.F\n",
      "RBS.G\n",
      "RBS.H\n",
      "RBS.I\n",
      "RBS.L\n"
     ]
    },
    {
     "name": "stderr",
     "output_type": "stream",
     "text": [
      "/Users/lijinyang/opt/anaconda3/lib/python3.7/site-packages/ipykernel_launcher.py:11: RuntimeWarning: invalid value encountered in log\n",
      "  # This is added back by InteractiveShellApp.init_path()\n"
     ]
    },
    {
     "name": "stdout",
     "output_type": "stream",
     "text": [
      "RBS.M\n",
      "RBS.N\n",
      "RBS.P\n",
      "RBS.Q\n",
      "RBS.R\n",
      "RBS.S\n",
      "RBS.T\n",
      "RBS\n",
      "RBY\n",
      "RBZ\n",
      "RBZAW\n",
      "RC\n",
      "RCA\n",
      "RCAP\n",
      "RCB\n"
     ]
    },
    {
     "name": "stderr",
     "output_type": "stream",
     "text": [
      "/Users/lijinyang/opt/anaconda3/lib/python3.7/site-packages/ipykernel_launcher.py:11: RuntimeWarning: invalid value encountered in log\n",
      "  # This is added back by InteractiveShellApp.init_path()\n",
      "/Users/lijinyang/opt/anaconda3/lib/python3.7/site-packages/ipykernel_launcher.py:11: RuntimeWarning: invalid value encountered in log\n",
      "  # This is added back by InteractiveShellApp.init_path()\n",
      "/Users/lijinyang/opt/anaconda3/lib/python3.7/site-packages/ipykernel_launcher.py:11: RuntimeWarning: invalid value encountered in log\n",
      "  # This is added back by InteractiveShellApp.init_path()\n"
     ]
    },
    {
     "name": "stdout",
     "output_type": "stream",
     "text": [
      "RCCC\n",
      "RCEL\n",
      "RCG\n",
      "RCHG\n",
      "RCHGU\n",
      "RCHGW\n",
      "RCI\n",
      "RCII\n",
      "RCKB\n",
      "RCKT\n",
      "RCKY\n",
      "RCL\n",
      "RCM\n",
      "RCMT\n",
      "RCNI\n"
     ]
    },
    {
     "name": "stderr",
     "output_type": "stream",
     "text": [
      "/Users/lijinyang/opt/anaconda3/lib/python3.7/site-packages/ipykernel_launcher.py:11: RuntimeWarning: invalid value encountered in log\n",
      "  # This is added back by InteractiveShellApp.init_path()\n"
     ]
    },
    {
     "name": "stdout",
     "output_type": "stream",
     "text": [
      "RCON\n",
      "RCP\n",
      "RCPI\n",
      "RCPT\n",
      "RCRC\n",
      "RCS\n",
      "RCUS\n"
     ]
    },
    {
     "name": "stderr",
     "output_type": "stream",
     "text": [
      "/Users/lijinyang/opt/anaconda3/lib/python3.7/site-packages/ipykernel_launcher.py:11: RuntimeWarning: invalid value encountered in log\n",
      "  # This is added back by InteractiveShellApp.init_path()\n"
     ]
    },
    {
     "name": "stdout",
     "output_type": "stream",
     "text": [
      "RDA\n",
      "RDC\n",
      "RDCM\n",
      "RDEA\n",
      "RDEN\n",
      "RDFN\n",
      "RDHL\n",
      "RDI\n",
      "RDIB\n",
      "RDK\n",
      "RDN\n",
      "RDNT\n",
      "RDS.A\n",
      "RDS.B\n",
      "RDUS\n",
      "RDVT\n",
      "RDWR\n",
      "RDY\n",
      "RE\n",
      "REAL\n",
      "RECN\n"
     ]
    },
    {
     "name": "stderr",
     "output_type": "stream",
     "text": [
      "/Users/lijinyang/opt/anaconda3/lib/python3.7/site-packages/ipykernel_launcher.py:11: RuntimeWarning: invalid value encountered in log\n",
      "  # This is added back by InteractiveShellApp.init_path()\n"
     ]
    },
    {
     "name": "stdout",
     "output_type": "stream",
     "text": [
      "RECV\n",
      "REDF\n",
      "REDU\n",
      "REE\n",
      "REED\n",
      "REFR\n",
      "REG.F\n"
     ]
    },
    {
     "name": "stderr",
     "output_type": "stream",
     "text": [
      "/Users/lijinyang/opt/anaconda3/lib/python3.7/site-packages/ipykernel_launcher.py:11: RuntimeWarning: invalid value encountered in log\n",
      "  # This is added back by InteractiveShellApp.init_path()\n"
     ]
    },
    {
     "name": "stdout",
     "output_type": "stream",
     "text": [
      "REG.G\n",
      "REG\n",
      "REGI\n",
      "REGN\n",
      "REI\n",
      "REIS\n",
      "REKR\n",
      "RELL\n",
      "RELV\n",
      "RELX\n",
      "RELY\n",
      "REMY\n",
      "REN\n"
     ]
    },
    {
     "name": "stderr",
     "output_type": "stream",
     "text": [
      "/Users/lijinyang/opt/anaconda3/lib/python3.7/site-packages/ipykernel_launcher.py:11: RuntimeWarning: invalid value encountered in log\n",
      "  # This is added back by InteractiveShellApp.init_path()\n",
      "/Users/lijinyang/opt/anaconda3/lib/python3.7/site-packages/ipykernel_launcher.py:11: RuntimeWarning: invalid value encountered in log\n",
      "  # This is added back by InteractiveShellApp.init_path()\n",
      "/Users/lijinyang/opt/anaconda3/lib/python3.7/site-packages/ipykernel_launcher.py:11: RuntimeWarning: invalid value encountered in log\n",
      "  # This is added back by InteractiveShellApp.init_path()\n",
      "/Users/lijinyang/opt/anaconda3/lib/python3.7/site-packages/ipykernel_launcher.py:11: RuntimeWarning: invalid value encountered in log\n",
      "  # This is added back by InteractiveShellApp.init_path()\n"
     ]
    },
    {
     "name": "stdout",
     "output_type": "stream",
     "text": [
      "RENN\n",
      "RENT\n",
      "RENX\n",
      "REPH\n",
      "REPHV\n",
      "REPL\n",
      "REPR\n",
      "RES\n",
      "RESI\n",
      "RESN\n",
      "RETA\n",
      "RETO\n",
      "REV\n",
      "REVG\n",
      "REVU\n",
      "REX\n",
      "REXI\n",
      "REXN\n",
      "REXR.A\n",
      "REXR.B\n",
      "REXR.C\n",
      "REXR\n",
      "REXX\n",
      "REYN\n",
      "REZI\n",
      "RF.A\n",
      "RF.B\n",
      "RF.C\n"
     ]
    },
    {
     "name": "stderr",
     "output_type": "stream",
     "text": [
      "/Users/lijinyang/opt/anaconda3/lib/python3.7/site-packages/ipykernel_launcher.py:11: RuntimeWarning: invalid value encountered in log\n",
      "  # This is added back by InteractiveShellApp.init_path()\n"
     ]
    },
    {
     "name": "stdout",
     "output_type": "stream",
     "text": [
      "RF\n",
      "RFA\n",
      "RFI\n",
      "RFIL\n",
      "RFL\n",
      "RFM\n",
      "RFMD\n",
      "RFMI\n",
      "RFP\n",
      "RFT\n",
      "RGA\n",
      "RGC\n",
      "RGCO\n"
     ]
    },
    {
     "name": "stderr",
     "output_type": "stream",
     "text": [
      "/Users/lijinyang/opt/anaconda3/lib/python3.7/site-packages/ipykernel_launcher.py:11: RuntimeWarning: invalid value encountered in log\n",
      "  # This is added back by InteractiveShellApp.init_path()\n",
      "/Users/lijinyang/opt/anaconda3/lib/python3.7/site-packages/ipykernel_launcher.py:11: RuntimeWarning: invalid value encountered in log\n",
      "  # This is added back by InteractiveShellApp.init_path()\n"
     ]
    },
    {
     "name": "stdout",
     "output_type": "stream",
     "text": [
      "RGDO\n",
      "RGDX\n",
      "RGEN\n",
      "RGLD\n",
      "RGLS\n",
      "RGNX\n",
      "RGP\n"
     ]
    },
    {
     "name": "stderr",
     "output_type": "stream",
     "text": [
      "/Users/lijinyang/opt/anaconda3/lib/python3.7/site-packages/ipykernel_launcher.py:11: RuntimeWarning: invalid value encountered in log\n",
      "  # This is added back by InteractiveShellApp.init_path()\n"
     ]
    },
    {
     "name": "stdout",
     "output_type": "stream",
     "text": [
      "RGR\n",
      "RGS\n",
      "RGT\n",
      "RH\n",
      "RHB\n",
      "RHD\n",
      "RHE.A\n",
      "RHE\n",
      "RHI\n",
      "RHP\n",
      "RHT\n",
      "RIBT\n",
      "RIBTW\n",
      "RIC\n",
      "RICE.U\n"
     ]
    },
    {
     "name": "stderr",
     "output_type": "stream",
     "text": [
      "/Users/lijinyang/opt/anaconda3/lib/python3.7/site-packages/ipykernel_launcher.py:11: RuntimeWarning: invalid value encountered in log\n",
      "  # This is added back by InteractiveShellApp.init_path()\n",
      "/Users/lijinyang/opt/anaconda3/lib/python3.7/site-packages/ipykernel_launcher.py:11: RuntimeWarning: invalid value encountered in log\n",
      "  # This is added back by InteractiveShellApp.init_path()\n",
      "/Users/lijinyang/opt/anaconda3/lib/python3.7/site-packages/ipykernel_launcher.py:11: RuntimeWarning: invalid value encountered in log\n",
      "  # This is added back by InteractiveShellApp.init_path()\n"
     ]
    },
    {
     "name": "stdout",
     "output_type": "stream",
     "text": [
      "RICE\n",
      "RICK\n",
      "RIDE\n",
      "RIDEW\n",
      "RIF\n",
      "RIG\n",
      "RIGL\n"
     ]
    },
    {
     "name": "stderr",
     "output_type": "stream",
     "text": [
      "/Users/lijinyang/opt/anaconda3/lib/python3.7/site-packages/ipykernel_launcher.py:11: RuntimeWarning: invalid value encountered in log\n",
      "  # This is added back by InteractiveShellApp.init_path()\n",
      "/Users/lijinyang/opt/anaconda3/lib/python3.7/site-packages/ipykernel_launcher.py:11: RuntimeWarning: invalid value encountered in log\n",
      "  # This is added back by InteractiveShellApp.init_path()\n"
     ]
    },
    {
     "name": "stdout",
     "output_type": "stream",
     "text": [
      "RIGP\n",
      "RILY\n",
      "RILYG\n",
      "RILYH\n",
      "RILYI\n",
      "RILYL\n",
      "RILYM\n",
      "RILYN\n",
      "RILYO\n",
      "RILYP\n",
      "RILYZ\n",
      "RIMG\n",
      "RIMM\n",
      "RIO\n",
      "RIOM\n",
      "RIOT\n",
      "RIT\n",
      "RIV\n",
      "RIVE\n",
      "RIVR\n",
      "RJD\n",
      "RJET\n"
     ]
    },
    {
     "name": "stderr",
     "output_type": "stream",
     "text": [
      "/Users/lijinyang/opt/anaconda3/lib/python3.7/site-packages/ipykernel_launcher.py:11: RuntimeWarning: invalid value encountered in log\n",
      "  # This is added back by InteractiveShellApp.init_path()\n",
      "/Users/lijinyang/opt/anaconda3/lib/python3.7/site-packages/ipykernel_launcher.py:11: RuntimeWarning: invalid value encountered in log\n",
      "  # This is added back by InteractiveShellApp.init_path()\n"
     ]
    },
    {
     "name": "stdout",
     "output_type": "stream",
     "text": [
      "RJF\n",
      "RKDA\n",
      "RKT\n",
      "RKUS\n",
      "RL\n",
      "RLAY\n",
      "RLD\n",
      "RLGT.A\n",
      "RLGT\n",
      "RLGY\n",
      "RLH.A\n",
      "RLH\n",
      "RLI\n",
      "RLJ.A\n",
      "RLJ\n",
      "RLJE\n",
      "RLM\n",
      "RLMD\n",
      "RLOC\n",
      "RLOG\n",
      "RLRN\n",
      "RLYP\n"
     ]
    },
    {
     "name": "stderr",
     "output_type": "stream",
     "text": [
      "/Users/lijinyang/opt/anaconda3/lib/python3.7/site-packages/ipykernel_launcher.py:11: RuntimeWarning: invalid value encountered in log\n",
      "  # This is added back by InteractiveShellApp.init_path()\n"
     ]
    },
    {
     "name": "stdout",
     "output_type": "stream",
     "text": [
      "RM\n",
      "RMAX\n",
      "RMBI\n",
      "RMBL\n",
      "RMBS\n",
      "RMCF\n",
      "RMD\n"
     ]
    },
    {
     "name": "stderr",
     "output_type": "stream",
     "text": [
      "/Users/lijinyang/opt/anaconda3/lib/python3.7/site-packages/ipykernel_launcher.py:11: RuntimeWarning: invalid value encountered in log\n",
      "  # This is added back by InteractiveShellApp.init_path()\n"
     ]
    },
    {
     "name": "stdout",
     "output_type": "stream",
     "text": [
      "RMED\n",
      "RMG.U\n",
      "RMG\n",
      "RMGBU\n",
      "RMGN\n",
      "RMI\n",
      "RMIX\n",
      "RMKR\n"
     ]
    },
    {
     "name": "stderr",
     "output_type": "stream",
     "text": [
      "/Users/lijinyang/opt/anaconda3/lib/python3.7/site-packages/ipykernel_launcher.py:11: RuntimeWarning: invalid value encountered in log\n",
      "  # This is added back by InteractiveShellApp.init_path()\n"
     ]
    },
    {
     "name": "stdout",
     "output_type": "stream",
     "text": [
      "RMM\n",
      "RMNI\n",
      "RMO\n",
      "RMP\n",
      "RMR\n",
      "RMRM\n",
      "RMT\n",
      "RMTI\n",
      "RMTR\n",
      "RNA\n",
      "RNDB\n",
      "RNDY\n",
      "RNE\n",
      "RNET\n"
     ]
    },
    {
     "name": "stderr",
     "output_type": "stream",
     "text": [
      "/Users/lijinyang/opt/anaconda3/lib/python3.7/site-packages/ipykernel_launcher.py:11: RuntimeWarning: invalid value encountered in log\n",
      "  # This is added back by InteractiveShellApp.init_path()\n"
     ]
    },
    {
     "name": "stdout",
     "output_type": "stream",
     "text": [
      "RNF\n",
      "RNG\n",
      "RNGR\n",
      "RNIN\n",
      "RNJ\n",
      "RNLX\n",
      "RNN\n",
      "RNO\n",
      "RNOW\n",
      "RNP\n",
      "RNR.C\n",
      "RNR.E\n",
      "RNR.F\n",
      "RNR\n",
      "RNST\n",
      "RNT\n",
      "RNVAZ\n",
      "RNWK\n",
      "RNY\n",
      "ROAD\n",
      "ROAN\n"
     ]
    },
    {
     "name": "stderr",
     "output_type": "stream",
     "text": [
      "/Users/lijinyang/opt/anaconda3/lib/python3.7/site-packages/ipykernel_launcher.py:11: RuntimeWarning: invalid value encountered in log\n",
      "  # This is added back by InteractiveShellApp.init_path()\n"
     ]
    },
    {
     "name": "stdout",
     "output_type": "stream",
     "text": [
      "ROC\n",
      "ROCCU\n",
      "ROCH\n",
      "ROCHU\n",
      "ROCHW\n",
      "ROCK\n",
      "ROCM\n",
      "ROG\n",
      "ROH\n",
      "ROIA\n",
      "ROIAK\n",
      "ROIC\n",
      "ROICW\n",
      "ROIQ\n",
      "ROIQU\n",
      "ROIQW\n",
      "ROK\n",
      "ROKA\n",
      "ROKU\n",
      "ROL\n",
      "ROLL\n",
      "ROMA\n",
      "ROOT\n"
     ]
    },
    {
     "name": "stderr",
     "output_type": "stream",
     "text": [
      "/Users/lijinyang/opt/anaconda3/lib/python3.7/site-packages/ipykernel_launcher.py:11: RuntimeWarning: invalid value encountered in log\n",
      "  # This is added back by InteractiveShellApp.init_path()\n"
     ]
    },
    {
     "name": "stdout",
     "output_type": "stream",
     "text": [
      "ROP\n",
      "ROSE\n",
      "ROSEU\n",
      "ROSEW\n",
      "ROSG\n",
      "ROST\n",
      "ROVI\n"
     ]
    },
    {
     "name": "stderr",
     "output_type": "stream",
     "text": [
      "/Users/lijinyang/opt/anaconda3/lib/python3.7/site-packages/ipykernel_launcher.py:11: RuntimeWarning: invalid value encountered in log\n",
      "  # This is added back by InteractiveShellApp.init_path()\n",
      "/Users/lijinyang/opt/anaconda3/lib/python3.7/site-packages/ipykernel_launcher.py:11: RuntimeWarning: invalid value encountered in log\n",
      "  # This is added back by InteractiveShellApp.init_path()\n"
     ]
    },
    {
     "name": "stdout",
     "output_type": "stream",
     "text": [
      "ROX\n",
      "ROYT\n",
      "RP\n",
      "RPAI.A\n",
      "RPAI\n",
      "RPAY\n",
      "RPAYW\n"
     ]
    },
    {
     "name": "stderr",
     "output_type": "stream",
     "text": [
      "/Users/lijinyang/opt/anaconda3/lib/python3.7/site-packages/ipykernel_launcher.py:11: RuntimeWarning: invalid value encountered in log\n",
      "  # This is added back by InteractiveShellApp.init_path()\n",
      "/Users/lijinyang/opt/anaconda3/lib/python3.7/site-packages/ipykernel_launcher.py:11: RuntimeWarning: invalid value encountered in log\n",
      "  # This is added back by InteractiveShellApp.init_path()\n"
     ]
    },
    {
     "name": "stdout",
     "output_type": "stream",
     "text": [
      "RPD\n",
      "RPI\n",
      "RPLA.U\n",
      "RPLA\n",
      "RPM\n",
      "RPRX\n",
      "RPRXZ\n",
      "RPT.D\n",
      "RPT\n",
      "RPTP\n",
      "RPTX\n",
      "RPXC\n",
      "RQI\n",
      "RRBI\n",
      "RRC\n",
      "RRD\n",
      "RRGB\n",
      "RRI\n",
      "RRM\n",
      "RRMS\n",
      "RRR\n",
      "RRST\n",
      "RRTS\n",
      "RS\n",
      "RSC\n",
      "RSCR\n",
      "RSE\n",
      "RSF\n",
      "RSG\n",
      "RSH\n",
      "RSHC\n",
      "RSHCQ\n",
      "RSI\n",
      "RSO.A\n",
      "RSO.B\n",
      "RSO.C\n",
      "RSO\n",
      "RSOL\n",
      "RSPP\n",
      "RSSS\n",
      "RST\n",
      "RSTI\n",
      "RSVAU\n",
      "RSY\n"
     ]
    },
    {
     "name": "stderr",
     "output_type": "stream",
     "text": [
      "/Users/lijinyang/opt/anaconda3/lib/python3.7/site-packages/ipykernel_launcher.py:11: RuntimeWarning: invalid value encountered in log\n",
      "  # This is added back by InteractiveShellApp.init_path()\n"
     ]
    },
    {
     "name": "stdout",
     "output_type": "stream",
     "text": [
      "RSYS\n",
      "RT\n",
      "RTEC\n",
      "RTGN\n",
      "RTI\n",
      "RTIX\n",
      "RTK\n"
     ]
    },
    {
     "name": "stderr",
     "output_type": "stream",
     "text": [
      "/Users/lijinyang/opt/anaconda3/lib/python3.7/site-packages/ipykernel_launcher.py:11: RuntimeWarning: invalid value encountered in log\n",
      "  # This is added back by InteractiveShellApp.init_path()\n",
      "/Users/lijinyang/opt/anaconda3/lib/python3.7/site-packages/ipykernel_launcher.py:11: RuntimeWarning: invalid value encountered in log\n",
      "  # This is added back by InteractiveShellApp.init_path()\n"
     ]
    },
    {
     "name": "stdout",
     "output_type": "stream",
     "text": [
      "RTLR\n",
      "RTLX\n",
      "RTN\n",
      "RTP.U\n",
      "RTP\n",
      "RTPZ.U\n",
      "RTRX\n",
      "RTTR\n",
      "RTX\n",
      "RUBI\n",
      "RUBY\n",
      "RUE\n",
      "RUHN\n",
      "RUK\n"
     ]
    },
    {
     "name": "stderr",
     "output_type": "stream",
     "text": [
      "/Users/lijinyang/opt/anaconda3/lib/python3.7/site-packages/ipykernel_launcher.py:11: RuntimeWarning: invalid value encountered in log\n",
      "  # This is added back by InteractiveShellApp.init_path()\n",
      "/Users/lijinyang/opt/anaconda3/lib/python3.7/site-packages/ipykernel_launcher.py:11: RuntimeWarning: invalid value encountered in log\n",
      "  # This is added back by InteractiveShellApp.init_path()\n"
     ]
    },
    {
     "name": "stdout",
     "output_type": "stream",
     "text": [
      "RUN\n",
      "RURL\n",
      "RUS\n",
      "RUSHA\n",
      "RUSHB\n",
      "RUTH\n",
      "RVBD\n"
     ]
    },
    {
     "name": "stderr",
     "output_type": "stream",
     "text": [
      "/Users/lijinyang/opt/anaconda3/lib/python3.7/site-packages/ipykernel_launcher.py:11: RuntimeWarning: invalid value encountered in log\n",
      "  # This is added back by InteractiveShellApp.init_path()\n",
      "/Users/lijinyang/opt/anaconda3/lib/python3.7/site-packages/ipykernel_launcher.py:11: RuntimeWarning: invalid value encountered in log\n",
      "  # This is added back by InteractiveShellApp.init_path()\n",
      "/Users/lijinyang/opt/anaconda3/lib/python3.7/site-packages/ipykernel_launcher.py:11: RuntimeWarning: invalid value encountered in log\n",
      "  # This is added back by InteractiveShellApp.init_path()\n"
     ]
    },
    {
     "name": "stdout",
     "output_type": "stream",
     "text": [
      "RVEN\n",
      "RVI\n",
      "RVLT\n",
      "RVLV\n",
      "RVM\n",
      "RVMD\n",
      "RVNC\n",
      "RVP\n",
      "RVPH\n",
      "RVPHW\n",
      "RVR\n",
      "RVSB\n",
      "RVSN\n",
      "RVT\n",
      "RWC\n",
      "RWGE.U\n",
      "RWGE\n",
      "RWLK\n",
      "RWT\n",
      "RX\n",
      "RXDX\n",
      "RXII\n",
      "RXIIW\n",
      "RXN.A\n",
      "RXN\n",
      "RXT\n",
      "RY.S\n",
      "RY.T\n",
      "RY\n",
      "RYAAY\n",
      "RYAM.A\n",
      "RYAM\n",
      "RYB\n",
      "RYCE\n",
      "RYI\n",
      "RYL\n",
      "RYN\n",
      "RYTM\n",
      "RZ\n",
      "RZA\n",
      "RZB\n",
      "RZLT\n",
      "S\n",
      "SA\n",
      "SAAS\n",
      "SAB\n",
      "SABA\n",
      "SABR\n",
      "SABRP\n",
      "SACC\n"
     ]
    },
    {
     "name": "stderr",
     "output_type": "stream",
     "text": [
      "/Users/lijinyang/opt/anaconda3/lib/python3.7/site-packages/ipykernel_launcher.py:4: RuntimeWarning: invalid value encountered in log\n",
      "  after removing the cwd from sys.path.\n"
     ]
    },
    {
     "name": "stdout",
     "output_type": "stream",
     "text": [
      "SACH\n",
      "SAEX\n",
      "SAF\n",
      "SAFE\n",
      "SAFM\n",
      "SAFT\n",
      "SAGE\n",
      "SAH\n",
      "SAI\n",
      "SAIA\n",
      "SAIC\n",
      "SAII\n",
      "SAIIU\n",
      "SAIIW\n",
      "SAIL\n",
      "SAJA\n",
      "SAK\n",
      "SAL\n",
      "SALE\n",
      "SALM\n"
     ]
    },
    {
     "name": "stderr",
     "output_type": "stream",
     "text": [
      "/Users/lijinyang/opt/anaconda3/lib/python3.7/site-packages/ipykernel_launcher.py:11: RuntimeWarning: invalid value encountered in log\n",
      "  # This is added back by InteractiveShellApp.init_path()\n"
     ]
    },
    {
     "name": "stdout",
     "output_type": "stream",
     "text": [
      "SALT\n",
      "SAM\n",
      "SAMA\n",
      "SAMAU\n",
      "SAMAW\n",
      "SAMG\n",
      "SAN.A\n",
      "SAN.B\n",
      "SAN.C\n",
      "SAN.I\n",
      "SAN\n",
      "SAND\n",
      "SANM\n"
     ]
    },
    {
     "name": "stderr",
     "output_type": "stream",
     "text": [
      "/Users/lijinyang/opt/anaconda3/lib/python3.7/site-packages/ipykernel_launcher.py:11: RuntimeWarning: invalid value encountered in log\n",
      "  # This is added back by InteractiveShellApp.init_path()\n"
     ]
    },
    {
     "name": "stdout",
     "output_type": "stream",
     "text": [
      "SANW\n",
      "SANWW\n",
      "SANWZ\n",
      "SAP\n",
      "SAPE\n",
      "SAQ\n",
      "SAQN\n",
      "SAQNU\n",
      "SAQNW\n",
      "SAR\n",
      "SASR\n",
      "SATC\n",
      "SATS\n",
      "SATSV\n"
     ]
    },
    {
     "name": "stderr",
     "output_type": "stream",
     "text": [
      "/Users/lijinyang/opt/anaconda3/lib/python3.7/site-packages/ipykernel_launcher.py:11: RuntimeWarning: invalid value encountered in log\n",
      "  # This is added back by InteractiveShellApp.init_path()\n",
      "/Users/lijinyang/opt/anaconda3/lib/python3.7/site-packages/ipykernel_launcher.py:11: RuntimeWarning: invalid value encountered in log\n",
      "  # This is added back by InteractiveShellApp.init_path()\n"
     ]
    },
    {
     "name": "stdout",
     "output_type": "stream",
     "text": [
      "SAUC\n",
      "SAVA\n",
      "SAVB\n",
      "SAVE\n",
      "SB.B\n",
      "SB.C\n",
      "SB.D\n",
      "SB\n",
      "SBA\n",
      "SBAC\n",
      "SBBA\n",
      "SBBC\n",
      "SBBP\n",
      "SBBX\n",
      "SBCF\n",
      "SBCP\n",
      "SBE.U\n",
      "SBE\n",
      "SBFG\n",
      "SBFGP\n",
      "SBG.U\n",
      "SBG\n",
      "SBGI\n",
      "SBGL\n",
      "SBH\n",
      "SBI\n",
      "SBIB\n",
      "SBLK\n",
      "SBLKL\n",
      "SBLKZ\n",
      "SBNA\n",
      "SBNB\n",
      "SBNY\n",
      "SBNYP\n",
      "SBNYW\n",
      "SBOT\n",
      "SBOW\n",
      "SBP\n"
     ]
    },
    {
     "name": "stderr",
     "output_type": "stream",
     "text": [
      "/Users/lijinyang/opt/anaconda3/lib/python3.7/site-packages/ipykernel_launcher.py:11: RuntimeWarning: invalid value encountered in log\n",
      "  # This is added back by InteractiveShellApp.init_path()\n",
      "/Users/lijinyang/opt/anaconda3/lib/python3.7/site-packages/ipykernel_launcher.py:11: RuntimeWarning: invalid value encountered in log\n",
      "  # This is added back by InteractiveShellApp.init_path()\n"
     ]
    },
    {
     "name": "stdout",
     "output_type": "stream",
     "text": [
      "SBPH\n",
      "SBR\n",
      "SBRA\n",
      "SBRAP\n",
      "SBS\n",
      "SBSA\n",
      "SBSI\n",
      "SBSW\n",
      "SBT\n",
      "SBTX\n",
      "SBUX\n",
      "SBW\n",
      "SBX\n",
      "SBY\n",
      "SC\n"
     ]
    },
    {
     "name": "stderr",
     "output_type": "stream",
     "text": [
      "/Users/lijinyang/opt/anaconda3/lib/python3.7/site-packages/ipykernel_launcher.py:11: RuntimeWarning: invalid value encountered in log\n",
      "  # This is added back by InteractiveShellApp.init_path()\n"
     ]
    },
    {
     "name": "stdout",
     "output_type": "stream",
     "text": [
      "SCA\n",
      "SCAC\n",
      "SCACU\n",
      "SCACW\n",
      "SCAI\n",
      "SCBT\n",
      "SCCB\n",
      "SCCC\n"
     ]
    },
    {
     "name": "stderr",
     "output_type": "stream",
     "text": [
      "/Users/lijinyang/opt/anaconda3/lib/python3.7/site-packages/ipykernel_launcher.py:11: RuntimeWarning: invalid value encountered in log\n",
      "  # This is added back by InteractiveShellApp.init_path()\n"
     ]
    },
    {
     "name": "stdout",
     "output_type": "stream",
     "text": [
      "SCCO\n",
      "SCD\n",
      "SCE.B\n",
      "SCE.C\n",
      "SCE.D\n",
      "SCE.E\n",
      "SCE.F\n",
      "SCE.G\n",
      "SCE.H\n",
      "SCE.J\n",
      "SCE.K\n",
      "SCE.L\n",
      "SCEI\n",
      "SCG\n",
      "SCHL\n"
     ]
    },
    {
     "name": "stderr",
     "output_type": "stream",
     "text": [
      "/Users/lijinyang/opt/anaconda3/lib/python3.7/site-packages/ipykernel_launcher.py:11: RuntimeWarning: invalid value encountered in log\n",
      "  # This is added back by InteractiveShellApp.init_path()\n"
     ]
    },
    {
     "name": "stdout",
     "output_type": "stream",
     "text": [
      "SCHN\n",
      "SCHW.B\n",
      "SCHW.C\n",
      "SCHW.D\n",
      "SCHW\n",
      "SCI\n",
      "SCKT\n",
      "SCL\n",
      "SCLN\n",
      "SCM\n",
      "SCMF\n",
      "SCMFO\n",
      "SCMP\n",
      "SCMR\n"
     ]
    },
    {
     "name": "stderr",
     "output_type": "stream",
     "text": [
      "/Users/lijinyang/opt/anaconda3/lib/python3.7/site-packages/ipykernel_launcher.py:11: RuntimeWarning: invalid value encountered in log\n",
      "  # This is added back by InteractiveShellApp.init_path()\n",
      "/Users/lijinyang/opt/anaconda3/lib/python3.7/site-packages/ipykernel_launcher.py:11: RuntimeWarning: invalid value encountered in log\n",
      "  # This is added back by InteractiveShellApp.init_path()\n"
     ]
    },
    {
     "name": "stdout",
     "output_type": "stream",
     "text": [
      "SCNB\n",
      "SCOAU\n",
      "SCOK\n",
      "SCON\n",
      "SCOR\n",
      "SCPE.U\n",
      "SCPE\n",
      "SCPH\n",
      "SCPL\n",
      "SCPS\n",
      "SCQ\n",
      "SCR\n",
      "SCRX\n",
      "SCS\n",
      "SCSC\n"
     ]
    },
    {
     "name": "stderr",
     "output_type": "stream",
     "text": [
      "/Users/lijinyang/opt/anaconda3/lib/python3.7/site-packages/ipykernel_launcher.py:4: RuntimeWarning: divide by zero encountered in log\n",
      "  after removing the cwd from sys.path.\n",
      "/Users/lijinyang/opt/anaconda3/lib/python3.7/site-packages/ipykernel_launcher.py:11: RuntimeWarning: invalid value encountered in log\n",
      "  # This is added back by InteractiveShellApp.init_path()\n"
     ]
    },
    {
     "name": "stdout",
     "output_type": "stream",
     "text": [
      "SCSS\n",
      "SCT\n",
      "SCTY\n",
      "SCU\n",
      "SCUR\n",
      "SCVL\n",
      "SCVX.U\n"
     ]
    },
    {
     "name": "stderr",
     "output_type": "stream",
     "text": [
      "/Users/lijinyang/opt/anaconda3/lib/python3.7/site-packages/ipykernel_launcher.py:11: RuntimeWarning: invalid value encountered in log\n",
      "  # This is added back by InteractiveShellApp.init_path()\n",
      "/Users/lijinyang/opt/anaconda3/lib/python3.7/site-packages/ipykernel_launcher.py:11: RuntimeWarning: invalid value encountered in log\n",
      "  # This is added back by InteractiveShellApp.init_path()\n"
     ]
    },
    {
     "name": "stdout",
     "output_type": "stream",
     "text": [
      "SCVX\n",
      "SCWX\n",
      "SCX\n",
      "SCYX\n",
      "SD\n",
      "SDA\n",
      "SDBT\n",
      "SDC\n",
      "SDG\n",
      "SDGR\n",
      "SDHY\n",
      "SDI\n",
      "SDIX\n",
      "SDLP\n",
      "SDPI\n",
      "SDR\n",
      "SDRL\n",
      "SDT\n",
      "SDTH\n",
      "SDXC\n",
      "SE\n",
      "SEAB\n"
     ]
    },
    {
     "name": "stderr",
     "output_type": "stream",
     "text": [
      "/Users/lijinyang/opt/anaconda3/lib/python3.7/site-packages/ipykernel_launcher.py:11: RuntimeWarning: invalid value encountered in log\n",
      "  # This is added back by InteractiveShellApp.init_path()\n",
      "/Users/lijinyang/opt/anaconda3/lib/python3.7/site-packages/ipykernel_launcher.py:11: RuntimeWarning: invalid value encountered in log\n",
      "  # This is added back by InteractiveShellApp.init_path()\n"
     ]
    },
    {
     "name": "stdout",
     "output_type": "stream",
     "text": [
      "SEAC\n",
      "SEAH.U\n",
      "SEAH\n",
      "SEAS\n",
      "SEB\n",
      "SECO\n",
      "SED\n",
      "SEDG\n",
      "SEE\n",
      "SEED\n",
      "SEEL\n",
      "SEER\n",
      "SEH\n",
      "SEIC\n"
     ]
    },
    {
     "name": "stderr",
     "output_type": "stream",
     "text": [
      "/Users/lijinyang/opt/anaconda3/lib/python3.7/site-packages/ipykernel_launcher.py:11: RuntimeWarning: invalid value encountered in log\n",
      "  # This is added back by InteractiveShellApp.init_path()\n",
      "/Users/lijinyang/opt/anaconda3/lib/python3.7/site-packages/ipykernel_launcher.py:4: RuntimeWarning: divide by zero encountered in log\n",
      "  after removing the cwd from sys.path.\n",
      "/Users/lijinyang/opt/anaconda3/lib/python3.7/site-packages/ipykernel_launcher.py:11: RuntimeWarning: invalid value encountered in log\n",
      "  # This is added back by InteractiveShellApp.init_path()\n"
     ]
    },
    {
     "name": "stdout",
     "output_type": "stream",
     "text": [
      "SELB\n",
      "SELF\n",
      "SEM\n",
      "SEMG\n",
      "SEMI\n",
      "SEND\n",
      "SENEA\n",
      "SENEB\n",
      "SENS\n",
      "SEP\n",
      "SEPR\n",
      "SERV\n",
      "SES\n",
      "SESN\n"
     ]
    },
    {
     "name": "stderr",
     "output_type": "stream",
     "text": [
      "/Users/lijinyang/opt/anaconda3/lib/python3.7/site-packages/ipykernel_launcher.py:11: RuntimeWarning: invalid value encountered in log\n",
      "  # This is added back by InteractiveShellApp.init_path()\n"
     ]
    },
    {
     "name": "stdout",
     "output_type": "stream",
     "text": [
      "SEV\n",
      "SF.A\n",
      "SF.B\n",
      "SF.C\n",
      "SF\n",
      "SFB\n",
      "SFBC\n",
      "SFBS\n",
      "SFD\n",
      "SFE\n",
      "SFET\n",
      "SFG\n",
      "SFI\n",
      "SFIX\n",
      "SFL\n",
      "SFLY\n",
      "SFM\n",
      "SFN\n",
      "SFNC\n",
      "SFR\n",
      "SFS\n",
      "SFSF\n",
      "SFST\n",
      "SFT\n",
      "SFTTW\n",
      "SFTW.U\n",
      "SFTW\n",
      "SFUN\n",
      "SFXE\n",
      "SFY\n",
      "SG\n",
      "SGA\n",
      "SGAM\n",
      "SGAMU\n",
      "SGAMW\n",
      "SGB\n",
      "SGBK\n",
      "SGBX\n",
      "SGC\n",
      "SGEN\n"
     ]
    },
    {
     "name": "stderr",
     "output_type": "stream",
     "text": [
      "/Users/lijinyang/opt/anaconda3/lib/python3.7/site-packages/ipykernel_launcher.py:11: RuntimeWarning: invalid value encountered in log\n",
      "  # This is added back by InteractiveShellApp.init_path()\n"
     ]
    },
    {
     "name": "stdout",
     "output_type": "stream",
     "text": [
      "SGF\n",
      "SGH\n",
      "SGI\n",
      "SGK\n",
      "SGL\n",
      "SGLB\n",
      "SGLBW\n"
     ]
    },
    {
     "name": "stderr",
     "output_type": "stream",
     "text": [
      "/Users/lijinyang/opt/anaconda3/lib/python3.7/site-packages/ipykernel_launcher.py:11: RuntimeWarning: invalid value encountered in log\n",
      "  # This is added back by InteractiveShellApp.init_path()\n",
      "/Users/lijinyang/opt/anaconda3/lib/python3.7/site-packages/ipykernel_launcher.py:11: RuntimeWarning: invalid value encountered in log\n",
      "  # This is added back by InteractiveShellApp.init_path()\n",
      "/Users/lijinyang/opt/anaconda3/lib/python3.7/site-packages/ipykernel_launcher.py:11: RuntimeWarning: invalid value encountered in log\n",
      "  # This is added back by InteractiveShellApp.init_path()\n"
     ]
    },
    {
     "name": "stdout",
     "output_type": "stream",
     "text": [
      "SGM\n",
      "SGMA\n",
      "SGMO\n",
      "SGMS\n",
      "SGNL\n",
      "SGNT\n",
      "SGOC\n",
      "SGP\n",
      "SGR\n",
      "SGRP\n",
      "SGRY\n",
      "SGS\n",
      "SGTX\n",
      "SGU\n",
      "SGY\n",
      "SGYP\n",
      "SGYPU\n",
      "SGYPW\n",
      "SGZ\n",
      "SGZA\n",
      "SHAK\n",
      "SHAW\n"
     ]
    },
    {
     "name": "stderr",
     "output_type": "stream",
     "text": [
      "/Users/lijinyang/opt/anaconda3/lib/python3.7/site-packages/ipykernel_launcher.py:11: RuntimeWarning: invalid value encountered in log\n",
      "  # This is added back by InteractiveShellApp.init_path()\n"
     ]
    },
    {
     "name": "stdout",
     "output_type": "stream",
     "text": [
      "SHBI\n",
      "SHBT\n",
      "SHC\n",
      "SHEN\n",
      "SHFL\n",
      "SHG\n",
      "SHI\n",
      "SHIP\n",
      "SHIPW\n",
      "SHIPZ\n",
      "SHLD\n",
      "SHLDW\n",
      "SHLL.U\n"
     ]
    },
    {
     "name": "stderr",
     "output_type": "stream",
     "text": [
      "/Users/lijinyang/opt/anaconda3/lib/python3.7/site-packages/ipykernel_launcher.py:11: RuntimeWarning: invalid value encountered in log\n",
      "  # This is added back by InteractiveShellApp.init_path()\n",
      "/Users/lijinyang/opt/anaconda3/lib/python3.7/site-packages/ipykernel_launcher.py:11: RuntimeWarning: invalid value encountered in log\n",
      "  # This is added back by InteractiveShellApp.init_path()\n",
      "/Users/lijinyang/opt/anaconda3/lib/python3.7/site-packages/ipykernel_launcher.py:11: RuntimeWarning: invalid value encountered in log\n",
      "  # This is added back by InteractiveShellApp.init_path()\n",
      "/Users/lijinyang/opt/anaconda3/lib/python3.7/site-packages/ipykernel_launcher.py:11: RuntimeWarning: invalid value encountered in log\n",
      "  # This is added back by InteractiveShellApp.init_path()\n",
      "/Users/lijinyang/opt/anaconda3/lib/python3.7/site-packages/ipykernel_launcher.py:11: RuntimeWarning: invalid value encountered in log\n",
      "  # This is added back by InteractiveShellApp.init_path()\n"
     ]
    },
    {
     "name": "stdout",
     "output_type": "stream",
     "text": [
      "SHLL\n",
      "SHLM\n",
      "SHLO\n",
      "SHLX\n",
      "SHMO\n",
      "SHN\n",
      "SHO.D\n"
     ]
    },
    {
     "name": "stderr",
     "output_type": "stream",
     "text": [
      "/Users/lijinyang/opt/anaconda3/lib/python3.7/site-packages/ipykernel_launcher.py:11: RuntimeWarning: invalid value encountered in log\n",
      "  # This is added back by InteractiveShellApp.init_path()\n"
     ]
    },
    {
     "name": "stdout",
     "output_type": "stream",
     "text": [
      "SHO.E\n",
      "SHO.F\n",
      "SHO\n",
      "SHOO\n",
      "SHOP\n",
      "SHOR\n",
      "SHOS\n",
      "SHP\n",
      "SHPG\n",
      "SHPGY\n",
      "SHS\n",
      "SHSP\n",
      "SHVY\n",
      "SHW\n"
     ]
    },
    {
     "name": "stderr",
     "output_type": "stream",
     "text": [
      "/Users/lijinyang/opt/anaconda3/lib/python3.7/site-packages/ipykernel_launcher.py:11: RuntimeWarning: invalid value encountered in log\n",
      "  # This is added back by InteractiveShellApp.init_path()\n",
      "/Users/lijinyang/opt/anaconda3/lib/python3.7/site-packages/ipykernel_launcher.py:11: RuntimeWarning: invalid value encountered in log\n",
      "  # This is added back by InteractiveShellApp.init_path()\n"
     ]
    },
    {
     "name": "stdout",
     "output_type": "stream",
     "text": [
      "SHYF\n",
      "SHZ\n",
      "SI\n",
      "SIAL\n",
      "SIBC\n",
      "SIBN\n"
     ]
    },
    {
     "name": "stderr",
     "output_type": "stream",
     "text": [
      "/Users/lijinyang/opt/anaconda3/lib/python3.7/site-packages/ipykernel_launcher.py:11: RuntimeWarning: invalid value encountered in log\n",
      "  # This is added back by InteractiveShellApp.init_path()\n"
     ]
    },
    {
     "name": "stdout",
     "output_type": "stream",
     "text": [
      "SIC\n",
      "SID\n",
      "SIEB\n",
      "SIEN\n",
      "SIF\n",
      "SIFI\n",
      "SIFY\n",
      "SIG\n",
      "SIGA\n",
      "SIGI\n",
      "SIGIP\n",
      "SIHI\n",
      "SII\n"
     ]
    },
    {
     "name": "stderr",
     "output_type": "stream",
     "text": [
      "/Users/lijinyang/opt/anaconda3/lib/python3.7/site-packages/ipykernel_launcher.py:11: RuntimeWarning: invalid value encountered in log\n",
      "  # This is added back by InteractiveShellApp.init_path()\n",
      "/Users/lijinyang/opt/anaconda3/lib/python3.7/site-packages/ipykernel_launcher.py:11: RuntimeWarning: invalid value encountered in log\n",
      "  # This is added back by InteractiveShellApp.init_path()\n"
     ]
    },
    {
     "name": "stdout",
     "output_type": "stream",
     "text": [
      "SILC\n",
      "SILK\n",
      "SILU\n",
      "SILV\n",
      "SIM\n",
      "SIMG\n",
      "SIMO\n",
      "SINA\n",
      "SINO\n",
      "SINT\n",
      "SIOX\n",
      "SIR\n",
      "SIRF\n",
      "SIRI\n"
     ]
    },
    {
     "name": "stderr",
     "output_type": "stream",
     "text": [
      "/Users/lijinyang/opt/anaconda3/lib/python3.7/site-packages/ipykernel_launcher.py:11: RuntimeWarning: invalid value encountered in log\n",
      "  # This is added back by InteractiveShellApp.init_path()\n"
     ]
    },
    {
     "name": "stdout",
     "output_type": "stream",
     "text": [
      "SIRO\n",
      "SITC.A\n",
      "SITC.J\n",
      "SITC.K\n",
      "SITC\n",
      "SITE\n",
      "SITM\n"
     ]
    },
    {
     "name": "stderr",
     "output_type": "stream",
     "text": [
      "/Users/lijinyang/opt/anaconda3/lib/python3.7/site-packages/ipykernel_launcher.py:11: RuntimeWarning: invalid value encountered in log\n",
      "  # This is added back by InteractiveShellApp.init_path()\n",
      "/Users/lijinyang/opt/anaconda3/lib/python3.7/site-packages/ipykernel_launcher.py:11: RuntimeWarning: invalid value encountered in log\n",
      "  # This is added back by InteractiveShellApp.init_path()\n"
     ]
    },
    {
     "name": "stdout",
     "output_type": "stream",
     "text": [
      "SITO\n",
      "SIVB\n",
      "SIVBO\n",
      "SIVBP\n",
      "SIX\n",
      "SJ\n",
      "SJI\n",
      "SJIJ\n",
      "SJIU\n",
      "SJM\n",
      "SJOYW\n",
      "SJR\n",
      "SJT\n",
      "SJV\n"
     ]
    },
    {
     "name": "stderr",
     "output_type": "stream",
     "text": [
      "/Users/lijinyang/opt/anaconda3/lib/python3.7/site-packages/ipykernel_launcher.py:11: RuntimeWarning: invalid value encountered in log\n",
      "  # This is added back by InteractiveShellApp.init_path()\n"
     ]
    },
    {
     "name": "stdout",
     "output_type": "stream",
     "text": [
      "SJW\n",
      "SKC\n",
      "SKH\n",
      "SKIS\n",
      "SKLN\n",
      "SKLNU\n",
      "SKLZ\n"
     ]
    },
    {
     "name": "stderr",
     "output_type": "stream",
     "text": [
      "/Users/lijinyang/opt/anaconda3/lib/python3.7/site-packages/ipykernel_launcher.py:11: RuntimeWarning: invalid value encountered in log\n",
      "  # This is added back by InteractiveShellApp.init_path()\n",
      "/Users/lijinyang/opt/anaconda3/lib/python3.7/site-packages/ipykernel_launcher.py:11: RuntimeWarning: invalid value encountered in log\n",
      "  # This is added back by InteractiveShellApp.init_path()\n"
     ]
    },
    {
     "name": "stdout",
     "output_type": "stream",
     "text": [
      "SKM\n",
      "SKP\n",
      "SKS\n",
      "SKT\n",
      "SKUL\n",
      "SKX\n",
      "SKY\n",
      "SKYS\n",
      "SKYW\n",
      "SLA\n",
      "SLAB\n",
      "SLB\n",
      "SLCA\n",
      "SLCT\n",
      "SLD\n",
      "SLDA\n",
      "SLDB\n",
      "SLDD\n",
      "SLE\n",
      "SLF\n"
     ]
    },
    {
     "name": "stderr",
     "output_type": "stream",
     "text": [
      "/Users/lijinyang/opt/anaconda3/lib/python3.7/site-packages/ipykernel_launcher.py:11: RuntimeWarning: invalid value encountered in log\n",
      "  # This is added back by InteractiveShellApp.init_path()\n"
     ]
    },
    {
     "name": "stdout",
     "output_type": "stream",
     "text": [
      "SLG.I\n",
      "SLG\n",
      "SLGG\n",
      "SLGL\n",
      "SLGN\n",
      "SLH\n",
      "SLI\n",
      "SLM\n",
      "SLMAP\n",
      "SLMBP\n",
      "SLN\n",
      "SLNG\n",
      "SLNO\n",
      "SLNOW\n",
      "SLP\n",
      "SLQD\n",
      "SLQT\n",
      "SLRA\n",
      "SLRC\n"
     ]
    },
    {
     "name": "stderr",
     "output_type": "stream",
     "text": [
      "/Users/lijinyang/opt/anaconda3/lib/python3.7/site-packages/ipykernel_launcher.py:11: RuntimeWarning: invalid value encountered in log\n",
      "  # This is added back by InteractiveShellApp.init_path()\n",
      "/Users/lijinyang/opt/anaconda3/lib/python3.7/site-packages/ipykernel_launcher.py:11: RuntimeWarning: invalid value encountered in log\n",
      "  # This is added back by InteractiveShellApp.init_path()\n",
      "/Users/lijinyang/opt/anaconda3/lib/python3.7/site-packages/ipykernel_launcher.py:11: RuntimeWarning: invalid value encountered in log\n",
      "  # This is added back by InteractiveShellApp.init_path()\n"
     ]
    },
    {
     "name": "stdout",
     "output_type": "stream",
     "text": [
      "SLRX\n",
      "SLS\n",
      "SLTB\n",
      "SLTC\n",
      "SLTD\n",
      "SLTM\n",
      "SLVY\n"
     ]
    },
    {
     "name": "stderr",
     "output_type": "stream",
     "text": [
      "/Users/lijinyang/opt/anaconda3/lib/python3.7/site-packages/ipykernel_launcher.py:11: RuntimeWarning: invalid value encountered in log\n",
      "  # This is added back by InteractiveShellApp.init_path()\n",
      "/Users/lijinyang/opt/anaconda3/lib/python3.7/site-packages/ipykernel_launcher.py:11: RuntimeWarning: invalid value encountered in log\n",
      "  # This is added back by InteractiveShellApp.init_path()\n"
     ]
    },
    {
     "name": "stdout",
     "output_type": "stream",
     "text": [
      "SLW\n",
      "SLXP\n",
      "SM\n",
      "SMA\n",
      "SMAC\n",
      "SMACU\n",
      "SMAR\n"
     ]
    },
    {
     "name": "stderr",
     "output_type": "stream",
     "text": [
      "/Users/lijinyang/opt/anaconda3/lib/python3.7/site-packages/ipykernel_launcher.py:11: RuntimeWarning: invalid value encountered in log\n",
      "  # This is added back by InteractiveShellApp.init_path()\n",
      "/Users/lijinyang/opt/anaconda3/lib/python3.7/site-packages/ipykernel_launcher.py:11: RuntimeWarning: invalid value encountered in log\n",
      "  # This is added back by InteractiveShellApp.init_path()\n"
     ]
    },
    {
     "name": "stdout",
     "output_type": "stream",
     "text": [
      "SMBC\n",
      "SMBK\n",
      "SMBL\n",
      "SMCG\n",
      "SMCI\n",
      "SMED\n",
      "SMF\n",
      "SMFG\n",
      "SMG\n",
      "SMHG\n",
      "SMHI\n",
      "SMI\n",
      "SMID\n",
      "SMIT\n",
      "SMLP\n",
      "SMM\n",
      "SMMC\n",
      "SMMCU\n",
      "SMMCW\n",
      "SMMF\n",
      "SMMT\n"
     ]
    },
    {
     "name": "stderr",
     "output_type": "stream",
     "text": [
      "/Users/lijinyang/opt/anaconda3/lib/python3.7/site-packages/ipykernel_launcher.py:11: RuntimeWarning: invalid value encountered in log\n",
      "  # This is added back by InteractiveShellApp.init_path()\n"
     ]
    },
    {
     "name": "stdout",
     "output_type": "stream",
     "text": [
      "SMMX\n",
      "SMOD\n",
      "SMP\n",
      "SMPL\n",
      "SMPLW\n",
      "SMRT\n",
      "SMS\n",
      "SMSC\n",
      "SMSH\n",
      "SMSHW\n",
      "SMSI\n",
      "SMT\n",
      "SMTA\n",
      "SMTB\n",
      "SMTC\n"
     ]
    },
    {
     "name": "stderr",
     "output_type": "stream",
     "text": [
      "/Users/lijinyang/opt/anaconda3/lib/python3.7/site-packages/ipykernel_launcher.py:11: RuntimeWarning: invalid value encountered in log\n",
      "  # This is added back by InteractiveShellApp.init_path()\n",
      "/Users/lijinyang/opt/anaconda3/lib/python3.7/site-packages/ipykernel_launcher.py:11: RuntimeWarning: invalid value encountered in log\n",
      "  # This is added back by InteractiveShellApp.init_path()\n",
      "/Users/lijinyang/opt/anaconda3/lib/python3.7/site-packages/ipykernel_launcher.py:11: RuntimeWarning: invalid value encountered in log\n",
      "  # This is added back by InteractiveShellApp.init_path()\n",
      "/Users/lijinyang/opt/anaconda3/lib/python3.7/site-packages/ipykernel_launcher.py:11: RuntimeWarning: invalid value encountered in log\n",
      "  # This is added back by InteractiveShellApp.init_path()\n"
     ]
    },
    {
     "name": "stdout",
     "output_type": "stream",
     "text": [
      "SMTI\n",
      "SMTL\n",
      "SMTP\n",
      "SMTS\n",
      "SMTX\n",
      "SMU\n",
      "SN\n",
      "SNA\n",
      "SNAK\n",
      "SNAP\n",
      "SNBC\n",
      "SNBP\n",
      "SNBR\n",
      "SNC\n"
     ]
    },
    {
     "name": "stderr",
     "output_type": "stream",
     "text": [
      "/Users/lijinyang/opt/anaconda3/lib/python3.7/site-packages/ipykernel_launcher.py:11: RuntimeWarning: invalid value encountered in log\n",
      "  # This is added back by InteractiveShellApp.init_path()\n"
     ]
    },
    {
     "name": "stdout",
     "output_type": "stream",
     "text": [
      "SNCA\n",
      "SNCR\n",
      "SND\n",
      "SNDA\n",
      "SNDE\n",
      "SNDK\n",
      "SNDL\n",
      "SNDR\n",
      "SNDX\n",
      "SNE\n",
      "SNES\n",
      "SNEX\n",
      "SNFCA\n",
      "SNGX\n"
     ]
    },
    {
     "name": "stderr",
     "output_type": "stream",
     "text": [
      "/Users/lijinyang/opt/anaconda3/lib/python3.7/site-packages/ipykernel_launcher.py:11: RuntimeWarning: invalid value encountered in log\n",
      "  # This is added back by InteractiveShellApp.init_path()\n",
      "/Users/lijinyang/opt/anaconda3/lib/python3.7/site-packages/ipykernel_launcher.py:11: RuntimeWarning: invalid value encountered in log\n",
      "  # This is added back by InteractiveShellApp.init_path()\n",
      "/Users/lijinyang/opt/anaconda3/lib/python3.7/site-packages/ipykernel_launcher.py:11: RuntimeWarning: invalid value encountered in log\n",
      "  # This is added back by InteractiveShellApp.init_path()\n"
     ]
    },
    {
     "name": "stdout",
     "output_type": "stream",
     "text": [
      "SNGXW\n",
      "SNH\n",
      "SNHN\n",
      "SNHNI\n",
      "SNHNL\n",
      "SNHO\n",
      "SNHY\n",
      "SNI\n"
     ]
    },
    {
     "name": "stderr",
     "output_type": "stream",
     "text": [
      "/Users/lijinyang/opt/anaconda3/lib/python3.7/site-packages/ipykernel_launcher.py:11: RuntimeWarning: invalid value encountered in log\n",
      "  # This is added back by InteractiveShellApp.init_path()\n",
      "/Users/lijinyang/opt/anaconda3/lib/python3.7/site-packages/ipykernel_launcher.py:11: RuntimeWarning: invalid value encountered in log\n",
      "  # This is added back by InteractiveShellApp.init_path()\n"
     ]
    },
    {
     "name": "stdout",
     "output_type": "stream",
     "text": [
      "SNIC\n",
      "SNK\n",
      "SNMP\n",
      "SNMX\n",
      "SNN\n",
      "SNNA\n",
      "SNOA\n"
     ]
    },
    {
     "name": "stderr",
     "output_type": "stream",
     "text": [
      "/Users/lijinyang/opt/anaconda3/lib/python3.7/site-packages/ipykernel_launcher.py:11: RuntimeWarning: invalid value encountered in log\n",
      "  # This is added back by InteractiveShellApp.init_path()\n",
      "/Users/lijinyang/opt/anaconda3/lib/python3.7/site-packages/ipykernel_launcher.py:11: RuntimeWarning: invalid value encountered in log\n",
      "  # This is added back by InteractiveShellApp.init_path()\n"
     ]
    },
    {
     "name": "stdout",
     "output_type": "stream",
     "text": [
      "SNOAW\n",
      "SNOW\n",
      "SNP\n",
      "SNPR.U\n",
      "SNPR\n",
      "SNPS\n",
      "SNR\n",
      "SNRHU\n",
      "SNS\n",
      "SNSS\n",
      "SNSTA\n",
      "SNT\n",
      "SNTA\n",
      "SNTS\n",
      "SNUG\n",
      "SNV.C\n"
     ]
    },
    {
     "name": "stderr",
     "output_type": "stream",
     "text": [
      "/Users/lijinyang/opt/anaconda3/lib/python3.7/site-packages/ipykernel_launcher.py:11: RuntimeWarning: invalid value encountered in log\n",
      "  # This is added back by InteractiveShellApp.init_path()\n",
      "/Users/lijinyang/opt/anaconda3/lib/python3.7/site-packages/ipykernel_launcher.py:11: RuntimeWarning: invalid value encountered in log\n",
      "  # This is added back by InteractiveShellApp.init_path()\n",
      "/Users/lijinyang/opt/anaconda3/lib/python3.7/site-packages/ipykernel_launcher.py:11: RuntimeWarning: invalid value encountered in log\n",
      "  # This is added back by InteractiveShellApp.init_path()\n"
     ]
    },
    {
     "name": "stdout",
     "output_type": "stream",
     "text": [
      "SNV.D\n",
      "SNV.E\n",
      "SNV\n",
      "SNWL\n",
      "SNX\n",
      "SNY\n",
      "SO\n",
      "SOA\n",
      "SOAC.U\n",
      "SOAC\n",
      "SOCB\n",
      "SODA\n",
      "SOGC\n",
      "SOGO\n",
      "SOHO\n"
     ]
    },
    {
     "name": "stderr",
     "output_type": "stream",
     "text": [
      "/Users/lijinyang/opt/anaconda3/lib/python3.7/site-packages/ipykernel_launcher.py:11: RuntimeWarning: invalid value encountered in log\n",
      "  # This is added back by InteractiveShellApp.init_path()\n",
      "/Users/lijinyang/opt/anaconda3/lib/python3.7/site-packages/ipykernel_launcher.py:11: RuntimeWarning: invalid value encountered in log\n",
      "  # This is added back by InteractiveShellApp.init_path()\n"
     ]
    },
    {
     "name": "stdout",
     "output_type": "stream",
     "text": [
      "SOHOB\n",
      "SOHOK\n",
      "SOHOL\n",
      "SOHOM\n",
      "SOHON\n",
      "SOHOO\n",
      "SOHU\n",
      "SOI\n",
      "SOJA\n",
      "SOJB\n",
      "SOJC\n",
      "SOJD\n",
      "SOJE\n",
      "SOL\n",
      "SOLN\n",
      "SOLO\n"
     ]
    },
    {
     "name": "stderr",
     "output_type": "stream",
     "text": [
      "/Users/lijinyang/opt/anaconda3/lib/python3.7/site-packages/ipykernel_launcher.py:11: RuntimeWarning: invalid value encountered in log\n",
      "  # This is added back by InteractiveShellApp.init_path()\n",
      "/Users/lijinyang/opt/anaconda3/lib/python3.7/site-packages/ipykernel_launcher.py:11: RuntimeWarning: invalid value encountered in log\n",
      "  # This is added back by InteractiveShellApp.init_path()\n"
     ]
    },
    {
     "name": "stdout",
     "output_type": "stream",
     "text": [
      "SOLOW\n",
      "SOLR\n",
      "SOLY\n",
      "SOMH\n",
      "SOMX\n",
      "SON\n",
      "SONA\n",
      "SONC\n",
      "SONE\n",
      "SONG\n",
      "SONGW\n",
      "SONM\n",
      "SONN\n",
      "SONO\n",
      "SONS\n",
      "SOQ\n",
      "SOR\n",
      "SORL\n",
      "SOS\n",
      "SOV.C\n",
      "SOV\n",
      "SP\n",
      "SPA\n"
     ]
    },
    {
     "name": "stderr",
     "output_type": "stream",
     "text": [
      "/Users/lijinyang/opt/anaconda3/lib/python3.7/site-packages/ipykernel_launcher.py:11: RuntimeWarning: invalid value encountered in log\n",
      "  # This is added back by InteractiveShellApp.init_path()\n"
     ]
    },
    {
     "name": "stdout",
     "output_type": "stream",
     "text": [
      "SPAN\n",
      "SPAQ.U\n",
      "SPAQ\n",
      "SPAR\n",
      "SPB\n",
      "SPBC\n",
      "SPC\n",
      "SPCB\n"
     ]
    },
    {
     "name": "stderr",
     "output_type": "stream",
     "text": [
      "/Users/lijinyang/opt/anaconda3/lib/python3.7/site-packages/ipykernel_launcher.py:11: RuntimeWarning: invalid value encountered in log\n",
      "  # This is added back by InteractiveShellApp.init_path()\n",
      "/Users/lijinyang/opt/anaconda3/lib/python3.7/site-packages/ipykernel_launcher.py:11: RuntimeWarning: invalid value encountered in log\n",
      "  # This is added back by InteractiveShellApp.init_path()\n"
     ]
    },
    {
     "name": "stdout",
     "output_type": "stream",
     "text": [
      "SPCE.U\n",
      "SPCE\n",
      "SPCHA\n",
      "SPCHB\n",
      "SPE.B\n",
      "SPE\n",
      "SPEX\n",
      "SPF\n",
      "SPFI\n",
      "SPFR.U\n",
      "SPG.J\n",
      "SPG\n",
      "SPGI\n",
      "SPH\n",
      "SPHS\n"
     ]
    },
    {
     "name": "stderr",
     "output_type": "stream",
     "text": [
      "/Users/lijinyang/opt/anaconda3/lib/python3.7/site-packages/ipykernel_launcher.py:11: RuntimeWarning: invalid value encountered in log\n",
      "  # This is added back by InteractiveShellApp.init_path()\n",
      "/Users/lijinyang/opt/anaconda3/lib/python3.7/site-packages/ipykernel_launcher.py:11: RuntimeWarning: invalid value encountered in log\n",
      "  # This is added back by InteractiveShellApp.init_path()\n"
     ]
    },
    {
     "name": "stdout",
     "output_type": "stream",
     "text": [
      "SPI\n",
      "SPIL\n",
      "SPKE\n",
      "SPKEP\n",
      "SPLK\n",
      "SPLP.A\n",
      "SPLP.T\n",
      "SPLP\n",
      "SPLS\n",
      "SPN\n",
      "SPNC\n",
      "SPNE\n",
      "SPNS\n",
      "SPNV.U\n",
      "SPNV\n",
      "SPOK\n",
      "SPOT\n",
      "SPP\n",
      "SPPI\n",
      "SPPR\n",
      "SPPRO\n",
      "SPPRP\n",
      "SPQQ\n",
      "SPR\n",
      "SPRB\n",
      "SPRD\n",
      "SPRO\n",
      "SPRQ.U\n",
      "SPRT\n",
      "SPSC\n",
      "SPSN\n",
      "SPSS\n",
      "SPSX\n",
      "SPT\n",
      "SPTN\n",
      "SPU\n",
      "SPW\n",
      "SPWH\n",
      "SPWR\n",
      "SPWRA\n",
      "SPXC\n",
      "SPXX\n",
      "SQ\n"
     ]
    },
    {
     "name": "stderr",
     "output_type": "stream",
     "text": [
      "/Users/lijinyang/opt/anaconda3/lib/python3.7/site-packages/ipykernel_launcher.py:11: RuntimeWarning: invalid value encountered in log\n",
      "  # This is added back by InteractiveShellApp.init_path()\n"
     ]
    },
    {
     "name": "stdout",
     "output_type": "stream",
     "text": [
      "SQBG\n",
      "SQBK\n",
      "SQFT\n",
      "SQI\n",
      "SQM\n",
      "SQNM\n",
      "SQNS\n"
     ]
    },
    {
     "name": "stderr",
     "output_type": "stream",
     "text": [
      "/Users/lijinyang/opt/anaconda3/lib/python3.7/site-packages/ipykernel_launcher.py:11: RuntimeWarning: invalid value encountered in log\n",
      "  # This is added back by InteractiveShellApp.init_path()\n",
      "/Users/lijinyang/opt/anaconda3/lib/python3.7/site-packages/ipykernel_launcher.py:11: RuntimeWarning: invalid value encountered in log\n",
      "  # This is added back by InteractiveShellApp.init_path()\n"
     ]
    },
    {
     "name": "stdout",
     "output_type": "stream",
     "text": [
      "SQZ\n",
      "SR.A\n",
      "SR\n",
      "SRAC\n",
      "SRACU\n",
      "SRACW\n",
      "SRAQ\n",
      "SRAQU\n",
      "SRAQW\n",
      "SRAX\n",
      "SRC.A\n",
      "SRC\n",
      "SRCE\n",
      "SRCI\n",
      "SRCL\n"
     ]
    },
    {
     "name": "stderr",
     "output_type": "stream",
     "text": [
      "/Users/lijinyang/opt/anaconda3/lib/python3.7/site-packages/ipykernel_launcher.py:11: RuntimeWarning: invalid value encountered in log\n",
      "  # This is added back by InteractiveShellApp.init_path()\n"
     ]
    },
    {
     "name": "stdout",
     "output_type": "stream",
     "text": [
      "SRCLP\n",
      "SRDX\n",
      "SRE.A\n",
      "SRE.B\n",
      "SRE\n",
      "SREA\n",
      "SREV\n",
      "SRF\n",
      "SRG.A\n",
      "SRG\n",
      "SRGA\n",
      "SRI\n",
      "SRL\n",
      "SRLP\n",
      "SRLS\n",
      "SRNE\n",
      "SRP\n",
      "SRPT\n",
      "SRRA\n",
      "SRRK\n",
      "SRSA\n"
     ]
    },
    {
     "name": "stderr",
     "output_type": "stream",
     "text": [
      "/Users/lijinyang/opt/anaconda3/lib/python3.7/site-packages/ipykernel_launcher.py:11: RuntimeWarning: invalid value encountered in log\n",
      "  # This is added back by InteractiveShellApp.init_path()\n",
      "/Users/lijinyang/opt/anaconda3/lib/python3.7/site-packages/ipykernel_launcher.py:11: RuntimeWarning: invalid value encountered in log\n",
      "  # This is added back by InteractiveShellApp.init_path()\n",
      "/Users/lijinyang/opt/anaconda3/lib/python3.7/site-packages/ipykernel_launcher.py:11: RuntimeWarning: invalid value encountered in log\n",
      "  # This is added back by InteractiveShellApp.init_path()\n",
      "/Users/lijinyang/opt/anaconda3/lib/python3.7/site-packages/ipykernel_launcher.py:11: RuntimeWarning: invalid value encountered in log\n",
      "  # This is added back by InteractiveShellApp.init_path()\n"
     ]
    },
    {
     "name": "stdout",
     "output_type": "stream",
     "text": [
      "SRSAU\n",
      "SRSAW\n",
      "SRSC\n",
      "SRSL\n",
      "SRT\n",
      "SRTS\n",
      "SRTSU\n",
      "SRTSW\n",
      "SRUN\n",
      "SRUNU\n",
      "SRUNW\n",
      "SRV\n",
      "SRVY\n",
      "SRX\n",
      "SRZ\n"
     ]
    },
    {
     "name": "stderr",
     "output_type": "stream",
     "text": [
      "/Users/lijinyang/opt/anaconda3/lib/python3.7/site-packages/ipykernel_launcher.py:11: RuntimeWarning: invalid value encountered in log\n",
      "  # This is added back by InteractiveShellApp.init_path()\n"
     ]
    },
    {
     "name": "stdout",
     "output_type": "stream",
     "text": [
      "SSAM\n",
      "SSB\n",
      "SSBI\n",
      "SSC\n",
      "SSCC\n",
      "SSD\n",
      "SSE\n"
     ]
    },
    {
     "name": "stderr",
     "output_type": "stream",
     "text": [
      "/Users/lijinyang/opt/anaconda3/lib/python3.7/site-packages/ipykernel_launcher.py:11: RuntimeWarning: invalid value encountered in log\n",
      "  # This is added back by InteractiveShellApp.init_path()\n",
      "/Users/lijinyang/opt/anaconda3/lib/python3.7/site-packages/ipykernel_launcher.py:11: RuntimeWarning: invalid value encountered in log\n",
      "  # This is added back by InteractiveShellApp.init_path()\n"
     ]
    },
    {
     "name": "stdout",
     "output_type": "stream",
     "text": [
      "SSFN\n",
      "SSH\n",
      "SSI\n",
      "SSKN\n",
      "SSL\n",
      "SSLJ\n"
     ]
    },
    {
     "name": "stderr",
     "output_type": "stream",
     "text": [
      "/Users/lijinyang/opt/anaconda3/lib/python3.7/site-packages/ipykernel_launcher.py:11: RuntimeWarning: invalid value encountered in log\n",
      "  # This is added back by InteractiveShellApp.init_path()\n"
     ]
    },
    {
     "name": "stdout",
     "output_type": "stream",
     "text": [
      "SSLT\n",
      "SSN\n",
      "SSNC\n",
      "SSNI\n",
      "SSNT\n",
      "SSP\n",
      "SSPK\n",
      "SSPKU\n",
      "SSPKW\n",
      "SSRG\n",
      "SSRI\n",
      "SSRM\n",
      "SSRX\n",
      "SSS\n",
      "SSSS\n",
      "SSTI\n",
      "SSTK\n",
      "SSW.C\n",
      "SSW.D\n",
      "SSW.E\n",
      "SSW.G\n",
      "SSW.H\n",
      "SSW.I\n",
      "SSW\n",
      "SSWA\n",
      "SSWN\n",
      "SSY\n",
      "SSYS\n",
      "ST\n"
     ]
    },
    {
     "name": "stderr",
     "output_type": "stream",
     "text": [
      "/Users/lijinyang/opt/anaconda3/lib/python3.7/site-packages/ipykernel_launcher.py:11: RuntimeWarning: invalid value encountered in log\n",
      "  # This is added back by InteractiveShellApp.init_path()\n",
      "/Users/lijinyang/opt/anaconda3/lib/python3.7/site-packages/ipykernel_launcher.py:11: RuntimeWarning: invalid value encountered in log\n",
      "  # This is added back by InteractiveShellApp.init_path()\n"
     ]
    },
    {
     "name": "stdout",
     "output_type": "stream",
     "text": [
      "STAA\n",
      "STAF\n",
      "STAG.A\n",
      "STAG.B\n",
      "STAG.C\n",
      "STAG\n",
      "STAN\n",
      "STAR.D\n",
      "STAR.E\n",
      "STAR.F\n",
      "STAR.G\n",
      "STAR.I\n",
      "STAR\n"
     ]
    },
    {
     "name": "stderr",
     "output_type": "stream",
     "text": [
      "/Users/lijinyang/opt/anaconda3/lib/python3.7/site-packages/ipykernel_launcher.py:11: RuntimeWarning: invalid value encountered in log\n",
      "  # This is added back by InteractiveShellApp.init_path()\n",
      "/Users/lijinyang/opt/anaconda3/lib/python3.7/site-packages/ipykernel_launcher.py:11: RuntimeWarning: invalid value encountered in log\n",
      "  # This is added back by InteractiveShellApp.init_path()\n"
     ]
    },
    {
     "name": "stdout",
     "output_type": "stream",
     "text": [
      "STAY\n",
      "STB\n",
      "STBA\n",
      "STBC\n",
      "STBZ\n",
      "STC\n",
      "STCK\n",
      "STCN\n",
      "STD\n",
      "STDY\n",
      "STE\n",
      "STEC\n",
      "STEI\n",
      "STEL\n",
      "STEM\n",
      "STEP\n",
      "STFC\n",
      "STG\n",
      "STI.A\n",
      "STI.E\n",
      "STI\n"
     ]
    },
    {
     "name": "stderr",
     "output_type": "stream",
     "text": [
      "/Users/lijinyang/opt/anaconda3/lib/python3.7/site-packages/ipykernel_launcher.py:11: RuntimeWarning: invalid value encountered in log\n",
      "  # This is added back by InteractiveShellApp.init_path()\n"
     ]
    },
    {
     "name": "stdout",
     "output_type": "stream",
     "text": [
      "STIC.U\n",
      "STIC\n",
      "STIM\n",
      "STJ\n",
      "STK\n",
      "STKL\n",
      "STKS\n",
      "STL.A\n",
      "STL\n",
      "STLD\n",
      "STLR\n",
      "STLRU\n",
      "STLRW\n",
      "STM\n",
      "STML\n",
      "STMP\n",
      "STN\n",
      "STND\n",
      "STNE\n",
      "STNG\n",
      "STNL\n",
      "STNLU\n",
      "STNLW\n",
      "STNR\n",
      "STO\n",
      "STOK\n",
      "STON\n",
      "STOR\n",
      "STP\n"
     ]
    },
    {
     "name": "stderr",
     "output_type": "stream",
     "text": [
      "/Users/lijinyang/opt/anaconda3/lib/python3.7/site-packages/ipykernel_launcher.py:11: RuntimeWarning: invalid value encountered in log\n",
      "  # This is added back by InteractiveShellApp.init_path()\n"
     ]
    },
    {
     "name": "stdout",
     "output_type": "stream",
     "text": [
      "STPK.U\n",
      "STPK\n",
      "STR\n",
      "STRA\n",
      "STRC\n",
      "STRL\n",
      "STRM\n",
      "STRN\n",
      "STRO\n",
      "STRP\n",
      "STRR\n",
      "STRRP\n",
      "STRS\n",
      "STRT\n",
      "STRZA\n",
      "STRZB\n",
      "STS\n",
      "STSA\n",
      "STSI\n",
      "STST\n",
      "STT.C\n"
     ]
    },
    {
     "name": "stderr",
     "output_type": "stream",
     "text": [
      "/Users/lijinyang/opt/anaconda3/lib/python3.7/site-packages/ipykernel_launcher.py:11: RuntimeWarning: invalid value encountered in log\n",
      "  # This is added back by InteractiveShellApp.init_path()\n",
      "/Users/lijinyang/opt/anaconda3/lib/python3.7/site-packages/ipykernel_launcher.py:11: RuntimeWarning: invalid value encountered in log\n",
      "  # This is added back by InteractiveShellApp.init_path()\n"
     ]
    },
    {
     "name": "stdout",
     "output_type": "stream",
     "text": [
      "STT.D\n",
      "STT.E\n",
      "STT.G\n",
      "STT\n",
      "STTK\n",
      "STU\n",
      "STV\n",
      "STWD\n",
      "STWO\n",
      "STWOU\n",
      "STWOW\n",
      "STX\n",
      "STXB\n",
      "STXS\n",
      "STXSW\n"
     ]
    },
    {
     "name": "stderr",
     "output_type": "stream",
     "text": [
      "/Users/lijinyang/opt/anaconda3/lib/python3.7/site-packages/ipykernel_launcher.py:11: RuntimeWarning: invalid value encountered in log\n",
      "  # This is added back by InteractiveShellApp.init_path()\n"
     ]
    },
    {
     "name": "stdout",
     "output_type": "stream",
     "text": [
      "STZ.B\n",
      "STZ\n",
      "SU\n",
      "SUBK\n",
      "SUF\n",
      "SUG\n",
      "SUI.A\n",
      "SUI\n",
      "SUM\n",
      "SUMO\n",
      "SUMR\n",
      "SUMT\n",
      "SUN\n",
      "SUNE\n"
     ]
    },
    {
     "name": "stderr",
     "output_type": "stream",
     "text": [
      "/Users/lijinyang/opt/anaconda3/lib/python3.7/site-packages/ipykernel_launcher.py:11: RuntimeWarning: invalid value encountered in log\n",
      "  # This is added back by InteractiveShellApp.init_path()\n"
     ]
    },
    {
     "name": "stdout",
     "output_type": "stream",
     "text": [
      "SUNH\n",
      "SUNS\n",
      "SUNW\n",
      "SUP\n",
      "SUPG\n",
      "SUPN\n",
      "SUPV\n",
      "SUPX\n",
      "SUR\n",
      "SURF\n",
      "SURW\n",
      "SUSL\n",
      "SUSP\n",
      "SUSQ\n",
      "SUSS\n",
      "SUTR\n",
      "SUZ\n",
      "SV\n",
      "SVA\n",
      "SVAC\n",
      "SVACU\n",
      "SVACW\n",
      "SVBI\n"
     ]
    },
    {
     "name": "stderr",
     "output_type": "stream",
     "text": [
      "/Users/lijinyang/opt/anaconda3/lib/python3.7/site-packages/ipykernel_launcher.py:11: RuntimeWarning: invalid value encountered in log\n",
      "  # This is added back by InteractiveShellApp.init_path()\n"
     ]
    },
    {
     "name": "stdout",
     "output_type": "stream",
     "text": [
      "SVC\n",
      "SVLC\n",
      "SVM\n",
      "SVMK\n",
      "SVN\n",
      "SVNT\n",
      "SVOKU\n",
      "SVON\n"
     ]
    },
    {
     "name": "stderr",
     "output_type": "stream",
     "text": [
      "/Users/lijinyang/opt/anaconda3/lib/python3.7/site-packages/ipykernel_launcher.py:11: RuntimeWarning: invalid value encountered in log\n",
      "  # This is added back by InteractiveShellApp.init_path()\n",
      "/Users/lijinyang/opt/anaconda3/lib/python3.7/site-packages/ipykernel_launcher.py:11: RuntimeWarning: invalid value encountered in log\n",
      "  # This is added back by InteractiveShellApp.init_path()\n",
      "/Users/lijinyang/opt/anaconda3/lib/python3.7/site-packages/ipykernel_launcher.py:11: RuntimeWarning: invalid value encountered in log\n",
      "  # This is added back by InteractiveShellApp.init_path()\n"
     ]
    },
    {
     "name": "stdout",
     "output_type": "stream",
     "text": [
      "SVR\n",
      "SVRA\n",
      "SVSVU\n",
      "SVSVW\n",
      "SVT\n",
      "SVU\n",
      "SVVC\n",
      "SVVS\n",
      "SVW\n",
      "SWAV\n",
      "SWAY\n",
      "SWBI\n",
      "SWBIV\n",
      "SWC\n",
      "SWCH\n",
      "SWFT\n",
      "SWHC\n",
      "SWI\n",
      "SWIM\n",
      "SWIR\n",
      "SWJ\n",
      "SWK\n"
     ]
    },
    {
     "name": "stderr",
     "output_type": "stream",
     "text": [
      "/Users/lijinyang/opt/anaconda3/lib/python3.7/site-packages/ipykernel_launcher.py:11: RuntimeWarning: invalid value encountered in log\n",
      "  # This is added back by InteractiveShellApp.init_path()\n",
      "/Users/lijinyang/opt/anaconda3/lib/python3.7/site-packages/ipykernel_launcher.py:11: RuntimeWarning: invalid value encountered in log\n",
      "  # This is added back by InteractiveShellApp.init_path()\n",
      "/Users/lijinyang/opt/anaconda3/lib/python3.7/site-packages/ipykernel_launcher.py:11: RuntimeWarning: invalid value encountered in log\n",
      "  # This is added back by InteractiveShellApp.init_path()\n"
     ]
    },
    {
     "name": "stdout",
     "output_type": "stream",
     "text": [
      "SWKH\n",
      "SWKS\n",
      "SWM\n",
      "SWN\n",
      "SWNC\n",
      "SWP\n",
      "SWS\n",
      "SWSH\n",
      "SWSI\n",
      "SWT\n",
      "SWTX\n",
      "SWU\n",
      "SWWC\n",
      "SWX\n",
      "SWY\n",
      "SWZ\n",
      "SXC\n",
      "SXCI\n",
      "SXCL\n",
      "SXCP\n",
      "SXE\n",
      "SXI\n",
      "SXL\n",
      "SXT\n",
      "SXTC\n",
      "SY\n",
      "SYA\n",
      "SYBT\n",
      "SYBTP\n"
     ]
    },
    {
     "name": "stderr",
     "output_type": "stream",
     "text": [
      "/Users/lijinyang/opt/anaconda3/lib/python3.7/site-packages/ipykernel_launcher.py:11: RuntimeWarning: invalid value encountered in log\n",
      "  # This is added back by InteractiveShellApp.init_path()\n"
     ]
    },
    {
     "name": "stdout",
     "output_type": "stream",
     "text": [
      "SYBX\n",
      "SYF.A\n",
      "SYF\n",
      "SYK\n",
      "SYKE\n",
      "SYMC\n",
      "SYMM\n",
      "SYMS\n",
      "SYMX\n",
      "SYN\n",
      "SYNA\n",
      "SYNC\n",
      "SYNH\n",
      "SYNL\n"
     ]
    },
    {
     "name": "stderr",
     "output_type": "stream",
     "text": [
      "/Users/lijinyang/opt/anaconda3/lib/python3.7/site-packages/ipykernel_launcher.py:11: RuntimeWarning: invalid value encountered in log\n",
      "  # This is added back by InteractiveShellApp.init_path()\n"
     ]
    },
    {
     "name": "stdout",
     "output_type": "stream",
     "text": [
      "SYNM\n",
      "SYNO\n",
      "SYNT\n",
      "SYPR\n",
      "SYRG\n",
      "SYRS\n",
      "SYRX\n"
     ]
    },
    {
     "name": "stderr",
     "output_type": "stream",
     "text": [
      "/Users/lijinyang/opt/anaconda3/lib/python3.7/site-packages/ipykernel_launcher.py:11: RuntimeWarning: invalid value encountered in log\n",
      "  # This is added back by InteractiveShellApp.init_path()\n",
      "/Users/lijinyang/opt/anaconda3/lib/python3.7/site-packages/ipykernel_launcher.py:11: RuntimeWarning: invalid value encountered in log\n",
      "  # This is added back by InteractiveShellApp.init_path()\n"
     ]
    },
    {
     "name": "stdout",
     "output_type": "stream",
     "text": [
      "SYSW\n",
      "SYT\n",
      "SYTA\n",
      "SYTAW\n",
      "SYUT\n",
      "SYX\n",
      "SYY\n",
      "SZC\n",
      "SZE\n",
      "SZMK\n",
      "SZX\n",
      "SZYM\n",
      "T.A\n",
      "T.C\n",
      "T\n",
      "TA\n",
      "TAC\n",
      "TACA.U\n",
      "TACO\n",
      "TACOU\n",
      "TACOW\n",
      "TACT\n"
     ]
    },
    {
     "name": "stderr",
     "output_type": "stream",
     "text": [
      "/Users/lijinyang/opt/anaconda3/lib/python3.7/site-packages/ipykernel_launcher.py:11: RuntimeWarning: invalid value encountered in log\n",
      "  # This is added back by InteractiveShellApp.init_path()\n"
     ]
    },
    {
     "name": "stdout",
     "output_type": "stream",
     "text": [
      "TAHO\n",
      "TAI\n",
      "TAIT\n",
      "TAK\n",
      "TAL\n",
      "TALL\n",
      "TALO\n"
     ]
    },
    {
     "name": "stderr",
     "output_type": "stream",
     "text": [
      "/Users/lijinyang/opt/anaconda3/lib/python3.7/site-packages/ipykernel_launcher.py:11: RuntimeWarning: invalid value encountered in log\n",
      "  # This is added back by InteractiveShellApp.init_path()\n"
     ]
    },
    {
     "name": "stdout",
     "output_type": "stream",
     "text": [
      "TAM\n",
      "TANH\n",
      "TANN\n",
      "TANNI\n",
      "TANNL\n",
      "TANNZ\n",
      "TANO\n",
      "TANP\n",
      "TAOM\n",
      "TAOP\n",
      "TAP.A\n",
      "TAP\n",
      "TAPM\n",
      "TARA\n"
     ]
    },
    {
     "name": "stderr",
     "output_type": "stream",
     "text": [
      "/Users/lijinyang/opt/anaconda3/lib/python3.7/site-packages/ipykernel_launcher.py:11: RuntimeWarning: invalid value encountered in log\n",
      "  # This is added back by InteractiveShellApp.init_path()\n",
      "/Users/lijinyang/opt/anaconda3/lib/python3.7/site-packages/ipykernel_launcher.py:11: RuntimeWarning: invalid value encountered in log\n",
      "  # This is added back by InteractiveShellApp.init_path()\n",
      "/Users/lijinyang/opt/anaconda3/lib/python3.7/site-packages/ipykernel_launcher.py:11: RuntimeWarning: invalid value encountered in log\n",
      "  # This is added back by InteractiveShellApp.init_path()\n"
     ]
    },
    {
     "name": "stdout",
     "output_type": "stream",
     "text": [
      "TARO\n",
      "TARS\n",
      "TAS\n",
      "TASR\n",
      "TAST\n",
      "TAT\n",
      "TATT\n"
     ]
    },
    {
     "name": "stderr",
     "output_type": "stream",
     "text": [
      "/Users/lijinyang/opt/anaconda3/lib/python3.7/site-packages/ipykernel_launcher.py:11: RuntimeWarning: invalid value encountered in log\n",
      "  # This is added back by InteractiveShellApp.init_path()\n"
     ]
    },
    {
     "name": "stdout",
     "output_type": "stream",
     "text": [
      "TAX\n",
      "TAXI\n",
      "TAXIL\n",
      "TAYC\n",
      "TAYCP\n",
      "TAYD\n",
      "TBAC\n",
      "TBB\n",
      "TBBK\n",
      "TBC\n",
      "TBI\n",
      "TBIO\n",
      "TBK\n",
      "TBKCP\n",
      "TBL\n",
      "TBLT\n",
      "TBLTU\n",
      "TBLTW\n",
      "TBNK\n",
      "TBOW\n",
      "TBPH\n"
     ]
    },
    {
     "name": "stderr",
     "output_type": "stream",
     "text": [
      "/Users/lijinyang/opt/anaconda3/lib/python3.7/site-packages/ipykernel_launcher.py:11: RuntimeWarning: invalid value encountered in log\n",
      "  # This is added back by InteractiveShellApp.init_path()\n"
     ]
    },
    {
     "name": "stdout",
     "output_type": "stream",
     "text": [
      "TBRA\n",
      "TBRG\n",
      "TBRGU\n",
      "TBRGW\n",
      "TBSI\n",
      "TC\n",
      "TCAP\n",
      "TCB.B\n",
      "TCB.C\n",
      "TCB\n",
      "TCBI\n",
      "TCBIL\n",
      "TCBIP\n",
      "TCBIW\n",
      "TCBK\n",
      "TCCA\n",
      "TCCB\n",
      "TCCO\n",
      "TCDA\n",
      "TCF.B\n",
      "TCF.C\n",
      "TCF.D\n",
      "TCF\n",
      "TCFC\n",
      "TCFCP\n",
      "TCGP\n",
      "TCI\n",
      "TCK\n",
      "TCL\n",
      "TCMD\n",
      "TCO.J\n",
      "TCO.K\n",
      "TCO\n",
      "TCOM\n",
      "TCON\n",
      "TCP\n",
      "TCPC\n",
      "TCPI\n",
      "TCRD\n",
      "TCRR\n",
      "TCRW\n",
      "TCRX\n",
      "TCRZ\n",
      "TCS\n",
      "TCX\n",
      "TD\n",
      "TDA\n",
      "TDAC\n",
      "TDACU\n",
      "TDACW\n",
      "TDC\n",
      "TDE\n",
      "TDF\n",
      "TDG\n",
      "TDI\n",
      "TDJ\n",
      "TDOC\n",
      "TDS\n",
      "TDSC\n",
      "TDW\n",
      "TDY\n",
      "TE\n",
      "TEA\n",
      "TEAF\n",
      "TEAM\n",
      "TECD\n",
      "TECH\n",
      "TECK\n",
      "TECTP\n",
      "TECU\n",
      "TECUA\n",
      "TECUB\n",
      "TEDU\n",
      "TEF\n",
      "TEG\n",
      "TEGP\n",
      "TEI\n",
      "TEKK\n",
      "TEKKU\n",
      "TEKKW\n",
      "TEL\n",
      "TELA\n",
      "TELK\n",
      "TELL\n"
     ]
    },
    {
     "name": "stderr",
     "output_type": "stream",
     "text": [
      "/Users/lijinyang/opt/anaconda3/lib/python3.7/site-packages/ipykernel_launcher.py:11: RuntimeWarning: invalid value encountered in log\n",
      "  # This is added back by InteractiveShellApp.init_path()\n",
      "/Users/lijinyang/opt/anaconda3/lib/python3.7/site-packages/ipykernel_launcher.py:11: RuntimeWarning: invalid value encountered in log\n",
      "  # This is added back by InteractiveShellApp.init_path()\n"
     ]
    },
    {
     "name": "stdout",
     "output_type": "stream",
     "text": [
      "TEN\n",
      "TENB\n",
      "TENX\n",
      "TEO\n",
      "TEP\n",
      "TER\n",
      "TERP\n",
      "TESO\n",
      "TESS\n",
      "TEU.C\n",
      "TEU\n",
      "TEUM\n",
      "TEVA\n",
      "TEX\n",
      "TF\n",
      "TFC.F\n",
      "TFC.G\n",
      "TFC.H\n",
      "TFC.I\n",
      "TFC.O\n",
      "TFC.R\n",
      "TFC\n"
     ]
    },
    {
     "name": "stderr",
     "output_type": "stream",
     "text": [
      "/Users/lijinyang/opt/anaconda3/lib/python3.7/site-packages/ipykernel_launcher.py:11: RuntimeWarning: invalid value encountered in log\n",
      "  # This is added back by InteractiveShellApp.init_path()\n",
      "/Users/lijinyang/opt/anaconda3/lib/python3.7/site-packages/ipykernel_launcher.py:11: RuntimeWarning: invalid value encountered in log\n",
      "  # This is added back by InteractiveShellApp.init_path()\n"
     ]
    },
    {
     "name": "stdout",
     "output_type": "stream",
     "text": [
      "TFCO\n",
      "TFFP\n",
      "TFG\n",
      "TFII\n",
      "TFM\n",
      "TFONY\n",
      "TFSC\n",
      "TFSCR\n"
     ]
    },
    {
     "name": "stderr",
     "output_type": "stream",
     "text": [
      "/Users/lijinyang/opt/anaconda3/lib/python3.7/site-packages/ipykernel_launcher.py:11: RuntimeWarning: invalid value encountered in log\n",
      "  # This is added back by InteractiveShellApp.init_path()\n"
     ]
    },
    {
     "name": "stdout",
     "output_type": "stream",
     "text": [
      "TFSCU\n",
      "TFSCW\n",
      "TFSL\n",
      "TFX\n",
      "TG\n",
      "TGA\n",
      "TGAL\n",
      "TGB\n",
      "TGC\n",
      "TGD\n",
      "TGE\n",
      "TGEN\n",
      "TGH\n"
     ]
    },
    {
     "name": "stderr",
     "output_type": "stream",
     "text": [
      "/Users/lijinyang/opt/anaconda3/lib/python3.7/site-packages/ipykernel_launcher.py:11: RuntimeWarning: invalid value encountered in log\n",
      "  # This is added back by InteractiveShellApp.init_path()\n",
      "/Users/lijinyang/opt/anaconda3/lib/python3.7/site-packages/ipykernel_launcher.py:11: RuntimeWarning: invalid value encountered in log\n",
      "  # This is added back by InteractiveShellApp.init_path()\n"
     ]
    },
    {
     "name": "stdout",
     "output_type": "stream",
     "text": [
      "TGI\n",
      "TGLS\n",
      "TGNA\n",
      "TGP.A\n",
      "TGP.B\n",
      "TGP\n",
      "TGS\n",
      "TGT\n",
      "TGTX\n",
      "TGX\n",
      "TH\n",
      "THBR\n",
      "THBRU\n",
      "THBRW\n"
     ]
    },
    {
     "name": "stderr",
     "output_type": "stream",
     "text": [
      "/Users/lijinyang/opt/anaconda3/lib/python3.7/site-packages/ipykernel_launcher.py:11: RuntimeWarning: invalid value encountered in log\n",
      "  # This is added back by InteractiveShellApp.init_path()\n"
     ]
    },
    {
     "name": "stdout",
     "output_type": "stream",
     "text": [
      "THC\n",
      "THCA\n",
      "THCAU\n",
      "THCAW\n",
      "THCB\n",
      "THCBU\n",
      "THCBW\n"
     ]
    },
    {
     "name": "stderr",
     "output_type": "stream",
     "text": [
      "/Users/lijinyang/opt/anaconda3/lib/python3.7/site-packages/ipykernel_launcher.py:11: RuntimeWarning: invalid value encountered in log\n",
      "  # This is added back by InteractiveShellApp.init_path()\n"
     ]
    },
    {
     "name": "stdout",
     "output_type": "stream",
     "text": [
      "THER\n",
      "THFF\n",
      "THG\n",
      "THGA\n",
      "THI\n",
      "THLD\n"
     ]
    },
    {
     "name": "stderr",
     "output_type": "stream",
     "text": [
      "/Users/lijinyang/opt/anaconda3/lib/python3.7/site-packages/ipykernel_launcher.py:11: RuntimeWarning: invalid value encountered in log\n",
      "  # This is added back by InteractiveShellApp.init_path()\n",
      "/Users/lijinyang/opt/anaconda3/lib/python3.7/site-packages/ipykernel_launcher.py:11: RuntimeWarning: invalid value encountered in log\n",
      "  # This is added back by InteractiveShellApp.init_path()\n"
     ]
    },
    {
     "name": "stdout",
     "output_type": "stream",
     "text": [
      "THM\n",
      "THMD\n",
      "THMO\n",
      "THO\n",
      "THOR\n",
      "THQ\n",
      "THQI\n"
     ]
    },
    {
     "name": "stderr",
     "output_type": "stream",
     "text": [
      "/Users/lijinyang/opt/anaconda3/lib/python3.7/site-packages/ipykernel_launcher.py:11: RuntimeWarning: invalid value encountered in log\n",
      "  # This is added back by InteractiveShellApp.init_path()\n"
     ]
    },
    {
     "name": "stdout",
     "output_type": "stream",
     "text": [
      "THR\n",
      "THRD\n",
      "THRM\n",
      "THRX\n",
      "THRY\n",
      "THS\n",
      "THTX\n",
      "THW\n",
      "THWWW\n",
      "TI.A\n",
      "TI\n",
      "TIBB\n",
      "TIBR\n",
      "TIBRU\n"
     ]
    },
    {
     "name": "stderr",
     "output_type": "stream",
     "text": [
      "/Users/lijinyang/opt/anaconda3/lib/python3.7/site-packages/ipykernel_launcher.py:11: RuntimeWarning: invalid value encountered in log\n",
      "  # This is added back by InteractiveShellApp.init_path()\n"
     ]
    },
    {
     "name": "stdout",
     "output_type": "stream",
     "text": [
      "TIBRW\n",
      "TIBX\n",
      "TICC\n",
      "TICCL\n",
      "TIE\n",
      "TIER\n",
      "TIF\n",
      "TIG\n",
      "TIGO\n",
      "TIGR\n",
      "TIII\n",
      "TIL\n",
      "TILE\n",
      "TIMB\n",
      "TIME\n"
     ]
    },
    {
     "name": "stderr",
     "output_type": "stream",
     "text": [
      "/Users/lijinyang/opt/anaconda3/lib/python3.7/site-packages/ipykernel_launcher.py:11: RuntimeWarning: invalid value encountered in log\n",
      "  # This is added back by InteractiveShellApp.init_path()\n"
     ]
    },
    {
     "name": "stdout",
     "output_type": "stream",
     "text": [
      "TIN\n",
      "TINV.U\n",
      "TINY\n",
      "TIPT\n",
      "TIS\n",
      "TISA\n",
      "TISI\n",
      "TITN\n",
      "TIV\n",
      "TIVO\n",
      "TJX\n",
      "TK\n",
      "TKAI\n"
     ]
    },
    {
     "name": "stderr",
     "output_type": "stream",
     "text": [
      "/Users/lijinyang/opt/anaconda3/lib/python3.7/site-packages/ipykernel_launcher.py:11: RuntimeWarning: invalid value encountered in log\n",
      "  # This is added back by InteractiveShellApp.init_path()\n",
      "/Users/lijinyang/opt/anaconda3/lib/python3.7/site-packages/ipykernel_launcher.py:11: RuntimeWarning: invalid value encountered in log\n",
      "  # This is added back by InteractiveShellApp.init_path()\n"
     ]
    },
    {
     "name": "stdout",
     "output_type": "stream",
     "text": [
      "TKAT\n",
      "TKC\n",
      "TKF\n",
      "TKKS\n",
      "TKKSR\n",
      "TKKSU\n",
      "TKKSW\n",
      "TKLC\n",
      "TKMR\n",
      "TKR\n",
      "TKTM\n",
      "TLAB\n",
      "TLB\n",
      "TLC\n",
      "TLEO\n"
     ]
    },
    {
     "name": "stderr",
     "output_type": "stream",
     "text": [
      "/Users/lijinyang/opt/anaconda3/lib/python3.7/site-packages/ipykernel_launcher.py:11: RuntimeWarning: invalid value encountered in log\n",
      "  # This is added back by InteractiveShellApp.init_path()\n",
      "/Users/lijinyang/opt/anaconda3/lib/python3.7/site-packages/ipykernel_launcher.py:11: RuntimeWarning: invalid value encountered in log\n",
      "  # This is added back by InteractiveShellApp.init_path()\n"
     ]
    },
    {
     "name": "stdout",
     "output_type": "stream",
     "text": [
      "TLF\n",
      "TLGT\n",
      "TLI\n",
      "TLK\n",
      "TLLP\n",
      "TLM\n",
      "TLMD\n",
      "TLMDW\n",
      "TLMR\n",
      "TLN\n",
      "TLND\n",
      "TLP\n",
      "TLR\n",
      "TLRA\n",
      "TLRD\n",
      "TLRY\n",
      "TLS\n",
      "TLSA\n",
      "TLT\n",
      "TLYS\n",
      "TM\n",
      "TMBR\n",
      "TMCX\n",
      "TMCXU\n",
      "TMCXW\n",
      "TMDI\n",
      "TMDX\n",
      "TME\n"
     ]
    },
    {
     "name": "stderr",
     "output_type": "stream",
     "text": [
      "/Users/lijinyang/opt/anaconda3/lib/python3.7/site-packages/ipykernel_launcher.py:11: RuntimeWarning: invalid value encountered in log\n",
      "  # This is added back by InteractiveShellApp.init_path()\n"
     ]
    },
    {
     "name": "stdout",
     "output_type": "stream",
     "text": [
      "TMH\n",
      "TMHC\n",
      "TMK.B\n",
      "TMK.C\n",
      "TMK\n",
      "TMM\n",
      "TMNG\n",
      "TMO\n",
      "TMP\n",
      "TMPM\n",
      "TMPMU\n",
      "TMPMW\n",
      "TMQ\n",
      "TMR\n",
      "TMRK\n",
      "TMS\n",
      "TMSR\n",
      "TMST\n",
      "TMTA\n",
      "TMTS\n",
      "TMTSU\n",
      "TMTSW\n",
      "TMUS.A\n",
      "TMUS\n",
      "TMUSP\n",
      "TMUSR\n",
      "TMX\n",
      "TNAV\n",
      "TNB\n",
      "TNC\n",
      "TNCC\n",
      "TNDM\n",
      "TNE\n",
      "TNET\n",
      "TNGN\n",
      "TNGO\n",
      "TNH\n"
     ]
    },
    {
     "name": "stderr",
     "output_type": "stream",
     "text": [
      "/Users/lijinyang/opt/anaconda3/lib/python3.7/site-packages/ipykernel_launcher.py:4: RuntimeWarning: divide by zero encountered in log\n",
      "  after removing the cwd from sys.path.\n",
      "/Users/lijinyang/opt/anaconda3/lib/python3.7/site-packages/ipykernel_launcher.py:11: RuntimeWarning: invalid value encountered in log\n",
      "  # This is added back by InteractiveShellApp.init_path()\n"
     ]
    },
    {
     "name": "stdout",
     "output_type": "stream",
     "text": [
      "TNK\n",
      "TNL\n",
      "TNP.B\n",
      "TNP.C\n",
      "TNP.D\n",
      "TNP.E\n",
      "TNP.F\n",
      "TNP\n",
      "TNS\n",
      "TNTR\n",
      "TNXP\n",
      "TOBC\n",
      "TOCA\n",
      "TOD\n"
     ]
    },
    {
     "name": "stderr",
     "output_type": "stream",
     "text": [
      "/Users/lijinyang/opt/anaconda3/lib/python3.7/site-packages/ipykernel_launcher.py:11: RuntimeWarning: invalid value encountered in log\n",
      "  # This is added back by InteractiveShellApp.init_path()\n",
      "/Users/lijinyang/opt/anaconda3/lib/python3.7/site-packages/ipykernel_launcher.py:11: RuntimeWarning: invalid value encountered in log\n",
      "  # This is added back by InteractiveShellApp.init_path()\n"
     ]
    },
    {
     "name": "stdout",
     "output_type": "stream",
     "text": [
      "TOF\n",
      "TOFC\n",
      "TOL\n",
      "TOMO\n",
      "TOMZ\n",
      "TOO.A\n",
      "TOO.B\n",
      "TOO.E\n",
      "TOO\n",
      "TOPS\n",
      "TOR\n",
      "TORC\n",
      "TOT\n",
      "TOTA\n"
     ]
    },
    {
     "name": "stderr",
     "output_type": "stream",
     "text": [
      "/Users/lijinyang/opt/anaconda3/lib/python3.7/site-packages/ipykernel_launcher.py:11: RuntimeWarning: invalid value encountered in log\n",
      "  # This is added back by InteractiveShellApp.init_path()\n",
      "/Users/lijinyang/opt/anaconda3/lib/python3.7/site-packages/ipykernel_launcher.py:11: RuntimeWarning: invalid value encountered in log\n",
      "  # This is added back by InteractiveShellApp.init_path()\n"
     ]
    },
    {
     "name": "stdout",
     "output_type": "stream",
     "text": [
      "TOTAR\n",
      "TOTAU\n",
      "TOTAW\n",
      "TOUR\n",
      "TOWN\n",
      "TOWR\n",
      "TPB\n",
      "TPC\n",
      "TPCG\n",
      "TPCO\n",
      "TPGE.U\n",
      "TPGE\n",
      "TPGH.U\n",
      "TPGH\n",
      "TPGI\n",
      "TPGY.U\n",
      "TPGY\n",
      "TPH\n",
      "TPHS\n",
      "TPI\n",
      "TPIC\n",
      "TPIV\n",
      "TPL\n",
      "TPNL\n",
      "TPR\n",
      "TPRE\n",
      "TPTX\n",
      "TPUB\n",
      "TPVG\n"
     ]
    },
    {
     "name": "stderr",
     "output_type": "stream",
     "text": [
      "/Users/lijinyang/opt/anaconda3/lib/python3.7/site-packages/ipykernel_launcher.py:11: RuntimeWarning: invalid value encountered in log\n",
      "  # This is added back by InteractiveShellApp.init_path()\n"
     ]
    },
    {
     "name": "stdout",
     "output_type": "stream",
     "text": [
      "TPVY\n",
      "TPVZ\n",
      "TPX\n",
      "TPZ\n",
      "TQNT\n",
      "TR\n",
      "TRA\n",
      "TRAD\n",
      "TRAK\n",
      "TRC\n",
      "TRCA\n",
      "TRCB\n",
      "TRCH\n"
     ]
    },
    {
     "name": "stderr",
     "output_type": "stream",
     "text": [
      "/Users/lijinyang/opt/anaconda3/lib/python3.7/site-packages/ipykernel_launcher.py:11: RuntimeWarning: invalid value encountered in log\n",
      "  # This is added back by InteractiveShellApp.init_path()\n",
      "/Users/lijinyang/opt/anaconda3/lib/python3.7/site-packages/ipykernel_launcher.py:11: RuntimeWarning: invalid value encountered in log\n",
      "  # This is added back by InteractiveShellApp.init_path()\n"
     ]
    },
    {
     "name": "stdout",
     "output_type": "stream",
     "text": [
      "TRCO\n",
      "TRCR\n",
      "TREB.U\n",
      "TREB\n",
      "TREC\n",
      "TREE\n",
      "TREX\n",
      "TRF\n",
      "TRGL\n",
      "TRGP\n",
      "TRGT\n",
      "TRH\n",
      "TRHC\n",
      "TRI\n",
      "TRIB\n",
      "TRID\n",
      "TRIL\n",
      "TRIP\n",
      "TRIT\n",
      "TRITW\n"
     ]
    },
    {
     "name": "stderr",
     "output_type": "stream",
     "text": [
      "/Users/lijinyang/opt/anaconda3/lib/python3.7/site-packages/ipykernel_launcher.py:11: RuntimeWarning: invalid value encountered in log\n",
      "  # This is added back by InteractiveShellApp.init_path()\n",
      "/Users/lijinyang/opt/anaconda3/lib/python3.7/site-packages/ipykernel_launcher.py:11: RuntimeWarning: invalid value encountered in log\n",
      "  # This is added back by InteractiveShellApp.init_path()\n"
     ]
    },
    {
     "name": "stdout",
     "output_type": "stream",
     "text": [
      "TRIV\n",
      "TRK\n",
      "TRLA\n",
      "TRLG\n",
      "TRMA\n",
      "TRMB\n",
      "TRMD\n",
      "TRMK\n",
      "TRMR\n",
      "TRMT\n",
      "TRN\n",
      "TRNC\n",
      "TRNE.U\n",
      "TRNE\n",
      "TRNO.A\n",
      "TRNO\n",
      "TRNS\n",
      "TRNX\n",
      "TROV\n",
      "TROVU\n",
      "TROVW\n"
     ]
    },
    {
     "name": "stderr",
     "output_type": "stream",
     "text": [
      "/Users/lijinyang/opt/anaconda3/lib/python3.7/site-packages/ipykernel_launcher.py:11: RuntimeWarning: invalid value encountered in log\n",
      "  # This is added back by InteractiveShellApp.init_path()\n"
     ]
    },
    {
     "name": "stdout",
     "output_type": "stream",
     "text": [
      "TROW\n",
      "TROX\n",
      "TRP\n",
      "TRPX\n",
      "TRQ\n",
      "TRR\n"
     ]
    },
    {
     "name": "stderr",
     "output_type": "stream",
     "text": [
      "/Users/lijinyang/opt/anaconda3/lib/python3.7/site-packages/ipykernel_launcher.py:11: RuntimeWarning: invalid value encountered in log\n",
      "  # This is added back by InteractiveShellApp.init_path()\n",
      "/Users/lijinyang/opt/anaconda3/lib/python3.7/site-packages/ipykernel_launcher.py:11: RuntimeWarning: invalid value encountered in log\n",
      "  # This is added back by InteractiveShellApp.init_path()\n"
     ]
    },
    {
     "name": "stdout",
     "output_type": "stream",
     "text": [
      "TRS\n",
      "TRST\n",
      "TRSY\n",
      "TRT\n",
      "TRTL\n",
      "TRTLU\n",
      "TRTLW\n",
      "TRTN.A\n",
      "TRTN.B\n",
      "TRTN.C\n",
      "TRTN.D\n",
      "TRTN\n",
      "TRTX\n",
      "TRU\n",
      "TRUE\n",
      "TRUP\n",
      "TRV\n",
      "TRVG\n",
      "TRVI\n",
      "TRVN\n",
      "TRW\n",
      "TRWH\n"
     ]
    },
    {
     "name": "stderr",
     "output_type": "stream",
     "text": [
      "/Users/lijinyang/opt/anaconda3/lib/python3.7/site-packages/ipykernel_launcher.py:11: RuntimeWarning: invalid value encountered in log\n",
      "  # This is added back by InteractiveShellApp.init_path()\n"
     ]
    },
    {
     "name": "stdout",
     "output_type": "stream",
     "text": [
      "TRX\n",
      "TRXC\n",
      "TS\n",
      "TSBK\n",
      "TSC\n",
      "TSCAP\n",
      "TSCBP\n",
      "TSCM\n",
      "TSCO\n",
      "TSE\n",
      "TSEM\n",
      "TSFG\n",
      "TSG\n",
      "TSH\n",
      "TSHA\n",
      "TSI\n",
      "TSIA\n",
      "TSIAU\n",
      "TSIAW\n",
      "TSL\n",
      "TSLA\n",
      "TSLF\n",
      "TSLX\n",
      "TSM\n",
      "TSN\n",
      "TSNU\n",
      "TSO\n",
      "TSON\n",
      "TSPT\n",
      "TSQ\n",
      "TSRA\n",
      "TSRE\n",
      "TSRI\n",
      "TSRO\n",
      "TSRX\n",
      "TSS\n",
      "TST\n",
      "TSTC\n",
      "TSTF\n",
      "TSTR\n",
      "TSU\n",
      "TSYS\n"
     ]
    },
    {
     "name": "stderr",
     "output_type": "stream",
     "text": [
      "/Users/lijinyang/opt/anaconda3/lib/python3.7/site-packages/ipykernel_launcher.py:11: RuntimeWarning: invalid value encountered in log\n",
      "  # This is added back by InteractiveShellApp.init_path()\n"
     ]
    },
    {
     "name": "stdout",
     "output_type": "stream",
     "text": [
      "TT\n",
      "TTC\n",
      "TTCF\n",
      "TTCFW\n",
      "TTD\n",
      "TTEC\n",
      "TTEK\n",
      "TTES\n",
      "TTF\n",
      "TTGT\n",
      "TTHI\n",
      "TTI\n",
      "TTM\n",
      "TTMI\n"
     ]
    },
    {
     "name": "stderr",
     "output_type": "stream",
     "text": [
      "/Users/lijinyang/opt/anaconda3/lib/python3.7/site-packages/ipykernel_launcher.py:11: RuntimeWarning: invalid value encountered in log\n",
      "  # This is added back by InteractiveShellApp.init_path()\n",
      "/Users/lijinyang/opt/anaconda3/lib/python3.7/site-packages/ipykernel_launcher.py:11: RuntimeWarning: invalid value encountered in log\n",
      "  # This is added back by InteractiveShellApp.init_path()\n"
     ]
    },
    {
     "name": "stdout",
     "output_type": "stream",
     "text": [
      "TTNP\n",
      "TTO\n",
      "TTOO\n",
      "TTP\n",
      "TTPH\n",
      "TTS\n",
      "TTWO\n"
     ]
    },
    {
     "name": "stderr",
     "output_type": "stream",
     "text": [
      "/Users/lijinyang/opt/anaconda3/lib/python3.7/site-packages/ipykernel_launcher.py:11: RuntimeWarning: invalid value encountered in log\n",
      "  # This is added back by InteractiveShellApp.init_path()\n",
      "/Users/lijinyang/opt/anaconda3/lib/python3.7/site-packages/ipykernel_launcher.py:11: RuntimeWarning: invalid value encountered in log\n",
      "  # This is added back by InteractiveShellApp.init_path()\n"
     ]
    },
    {
     "name": "stdout",
     "output_type": "stream",
     "text": [
      "TU\n",
      "TUBE\n",
      "TUC\n",
      "TUDO\n",
      "TUES\n",
      "TUFN\n",
      "TUMI\n",
      "TUNE\n",
      "TUP\n",
      "TUR\n",
      "TURN\n",
      "TUSK\n",
      "TV\n",
      "TVACU\n"
     ]
    },
    {
     "name": "stderr",
     "output_type": "stream",
     "text": [
      "/Users/lijinyang/opt/anaconda3/lib/python3.7/site-packages/ipykernel_launcher.py:11: RuntimeWarning: invalid value encountered in log\n",
      "  # This is added back by InteractiveShellApp.init_path()\n",
      "/Users/lijinyang/opt/anaconda3/lib/python3.7/site-packages/ipykernel_launcher.py:11: RuntimeWarning: invalid value encountered in log\n",
      "  # This is added back by InteractiveShellApp.init_path()\n"
     ]
    },
    {
     "name": "stdout",
     "output_type": "stream",
     "text": [
      "TVC\n",
      "TVE\n",
      "TVIA\n",
      "TVL\n",
      "TVPT\n",
      "TVTX\n",
      "TVTY\n",
      "TW\n",
      "TWB\n",
      "TWC\n",
      "TWCT\n",
      "TWCTU\n",
      "TWCTW\n",
      "TWGP\n",
      "TWI\n",
      "TWIN\n",
      "TWLL\n",
      "TWLO\n",
      "TWLV\n",
      "TWLVR\n",
      "TWLVU\n",
      "TWLVW\n",
      "TWMC\n",
      "TWN\n",
      "TWND.U\n",
      "TWND\n",
      "TWNK\n",
      "TWNKW\n",
      "TWO.A\n",
      "TWO.B\n",
      "TWO.C\n",
      "TWO.D\n",
      "TWO.E\n",
      "TWO\n",
      "TWOU\n",
      "TWP\n",
      "TWPG\n"
     ]
    },
    {
     "name": "stderr",
     "output_type": "stream",
     "text": [
      "/Users/lijinyang/opt/anaconda3/lib/python3.7/site-packages/ipykernel_launcher.py:11: RuntimeWarning: invalid value encountered in log\n",
      "  # This is added back by InteractiveShellApp.init_path()\n"
     ]
    },
    {
     "name": "stdout",
     "output_type": "stream",
     "text": [
      "TWST\n",
      "TWTC\n",
      "TWTR\n",
      "TWX\n",
      "TX\n",
      "TXAC\n",
      "TXCC\n"
     ]
    },
    {
     "name": "stderr",
     "output_type": "stream",
     "text": [
      "/Users/lijinyang/opt/anaconda3/lib/python3.7/site-packages/ipykernel_launcher.py:11: RuntimeWarning: invalid value encountered in log\n",
      "  # This is added back by InteractiveShellApp.init_path()\n",
      "/Users/lijinyang/opt/anaconda3/lib/python3.7/site-packages/ipykernel_launcher.py:11: RuntimeWarning: invalid value encountered in log\n",
      "  # This is added back by InteractiveShellApp.init_path()\n"
     ]
    },
    {
     "name": "stdout",
     "output_type": "stream",
     "text": [
      "TXCO\n",
      "TXF\n",
      "TXG\n",
      "TXI\n",
      "TXMD\n",
      "TXN\n",
      "TXRH\n"
     ]
    },
    {
     "name": "stderr",
     "output_type": "stream",
     "text": [
      "/Users/lijinyang/opt/anaconda3/lib/python3.7/site-packages/ipykernel_launcher.py:11: RuntimeWarning: invalid value encountered in log\n",
      "  # This is added back by InteractiveShellApp.init_path()\n"
     ]
    },
    {
     "name": "stdout",
     "output_type": "stream",
     "text": [
      "TXT\n",
      "TXTR\n",
      "TY\n",
      "TYC\n",
      "TYG.B\n",
      "TYG.C\n",
      "TYG\n",
      "TYHT\n",
      "TYL\n",
      "TYME\n",
      "TYN\n",
      "TYPE\n",
      "TYY\n",
      "TZAC\n",
      "TZACU\n",
      "TZACW\n",
      "TZF\n",
      "TZIX\n",
      "TZK\n",
      "TZOO\n",
      "TZYM\n"
     ]
    },
    {
     "name": "stderr",
     "output_type": "stream",
     "text": [
      "/Users/lijinyang/opt/anaconda3/lib/python3.7/site-packages/ipykernel_launcher.py:11: RuntimeWarning: invalid value encountered in log\n",
      "  # This is added back by InteractiveShellApp.init_path()\n",
      "/Users/lijinyang/opt/anaconda3/lib/python3.7/site-packages/ipykernel_launcher.py:11: RuntimeWarning: invalid value encountered in log\n",
      "  # This is added back by InteractiveShellApp.init_path()\n"
     ]
    },
    {
     "name": "stdout",
     "output_type": "stream",
     "text": [
      "U\n",
      "UA.C\n",
      "UA\n",
      "UAA\n",
      "UACL\n",
      "UAE\n",
      "UAL\n",
      "UAM\n",
      "UAMY\n",
      "UAN\n",
      "UAUA\n",
      "UAVS\n",
      "UB\n",
      "UBA\n",
      "UBCP\n",
      "UBER\n",
      "UBET\n",
      "UBFO\n",
      "UBIC\n",
      "UBNK\n",
      "UBNT\n"
     ]
    },
    {
     "name": "stderr",
     "output_type": "stream",
     "text": [
      "/Users/lijinyang/opt/anaconda3/lib/python3.7/site-packages/ipykernel_launcher.py:11: RuntimeWarning: invalid value encountered in log\n",
      "  # This is added back by InteractiveShellApp.init_path()\n",
      "/Users/lijinyang/opt/anaconda3/lib/python3.7/site-packages/ipykernel_launcher.py:11: RuntimeWarning: invalid value encountered in log\n",
      "  # This is added back by InteractiveShellApp.init_path()\n"
     ]
    },
    {
     "name": "stdout",
     "output_type": "stream",
     "text": [
      "UBOH\n",
      "UBP.F\n",
      "UBP.G\n",
      "UBP.H\n",
      "UBP.K\n",
      "UBP\n",
      "UBPS\n"
     ]
    },
    {
     "name": "stderr",
     "output_type": "stream",
     "text": [
      "/Users/lijinyang/opt/anaconda3/lib/python3.7/site-packages/ipykernel_launcher.py:11: RuntimeWarning: invalid value encountered in log\n",
      "  # This is added back by InteractiveShellApp.init_path()\n"
     ]
    },
    {
     "name": "stdout",
     "output_type": "stream",
     "text": [
      "UBPSU\n",
      "UBS.D\n",
      "UBS\n",
      "UBSH\n",
      "UBSI\n",
      "UBX\n",
      "UCBA\n",
      "UCBH\n"
     ]
    },
    {
     "name": "stderr",
     "output_type": "stream",
     "text": [
      "/Users/lijinyang/opt/anaconda3/lib/python3.7/site-packages/ipykernel_launcher.py:11: RuntimeWarning: invalid value encountered in log\n",
      "  # This is added back by InteractiveShellApp.init_path()\n"
     ]
    },
    {
     "name": "stdout",
     "output_type": "stream",
     "text": [
      "UCBI\n",
      "UCBID\n",
      "UCBIO\n",
      "UCFC\n",
      "UCL\n",
      "UCP\n",
      "UCTT\n"
     ]
    },
    {
     "name": "stderr",
     "output_type": "stream",
     "text": [
      "/Users/lijinyang/opt/anaconda3/lib/python3.7/site-packages/ipykernel_launcher.py:11: RuntimeWarning: invalid value encountered in log\n",
      "  # This is added back by InteractiveShellApp.init_path()\n"
     ]
    },
    {
     "name": "stdout",
     "output_type": "stream",
     "text": [
      "UDF\n",
      "UDR\n",
      "UDRL\n",
      "UE\n",
      "UEC\n",
      "UEIC\n",
      "UEPS\n",
      "UFAB\n",
      "UFCS\n",
      "UFI\n",
      "UFPI\n",
      "UFPT\n",
      "UFS\n",
      "UG\n",
      "UGI\n",
      "UGP\n",
      "UHAL\n",
      "UHS\n",
      "UHT\n",
      "UI\n",
      "UIHC\n",
      "UIL\n",
      "UIS\n",
      "UK\n",
      "UKOMW\n",
      "UL\n",
      "ULBI\n",
      "ULH\n",
      "ULTA\n",
      "ULTI\n",
      "ULTR\n",
      "ULU\n",
      "UMBF\n",
      "UMC\n",
      "UMH.A\n",
      "UMH.B\n",
      "UMH.C\n",
      "UMH.D\n",
      "UMH\n",
      "UMPQ\n",
      "UMRX\n",
      "UN\n",
      "UNAM\n",
      "UNB\n",
      "UNCA\n",
      "UNF\n",
      "UNFI\n",
      "UNH\n",
      "UNIS\n",
      "UNIT\n",
      "UNM\n"
     ]
    },
    {
     "name": "stderr",
     "output_type": "stream",
     "text": [
      "/Users/lijinyang/opt/anaconda3/lib/python3.7/site-packages/ipykernel_launcher.py:11: RuntimeWarning: invalid value encountered in log\n",
      "  # This is added back by InteractiveShellApp.init_path()\n"
     ]
    },
    {
     "name": "stdout",
     "output_type": "stream",
     "text": [
      "UNMA\n",
      "UNP\n",
      "UNS\n",
      "UNT\n",
      "UNTD\n",
      "UNTK\n",
      "UNTY\n"
     ]
    },
    {
     "name": "stderr",
     "output_type": "stream",
     "text": [
      "/Users/lijinyang/opt/anaconda3/lib/python3.7/site-packages/ipykernel_launcher.py:11: RuntimeWarning: invalid value encountered in log\n",
      "  # This is added back by InteractiveShellApp.init_path()\n",
      "/Users/lijinyang/opt/anaconda3/lib/python3.7/site-packages/ipykernel_launcher.py:11: RuntimeWarning: invalid value encountered in log\n",
      "  # This is added back by InteractiveShellApp.init_path()\n",
      "/Users/lijinyang/opt/anaconda3/lib/python3.7/site-packages/ipykernel_launcher.py:11: RuntimeWarning: invalid value encountered in log\n",
      "  # This is added back by InteractiveShellApp.init_path()\n",
      "/Users/lijinyang/opt/anaconda3/lib/python3.7/site-packages/ipykernel_launcher.py:11: RuntimeWarning: invalid value encountered in log\n",
      "  # This is added back by InteractiveShellApp.init_path()\n"
     ]
    },
    {
     "name": "stdout",
     "output_type": "stream",
     "text": [
      "UNVR\n",
      "UNXL\n",
      "UONE\n",
      "UONEK\n",
      "UPG\n",
      "UPI\n",
      "UPIP\n",
      "UPL\n",
      "UPLD\n",
      "UPS\n",
      "UPST\n",
      "UPWK\n",
      "UQM\n",
      "URBN\n",
      "URG\n",
      "URGN\n",
      "URI\n",
      "UROV\n",
      "URRE\n",
      "URS\n",
      "URZ\n"
     ]
    },
    {
     "name": "stderr",
     "output_type": "stream",
     "text": [
      "/Users/lijinyang/opt/anaconda3/lib/python3.7/site-packages/ipykernel_launcher.py:11: RuntimeWarning: invalid value encountered in log\n",
      "  # This is added back by InteractiveShellApp.init_path()\n"
     ]
    },
    {
     "name": "stdout",
     "output_type": "stream",
     "text": [
      "USA\n",
      "USAC\n",
      "USAK\n",
      "USAP\n",
      "USAS\n",
      "USAT\n",
      "USATP\n",
      "USATZ\n",
      "USAU\n",
      "USB.A\n",
      "USB.H\n",
      "USB.M\n",
      "USB.N\n"
     ]
    },
    {
     "name": "stderr",
     "output_type": "stream",
     "text": [
      "/Users/lijinyang/opt/anaconda3/lib/python3.7/site-packages/ipykernel_launcher.py:11: RuntimeWarning: invalid value encountered in log\n",
      "  # This is added back by InteractiveShellApp.init_path()\n",
      "/Users/lijinyang/opt/anaconda3/lib/python3.7/site-packages/ipykernel_launcher.py:11: RuntimeWarning: invalid value encountered in log\n",
      "  # This is added back by InteractiveShellApp.init_path()\n"
     ]
    },
    {
     "name": "stdout",
     "output_type": "stream",
     "text": [
      "USB.O\n",
      "USB.P\n",
      "USB.Q\n",
      "USB\n",
      "USBI\n",
      "USCR\n",
      "USDP\n",
      "USEG\n",
      "USFD\n",
      "USG\n",
      "USHS\n",
      "USIO\n",
      "USLM\n",
      "USM\n",
      "USMD\n",
      "USMO\n",
      "USNA\n",
      "USPH\n",
      "USTR\n",
      "USU\n",
      "USWS\n",
      "USWSW\n",
      "USX\n",
      "UTA\n",
      "UTEK\n",
      "UTF\n",
      "UTG\n",
      "UTHR\n"
     ]
    },
    {
     "name": "stderr",
     "output_type": "stream",
     "text": [
      "/Users/lijinyang/opt/anaconda3/lib/python3.7/site-packages/ipykernel_launcher.py:11: RuntimeWarning: invalid value encountered in log\n",
      "  # This is added back by InteractiveShellApp.init_path()\n"
     ]
    },
    {
     "name": "stdout",
     "output_type": "stream",
     "text": [
      "UTI\n",
      "UTIW\n",
      "UTL\n",
      "UTMD\n",
      "UTR\n",
      "UTSI\n"
     ]
    },
    {
     "name": "stderr",
     "output_type": "stream",
     "text": [
      "/Users/lijinyang/opt/anaconda3/lib/python3.7/site-packages/ipykernel_launcher.py:11: RuntimeWarning: invalid value encountered in log\n",
      "  # This is added back by InteractiveShellApp.init_path()\n"
     ]
    },
    {
     "name": "stdout",
     "output_type": "stream",
     "text": [
      "UTX.A\n",
      "UTX\n",
      "UTZ\n",
      "UUU\n",
      "UUUU\n",
      "UVE\n"
     ]
    },
    {
     "name": "stderr",
     "output_type": "stream",
     "text": [
      "/Users/lijinyang/opt/anaconda3/lib/python3.7/site-packages/ipykernel_launcher.py:11: RuntimeWarning: invalid value encountered in log\n",
      "  # This is added back by InteractiveShellApp.init_path()\n"
     ]
    },
    {
     "name": "stdout",
     "output_type": "stream",
     "text": [
      "UVSP\n",
      "UVV\n",
      "UWN\n",
      "UXG\n",
      "UXIN\n",
      "UZA\n",
      "UZB\n",
      "UZC\n",
      "UZD\n",
      "UZE\n",
      "V\n",
      "VA\n",
      "VAC\n",
      "VACQ\n",
      "VACQU\n",
      "VACQW\n",
      "VAL\n",
      "VALE.P\n",
      "VALE\n",
      "VALU\n"
     ]
    },
    {
     "name": "stderr",
     "output_type": "stream",
     "text": [
      "/Users/lijinyang/opt/anaconda3/lib/python3.7/site-packages/ipykernel_launcher.py:11: RuntimeWarning: invalid value encountered in log\n",
      "  # This is added back by InteractiveShellApp.init_path()\n"
     ]
    },
    {
     "name": "stdout",
     "output_type": "stream",
     "text": [
      "VAM\n",
      "VAPO\n",
      "VAR\n",
      "VARI\n",
      "VASC\n",
      "VBF\n",
      "VBFC\n",
      "VBIV\n",
      "VBLT\n",
      "VBTX\n",
      "VC\n",
      "VCBI\n",
      "VCEL\n"
     ]
    },
    {
     "name": "stderr",
     "output_type": "stream",
     "text": [
      "/Users/lijinyang/opt/anaconda3/lib/python3.7/site-packages/ipykernel_launcher.py:11: RuntimeWarning: invalid value encountered in log\n",
      "  # This is added back by InteractiveShellApp.init_path()\n",
      "/Users/lijinyang/opt/anaconda3/lib/python3.7/site-packages/ipykernel_launcher.py:11: RuntimeWarning: invalid value encountered in log\n",
      "  # This is added back by InteractiveShellApp.init_path()\n",
      "/Users/lijinyang/opt/anaconda3/lib/python3.7/site-packages/ipykernel_launcher.py:11: RuntimeWarning: invalid value encountered in log\n",
      "  # This is added back by InteractiveShellApp.init_path()\n"
     ]
    },
    {
     "name": "stdout",
     "output_type": "stream",
     "text": [
      "VCF\n",
      "VCI\n",
      "VCIF\n",
      "VCLK\n",
      "VCNX\n",
      "VCO\n",
      "VCRA\n",
      "VCTR\n",
      "VCV\n",
      "VCVCU\n",
      "VCYT\n",
      "VDSI\n",
      "VDTH\n",
      "VE\n",
      "VEAC\n",
      "VEACU\n",
      "VEACW\n",
      "VEC\n",
      "VECO\n",
      "VEDL\n",
      "VEEV\n"
     ]
    },
    {
     "name": "stderr",
     "output_type": "stream",
     "text": [
      "/Users/lijinyang/opt/anaconda3/lib/python3.7/site-packages/ipykernel_launcher.py:11: RuntimeWarning: invalid value encountered in log\n",
      "  # This is added back by InteractiveShellApp.init_path()\n",
      "/Users/lijinyang/opt/anaconda3/lib/python3.7/site-packages/ipykernel_launcher.py:11: RuntimeWarning: invalid value encountered in log\n",
      "  # This is added back by InteractiveShellApp.init_path()\n"
     ]
    },
    {
     "name": "stdout",
     "output_type": "stream",
     "text": [
      "VEL\n",
      "VELT\n",
      "VEON\n",
      "VER.F\n",
      "VER\n",
      "VERB\n",
      "VERBW\n"
     ]
    },
    {
     "name": "stderr",
     "output_type": "stream",
     "text": [
      "/Users/lijinyang/opt/anaconda3/lib/python3.7/site-packages/ipykernel_launcher.py:11: RuntimeWarning: invalid value encountered in log\n",
      "  # This is added back by InteractiveShellApp.init_path()\n"
     ]
    },
    {
     "name": "stdout",
     "output_type": "stream",
     "text": [
      "VERI\n",
      "VERO\n",
      "VERT.U\n",
      "VERU\n",
      "VERX\n",
      "VERY\n",
      "VET\n",
      "VFC\n",
      "VFF\n",
      "VFL\n",
      "VG\n",
      "VGAC.U\n",
      "VGAC\n",
      "VGGL\n",
      "VGI\n"
     ]
    },
    {
     "name": "stderr",
     "output_type": "stream",
     "text": [
      "/Users/lijinyang/opt/anaconda3/lib/python3.7/site-packages/ipykernel_launcher.py:11: RuntimeWarning: invalid value encountered in log\n",
      "  # This is added back by InteractiveShellApp.init_path()\n"
     ]
    },
    {
     "name": "stdout",
     "output_type": "stream",
     "text": [
      "VGM\n",
      "VGR\n",
      "VGZ\n",
      "VHAQ.U\n",
      "VHC\n",
      "VHI\n",
      "VHS\n",
      "VIA.B\n",
      "VIA\n",
      "VIAB\n",
      "VIAC\n",
      "VIACA\n",
      "VIAO\n",
      "VIAS\n",
      "VIAV\n",
      "VICI\n",
      "VICL\n",
      "VICR\n",
      "VIE\n",
      "VIEW\n",
      "VIFL\n",
      "VIGN\n",
      "VIH\n"
     ]
    },
    {
     "name": "stderr",
     "output_type": "stream",
     "text": [
      "/Users/lijinyang/opt/anaconda3/lib/python3.7/site-packages/ipykernel_launcher.py:11: RuntimeWarning: invalid value encountered in log\n",
      "  # This is added back by InteractiveShellApp.init_path()\n"
     ]
    },
    {
     "name": "stdout",
     "output_type": "stream",
     "text": [
      "VIHAU\n",
      "VIHAW\n",
      "VII\n",
      "VIIAU\n",
      "VIM\n",
      "VIMC\n",
      "VINC\n",
      "VINCU\n",
      "VINCW\n",
      "VIOT\n",
      "VIP\n",
      "VIPS\n",
      "VIR\n",
      "VIRC\n",
      "VIRI\n",
      "VIRL\n"
     ]
    },
    {
     "name": "stderr",
     "output_type": "stream",
     "text": [
      "/Users/lijinyang/opt/anaconda3/lib/python3.7/site-packages/ipykernel_launcher.py:11: RuntimeWarning: invalid value encountered in log\n",
      "  # This is added back by InteractiveShellApp.init_path()\n",
      "/Users/lijinyang/opt/anaconda3/lib/python3.7/site-packages/ipykernel_launcher.py:4: RuntimeWarning: divide by zero encountered in log\n",
      "  after removing the cwd from sys.path.\n"
     ]
    },
    {
     "name": "stdout",
     "output_type": "stream",
     "text": [
      "VIRT\n",
      "VISI\n",
      "VISL\n",
      "VISN\n",
      "VIST\n",
      "VIT\n",
      "VITA\n",
      "VITC\n",
      "VITL\n",
      "VIV\n",
      "VIVE\n",
      "VIVO\n",
      "VJET\n",
      "VKI\n",
      "VKL\n"
     ]
    },
    {
     "name": "stderr",
     "output_type": "stream",
     "text": [
      "/Users/lijinyang/opt/anaconda3/lib/python3.7/site-packages/ipykernel_launcher.py:11: RuntimeWarning: invalid value encountered in log\n",
      "  # This is added back by InteractiveShellApp.init_path()\n"
     ]
    },
    {
     "name": "stdout",
     "output_type": "stream",
     "text": [
      "VKQ\n",
      "VKTX\n",
      "VKTXW\n",
      "VLAT\n",
      "VLCCF\n",
      "VLCM\n",
      "VLDR\n",
      "VLDRW\n",
      "VLGEA\n",
      "VLNC\n",
      "VLO\n",
      "VLP\n",
      "VLRS\n",
      "VLRX\n",
      "VLT\n"
     ]
    },
    {
     "name": "stderr",
     "output_type": "stream",
     "text": [
      "/Users/lijinyang/opt/anaconda3/lib/python3.7/site-packages/ipykernel_launcher.py:11: RuntimeWarning: invalid value encountered in log\n",
      "  # This is added back by InteractiveShellApp.init_path()\n",
      "/Users/lijinyang/opt/anaconda3/lib/python3.7/site-packages/ipykernel_launcher.py:11: RuntimeWarning: invalid value encountered in log\n",
      "  # This is added back by InteractiveShellApp.init_path()\n"
     ]
    },
    {
     "name": "stdout",
     "output_type": "stream",
     "text": [
      "VLTR\n",
      "VLY.A\n",
      "VLY.B\n",
      "VLY\n",
      "VLYPO\n",
      "VLYPP\n",
      "VLYWW\n",
      "VM\n"
     ]
    },
    {
     "name": "stderr",
     "output_type": "stream",
     "text": [
      "/Users/lijinyang/opt/anaconda3/lib/python3.7/site-packages/ipykernel_launcher.py:11: RuntimeWarning: invalid value encountered in log\n",
      "  # This is added back by InteractiveShellApp.init_path()\n"
     ]
    },
    {
     "name": "stdout",
     "output_type": "stream",
     "text": [
      "VMAC\n",
      "VMACU\n",
      "VMACW\n",
      "VMAR\n",
      "VMC\n",
      "VMD\n",
      "VMED\n",
      "VMEM\n"
     ]
    },
    {
     "name": "stderr",
     "output_type": "stream",
     "text": [
      "/Users/lijinyang/opt/anaconda3/lib/python3.7/site-packages/ipykernel_launcher.py:11: RuntimeWarning: invalid value encountered in log\n",
      "  # This is added back by InteractiveShellApp.init_path()\n"
     ]
    },
    {
     "name": "stdout",
     "output_type": "stream",
     "text": [
      "VMI\n",
      "VMM\n",
      "VMO\n",
      "VMV\n",
      "VMW\n",
      "VNCE\n",
      "VNDA\n"
     ]
    },
    {
     "name": "stderr",
     "output_type": "stream",
     "text": [
      "/Users/lijinyang/opt/anaconda3/lib/python3.7/site-packages/ipykernel_launcher.py:11: RuntimeWarning: invalid value encountered in log\n",
      "  # This is added back by InteractiveShellApp.init_path()\n",
      "/Users/lijinyang/opt/anaconda3/lib/python3.7/site-packages/ipykernel_launcher.py:11: RuntimeWarning: invalid value encountered in log\n",
      "  # This is added back by InteractiveShellApp.init_path()\n"
     ]
    },
    {
     "name": "stdout",
     "output_type": "stream",
     "text": [
      "VNE\n",
      "VNET\n",
      "VNO.G\n",
      "VNO.I\n",
      "VNO.J\n",
      "VNO.K\n",
      "VNO.L\n",
      "VNO.M\n",
      "VNO.N\n",
      "VNO\n",
      "VNOD\n",
      "VNOM\n",
      "VNR\n",
      "VNRAP\n",
      "VNRBP\n"
     ]
    },
    {
     "name": "stderr",
     "output_type": "stream",
     "text": [
      "/Users/lijinyang/opt/anaconda3/lib/python3.7/site-packages/ipykernel_launcher.py:11: RuntimeWarning: invalid value encountered in log\n",
      "  # This is added back by InteractiveShellApp.init_path()\n"
     ]
    },
    {
     "name": "stdout",
     "output_type": "stream",
     "text": [
      "VNRCP\n",
      "VNRX\n",
      "VNT\n",
      "VNTR\n",
      "VNTV\n",
      "VNUS\n",
      "VOC\n",
      "VOCS\n",
      "VOD\n",
      "VOG\n",
      "VOL\n",
      "VOLC\n",
      "VOLT\n",
      "VOQ\n",
      "VOXX\n",
      "VOYA.B\n",
      "VOYA\n",
      "VPCO\n",
      "VPCOU\n",
      "VPFG\n",
      "VPG\n",
      "VPHM\n",
      "VPN\n"
     ]
    },
    {
     "name": "stderr",
     "output_type": "stream",
     "text": [
      "/Users/lijinyang/opt/anaconda3/lib/python3.7/site-packages/ipykernel_launcher.py:11: RuntimeWarning: invalid value encountered in log\n",
      "  # This is added back by InteractiveShellApp.init_path()\n",
      "/Users/lijinyang/opt/anaconda3/lib/python3.7/site-packages/ipykernel_launcher.py:11: RuntimeWarning: invalid value encountered in log\n",
      "  # This is added back by InteractiveShellApp.init_path()\n"
     ]
    },
    {
     "name": "stdout",
     "output_type": "stream",
     "text": [
      "VPRT\n",
      "VPV\n",
      "VQ\n",
      "VR.A\n",
      "VR.B\n",
      "VR\n",
      "VRA\n",
      "VRAD\n",
      "VRAY\n",
      "VRCA\n",
      "VREX\n",
      "VREXV\n",
      "VRM\n",
      "VRME\n",
      "VRMEW\n",
      "VRML\n"
     ]
    },
    {
     "name": "stderr",
     "output_type": "stream",
     "text": [
      "/Users/lijinyang/opt/anaconda3/lib/python3.7/site-packages/ipykernel_launcher.py:11: RuntimeWarning: invalid value encountered in log\n",
      "  # This is added back by InteractiveShellApp.init_path()\n",
      "/Users/lijinyang/opt/anaconda3/lib/python3.7/site-packages/ipykernel_launcher.py:11: RuntimeWarning: invalid value encountered in log\n",
      "  # This is added back by InteractiveShellApp.init_path()\n",
      "/Users/lijinyang/opt/anaconda3/lib/python3.7/site-packages/ipykernel_launcher.py:11: RuntimeWarning: invalid value encountered in log\n",
      "  # This is added back by InteractiveShellApp.init_path()\n",
      "/Users/lijinyang/opt/anaconda3/lib/python3.7/site-packages/ipykernel_launcher.py:11: RuntimeWarning: invalid value encountered in log\n",
      "  # This is added back by InteractiveShellApp.init_path()\n",
      "/Users/lijinyang/opt/anaconda3/lib/python3.7/site-packages/ipykernel_launcher.py:11: RuntimeWarning: invalid value encountered in log\n",
      "  # This is added back by InteractiveShellApp.init_path()\n"
     ]
    },
    {
     "name": "stdout",
     "output_type": "stream",
     "text": [
      "VRNA\n",
      "VRNG\n",
      "VRNGW\n",
      "VRNM\n",
      "VRNS\n",
      "VRNT\n",
      "VRRM\n"
     ]
    },
    {
     "name": "stderr",
     "output_type": "stream",
     "text": [
      "/Users/lijinyang/opt/anaconda3/lib/python3.7/site-packages/ipykernel_launcher.py:11: RuntimeWarning: invalid value encountered in log\n",
      "  # This is added back by InteractiveShellApp.init_path()\n"
     ]
    },
    {
     "name": "stdout",
     "output_type": "stream",
     "text": [
      "VRS\n",
      "VRSK\n",
      "VRSN\n",
      "VRT\n",
      "VRTS\n",
      "VRTSP\n",
      "VRTU\n",
      "VRTV\n",
      "VRTX\n",
      "VRX\n",
      "VS\n",
      "VSAR\n",
      "VSAT\n"
     ]
    },
    {
     "name": "stderr",
     "output_type": "stream",
     "text": [
      "/Users/lijinyang/opt/anaconda3/lib/python3.7/site-packages/ipykernel_launcher.py:11: RuntimeWarning: invalid value encountered in log\n",
      "  # This is added back by InteractiveShellApp.init_path()\n",
      "/Users/lijinyang/opt/anaconda3/lib/python3.7/site-packages/ipykernel_launcher.py:11: RuntimeWarning: invalid value encountered in log\n",
      "  # This is added back by InteractiveShellApp.init_path()\n",
      "/Users/lijinyang/opt/anaconda3/lib/python3.7/site-packages/ipykernel_launcher.py:11: RuntimeWarning: invalid value encountered in log\n",
      "  # This is added back by InteractiveShellApp.init_path()\n"
     ]
    },
    {
     "name": "stdout",
     "output_type": "stream",
     "text": [
      "VSCI\n",
      "VSCP\n",
      "VSE\n",
      "VSEA\n",
      "VSEC\n",
      "VSH\n",
      "VSI\n",
      "VSLR\n",
      "VSM\n",
      "VSNT\n",
      "VSPR\n",
      "VSPRU\n",
      "VSPRW\n",
      "VSR\n",
      "VST\n"
     ]
    },
    {
     "name": "stderr",
     "output_type": "stream",
     "text": [
      "/Users/lijinyang/opt/anaconda3/lib/python3.7/site-packages/ipykernel_launcher.py:11: RuntimeWarning: invalid value encountered in log\n",
      "  # This is added back by InteractiveShellApp.init_path()\n",
      "/Users/lijinyang/opt/anaconda3/lib/python3.7/site-packages/ipykernel_launcher.py:11: RuntimeWarning: invalid value encountered in log\n",
      "  # This is added back by InteractiveShellApp.init_path()\n"
     ]
    },
    {
     "name": "stdout",
     "output_type": "stream",
     "text": [
      "VSTA\n",
      "VSTM\n",
      "VSTO\n",
      "VTA\n",
      "VTAE\n",
      "VTAL\n",
      "VTAQU\n",
      "VTG\n",
      "VTGN\n",
      "VTIQ\n",
      "VTIQU\n",
      "VTIQW\n",
      "VTIV\n",
      "VTJ\n",
      "VTL\n"
     ]
    },
    {
     "name": "stderr",
     "output_type": "stream",
     "text": [
      "/Users/lijinyang/opt/anaconda3/lib/python3.7/site-packages/ipykernel_launcher.py:11: RuntimeWarning: invalid value encountered in log\n",
      "  # This is added back by InteractiveShellApp.init_path()\n",
      "/Users/lijinyang/opt/anaconda3/lib/python3.7/site-packages/ipykernel_launcher.py:11: RuntimeWarning: invalid value encountered in log\n",
      "  # This is added back by InteractiveShellApp.init_path()\n"
     ]
    },
    {
     "name": "stdout",
     "output_type": "stream",
     "text": [
      "VTN\n",
      "VTNC\n",
      "VTNR\n",
      "VTOL\n",
      "VTR\n",
      "VTRB\n",
      "VTRN\n"
     ]
    },
    {
     "name": "stderr",
     "output_type": "stream",
     "text": [
      "/Users/lijinyang/opt/anaconda3/lib/python3.7/site-packages/ipykernel_launcher.py:11: RuntimeWarning: invalid value encountered in log\n",
      "  # This is added back by InteractiveShellApp.init_path()\n"
     ]
    },
    {
     "name": "stdout",
     "output_type": "stream",
     "text": [
      "VTRO\n",
      "VTRS\n",
      "VTRU\n",
      "VTSI\n",
      "VTSS\n",
      "VTTI\n",
      "VTUS\n",
      "VTVT\n",
      "VUZI\n",
      "VVC\n",
      "VVI\n",
      "VVNT\n",
      "VVOS\n"
     ]
    },
    {
     "name": "stderr",
     "output_type": "stream",
     "text": [
      "/Users/lijinyang/opt/anaconda3/lib/python3.7/site-packages/ipykernel_launcher.py:11: RuntimeWarning: invalid value encountered in log\n",
      "  # This is added back by InteractiveShellApp.init_path()\n",
      "/Users/lijinyang/opt/anaconda3/lib/python3.7/site-packages/ipykernel_launcher.py:11: RuntimeWarning: invalid value encountered in log\n",
      "  # This is added back by InteractiveShellApp.init_path()\n"
     ]
    },
    {
     "name": "stdout",
     "output_type": "stream",
     "text": [
      "VVPR\n",
      "VVR\n",
      "VVTV\n",
      "VVUS\n",
      "VVV\n",
      "VWR\n",
      "VXEE\n",
      "VXFF\n",
      "VXRT\n",
      "VYFC\n",
      "VYGG.U\n",
      "VYGG\n",
      "VYGR\n",
      "VYNE\n"
     ]
    },
    {
     "name": "stderr",
     "output_type": "stream",
     "text": [
      "/Users/lijinyang/opt/anaconda3/lib/python3.7/site-packages/ipykernel_launcher.py:11: RuntimeWarning: invalid value encountered in log\n",
      "  # This is added back by InteractiveShellApp.init_path()\n",
      "/Users/lijinyang/opt/anaconda3/lib/python3.7/site-packages/ipykernel_launcher.py:11: RuntimeWarning: invalid value encountered in log\n",
      "  # This is added back by InteractiveShellApp.init_path()\n"
     ]
    },
    {
     "name": "stdout",
     "output_type": "stream",
     "text": [
      "VZ\n",
      "VZA\n",
      "W\n",
      "WAAS\n",
      "WAB\n",
      "WABC\n",
      "WAC\n",
      "WAFD\n",
      "WAFDW\n",
      "WAFU\n",
      "WAG\n",
      "WAGE\n",
      "WAIR\n",
      "WAL\n",
      "WALA\n",
      "WASH\n",
      "WAT\n",
      "WATG\n",
      "WATT\n",
      "WAVE\n",
      "WAVX\n",
      "WB\n",
      "WBA\n",
      "WBAI\n",
      "WBB\n",
      "WBC\n"
     ]
    },
    {
     "name": "stderr",
     "output_type": "stream",
     "text": [
      "/Users/lijinyang/opt/anaconda3/lib/python3.7/site-packages/ipykernel_launcher.py:11: RuntimeWarning: invalid value encountered in log\n",
      "  # This is added back by InteractiveShellApp.init_path()\n"
     ]
    },
    {
     "name": "stdout",
     "output_type": "stream",
     "text": [
      "WBCO\n",
      "WBK\n",
      "WBKC\n",
      "WBMD\n",
      "WBS.E\n",
      "WBS.F\n",
      "WBS\n",
      "WBSN\n",
      "WBT\n",
      "WCAA\n",
      "WCBO\n",
      "WCC.A\n",
      "WCC\n",
      "WCFB\n",
      "WCG\n",
      "WCIC\n",
      "WCLD\n",
      "WCN\n",
      "WCRX\n",
      "WCST\n",
      "WD\n",
      "WDAY\n"
     ]
    },
    {
     "name": "stderr",
     "output_type": "stream",
     "text": [
      "/Users/lijinyang/opt/anaconda3/lib/python3.7/site-packages/ipykernel_launcher.py:11: RuntimeWarning: invalid value encountered in log\n",
      "  # This is added back by InteractiveShellApp.init_path()\n"
     ]
    },
    {
     "name": "stdout",
     "output_type": "stream",
     "text": [
      "WDC\n",
      "WDFC\n",
      "WDR\n",
      "WEA\n",
      "WEB\n",
      "WEBK\n",
      "WEBM\n",
      "WEC\n",
      "WEDC\n",
      "WEI\n",
      "WEL\n",
      "WELL.I\n",
      "WELL\n",
      "WEN\n",
      "WERN\n",
      "WES\n",
      "WETF\n",
      "WEX\n",
      "WEYS\n",
      "WF\n",
      "WFBI\n",
      "WFC.A\n",
      "WFC.J\n",
      "WFC.L\n",
      "WFC.N\n",
      "WFC.O\n",
      "WFC.P\n",
      "WFC.Q\n",
      "WFC.R\n",
      "WFC.T\n",
      "WFC.V\n",
      "WFC.W\n",
      "WFC.X\n",
      "WFC.Y\n",
      "WFC.Z\n",
      "WFC\n",
      "WFD\n",
      "WFE.A\n",
      "WFM\n",
      "WFMI\n",
      "WFR\n",
      "WFSL\n",
      "WFSLW\n",
      "WFT\n",
      "WG\n",
      "WGA\n"
     ]
    },
    {
     "name": "stderr",
     "output_type": "stream",
     "text": [
      "/Users/lijinyang/opt/anaconda3/lib/python3.7/site-packages/ipykernel_launcher.py:11: RuntimeWarning: invalid value encountered in log\n",
      "  # This is added back by InteractiveShellApp.init_path()\n"
     ]
    },
    {
     "name": "stdout",
     "output_type": "stream",
     "text": [
      "WGBS\n",
      "WGL\n",
      "WGO\n",
      "WGOV\n",
      "WGP\n",
      "WH\n",
      "WHD\n",
      "WHF\n",
      "WHFBL\n",
      "WHFBZ\n",
      "WHG\n",
      "WHI\n",
      "WHLM\n",
      "WHLR\n"
     ]
    },
    {
     "name": "stderr",
     "output_type": "stream",
     "text": [
      "/Users/lijinyang/opt/anaconda3/lib/python3.7/site-packages/ipykernel_launcher.py:11: RuntimeWarning: invalid value encountered in log\n",
      "  # This is added back by InteractiveShellApp.init_path()\n",
      "/Users/lijinyang/opt/anaconda3/lib/python3.7/site-packages/ipykernel_launcher.py:11: RuntimeWarning: invalid value encountered in log\n",
      "  # This is added back by InteractiveShellApp.init_path()\n"
     ]
    },
    {
     "name": "stdout",
     "output_type": "stream",
     "text": [
      "WHLRD\n",
      "WHLRP\n",
      "WHLRW\n",
      "WHR\n",
      "WHRT\n",
      "WHX\n",
      "WHZ\n"
     ]
    },
    {
     "name": "stderr",
     "output_type": "stream",
     "text": [
      "/Users/lijinyang/opt/anaconda3/lib/python3.7/site-packages/ipykernel_launcher.py:11: RuntimeWarning: invalid value encountered in log\n",
      "  # This is added back by InteractiveShellApp.init_path()\n",
      "/Users/lijinyang/opt/anaconda3/lib/python3.7/site-packages/ipykernel_launcher.py:11: RuntimeWarning: invalid value encountered in log\n",
      "  # This is added back by InteractiveShellApp.init_path()\n"
     ]
    },
    {
     "name": "stdout",
     "output_type": "stream",
     "text": [
      "WIA\n",
      "WIBC\n",
      "WIFI\n",
      "WILC\n",
      "WILN\n",
      "WIMI\n",
      "WIN\n",
      "WINA\n",
      "WIND\n",
      "WING\n",
      "WINN\n",
      "WINS\n",
      "WINT\n",
      "WIRE\n",
      "WISA\n",
      "WISH\n",
      "WIT\n",
      "WIW\n",
      "WIX\n",
      "WK\n",
      "WKEY\n",
      "WKHS\n",
      "WL\n",
      "WLB\n",
      "WLBC\n",
      "WLBPZ\n",
      "WLDN\n",
      "WLFC\n",
      "WLFCP\n",
      "WLH\n",
      "WLK\n",
      "WLKP\n",
      "WLL\n",
      "WLP\n",
      "WLRH\n"
     ]
    },
    {
     "name": "stderr",
     "output_type": "stream",
     "text": [
      "/Users/lijinyang/opt/anaconda3/lib/python3.7/site-packages/ipykernel_launcher.py:11: RuntimeWarning: invalid value encountered in log\n",
      "  # This is added back by InteractiveShellApp.init_path()\n"
     ]
    },
    {
     "name": "stdout",
     "output_type": "stream",
     "text": [
      "WLRHU\n",
      "WLRHW\n",
      "WLT\n",
      "WLTW\n",
      "WM\n",
      "WMAR\n",
      "WMB\n",
      "WMC\n",
      "WMCO\n",
      "WMG\n",
      "WMGI\n",
      "WMGIZ\n"
     ]
    },
    {
     "name": "stderr",
     "output_type": "stream",
     "text": [
      "/Users/lijinyang/opt/anaconda3/lib/python3.7/site-packages/ipykernel_launcher.py:11: RuntimeWarning: invalid value encountered in log\n",
      "  # This is added back by InteractiveShellApp.init_path()\n"
     ]
    },
    {
     "name": "stdout",
     "output_type": "stream",
     "text": [
      "WMI\n",
      "WMIH\n",
      "WMK\n",
      "WMLP\n",
      "WMS\n",
      "WMT\n",
      "WNC\n",
      "WNEB\n",
      "WNI\n",
      "WNR\n",
      "WNRL\n",
      "WNS\n",
      "WNW\n",
      "WOLF\n",
      "WOOD\n",
      "WOOF\n",
      "WOR\n",
      "WORK\n",
      "WORX\n",
      "WOW\n",
      "WOWO\n",
      "WP\n",
      "WPC\n",
      "WPCS\n",
      "WPF.U\n",
      "WPF\n"
     ]
    },
    {
     "name": "stderr",
     "output_type": "stream",
     "text": [
      "/Users/lijinyang/opt/anaconda3/lib/python3.7/site-packages/ipykernel_launcher.py:11: RuntimeWarning: invalid value encountered in log\n",
      "  # This is added back by InteractiveShellApp.init_path()\n"
     ]
    },
    {
     "name": "stdout",
     "output_type": "stream",
     "text": [
      "WPG.H\n",
      "WPG.I\n",
      "WPG\n",
      "WPI\n",
      "WPK\n",
      "WPM\n",
      "WPO\n",
      "WPP\n",
      "WPPGY\n",
      "WPRT\n",
      "WPT\n",
      "WPX\n",
      "WPXP\n",
      "WPZ\n",
      "WR\n",
      "WRAP\n",
      "WRB.B\n",
      "WRB.C\n",
      "WRB.D\n",
      "WRB.E\n",
      "WRB.F\n",
      "WRB.G\n",
      "WRB\n",
      "WRC\n",
      "WRD\n",
      "WRE\n",
      "WRES\n",
      "WRI\n",
      "WRK\n",
      "WRLD\n",
      "WRLS\n",
      "WRLSR\n",
      "WRLSU\n",
      "WRLSW\n",
      "WRN\n",
      "WRS\n",
      "WRT\n",
      "WRTC\n",
      "WSB\n",
      "WSBC\n",
      "WSBCP\n",
      "WSBF\n",
      "WSC\n",
      "WSCI\n",
      "WSFS\n",
      "WSFSL\n",
      "WSG\n",
      "WSH\n",
      "WSII\n"
     ]
    },
    {
     "name": "stderr",
     "output_type": "stream",
     "text": [
      "/Users/lijinyang/opt/anaconda3/lib/python3.7/site-packages/ipykernel_launcher.py:11: RuntimeWarning: invalid value encountered in log\n",
      "  # This is added back by InteractiveShellApp.init_path()\n"
     ]
    },
    {
     "name": "stdout",
     "output_type": "stream",
     "text": [
      "WSM\n",
      "WSO.B\n",
      "WSO\n",
      "WSR\n",
      "WST\n",
      "WSTC\n",
      "WSTG\n",
      "WSTL\n",
      "WTBA\n",
      "WTER\n",
      "WTFC\n",
      "WTFCM\n",
      "WTFCP\n",
      "WTFCW\n",
      "WTI\n",
      "WTM\n",
      "WTNY\n",
      "WTR\n",
      "WTRE\n",
      "WTREP\n",
      "WTRG\n",
      "WTRH\n",
      "WTRU\n",
      "WTS\n",
      "WTSL\n",
      "WTSLA\n",
      "WTT\n",
      "WTTR\n"
     ]
    },
    {
     "name": "stderr",
     "output_type": "stream",
     "text": [
      "/Users/lijinyang/opt/anaconda3/lib/python3.7/site-packages/ipykernel_launcher.py:11: RuntimeWarning: invalid value encountered in log\n",
      "  # This is added back by InteractiveShellApp.init_path()\n"
     ]
    },
    {
     "name": "stdout",
     "output_type": "stream",
     "text": [
      "WTW\n",
      "WU\n",
      "WUBA\n",
      "WVE\n",
      "WVFC\n",
      "WVVI\n",
      "WVVIP\n",
      "WW\n",
      "WWAV\n",
      "WWAY\n",
      "WWD\n",
      "WWE\n",
      "WWIN\n",
      "WWON\n"
     ]
    },
    {
     "name": "stderr",
     "output_type": "stream",
     "text": [
      "/Users/lijinyang/opt/anaconda3/lib/python3.7/site-packages/ipykernel_launcher.py:11: RuntimeWarning: invalid value encountered in log\n",
      "  # This is added back by InteractiveShellApp.init_path()\n",
      "/Users/lijinyang/opt/anaconda3/lib/python3.7/site-packages/ipykernel_launcher.py:11: RuntimeWarning: invalid value encountered in log\n",
      "  # This is added back by InteractiveShellApp.init_path()\n",
      "/Users/lijinyang/opt/anaconda3/lib/python3.7/site-packages/ipykernel_launcher.py:11: RuntimeWarning: invalid value encountered in log\n",
      "  # This is added back by InteractiveShellApp.init_path()\n"
     ]
    },
    {
     "name": "stdout",
     "output_type": "stream",
     "text": [
      "WWR\n",
      "WWVY\n",
      "WWW\n",
      "WWWW\n",
      "WWY\n",
      "WX\n",
      "WXS\n",
      "WY.A\n",
      "WY\n",
      "WYE\n",
      "WYIG\n",
      "WYIGU\n",
      "WYIGW\n",
      "WYN\n",
      "WYND\n",
      "WYNN\n",
      "WYY\n",
      "WZE\n",
      "X\n",
      "XAA\n",
      "XAIR\n",
      "XAN.C\n"
     ]
    },
    {
     "name": "stderr",
     "output_type": "stream",
     "text": [
      "/Users/lijinyang/opt/anaconda3/lib/python3.7/site-packages/ipykernel_launcher.py:11: RuntimeWarning: invalid value encountered in log\n",
      "  # This is added back by InteractiveShellApp.init_path()\n",
      "/Users/lijinyang/opt/anaconda3/lib/python3.7/site-packages/ipykernel_launcher.py:11: RuntimeWarning: invalid value encountered in log\n",
      "  # This is added back by InteractiveShellApp.init_path()\n",
      "/Users/lijinyang/opt/anaconda3/lib/python3.7/site-packages/ipykernel_launcher.py:11: RuntimeWarning: invalid value encountered in log\n",
      "  # This is added back by InteractiveShellApp.init_path()\n",
      "/Users/lijinyang/opt/anaconda3/lib/python3.7/site-packages/ipykernel_launcher.py:11: RuntimeWarning: invalid value encountered in log\n",
      "  # This is added back by InteractiveShellApp.init_path()\n"
     ]
    },
    {
     "name": "stdout",
     "output_type": "stream",
     "text": [
      "XAN\n",
      "XATA\n",
      "XBIO\n",
      "XBIOW\n",
      "XBIT\n",
      "XBITV\n",
      "XBKS\n",
      "XCJ\n",
      "XCO\n",
      "XCRA\n",
      "XCUR\n",
      "XEC\n",
      "XEL\n",
      "XELA\n",
      "XELB\n"
     ]
    },
    {
     "name": "stderr",
     "output_type": "stream",
     "text": [
      "/Users/lijinyang/opt/anaconda3/lib/python3.7/site-packages/ipykernel_launcher.py:11: RuntimeWarning: invalid value encountered in log\n",
      "  # This is added back by InteractiveShellApp.init_path()\n"
     ]
    },
    {
     "name": "stdout",
     "output_type": "stream",
     "text": [
      "XENE\n",
      "XENT\n",
      "XERS\n",
      "XFD\n",
      "XFH\n",
      "XFLT\n",
      "XFOR\n"
     ]
    },
    {
     "name": "stderr",
     "output_type": "stream",
     "text": [
      "/Users/lijinyang/opt/anaconda3/lib/python3.7/site-packages/ipykernel_launcher.py:11: RuntimeWarning: invalid value encountered in log\n",
      "  # This is added back by InteractiveShellApp.init_path()\n",
      "/Users/lijinyang/opt/anaconda3/lib/python3.7/site-packages/ipykernel_launcher.py:11: RuntimeWarning: invalid value encountered in log\n",
      "  # This is added back by InteractiveShellApp.init_path()\n"
     ]
    },
    {
     "name": "stdout",
     "output_type": "stream",
     "text": [
      "XFP\n",
      "XFR\n",
      "XG\n",
      "XGN\n",
      "XGTI\n",
      "XGTIW\n",
      "XHR\n",
      "XIDE\n",
      "XIN\n",
      "XING\n",
      "XKE\n",
      "XKK\n",
      "XKN\n",
      "XKO\n",
      "XL\n",
      "XLNX\n",
      "XLRN\n",
      "XLS\n",
      "XLTC\n",
      "XMSR\n",
      "XNCR\n"
     ]
    },
    {
     "name": "stderr",
     "output_type": "stream",
     "text": [
      "/Users/lijinyang/opt/anaconda3/lib/python3.7/site-packages/ipykernel_launcher.py:11: RuntimeWarning: invalid value encountered in log\n",
      "  # This is added back by InteractiveShellApp.init_path()\n"
     ]
    },
    {
     "name": "stdout",
     "output_type": "stream",
     "text": [
      "XNET\n",
      "XNPT\n",
      "XNY\n",
      "XOG\n",
      "XOIL\n",
      "XOM\n",
      "XOMA\n"
     ]
    },
    {
     "name": "stderr",
     "output_type": "stream",
     "text": [
      "/Users/lijinyang/opt/anaconda3/lib/python3.7/site-packages/ipykernel_launcher.py:11: RuntimeWarning: invalid value encountered in log\n",
      "  # This is added back by InteractiveShellApp.init_path()\n",
      "/Users/lijinyang/opt/anaconda3/lib/python3.7/site-packages/ipykernel_launcher.py:11: RuntimeWarning: invalid value encountered in log\n",
      "  # This is added back by InteractiveShellApp.init_path()\n"
     ]
    },
    {
     "name": "stdout",
     "output_type": "stream",
     "text": [
      "XOMAP\n",
      "XON\n",
      "XONE\n",
      "XOOM\n",
      "XOXO\n",
      "XP\n",
      "XPEL\n",
      "XPER\n"
     ]
    },
    {
     "name": "stderr",
     "output_type": "stream",
     "text": [
      "/Users/lijinyang/opt/anaconda3/lib/python3.7/site-packages/ipykernel_launcher.py:11: RuntimeWarning: invalid value encountered in log\n",
      "  # This is added back by InteractiveShellApp.init_path()\n"
     ]
    },
    {
     "name": "stdout",
     "output_type": "stream",
     "text": [
      "XPEV\n",
      "XPL\n",
      "XPLR\n",
      "XPO\n",
      "XPOA.U\n",
      "XPOA\n",
      "XPRT\n",
      "XRA\n",
      "XRAY\n",
      "XRDC\n",
      "XRF\n",
      "XRIT\n",
      "XRM\n",
      "XRS\n",
      "XRSC\n"
     ]
    },
    {
     "name": "stderr",
     "output_type": "stream",
     "text": [
      "/Users/lijinyang/opt/anaconda3/lib/python3.7/site-packages/ipykernel_launcher.py:11: RuntimeWarning: invalid value encountered in log\n",
      "  # This is added back by InteractiveShellApp.init_path()\n",
      "/Users/lijinyang/opt/anaconda3/lib/python3.7/site-packages/ipykernel_launcher.py:11: RuntimeWarning: invalid value encountered in log\n",
      "  # This is added back by InteractiveShellApp.init_path()\n"
     ]
    },
    {
     "name": "stdout",
     "output_type": "stream",
     "text": [
      "XRTX\n",
      "XRX\n",
      "XSPA\n",
      "XSPL\n",
      "XT\n",
      "XTEX\n",
      "XTLB\n"
     ]
    },
    {
     "name": "stderr",
     "output_type": "stream",
     "text": [
      "/Users/lijinyang/opt/anaconda3/lib/python3.7/site-packages/ipykernel_launcher.py:11: RuntimeWarning: invalid value encountered in log\n",
      "  # This is added back by InteractiveShellApp.init_path()\n"
     ]
    },
    {
     "name": "stdout",
     "output_type": "stream",
     "text": [
      "XTLY\n",
      "XTNT\n",
      "XTO\n",
      "XTXI\n",
      "XUE\n",
      "XVG\n",
      "XWES\n",
      "XXIA\n",
      "XXII\n",
      "XYF\n",
      "XYL\n",
      "XYN\n",
      "XYNPW\n",
      "Y\n",
      "YAC.U\n"
     ]
    },
    {
     "name": "stderr",
     "output_type": "stream",
     "text": [
      "/Users/lijinyang/opt/anaconda3/lib/python3.7/site-packages/ipykernel_launcher.py:11: RuntimeWarning: invalid value encountered in log\n",
      "  # This is added back by InteractiveShellApp.init_path()\n",
      "/Users/lijinyang/opt/anaconda3/lib/python3.7/site-packages/ipykernel_launcher.py:11: RuntimeWarning: invalid value encountered in log\n",
      "  # This is added back by InteractiveShellApp.init_path()\n"
     ]
    },
    {
     "name": "stdout",
     "output_type": "stream",
     "text": [
      "YAC\n",
      "YALA\n",
      "YAVY\n",
      "YAYO\n",
      "YCB\n",
      "YCBD.A\n",
      "YCBD\n",
      "YDKN\n",
      "YDLE\n",
      "YDNT\n",
      "YECO\n",
      "YELP\n",
      "YERR\n",
      "YETI\n",
      "YEXT\n"
     ]
    },
    {
     "name": "stderr",
     "output_type": "stream",
     "text": [
      "/Users/lijinyang/opt/anaconda3/lib/python3.7/site-packages/ipykernel_launcher.py:11: RuntimeWarning: invalid value encountered in log\n",
      "  # This is added back by InteractiveShellApp.init_path()\n",
      "/Users/lijinyang/opt/anaconda3/lib/python3.7/site-packages/ipykernel_launcher.py:11: RuntimeWarning: invalid value encountered in log\n",
      "  # This is added back by InteractiveShellApp.init_path()\n"
     ]
    },
    {
     "name": "stdout",
     "output_type": "stream",
     "text": [
      "YGE\n",
      "YGMZ\n",
      "YGTY\n",
      "YGYI\n",
      "YGYIP\n",
      "YHOO\n",
      "YI\n",
      "YIN\n"
     ]
    },
    {
     "name": "stderr",
     "output_type": "stream",
     "text": [
      "/Users/lijinyang/opt/anaconda3/lib/python3.7/site-packages/ipykernel_launcher.py:11: RuntimeWarning: invalid value encountered in log\n",
      "  # This is added back by InteractiveShellApp.init_path()\n",
      "/Users/lijinyang/opt/anaconda3/lib/python3.7/site-packages/ipykernel_launcher.py:11: RuntimeWarning: invalid value encountered in log\n",
      "  # This is added back by InteractiveShellApp.init_path()\n",
      "/Users/lijinyang/opt/anaconda3/lib/python3.7/site-packages/ipykernel_launcher.py:11: RuntimeWarning: invalid value encountered in log\n",
      "  # This is added back by InteractiveShellApp.init_path()\n"
     ]
    },
    {
     "name": "stdout",
     "output_type": "stream",
     "text": [
      "YJ\n",
      "YMAB\n",
      "YMI\n",
      "YMTX\n",
      "YNDX\n",
      "YOD\n",
      "YOGA\n"
     ]
    },
    {
     "name": "stderr",
     "output_type": "stream",
     "text": [
      "/Users/lijinyang/opt/anaconda3/lib/python3.7/site-packages/ipykernel_launcher.py:11: RuntimeWarning: invalid value encountered in log\n",
      "  # This is added back by InteractiveShellApp.init_path()\n",
      "/Users/lijinyang/opt/anaconda3/lib/python3.7/site-packages/ipykernel_launcher.py:11: RuntimeWarning: invalid value encountered in log\n",
      "  # This is added back by InteractiveShellApp.init_path()\n"
     ]
    },
    {
     "name": "stdout",
     "output_type": "stream",
     "text": [
      "YOKU\n",
      "YONG\n",
      "YORW\n",
      "YPF\n",
      "YQ\n",
      "YRCW\n",
      "YRD\n",
      "YRIV\n",
      "YSAC\n",
      "YSACU\n",
      "YSACW\n",
      "YSG\n",
      "YSI\n",
      "YTEC\n",
      "YTEN\n"
     ]
    },
    {
     "name": "stderr",
     "output_type": "stream",
     "text": [
      "/Users/lijinyang/opt/anaconda3/lib/python3.7/site-packages/ipykernel_launcher.py:11: RuntimeWarning: invalid value encountered in log\n",
      "  # This is added back by InteractiveShellApp.init_path()\n",
      "/Users/lijinyang/opt/anaconda3/lib/python3.7/site-packages/ipykernel_launcher.py:11: RuntimeWarning: invalid value encountered in log\n",
      "  # This is added back by InteractiveShellApp.init_path()\n"
     ]
    },
    {
     "name": "stdout",
     "output_type": "stream",
     "text": [
      "YTRA\n",
      "YUM\n",
      "YUMA.A\n",
      "YUMA\n",
      "YUMC\n",
      "YUME\n",
      "YVR\n",
      "YY\n",
      "YZC\n",
      "Z\n",
      "ZA\n",
      "ZAGG\n",
      "ZAIS\n",
      "ZAP\n"
     ]
    },
    {
     "name": "stderr",
     "output_type": "stream",
     "text": [
      "/Users/lijinyang/opt/anaconda3/lib/python3.7/site-packages/ipykernel_launcher.py:11: RuntimeWarning: invalid value encountered in log\n",
      "  # This is added back by InteractiveShellApp.init_path()\n"
     ]
    },
    {
     "name": "stdout",
     "output_type": "stream",
     "text": [
      "ZAVVV\n",
      "ZAYO\n",
      "ZB.A\n",
      "ZB.F\n",
      "ZB.G\n",
      "ZB.H\n",
      "ZBB\n",
      "ZBH\n",
      "ZBK\n",
      "ZBRA\n",
      "ZBZX\n",
      "ZCMD\n",
      "ZCVVV\n",
      "ZDGE\n"
     ]
    },
    {
     "name": "stderr",
     "output_type": "stream",
     "text": [
      "/Users/lijinyang/opt/anaconda3/lib/python3.7/site-packages/ipykernel_launcher.py:11: RuntimeWarning: invalid value encountered in log\n",
      "  # This is added back by InteractiveShellApp.init_path()\n"
     ]
    },
    {
     "name": "stdout",
     "output_type": "stream",
     "text": [
      "ZEAL\n",
      "ZEN\n",
      "ZEP\n",
      "ZEUS\n",
      "ZF\n",
      "ZFC\n",
      "ZFGN\n",
      "ZG\n",
      "ZGEN\n",
      "ZGNX\n",
      "ZGYH\n",
      "ZGYHR\n",
      "ZGYHU\n",
      "ZGYHW\n",
      "ZHNE\n",
      "ZI\n",
      "ZIGO\n",
      "ZINC\n",
      "ZION\n",
      "ZIONL\n",
      "ZIONN\n",
      "ZIONO\n",
      "ZIONP\n",
      "ZIONW\n",
      "ZIONZ\n",
      "ZIOP\n",
      "ZIP\n",
      "ZIPR\n",
      "ZIXI\n"
     ]
    },
    {
     "name": "stderr",
     "output_type": "stream",
     "text": [
      "/Users/lijinyang/opt/anaconda3/lib/python3.7/site-packages/ipykernel_launcher.py:11: RuntimeWarning: invalid value encountered in log\n",
      "  # This is added back by InteractiveShellApp.init_path()\n"
     ]
    },
    {
     "name": "stdout",
     "output_type": "stream",
     "text": [
      "ZKIN\n",
      "ZLAB\n",
      "ZLC\n",
      "ZLCS\n",
      "ZLIG\n",
      "ZLTQ\n",
      "ZM\n"
     ]
    },
    {
     "name": "stderr",
     "output_type": "stream",
     "text": [
      "/Users/lijinyang/opt/anaconda3/lib/python3.7/site-packages/ipykernel_launcher.py:11: RuntimeWarning: invalid value encountered in log\n",
      "  # This is added back by InteractiveShellApp.init_path()\n"
     ]
    },
    {
     "name": "stdout",
     "output_type": "stream",
     "text": [
      "ZMH\n",
      "ZN\n",
      "ZNGA\n",
      "ZNH\n",
      "ZNT\n",
      "ZNTEU\n",
      "ZNTL\n",
      "ZNWAL\n",
      "ZNWAW\n",
      "ZNWAZ\n",
      "ZOES\n",
      "ZOLL\n",
      "ZOLT\n"
     ]
    },
    {
     "name": "stderr",
     "output_type": "stream",
     "text": [
      "/Users/lijinyang/opt/anaconda3/lib/python3.7/site-packages/ipykernel_launcher.py:11: RuntimeWarning: invalid value encountered in log\n",
      "  # This is added back by InteractiveShellApp.init_path()\n"
     ]
    },
    {
     "name": "stdout",
     "output_type": "stream",
     "text": [
      "ZOM\n",
      "ZPIN\n",
      "ZQK\n",
      "ZRAN\n",
      "ZS\n",
      "ZSAN\n",
      "ZSPH\n"
     ]
    },
    {
     "name": "stderr",
     "output_type": "stream",
     "text": [
      "/Users/lijinyang/opt/anaconda3/lib/python3.7/site-packages/ipykernel_launcher.py:11: RuntimeWarning: invalid value encountered in log\n",
      "  # This is added back by InteractiveShellApp.init_path()\n",
      "/Users/lijinyang/opt/anaconda3/lib/python3.7/site-packages/ipykernel_launcher.py:11: RuntimeWarning: invalid value encountered in log\n",
      "  # This is added back by InteractiveShellApp.init_path()\n"
     ]
    },
    {
     "name": "stdout",
     "output_type": "stream",
     "text": [
      "ZTEST\n",
      "ZTO\n",
      "ZTR\n",
      "ZTS\n",
      "ZU\n",
      "ZUMZ\n",
      "ZUO\n",
      "ZVO\n",
      "ZX\n",
      "ZYME\n",
      "ZYNE\n",
      "ZYXI\n",
      "ZZ\n",
      "ZZC\n"
     ]
    }
   ],
   "source": [
    "for filename in filenames[6000:]:\n",
    "    print(filename[:-4])\n",
    "    df_=get_ex_ante_beta(filename,df_AQR_risk_free_daily,df_CRSP_market_daily[['vwretd']])\n",
    "    if not len(df_)==0:\n",
    "        df_.to_pickle('../data/Ex Ante Beta/'+filename[:-4]+'.pickle')"
   ]
  },
  {
   "cell_type": "code",
   "execution_count": 522,
   "metadata": {},
   "outputs": [],
   "source": [
    "d=get_ex_ante_beta(filenames[0],df_AQR_risk_free_daily,df_CRSP_market_daily[['vwretd']])"
   ]
  },
  {
   "cell_type": "code",
   "execution_count": 530,
   "metadata": {},
   "outputs": [],
   "source": [
    "d.to_csv('../data/Ex Ante Beta/'+filename[:-4]+'.csv')"
   ]
  },
  {
   "cell_type": "code",
   "execution_count": 529,
   "metadata": {},
   "outputs": [],
   "source": [
    "d.to_pickle('../data/Ex Ante Beta/'+filename[:-4]+'.pickle')"
   ]
  },
  {
   "cell_type": "code",
   "execution_count": 466,
   "metadata": {},
   "outputs": [],
   "source": [
    "df_one_day_one_stock=pd.read_csv('../data/US Stocks Data/kibot/AAPL.txt',header=None,\\\n",
    "            names=['Date','Open','High','Low','Close','Volume'],index_col=0,parse_dates=True)"
   ]
  },
  {
   "cell_type": "code",
   "execution_count": 467,
   "metadata": {},
   "outputs": [],
   "source": [
    "unite_dates_index=df_one_day_one_stock.index"
   ]
  },
  {
   "cell_type": "code",
   "execution_count": 468,
   "metadata": {},
   "outputs": [
    {
     "data": {
      "text/plain": [
       "Timestamp('2005-01-03 00:00:00')"
      ]
     },
     "execution_count": 468,
     "metadata": {},
     "output_type": "execute_result"
    }
   ],
   "source": [
    "unite_dates_index[0]"
   ]
  },
  {
   "cell_type": "code",
   "execution_count": 469,
   "metadata": {},
   "outputs": [
    {
     "data": {
      "text/html": [
       "<div>\n",
       "<style scoped>\n",
       "    .dataframe tbody tr th:only-of-type {\n",
       "        vertical-align: middle;\n",
       "    }\n",
       "\n",
       "    .dataframe tbody tr th {\n",
       "        vertical-align: top;\n",
       "    }\n",
       "\n",
       "    .dataframe thead th {\n",
       "        text-align: right;\n",
       "    }\n",
       "</style>\n",
       "<table border=\"1\" class=\"dataframe\">\n",
       "  <thead>\n",
       "    <tr style=\"text-align: right;\">\n",
       "      <th></th>\n",
       "      <th>ret</th>\n",
       "      <th>rf</th>\n",
       "      <th>mkt</th>\n",
       "      <th>corr</th>\n",
       "      <th>i_std</th>\n",
       "      <th>mkt_std</th>\n",
       "      <th>beta_est</th>\n",
       "    </tr>\n",
       "  </thead>\n",
       "  <tbody>\n",
       "    <tr>\n",
       "      <th>2007-12-31</th>\n",
       "      <td>-0.008667</td>\n",
       "      <td>0.000123</td>\n",
       "      <td>-0.006639</td>\n",
       "      <td>0.467141</td>\n",
       "      <td>0.023859</td>\n",
       "      <td>0.009967</td>\n",
       "      <td>1.070908</td>\n",
       "    </tr>\n",
       "    <tr>\n",
       "      <th>2008-01-02</th>\n",
       "      <td>-0.016165</td>\n",
       "      <td>0.000132</td>\n",
       "      <td>-0.011950</td>\n",
       "      <td>0.466918</td>\n",
       "      <td>0.023857</td>\n",
       "      <td>0.009976</td>\n",
       "      <td>1.069935</td>\n",
       "    </tr>\n",
       "    <tr>\n",
       "      <th>2008-01-03</th>\n",
       "      <td>-0.000551</td>\n",
       "      <td>0.000132</td>\n",
       "      <td>-0.001085</td>\n",
       "      <td>0.467386</td>\n",
       "      <td>0.023728</td>\n",
       "      <td>0.010001</td>\n",
       "      <td>1.065351</td>\n",
       "    </tr>\n",
       "    <tr>\n",
       "      <th>2008-01-04</th>\n",
       "      <td>-0.079794</td>\n",
       "      <td>0.000132</td>\n",
       "      <td>-0.025820</td>\n",
       "      <td>0.468020</td>\n",
       "      <td>0.023710</td>\n",
       "      <td>0.010000</td>\n",
       "      <td>1.065789</td>\n",
       "    </tr>\n",
       "    <tr>\n",
       "      <th>2008-01-07</th>\n",
       "      <td>-0.013278</td>\n",
       "      <td>0.000132</td>\n",
       "      <td>0.000053</td>\n",
       "      <td>0.473492</td>\n",
       "      <td>0.024251</td>\n",
       "      <td>0.010133</td>\n",
       "      <td>1.079918</td>\n",
       "    </tr>\n",
       "    <tr>\n",
       "      <th>...</th>\n",
       "      <td>...</td>\n",
       "      <td>...</td>\n",
       "      <td>...</td>\n",
       "      <td>...</td>\n",
       "      <td>...</td>\n",
       "      <td>...</td>\n",
       "      <td>...</td>\n",
       "    </tr>\n",
       "    <tr>\n",
       "      <th>2020-12-24</th>\n",
       "      <td>0.007843</td>\n",
       "      <td>0.000003</td>\n",
       "      <td>0.002329</td>\n",
       "      <td>0.656561</td>\n",
       "      <td>0.029468</td>\n",
       "      <td>0.021216</td>\n",
       "      <td>0.947144</td>\n",
       "    </tr>\n",
       "    <tr>\n",
       "      <th>2020-12-28</th>\n",
       "      <td>0.035331</td>\n",
       "      <td>0.000003</td>\n",
       "      <td>0.003867</td>\n",
       "      <td>0.656356</td>\n",
       "      <td>0.029450</td>\n",
       "      <td>0.021215</td>\n",
       "      <td>0.946666</td>\n",
       "    </tr>\n",
       "    <tr>\n",
       "      <th>2020-12-29</th>\n",
       "      <td>-0.013275</td>\n",
       "      <td>0.000003</td>\n",
       "      <td>-0.003652</td>\n",
       "      <td>0.656524</td>\n",
       "      <td>0.029522</td>\n",
       "      <td>0.021216</td>\n",
       "      <td>0.948135</td>\n",
       "    </tr>\n",
       "    <tr>\n",
       "      <th>2020-12-30</th>\n",
       "      <td>-0.009025</td>\n",
       "      <td>0.000003</td>\n",
       "      <td>0.003278</td>\n",
       "      <td>0.656515</td>\n",
       "      <td>0.029538</td>\n",
       "      <td>0.021214</td>\n",
       "      <td>0.948462</td>\n",
       "    </tr>\n",
       "    <tr>\n",
       "      <th>2020-12-31</th>\n",
       "      <td>-0.008578</td>\n",
       "      <td>0.000003</td>\n",
       "      <td>0.003553</td>\n",
       "      <td>0.656543</td>\n",
       "      <td>0.029546</td>\n",
       "      <td>0.021215</td>\n",
       "      <td>0.948633</td>\n",
       "    </tr>\n",
       "  </tbody>\n",
       "</table>\n",
       "<p>3275 rows × 7 columns</p>\n",
       "</div>"
      ],
      "text/plain": [
       "                 ret        rf       mkt      corr     i_std   mkt_std  \\\n",
       "2007-12-31 -0.008667  0.000123 -0.006639  0.467141  0.023859  0.009967   \n",
       "2008-01-02 -0.016165  0.000132 -0.011950  0.466918  0.023857  0.009976   \n",
       "2008-01-03 -0.000551  0.000132 -0.001085  0.467386  0.023728  0.010001   \n",
       "2008-01-04 -0.079794  0.000132 -0.025820  0.468020  0.023710  0.010000   \n",
       "2008-01-07 -0.013278  0.000132  0.000053  0.473492  0.024251  0.010133   \n",
       "...              ...       ...       ...       ...       ...       ...   \n",
       "2020-12-24  0.007843  0.000003  0.002329  0.656561  0.029468  0.021216   \n",
       "2020-12-28  0.035331  0.000003  0.003867  0.656356  0.029450  0.021215   \n",
       "2020-12-29 -0.013275  0.000003 -0.003652  0.656524  0.029522  0.021216   \n",
       "2020-12-30 -0.009025  0.000003  0.003278  0.656515  0.029538  0.021214   \n",
       "2020-12-31 -0.008578  0.000003  0.003553  0.656543  0.029546  0.021215   \n",
       "\n",
       "            beta_est  \n",
       "2007-12-31  1.070908  \n",
       "2008-01-02  1.069935  \n",
       "2008-01-03  1.065351  \n",
       "2008-01-04  1.065789  \n",
       "2008-01-07  1.079918  \n",
       "...              ...  \n",
       "2020-12-24  0.947144  \n",
       "2020-12-28  0.946666  \n",
       "2020-12-29  0.948135  \n",
       "2020-12-30  0.948462  \n",
       "2020-12-31  0.948633  \n",
       "\n",
       "[3275 rows x 7 columns]"
      ]
     },
     "execution_count": 469,
     "metadata": {},
     "output_type": "execute_result"
    }
   ],
   "source": [
    "df_one_stock_return_merged"
   ]
  },
  {
   "cell_type": "code",
   "execution_count": 462,
   "metadata": {},
   "outputs": [],
   "source": [
    "x = df_one_stock_return_merged['mkt'].copy()\n",
    "x = sm.add_constant(x)\n",
    "results = sm.OLS(df_one_stock_return_merged['ret'], x).fit(cov_type='HC1')"
   ]
  },
  {
   "cell_type": "code",
   "execution_count": 463,
   "metadata": {},
   "outputs": [
    {
     "data": {
      "text/html": [
       "<table class=\"simpletable\">\n",
       "<tr>\n",
       "        <td>Model:</td>               <td>OLS</td>         <td>Adj. R-squared:</td>      <td>0.435</td>   \n",
       "</tr>\n",
       "<tr>\n",
       "  <td>Dependent Variable:</td>        <td>ret</td>              <td>AIC:</td>         <td>-18112.8137</td>\n",
       "</tr>\n",
       "<tr>\n",
       "         <td>Date:</td>        <td>2021-02-18 00:09</td>        <td>BIC:</td>         <td>-18100.6255</td>\n",
       "</tr>\n",
       "<tr>\n",
       "   <td>No. Observations:</td>        <td>3275</td>         <td>Log-Likelihood:</td>     <td>9058.4</td>   \n",
       "</tr>\n",
       "<tr>\n",
       "       <td>Df Model:</td>              <td>1</td>           <td>F-statistic:</td>        <td>910.7</td>   \n",
       "</tr>\n",
       "<tr>\n",
       "     <td>Df Residuals:</td>          <td>3273</td>       <td>Prob (F-statistic):</td>  <td>9.95e-177</td> \n",
       "</tr>\n",
       "<tr>\n",
       "      <td>R-squared:</td>            <td>0.435</td>            <td>Scale:</td>        <td>0.00023192</td> \n",
       "</tr>\n",
       "</table>\n",
       "<table class=\"simpletable\">\n",
       "<tr>\n",
       "    <td></td>     <th>Coef.</th> <th>Std.Err.</th>    <th>z</th>     <th>P>|z|</th> <th>[0.025</th>  <th>0.975]</th>\n",
       "</tr>\n",
       "<tr>\n",
       "  <th>const</th> <td>0.0005</td>  <td>0.0003</td>  <td>1.8787</td>  <td>0.0603</td> <td>-0.0000</td> <td>0.0010</td>\n",
       "</tr>\n",
       "<tr>\n",
       "  <th>mkt</th>   <td>1.0100</td>  <td>0.0335</td>  <td>30.1781</td> <td>0.0000</td> <td>0.9444</td>  <td>1.0756</td>\n",
       "</tr>\n",
       "</table>\n",
       "<table class=\"simpletable\">\n",
       "<tr>\n",
       "     <td>Omnibus:</td>    <td>595.041</td>  <td>Durbin-Watson:</td>     <td>1.937</td>  \n",
       "</tr>\n",
       "<tr>\n",
       "  <td>Prob(Omnibus):</td>  <td>0.000</td>  <td>Jarque-Bera (JB):</td> <td>12306.598</td>\n",
       "</tr>\n",
       "<tr>\n",
       "       <td>Skew:</td>     <td>-0.243</td>      <td>Prob(JB):</td>       <td>0.000</td>  \n",
       "</tr>\n",
       "<tr>\n",
       "     <td>Kurtosis:</td>   <td>12.484</td>   <td>Condition No.:</td>      <td>76</td>    \n",
       "</tr>\n",
       "</table>"
      ],
      "text/plain": [
       "<class 'statsmodels.iolib.summary2.Summary'>\n",
       "\"\"\"\n",
       "                  Results: Ordinary least squares\n",
       "====================================================================\n",
       "Model:              OLS              Adj. R-squared:     0.435      \n",
       "Dependent Variable: ret              AIC:                -18112.8137\n",
       "Date:               2021-02-18 00:09 BIC:                -18100.6255\n",
       "No. Observations:   3275             Log-Likelihood:     9058.4     \n",
       "Df Model:           1                F-statistic:        910.7      \n",
       "Df Residuals:       3273             Prob (F-statistic): 9.95e-177  \n",
       "R-squared:          0.435            Scale:              0.00023192 \n",
       "-----------------------------------------------------------------------\n",
       "           Coef.     Std.Err.       z       P>|z|      [0.025    0.975]\n",
       "-----------------------------------------------------------------------\n",
       "const      0.0005      0.0003     1.8787    0.0603    -0.0000    0.0010\n",
       "mkt        1.0100      0.0335    30.1781    0.0000     0.9444    1.0756\n",
       "--------------------------------------------------------------------\n",
       "Omnibus:             595.041       Durbin-Watson:          1.937    \n",
       "Prob(Omnibus):       0.000         Jarque-Bera (JB):       12306.598\n",
       "Skew:                -0.243        Prob(JB):               0.000    \n",
       "Kurtosis:            12.484        Condition No.:          76       \n",
       "====================================================================\n",
       "\n",
       "\"\"\""
      ]
     },
     "execution_count": 463,
     "metadata": {},
     "output_type": "execute_result"
    }
   ],
   "source": [
    "results.summary2()"
   ]
  },
  {
   "cell_type": "code",
   "execution_count": null,
   "metadata": {},
   "outputs": [],
   "source": []
  }
 ],
 "metadata": {
  "kernelspec": {
   "display_name": "Python 3",
   "language": "python",
   "name": "python3"
  },
  "language_info": {
   "codemirror_mode": {
    "name": "ipython",
    "version": 3
   },
   "file_extension": ".py",
   "mimetype": "text/x-python",
   "name": "python",
   "nbconvert_exporter": "python",
   "pygments_lexer": "ipython3",
   "version": "3.7.4"
  },
  "toc": {
   "base_numbering": 1,
   "nav_menu": {},
   "number_sections": true,
   "sideBar": true,
   "skip_h1_title": false,
   "title_cell": "Table of Contents",
   "title_sidebar": "Contents",
   "toc_cell": false,
   "toc_position": {
    "height": "calc(100% - 180px)",
    "left": "10px",
    "top": "150px",
    "width": "346.364px"
   },
   "toc_section_display": true,
   "toc_window_display": true
  }
 },
 "nbformat": 4,
 "nbformat_minor": 4
}
